{
 "cells": [
  {
   "cell_type": "markdown",
   "id": "852bd8fa-d6dc-47b7-83c7-8b0248255dd6",
   "metadata": {},
   "source": [
    "# Einstein notation"
   ]
  },
  {
   "cell_type": "markdown",
   "id": "90db93e8-e0f1-4bcd-9c26-ad22bde57b69",
   "metadata": {},
   "source": [
    "* (1879&ndash;1955) [Albert Einstein - Wikipedia](https://en.wikipedia.org/wiki/Albert_Einstein)\n",
    "    * [Einstein notation - Wikipedia](https://en.wikipedia.org/wiki/Einstein_notation)\n",
    "      - [The Egison Programming Language](https://www.egison.org/)"
   ]
  },
  {
   "cell_type": "code",
   "execution_count": 1,
   "id": "b9f224bb-e4cf-4455-9e9c-879513ed4d24",
   "metadata": {
    "tags": []
   },
   "outputs": [
    {
     "data": {
      "text/markdown": [
       "Einstein記法は、テンソルの表記法の一種で、繰り返し指標の和を暗黙的に表現する方法です。具体的には、同じ添字が上下に現れる場合、その添字について和をとることを意味します。これにより、テンソルの表記を簡潔にすることができます。例えば、ベクトルの内積を表す場合、Einstein記法を用いると、$\\mathbf{a} \\cdot \\mathbf{b} = a_i b_i$と表記することができます。"
      ],
      "text/plain": [
       "<IPython.core.display.Markdown object>"
      ]
     },
     "metadata": {},
     "output_type": "display_data"
    }
   ],
   "source": [
    "%%ai_ask\n",
    "Einstein記法について"
   ]
  },
  {
   "cell_type": "code",
   "execution_count": 1,
   "id": "a30810db-c67c-4842-9f3d-ec590ac00570",
   "metadata": {
    "tags": []
   },
   "outputs": [
    {
     "data": {
      "text/markdown": [
       "二次元座標平面における二点 $(x_1, y_1)$ と $(x_2, y_2)$ の距離を内積を使って表すには、以下の式を用いることができます。\n",
       "\n",
       "$$\n",
       "\\sqrt{(x_2 - x_1)^2 + (y_2 - y_1)^2} = \\sqrt{\\langle \\vec{v}, \\vec{v} \\rangle}\n",
       "$$\n",
       "\n",
       "ここで、$\\vec{v} = \\begin{pmatrix} x_2 - x_1 \\\\ y_2 - y_1 \\end{pmatrix}$ は二点を結ぶベクトルであり、$\\langle \\vec{v}, \\vec{v} \\rangle$ はベクトル $\\vec{v}$ の自身との内積を表します。"
      ],
      "text/plain": [
       "<IPython.core.display.Markdown object>"
      ]
     },
     "metadata": {},
     "output_type": "display_data"
    }
   ],
   "source": [
    "%%ai_continue\n",
    "二次元座標平面における二点間の距離を内積を使って表せ"
   ]
  },
  {
   "cell_type": "markdown",
   "id": "9337a33e-494a-4428-af92-d2dba87193e0",
   "metadata": {},
   "source": [
    "* [numpy.dot — NumPy v1.25 Manual](https://numpy.org/doc/stable/reference/generated/numpy.dot.html)\n",
    "* [Essential Functions (Docstrings) - SymPy 1.12 documentation](https://docs.sympy.org/latest/modules/physics/vector/api/functions.html#sympy.physics.vector.functions.dot) #sympy.physics.vector.functions.dot"
   ]
  },
  {
   "cell_type": "code",
   "execution_count": 7,
   "id": "d8e6fca1-1105-4ea2-b9e8-24f484e26f84",
   "metadata": {
    "tags": []
   },
   "outputs": [],
   "source": [
    "from sympy import Matrix\n",
    "from sympy import symbols\n",
    "x1, y1, x2, y2 = symbols(\"x1, y1, x2, y2\")"
   ]
  },
  {
   "cell_type": "code",
   "execution_count": 11,
   "id": "362ce8ac-54bb-4db2-9eba-44aa069c3c22",
   "metadata": {
    "tags": []
   },
   "outputs": [
    {
     "data": {
      "text/latex": [
       "$\\displaystyle \\left[\\begin{matrix}- x_{1} + x_{2}\\\\- y_{1} + y_{2}\\end{matrix}\\right]$"
      ],
      "text/plain": [
       "Matrix([\n",
       "[-x1 + x2],\n",
       "[-y1 + y2]])"
      ]
     },
     "execution_count": 11,
     "metadata": {},
     "output_type": "execute_result"
    }
   ],
   "source": [
    "Matrix([x2, y2]) - Matrix([x1, y1])"
   ]
  },
  {
   "cell_type": "code",
   "execution_count": 12,
   "id": "7fcc1083-08c2-48f5-b9b0-fd5d7f8b2737",
   "metadata": {
    "tags": []
   },
   "outputs": [
    {
     "data": {
      "text/latex": [
       "$\\displaystyle \\left(- x_{1} + x_{2}\\right)^{2} + \\left(- y_{1} + y_{2}\\right)^{2}$"
      ],
      "text/plain": [
       "(-x1 + x2)**2 + (-y1 + y2)**2"
      ]
     },
     "execution_count": 12,
     "metadata": {},
     "output_type": "execute_result"
    }
   ],
   "source": [
    "_.dot(_)"
   ]
  },
  {
   "cell_type": "markdown",
   "id": "479c762a-5d87-40cf-806a-51985cd709ae",
   "metadata": {},
   "source": [
    "## 内積と計量: $d$\n",
    "\n",
    "* [Metric space - Wikipedia](https://en.wikipedia.org/wiki/Metric_space)\n",
    "\n",
    "集合 $M$ において、任意の$x, y, z \\in M$ に対して実数を値に持つ関数 $d$ が次の条件を満たす\n",
    "\n",
    "1. $d(x, x) = 0$\n",
    "2. (正値性) $x \\ne y$ のとき $d(x, y) > 0$ \n",
    "3. (対称性) $d(x, y) = d(y, x)$ \n",
    "4. (三角不等式) $d(x, z) \\leq d(x, y) + d(y, z)$ "
   ]
  },
  {
   "cell_type": "code",
   "execution_count": null,
   "id": "ee27e02b-2567-4d68-bb6a-f10edf0c128c",
   "metadata": {},
   "outputs": [],
   "source": []
  }
 ],
 "metadata": {
  "kernelspec": {
   "display_name": "Python 3 (ipykernel)",
   "language": "python",
   "name": "python3"
  },
  "language_info": {
   "codemirror_mode": {
    "name": "ipython",
    "version": 3
   },
   "file_extension": ".py",
   "mimetype": "text/x-python",
   "name": "python",
   "nbconvert_exporter": "python",
   "pygments_lexer": "ipython3",
   "version": "3.10.11"
  }
 },
 "nbformat": 4,
 "nbformat_minor": 5
}
