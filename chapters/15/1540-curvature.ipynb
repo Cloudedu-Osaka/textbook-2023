{
 "cells": [
  {
   "cell_type": "markdown",
   "id": "9cb04b51-9645-4dd1-8c11-a31ee7f9f0b9",
   "metadata": {},
   "source": [
    "# 曲率と曲率半径"
   ]
  },
  {
   "cell_type": "markdown",
   "id": "f58952b9-65eb-49b3-a552-b0cab24781e3",
   "metadata": {},
   "source": [
    "* [鉄道標識 § 曲線標 - Wikipedia](https://ja.wikipedia.org/wiki/%E9%89%84%E9%81%93%E6%A8%99%E8%AD%98#%E6%9B%B2%E7%B7%9A%E6%A8%99)\n",
    "    - https://www.google.co.jp/maps/@34.7534753,135.4160154,19z\n",
    "\n",
    "![fig-02](https://upload.wikimedia.org/wikipedia/commons/e/e3/Curve_Sign.jpg)"
   ]
  },
  {
   "cell_type": "markdown",
   "id": "ee519e04-28ac-48e1-aa0d-4e9a09570701",
   "metadata": {},
   "source": [
    "* [Radius of curvature - Wikipedia](https://en.wikipedia.org/wiki/Radius_of_curvature)\n",
    "* [Curvature § Plane curves - Wikipedia](https://en.wikipedia.org/wiki/Curvature#Plane_curves)\n",
    "\n",
    "![fig-01](https://upload.wikimedia.org/wikipedia/commons/3/34/Radius_of_curvature.svg)"
   ]
  },
  {
   "cell_type": "markdown",
   "id": "e22c2f5c-7b1c-47c4-ac85-9189d67f058f",
   "metadata": {},
   "source": [
    "* [Line element § Line elements in Euclidean space - Wikipedia](https://en.wikipedia.org/wiki/Line_element#Line_elements_in_Euclidean_space)\n",
    "\n",
    "![fig-01](https://upload.wikimedia.org/wikipedia/commons/0/06/Line_element.svg)"
   ]
  },
  {
   "cell_type": "markdown",
   "id": "75c564fa-4dc8-4d01-aab3-1dd16e83ac30",
   "metadata": {},
   "source": [
    "陽関数 $y = f(x)$ において、\n",
    "$x$ から $x+dx$ における微少区間 (線素 $dr$) の長さ $ds$ を考える。"
   ]
  },
  {
   "cell_type": "markdown",
   "id": "c0727dfd-fa99-4992-97e0-2d33e47fa5f7",
   "metadata": {},
   "source": [
    "$dy = f(x+dx) - f(x)$ と置くと、ピタゴラスの定理より、線素の長さ $ds$ は"
   ]
  },
  {
   "cell_type": "markdown",
   "id": "83c85152-3df8-4385-ad55-9f75ce0af4b8",
   "metadata": {},
   "source": [
    "$$ds^2 = dx^2 + dy^2 = \\left(1+\\left(\\frac{dy}{dx}\\right)^2\\right)dx^2\n",
    "=\\left(1+{y'}^2\\right)dx^2$$"
   ]
  },
  {
   "cell_type": "markdown",
   "id": "a85df526-be40-42f0-a544-4c91d2ec4b6f",
   "metadata": {},
   "source": [
    "と表すことができる。"
   ]
  },
  {
   "cell_type": "markdown",
   "id": "7b35ca15-eacd-401b-ad0f-654a0211d877",
   "metadata": {},
   "source": [
    "一方、$x$ における $f$ の傾き ($x$-軸となす角度) $\\varphi$ は、\n",
    "$\\tan(\\varphi) = \\frac{dy}{dx}$ と表すことができる。"
   ]
  },
  {
   "cell_type": "markdown",
   "id": "3469553d-e024-4b54-99f5-8759049c2af3",
   "metadata": {},
   "source": [
    "$$\\tan(\\varphi) =\\frac{dy}{dx} = f'(x) = y'$$"
   ]
  },
  {
   "cell_type": "markdown",
   "id": "31b73a38-f56e-412d-8225-403d7ecf4af4",
   "metadata": {},
   "source": [
    "さらに、微少区間における $f$ の傾きの変化を $d\\varphi$ とする。\n",
    "$f$ の傾き ($f'(x) = y'$) の変化 ($f''(x) = y''$) を用いると、"
   ]
  },
  {
   "cell_type": "markdown",
   "id": "22a13b18-285d-47c7-9c88-f880d10214e4",
   "metadata": {},
   "source": [
    "$$\\tan(\\varphi + d\\varphi) = y' + y'' dx = \\frac{dy}{dx} + \\frac{d^2 y}{dx^2} dx$$"
   ]
  },
  {
   "cell_type": "markdown",
   "id": "f3a8a3fa-2d9b-4b2f-9682-2bc731b8ab03",
   "metadata": {},
   "source": [
    "が成り立つ。\n",
    "一方、三角関数の加法定理より\n",
    "\n",
    "* [List of trigonometric identities § Angle sum and difference identities - Wikipedia](https://en.wikipedia.org/wiki/List_of_trigonometric_identities#Angle_sum_and_difference_identities)"
   ]
  },
  {
   "cell_type": "markdown",
   "id": "af053534-4172-4d8c-86f8-5e15dc736c36",
   "metadata": {},
   "source": [
    "$$\n",
    "\\begin{eqnarray}\n",
    "\\tan(\\varphi + d\\varphi) &=& \\frac{\\tan(\\varphi)+\\tan(d\\varphi)}{1 - \\tan(\\varphi)\\tan(d\\varphi)} \\\\\n",
    "&\\approx&\\frac{\\tan(\\varphi)+d\\varphi}{1-\\tan(\\varphi)d\\varphi} \\\\\n",
    "&=& \\frac{y'+d\\varphi}{1-y'd\\varphi}\n",
    "\\end{eqnarray}\n",
    "$$"
   ]
  },
  {
   "cell_type": "markdown",
   "id": "f7af2283-4f1b-4477-b7b4-07e7eed93569",
   "metadata": {},
   "source": [
    "が成り立つ。\n",
    "ここでは微少区間を考えているので、$\\tan(d\\varphi) \\approx d\\varphi$ としている。"
   ]
  },
  {
   "cell_type": "markdown",
   "id": "2e90fbf8-5020-4b5a-b15f-6a1d3acb5273",
   "metadata": {},
   "source": [
    "これらの二式から、"
   ]
  },
  {
   "cell_type": "markdown",
   "id": "66170101-b96a-4228-97fc-4e370fab95e9",
   "metadata": {},
   "source": [
    "$$y'+y'' dx = \\frac{y'+d\\varphi}{1-y' d\\varphi}$$"
   ]
  },
  {
   "cell_type": "markdown",
   "id": "d77cd576-9756-4732-9be1-cfaeebb5b9cf",
   "metadata": {},
   "source": [
    "が成り立ち、この等式を傾きの変化 $d\\varphi$ について解く。\n",
    "その際、二次の微少項 $dx d\\varphi$ は無視する。"
   ]
  },
  {
   "cell_type": "markdown",
   "id": "0319335f-d2bb-4aac-b4ab-f46b350b0512",
   "metadata": {},
   "source": [
    "$$d\\varphi = \\frac{y''}{1+{y'}^2} dx$$"
   ]
  },
  {
   "cell_type": "markdown",
   "id": "35d45b86-b596-4a23-857c-a1e9921e48dd",
   "metadata": {},
   "source": [
    "線素の長さ $ds$ と傾きの変化 $d\\varphi$ の比を曲率 ($\\kappa=\\frac{d\\varphi}{ds}$) または曲率半径 ($R=\\frac{ds}{d\\varphi}$) と呼ぶ。"
   ]
  },
  {
   "cell_type": "markdown",
   "id": "a8ef6b75-e4bf-4e87-b243-5f113164ba4d",
   "metadata": {},
   "source": [
    "$$\\kappa = \\frac{d\\varphi}{ds} = \\frac{y''}{\\left(1+{y'}^2\\right)^{3/2}}$$"
   ]
  },
  {
   "cell_type": "markdown",
   "id": "fdd82494-7876-44ae-b524-7e879b3bb317",
   "metadata": {},
   "source": [
    "$$R = \\frac{ds}{d\\varphi} = \\frac{\\left(1+{y'}^2\\right)^{3/2}}{y''}$$"
   ]
  },
  {
   "cell_type": "code",
   "execution_count": null,
   "id": "4f8a7550-91af-4d12-bcf7-1261a4cca662",
   "metadata": {},
   "outputs": [],
   "source": []
  }
 ],
 "metadata": {
  "kernelspec": {
   "display_name": "Python 3 (ipykernel)",
   "language": "python",
   "name": "python3"
  },
  "language_info": {
   "codemirror_mode": {
    "name": "ipython",
    "version": 3
   },
   "file_extension": ".py",
   "mimetype": "text/x-python",
   "name": "python",
   "nbconvert_exporter": "python",
   "pygments_lexer": "ipython3",
   "version": "3.10.11"
  }
 },
 "nbformat": 4,
 "nbformat_minor": 5
}
