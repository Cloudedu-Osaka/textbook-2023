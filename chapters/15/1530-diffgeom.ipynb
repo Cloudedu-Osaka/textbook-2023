{
 "cells": [
  {
   "cell_type": "markdown",
   "id": "ee4b954e-7a65-480d-8207-61c31a18a2cb",
   "metadata": {},
   "source": [
    "# 微分と幾何学"
   ]
  },
  {
   "cell_type": "markdown",
   "id": "78033bf2-d265-44f3-bd28-8788acdbe3f4",
   "metadata": {},
   "source": [
    "* [Differential Geometry - SymPy 1.12 documentation](https://docs.sympy.org/latest/modules/diffgeom.html)"
   ]
  },
  {
   "cell_type": "code",
   "execution_count": 2,
   "id": "65bd1c89-1ed6-4568-b3e6-9a7dea5dfe05",
   "metadata": {
    "tags": []
   },
   "outputs": [
    {
     "data": {
      "text/markdown": [
       "ある関数$f(x)$において、点$(a,f(a))$における接線の傾きを求めるために微分を用いることができます。微分とは、ある点における関数の傾きを表す値であり、$f(x)$の微分を$f'(x)$と表します。点$(a,f(a))$における接線の傾きは$f'(a)$となります。\n",
       "\n",
       "このことを証明するために、点$(a,f(a))$における接線の方程式を求めてみましょう。点$(a,f(a))$を通り、傾きが$f'(a)$である直線の方程式は以下のようになります。\n",
       "\n",
       "$y - f(a) = f'(a)(x - a)$\n",
       "\n",
       "この式を展開すると、\n",
       "\n",
       "$y = f'(a)x - af'(a) + f(a)$\n",
       "\n",
       "となります。この式は、点$(a,f(a))$における接線の方程式を表しています。\n",
       "\n",
       "一方で、$f(x)$の微分$f'(x)$は、$x=a$における接線の傾きを表しています。つまり、$f'(a)$は点$(a,f(a))$における接線の傾きを表していることになります。\n",
       "\n",
       "以上より、微分$f'(a)$は点$(a,f(a))$における接線の傾きであることが証明されました。"
      ],
      "text/plain": [
       "<IPython.core.display.Markdown object>"
      ]
     },
     "metadata": {},
     "output_type": "display_data"
    }
   ],
   "source": [
    "%%ai_ask\n",
    "微分が接線であることを証明する"
   ]
  },
  {
   "cell_type": "code",
   "execution_count": 3,
   "id": "2ef673b0-c008-4e7b-a6c9-179b3561b057",
   "metadata": {
    "tags": []
   },
   "outputs": [
    {
     "data": {
      "text/markdown": [
       "微分が接線の傾きを表すことがわかったところで、曲率との関係を考えてみましょう。\n",
       "\n",
       "曲率は、ある点における曲線の曲がり具合を表す値であり、半径$r$の円弧に対する曲率$k$は以下のように定義されます。\n",
       "\n",
       "$k = \\frac{1}{r}$\n",
       "\n",
       "つまり、曲率が大きいほど曲線は急な曲がりをしており、曲率が小さいほど曲線は緩やかな曲がりをしていることになります。\n",
       "\n",
       "ここで、微分$f'(x)$を2回微分したものを$f''(x)$とします。この$f''(x)$は、ある点における曲線の曲がり具合を表す値であり、曲率$k$と以下のような関係があります。\n",
       "\n",
       "$k = \\frac{|f''(x)|}{(1 + f'(x)^2)^{\\frac{3}{2}}}$\n",
       "\n",
       "つまり、曲率$k$は$f''(x)$の絶対値と$f'(x)$の2乗によって決まります。この式からもわかるように、微分を用いることで曲率を求めることができます。\n",
       "\n",
       "以上より、微分と曲率には密接な関係があり、微分を用いることで曲率を求めることができることがわかりました。"
      ],
      "text/plain": [
       "<IPython.core.display.Markdown object>"
      ]
     },
     "metadata": {},
     "output_type": "display_data"
    }
   ],
   "source": [
    "%%ai_continue\n",
    "曲率との関係は？"
   ]
  },
  {
   "cell_type": "code",
   "execution_count": 4,
   "id": "e9a16cf6-2c4a-44b1-a865-f3344c365f4a",
   "metadata": {},
   "outputs": [
    {
     "data": {
      "text/markdown": [
       "陰関数の曲率を求めるには、以下の手順を行います。\n",
       "\n",
       "1. 陰関数を微分して、傾きを求めます。\n",
       "2. 傾きを2回微分して、曲率を求めます。\n",
       "\n",
       "例として、半径$r$の円の陰関数を考えてみましょう。円の方程式は$x^2 + y^2 = r^2$であり、これを微分すると以下のようになります。\n",
       "\n",
       "$\\frac{dy}{dx} = -\\frac{x}{y}$\n",
       "\n",
       "この式から、ある点$(x,y)$における傾き$m$は以下のように求めることができます。\n",
       "\n",
       "$m = \\frac{dy}{dx} = -\\frac{x}{y}$\n",
       "\n",
       "次に、傾き$m$を2回微分して、曲率$k$を求めます。傾き$m$を$x$で微分すると、以下のようになります。\n",
       "\n",
       "$\\frac{dm}{dx} = -\\frac{y + x\\frac{d}{dx}(y)}{y^2}$\n",
       "\n",
       "ここで、$\\frac{d}{dx}(y)$は$y$を$x$で微分したものであり、$-\\frac{x}{y}$となります。これを代入すると、\n",
       "\n",
       "$\\frac{dm}{dx} = -\\frac{y - x\\frac{x}{y}}{y^2} = -\\frac{r^2}{y^3}$\n",
       "\n",
       "となります。この式から、ある点$(x,y)$における曲率$k$は以下のように求めることができます。\n",
       "\n",
       "$k = \\frac{|m''|}{(1 + m'^2)^{\\frac{3}{2}}} = \\frac{\\frac{d}{dx}(\\frac{r^2}{y^3})}{(1 + (\\frac{x}{y})^2)^{\\frac{3}{2}}} = \\frac{3r^2}{(x^2 + y^2)^{\\frac{3}{2}}}$\n",
       "\n",
       "以上より、半径$r$の円の陰関数における曲率$k$は、$k = \\frac{3r^2}{(x^2 + y^2)^{\\frac{3}{2}}}$となります。"
      ],
      "text/plain": [
       "<IPython.core.display.Markdown object>"
      ]
     },
     "metadata": {},
     "output_type": "display_data"
    }
   ],
   "source": [
    "%%ai_continue\n",
    "円の曲率を求めたいのですが、陰関数の曲率を示してください。"
   ]
  },
  {
   "cell_type": "markdown",
   "id": "0fe37cac-011e-4f67-89f4-739021851fc6",
   "metadata": {
    "tags": []
   },
   "source": [
    "## 陽関数・陰関数と曲率\n",
    "\n",
    "* [Graph of a function - Wikipedia](https://en.wikipedia.org/wiki/Graph_of_a_function)\n",
    "    - $y = f(x)$\n",
    "* [Implicit function - Wikipedia](https://en.wikipedia.org/wiki/Implicit_function)\n",
    "    - $F(x, y) = 0$"
   ]
  },
  {
   "cell_type": "markdown",
   "id": "32183053-f5f7-4c4d-ab84-03b5836351be",
   "metadata": {},
   "source": [
    "* [Curvature § Plane curves - Wikipedia](https://en.wikipedia.org/wiki/Curvature#Plane_curves)\n",
    "\n",
    "$$\\kappa = \\frac{\\left| {F_{y}}^2 F_{x x} - 2 F_{x} F_{y} F_{x y} + {F_{x}}^2 F_{y y} \\right|}{\\left({F_{x}}^2+{F_{y}}^2\\right)^{3/2}}$$"
   ]
  },
  {
   "cell_type": "code",
   "execution_count": 17,
   "id": "5364e00b-1708-4b54-a99f-53d45ac1d751",
   "metadata": {
    "tags": []
   },
   "outputs": [],
   "source": [
    "from sympy import *\n",
    "from sympy.abc import x, y, t, F, f"
   ]
  },
  {
   "cell_type": "code",
   "execution_count": 10,
   "id": "e540d10d-462c-4b04-8a30-405bc78bf79e",
   "metadata": {
    "tags": []
   },
   "outputs": [],
   "source": [
    "r = Symbol('r', positive=True)"
   ]
  },
  {
   "cell_type": "code",
   "execution_count": 11,
   "id": "3080b5b6-db04-4183-b8c8-f359210752c6",
   "metadata": {
    "tags": []
   },
   "outputs": [
    {
     "data": {
      "text/latex": [
       "$\\displaystyle - r^{2} + x^{2} + y^{2}$"
      ],
      "text/plain": [
       "-r**2 + x**2 + y**2"
      ]
     },
     "execution_count": 11,
     "metadata": {},
     "output_type": "execute_result"
    }
   ],
   "source": [
    "F = x**2 + y**2 - r**2\n",
    "F"
   ]
  },
  {
   "cell_type": "code",
   "execution_count": 12,
   "id": "46d9c328-bbc6-4a9d-9cd9-2c589da12354",
   "metadata": {
    "tags": []
   },
   "outputs": [
    {
     "data": {
      "text/latex": [
       "$\\displaystyle 8 x^{2} + 8 y^{2}$"
      ],
      "text/plain": [
       "8*x**2 + 8*y**2"
      ]
     },
     "execution_count": 12,
     "metadata": {},
     "output_type": "execute_result"
    }
   ],
   "source": [
    "diff(F, y)**2 * diff(F, x, x) - 2 * diff(F, x) * diff(F, y) * diff(F, x, y) + diff(F, x)**2 * diff(F, y, y)"
   ]
  },
  {
   "cell_type": "code",
   "execution_count": 13,
   "id": "31a64dd3-7805-449b-bb44-02ca6e5789e2",
   "metadata": {
    "tags": []
   },
   "outputs": [
    {
     "data": {
      "text/latex": [
       "$\\displaystyle \\left(4 x^{2} + 4 y^{2}\\right)^{1.5}$"
      ],
      "text/plain": [
       "(4*x**2 + 4*y**2)**1.5"
      ]
     },
     "execution_count": 13,
     "metadata": {},
     "output_type": "execute_result"
    }
   ],
   "source": [
    "(diff(F, x )** 2 + diff(F, y)**2)**(3/2)"
   ]
  },
  {
   "cell_type": "code",
   "execution_count": 14,
   "id": "bb217528-83f8-4e59-9ac1-ad85c0c2cfd1",
   "metadata": {
    "tags": []
   },
   "outputs": [
    {
     "data": {
      "text/latex": [
       "$\\displaystyle \\frac{8 x^{2} + 8 y^{2}}{\\left(4 x^{2} + 4 y^{2}\\right)^{1.5}}$"
      ],
      "text/plain": [
       "(8*x**2 + 8*y**2)/(4*x**2 + 4*y**2)**1.5"
      ]
     },
     "execution_count": 14,
     "metadata": {},
     "output_type": "execute_result"
    }
   ],
   "source": [
    "__ / _"
   ]
  },
  {
   "cell_type": "code",
   "execution_count": 16,
   "id": "bfb78a4d-01a8-4cde-8b51-f291ace1cce9",
   "metadata": {
    "tags": []
   },
   "outputs": [
    {
     "data": {
      "text/latex": [
       "$\\displaystyle \\frac{1}{\\sqrt{x^{2} + y^{2}}}$"
      ],
      "text/plain": [
       "1/sqrt(x**2 + y**2)"
      ]
     },
     "execution_count": 16,
     "metadata": {},
     "output_type": "execute_result"
    }
   ],
   "source": [
    "simplify(_)"
   ]
  },
  {
   "cell_type": "markdown",
   "id": "46b2315e-0a58-41c3-93de-6deb41085599",
   "metadata": {},
   "source": [
    "## 媒介変数表示の場合"
   ]
  },
  {
   "cell_type": "code",
   "execution_count": 18,
   "id": "e14efd7f-83bf-4679-81c1-5985b9f7cc4e",
   "metadata": {
    "tags": []
   },
   "outputs": [
    {
     "data": {
      "text/plain": [
       "(r*cos(t), r*sin(t))"
      ]
     },
     "execution_count": 18,
     "metadata": {},
     "output_type": "execute_result"
    }
   ],
   "source": [
    "x, y = r * cos(t), r * sin(t)\n",
    "x, y"
   ]
  },
  {
   "cell_type": "code",
   "execution_count": 19,
   "id": "ce8a317b-872b-4136-baba-7350996a6936",
   "metadata": {
    "tags": []
   },
   "outputs": [
    {
     "data": {
      "text/latex": [
       "$\\displaystyle r^{2} \\sin^{2}{\\left(t \\right)} + r^{2} \\cos^{2}{\\left(t \\right)}$"
      ],
      "text/plain": [
       "r**2*sin(t)**2 + r**2*cos(t)**2"
      ]
     },
     "execution_count": 19,
     "metadata": {},
     "output_type": "execute_result"
    }
   ],
   "source": [
    "diff(x, t) * diff(y, t, t) - diff(y, t) * diff(x, t, t)"
   ]
  },
  {
   "cell_type": "code",
   "execution_count": 20,
   "id": "5b847d45-a7ac-4cd9-9e3a-f1c9f1b30617",
   "metadata": {
    "tags": []
   },
   "outputs": [
    {
     "data": {
      "text/latex": [
       "$\\displaystyle r^{2}$"
      ],
      "text/plain": [
       "r**2"
      ]
     },
     "execution_count": 20,
     "metadata": {},
     "output_type": "execute_result"
    }
   ],
   "source": [
    "simplify(_)"
   ]
  },
  {
   "cell_type": "code",
   "execution_count": 21,
   "id": "2482e80e-3dd9-48cd-8e5a-571d500aac34",
   "metadata": {
    "tags": []
   },
   "outputs": [
    {
     "data": {
      "text/latex": [
       "$\\displaystyle \\left(r^{2} \\sin^{2}{\\left(t \\right)} + r^{2} \\cos^{2}{\\left(t \\right)}\\right)^{1.5}$"
      ],
      "text/plain": [
       "(r**2*sin(t)**2 + r**2*cos(t)**2)**1.5"
      ]
     },
     "execution_count": 21,
     "metadata": {},
     "output_type": "execute_result"
    }
   ],
   "source": [
    "(diff(x,t)**2 + diff(y,t)**2)**(3/2)"
   ]
  },
  {
   "cell_type": "code",
   "execution_count": 22,
   "id": "9a940fec-ceb8-4ddd-ada9-0198edefbb4e",
   "metadata": {
    "tags": []
   },
   "outputs": [
    {
     "data": {
      "text/latex": [
       "$\\displaystyle r^{3.0}$"
      ],
      "text/plain": [
       "r**3.0"
      ]
     },
     "execution_count": 22,
     "metadata": {},
     "output_type": "execute_result"
    }
   ],
   "source": [
    "simplify(_)"
   ]
  },
  {
   "cell_type": "code",
   "execution_count": 23,
   "id": "e18ebbe2-70a8-4ce9-a6f1-1d7fe94254bd",
   "metadata": {
    "tags": []
   },
   "outputs": [
    {
     "data": {
      "text/latex": [
       "$\\displaystyle \\frac{1}{r}$"
      ],
      "text/plain": [
       "1/r"
      ]
     },
     "execution_count": 23,
     "metadata": {},
     "output_type": "execute_result"
    }
   ],
   "source": [
    "r**2/r**3"
   ]
  },
  {
   "cell_type": "code",
   "execution_count": null,
   "id": "9a3da4b2-3006-4da7-9782-c0fbef3b9116",
   "metadata": {},
   "outputs": [],
   "source": []
  },
  {
   "cell_type": "code",
   "execution_count": null,
   "id": "f321dd9d-f5dc-43d0-8715-6cba2a3d9319",
   "metadata": {},
   "outputs": [],
   "source": []
  },
  {
   "cell_type": "code",
   "execution_count": null,
   "id": "b717952e-2703-4c18-9916-e7c447132df5",
   "metadata": {},
   "outputs": [],
   "source": []
  }
 ],
 "metadata": {
  "kernelspec": {
   "display_name": "Python 3 (ipykernel)",
   "language": "python",
   "name": "python3"
  },
  "language_info": {
   "codemirror_mode": {
    "name": "ipython",
    "version": 3
   },
   "file_extension": ".py",
   "mimetype": "text/x-python",
   "name": "python",
   "nbconvert_exporter": "python",
   "pygments_lexer": "ipython3",
   "version": "3.10.11"
  }
 },
 "nbformat": 4,
 "nbformat_minor": 5
}
