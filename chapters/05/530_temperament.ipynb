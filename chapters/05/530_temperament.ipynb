{
 "cells": [
  {
   "cell_type": "markdown",
   "id": "51847fc4-3556-4697-b5c8-6f648c36e23d",
   "metadata": {},
   "source": [
    "# Temperament (音律)"
   ]
  },
  {
   "cell_type": "markdown",
   "id": "02837b25-b17e-42e5-9d5f-e94721f9bf9c",
   "metadata": {},
   "source": [
    "* [Pythagorean tuning - Wikipedia](https://en.wikipedia.org/wiki/Pythagorean_tuning)\n",
    "    - [Pythagorean interval - Wikipedia](https://en.wikipedia.org/wiki/Pythagorean_interval)"
   ]
  },
  {
   "cell_type": "code",
   "execution_count": 16,
   "id": "512cacfe-20db-4751-a8b8-ddd8b9a7ad0a",
   "metadata": {
    "tags": []
   },
   "outputs": [
    {
     "data": {
      "text/markdown": [
       "ピタゴラス音律は、古代ギリシャの哲学者ピタゴラスが提唱した音楽理論で、音程の比率を整数で表現する方法です。具体的には、オクターブの上下で周波数比が2:1、完全5度の音程で3:2、完全4度の音程で4:3となるように調律されます。この理論は、西洋音楽の基礎となっています。"
      ],
      "text/plain": [
       "<IPython.core.display.Markdown object>"
      ]
     },
     "metadata": {},
     "output_type": "display_data"
    }
   ],
   "source": [
    "%%ai_ask\n",
    "ピタゴラス音律について"
   ]
  },
  {
   "cell_type": "code",
   "execution_count": 18,
   "id": "fb69cb70-7913-4d63-867e-8805c56afaba",
   "metadata": {
    "tags": []
   },
   "outputs": [
    {
     "data": {
      "text/markdown": [
       "ピタゴラス音律は、音程の比率を整数で表現する方法であり、西洋音楽の基礎となっています。この音律に基づいて、音階や和音が構成されます。\n",
       "\n",
       "例えば、Cメジャースケールは、ピタゴラス音律に基づいて構成されています。Cメジャースケールは、C、D、E、F、G、A、Bの7つの音から成り、隣り合う音の周波数比は、ピタゴラス音律によれば、2:1、9:8、81:64、4:3、3:2、27:16、243:128となります。\n",
       "\n",
       "また、和音においても、ピタゴラス音律に基づいた調律が行われます。例えば、Cメジャーコードは、C、E、Gの3つの音から構成され、隣り合う音の周波数比は、ピタゴラス音律によれば、4:5:6となります。\n",
       "\n",
       "つまり、ピタゴラス音律は、音階や和音の構成に大きく関わっており、西洋音楽の基礎となっていると言えます。"
      ],
      "text/plain": [
       "<IPython.core.display.Markdown object>"
      ]
     },
     "metadata": {},
     "output_type": "display_data"
    }
   ],
   "source": [
    "%%ai_continue\n",
    "ピタゴラス音律と、音階や和音との関係について"
   ]
  },
  {
   "cell_type": "markdown",
   "id": "8da627ed-8852-44bb-b87c-098b2fb70592",
   "metadata": {},
   "source": [
    "## Pythagorean method"
   ]
  },
  {
   "cell_type": "markdown",
   "id": "3cfd77eb",
   "metadata": {},
   "source": [
    "ピタゴラスは次の式を満たす $m, n \\geq 0 $ を探して $7$ 音階を定めた:\n",
    "\n",
    "$$ 1 \\leq \\left( \\frac{3}{2} \\right)^m \\times \\left( \\frac{1}{2} \\right)^{n} \\leq 2$$\n",
    "または\n",
    "$$ 1 \\leq \\left( \\frac{2}{3} \\right)^m \\times 2^n \\leq 2$$"
   ]
  },
  {
   "cell_type": "markdown",
   "id": "10baf394",
   "metadata": {},
   "source": [
    "例えば"
   ]
  },
  {
   "cell_type": "markdown",
   "id": "3d4ceaa3-dd95-484f-8a7a-60a5d5a7806c",
   "metadata": {},
   "source": [
    "$$\\left( \\frac{2}{3} \\right)^1 \\times 2^1 = \\frac{4}{3}$$"
   ]
  },
  {
   "cell_type": "markdown",
   "id": "739e3176-ab43-4f83-a386-c367ae009e43",
   "metadata": {},
   "source": [
    "$$\\left(\\frac{3}{2} \\right)^4 \\times \\left( \\frac{1}{2} \\right)^2 = \\frac{3^4}{2^6} = \\frac{81}{64} = 1.265625 \\approx 1.25 = \\frac{5}{4}$$"
   ]
  },
  {
   "cell_type": "markdown",
   "id": "75e07024-4906-4513-a12d-12be000b0b47",
   "metadata": {},
   "source": [
    "C, E, Gの比を求める:"
   ]
  },
  {
   "cell_type": "markdown",
   "id": "fb29b247-1ae5-40c9-b906-19b40ed517c9",
   "metadata": {},
   "source": [
    "$$ 1 : \\frac{81}{64} : \\frac{3}{2} \\approx 1 : \\frac{5}{4} : \\frac{3}{2} = \\frac{4}{4} : \\frac{5}{4} : \\frac{6}{4} = 4 : 5 : 6$$"
   ]
  },
  {
   "cell_type": "code",
   "execution_count": 2,
   "id": "edfdce18-f272-4502-9d38-1abcbbe52227",
   "metadata": {
    "tags": []
   },
   "outputs": [],
   "source": [
    "from fractions import Fraction\n",
    "import numpy as np"
   ]
  },
  {
   "cell_type": "code",
   "execution_count": 5,
   "id": "d4705b9e-16e3-488c-aeff-49aaa2d6b3d7",
   "metadata": {
    "tags": []
   },
   "outputs": [
    {
     "data": {
      "text/plain": [
       "array([0, 1, 2, 3, 4])"
      ]
     },
     "execution_count": 5,
     "metadata": {},
     "output_type": "execute_result"
    }
   ],
   "source": [
    "# 0から4までの配列\n",
    "np.arange(5)"
   ]
  },
  {
   "cell_type": "code",
   "execution_count": 6,
   "id": "666b5521-b9d2-4b78-b359-0d1f43ead05f",
   "metadata": {
    "tags": []
   },
   "outputs": [
    {
     "data": {
      "text/plain": [
       "array([1.    , 1.5   , 2.25  , 3.375 , 5.0625])"
      ]
     },
     "execution_count": 6,
     "metadata": {},
     "output_type": "execute_result"
    }
   ],
   "source": [
    "# 3/2の冪乗を列挙する\n",
    "(3/2)**np.arange(5)"
   ]
  },
  {
   "cell_type": "code",
   "execution_count": 9,
   "id": "70665787-97fa-42e5-b2d0-5f5b4095672c",
   "metadata": {
    "tags": []
   },
   "outputs": [
    {
     "data": {
      "text/plain": [
       "array([5.0625    , 2.53125   , 1.265625  , 0.6328125 , 0.31640625,\n",
       "       0.15820312])"
      ]
     },
     "execution_count": 9,
     "metadata": {},
     "output_type": "execute_result"
    }
   ],
   "source": [
    "# 3/2の4乗を繰り返し2で割る\n",
    "((3/2)**4)*((1/2)**np.arange(6))"
   ]
  },
  {
   "cell_type": "code",
   "execution_count": 12,
   "id": "83b0273a-6625-4878-a265-428809eecffb",
   "metadata": {
    "tags": []
   },
   "outputs": [
    {
     "data": {
      "text/plain": [
       "array([False, False,  True,  True,  True,  True])"
      ]
     },
     "execution_count": 12,
     "metadata": {},
     "output_type": "execute_result"
    }
   ],
   "source": [
    "# 3番目が求める数 (繰り返し2で割って2より小さくなる最初の数)\n",
    "((3/2)**4)*((1/2)**np.arange(6)) < 2.0"
   ]
  },
  {
   "cell_type": "markdown",
   "id": "6357b82c-b2cc-4b31-a24c-abb55ccdf0ac",
   "metadata": {},
   "source": [
    "* [numpy.argmax — NumPy v1.24 Manual](https://numpy.org/doc/stable/reference/generated/numpy.argmax.html)"
   ]
  },
  {
   "cell_type": "code",
   "execution_count": 13,
   "id": "5ad751e0-7aec-4333-9172-79b038e96f6f",
   "metadata": {
    "tags": []
   },
   "outputs": [
    {
     "data": {
      "text/plain": [
       "2"
      ]
     },
     "execution_count": 13,
     "metadata": {},
     "output_type": "execute_result"
    }
   ],
   "source": [
    "# numpy argmaxを使うと配列の添字を得られる\n",
    "np.argmax(((3/2)**4)*((1/2)**np.arange(6)) < 2.0)"
   ]
  },
  {
   "cell_type": "code",
   "execution_count": 15,
   "id": "8679fa54-1aa9-4213-a5ba-7218d74389a8",
   "metadata": {
    "tags": []
   },
   "outputs": [
    {
     "data": {
      "text/plain": [
       "1.265625"
      ]
     },
     "execution_count": 15,
     "metadata": {},
     "output_type": "execute_result"
    }
   ],
   "source": [
    "((3/2)**4)*((1/2)**np.arange(6))[2]"
   ]
  },
  {
   "cell_type": "code",
   "execution_count": 24,
   "id": "3ccdd690",
   "metadata": {
    "tags": []
   },
   "outputs": [
    {
     "data": {
      "text/plain": [
       "1.265625"
      ]
     },
     "execution_count": 24,
     "metadata": {},
     "output_type": "execute_result"
    }
   ],
   "source": [
    "# 重複する参照を変数に置き換えてプロウグラムっぽく書き直す\n",
    "x = ((3/2)**4)*((1/2)**np.arange(6))\n",
    "x[np.argmax(x < 2.0)]"
   ]
  },
  {
   "cell_type": "code",
   "execution_count": 27,
   "id": "fd3a6d75-28e5-4fdb-8471-967010e56395",
   "metadata": {
    "tags": []
   },
   "outputs": [
    {
     "data": {
      "text/plain": [
       "Fraction(81, 64)"
      ]
     },
     "execution_count": 27,
     "metadata": {},
     "output_type": "execute_result"
    }
   ],
   "source": [
    "# 有理数 (有限小数) なので分数表示する\n",
    "Fraction((3/2)**4 * (1/2)**2)"
   ]
  },
  {
   "cell_type": "code",
   "execution_count": 28,
   "id": "a5d9c247-4806-400b-a437-59f0770c708c",
   "metadata": {
    "tags": []
   },
   "outputs": [
    {
     "data": {
      "text/plain": [
       "Fraction(5, 4)"
      ]
     },
     "execution_count": 28,
     "metadata": {},
     "output_type": "execute_result"
    }
   ],
   "source": [
    "# 分母が10以下の近似を求める\n",
    "Fraction((3/2)**4 * (1/2)**2).limit_denominator(10)"
   ]
  },
  {
   "cell_type": "code",
   "execution_count": 23,
   "id": "bd4a9fc5-60a1-4eaa-bd15-794fb3a17e6a",
   "metadata": {
    "tags": []
   },
   "outputs": [
    {
     "data": {
      "text/plain": [
       "1.25"
      ]
     },
     "execution_count": 23,
     "metadata": {},
     "output_type": "execute_result"
    }
   ],
   "source": [
    "5 / 4"
   ]
  },
  {
   "cell_type": "markdown",
   "id": "23801e4c-72fd-4c8b-a2f2-ab0b29df0d15",
   "metadata": {},
   "source": [
    "## 3/2倍系列"
   ]
  },
  {
   "cell_type": "code",
   "execution_count": 36,
   "id": "70c2b5ad-a54c-44f5-9b4c-3c3875b3ec4c",
   "metadata": {
    "tags": []
   },
   "outputs": [
    {
     "name": "stdout",
     "output_type": "stream",
     "text": [
      "0 0 1.0 1\n",
      "1 0 1.5 3/2\n",
      "2 1 1.125 9/8\n",
      "3 1 1.6875 27/16\n",
      "4 2 1.265625 81/64\n"
     ]
    }
   ],
   "source": [
    "# 二重ループで探索する\n",
    "for m in np.arange(5):\n",
    "    for n in np.arange(6):\n",
    "        x = (3/2)**m * (1/2)**n\n",
    "        if x < 2.0:\n",
    "            print(m, n, x, Fraction(x))\n",
    "            break"
   ]
  },
  {
   "cell_type": "markdown",
   "id": "738a9f69-e6fa-4acf-8ade-c43393c7d3e7",
   "metadata": {},
   "source": [
    "## 2/3倍系列"
   ]
  },
  {
   "cell_type": "code",
   "execution_count": 40,
   "id": "c7fd3781-5e26-4fe7-9ac8-ce4debdccd24",
   "metadata": {
    "tags": []
   },
   "outputs": [
    {
     "name": "stdout",
     "output_type": "stream",
     "text": [
      "0 1 2.0 2\n",
      "1 1 1.3333333333333333 4/3\n",
      "2 2 1.7777777777777777 16/9\n",
      "3 2 1.185185185185185 6/5\n",
      "4 3 1.5802469135802466 11/7\n"
     ]
    }
   ],
   "source": [
    "# 二重ループで探索する\n",
    "for m in np.arange(5):\n",
    "    for n in np.arange(6):\n",
    "        x = (2/3)**m * (2)**n\n",
    "        if x > 1.0:\n",
    "            print(m, n, x, Fraction(x).limit_denominator(10))\n",
    "            break"
   ]
  },
  {
   "cell_type": "markdown",
   "id": "2a79dbf3-8564-4032-97f9-57daa7bccf67",
   "metadata": {},
   "source": [
    "## 現在使われている平均律との差"
   ]
  },
  {
   "cell_type": "code",
   "execution_count": 55,
   "id": "c48259c0-cc10-483f-9de6-b9728538eb2f",
   "metadata": {
    "tags": []
   },
   "outputs": [],
   "source": [
    "import pandas as pd"
   ]
  },
  {
   "cell_type": "code",
   "execution_count": 170,
   "id": "d5feb826-3bc8-4d89-a9f5-d3ad94d3b943",
   "metadata": {
    "tags": []
   },
   "outputs": [
    {
     "data": {
      "text/html": [
       "<div>\n",
       "<style scoped>\n",
       "    .dataframe tbody tr th:only-of-type {\n",
       "        vertical-align: middle;\n",
       "    }\n",
       "\n",
       "    .dataframe tbody tr th {\n",
       "        vertical-align: top;\n",
       "    }\n",
       "\n",
       "    .dataframe thead th {\n",
       "        text-align: right;\n",
       "    }\n",
       "</style>\n",
       "<table border=\"1\" class=\"dataframe\">\n",
       "  <thead>\n",
       "    <tr style=\"text-align: right;\">\n",
       "      <th></th>\n",
       "      <th>Note</th>\n",
       "      <th>Interval from D</th>\n",
       "      <th>Formula</th>\n",
       "      <th>=</th>\n",
       "      <th>=.1</th>\n",
       "      <th>Frequency ratio</th>\n",
       "      <th>Size (cents)</th>\n",
       "      <th>12-TET-dif (cents)</th>\n",
       "    </tr>\n",
       "  </thead>\n",
       "  <tbody>\n",
       "    <tr>\n",
       "      <th>0</th>\n",
       "      <td>A♭</td>\n",
       "      <td>diminished fifth</td>\n",
       "      <td>NaN</td>\n",
       "      <td>NaN</td>\n",
       "      <td>NaN</td>\n",
       "      <td>NaN</td>\n",
       "      <td>588.27</td>\n",
       "      <td>−11.73</td>\n",
       "    </tr>\n",
       "    <tr>\n",
       "      <th>1</th>\n",
       "      <td>E♭</td>\n",
       "      <td>minor second</td>\n",
       "      <td>NaN</td>\n",
       "      <td>NaN</td>\n",
       "      <td>NaN</td>\n",
       "      <td>NaN</td>\n",
       "      <td>90.22</td>\n",
       "      <td>−9.78</td>\n",
       "    </tr>\n",
       "    <tr>\n",
       "      <th>2</th>\n",
       "      <td>B♭</td>\n",
       "      <td>minor sixth</td>\n",
       "      <td>NaN</td>\n",
       "      <td>NaN</td>\n",
       "      <td>NaN</td>\n",
       "      <td>NaN</td>\n",
       "      <td>792.18</td>\n",
       "      <td>−7.82</td>\n",
       "    </tr>\n",
       "    <tr>\n",
       "      <th>3</th>\n",
       "      <td>F</td>\n",
       "      <td>minor third</td>\n",
       "      <td>NaN</td>\n",
       "      <td>NaN</td>\n",
       "      <td>NaN</td>\n",
       "      <td>NaN</td>\n",
       "      <td>294.13</td>\n",
       "      <td>−5.87</td>\n",
       "    </tr>\n",
       "    <tr>\n",
       "      <th>4</th>\n",
       "      <td>C</td>\n",
       "      <td>minor seventh</td>\n",
       "      <td>NaN</td>\n",
       "      <td>NaN</td>\n",
       "      <td>NaN</td>\n",
       "      <td>NaN</td>\n",
       "      <td>996.09</td>\n",
       "      <td>−3.91</td>\n",
       "    </tr>\n",
       "    <tr>\n",
       "      <th>5</th>\n",
       "      <td>G</td>\n",
       "      <td>perfect fourth</td>\n",
       "      <td>NaN</td>\n",
       "      <td>NaN</td>\n",
       "      <td>NaN</td>\n",
       "      <td>NaN</td>\n",
       "      <td>498.04</td>\n",
       "      <td>−1.96</td>\n",
       "    </tr>\n",
       "    <tr>\n",
       "      <th>6</th>\n",
       "      <td>D</td>\n",
       "      <td>unison</td>\n",
       "      <td>NaN</td>\n",
       "      <td>NaN</td>\n",
       "      <td>NaN</td>\n",
       "      <td>NaN</td>\n",
       "      <td>0.00</td>\n",
       "      <td>0.00</td>\n",
       "    </tr>\n",
       "    <tr>\n",
       "      <th>7</th>\n",
       "      <td>A</td>\n",
       "      <td>perfect fifth</td>\n",
       "      <td>NaN</td>\n",
       "      <td>NaN</td>\n",
       "      <td>NaN</td>\n",
       "      <td>NaN</td>\n",
       "      <td>701.96</td>\n",
       "      <td>1.96</td>\n",
       "    </tr>\n",
       "    <tr>\n",
       "      <th>8</th>\n",
       "      <td>E</td>\n",
       "      <td>major second</td>\n",
       "      <td>NaN</td>\n",
       "      <td>NaN</td>\n",
       "      <td>NaN</td>\n",
       "      <td>NaN</td>\n",
       "      <td>203.91</td>\n",
       "      <td>3.91</td>\n",
       "    </tr>\n",
       "    <tr>\n",
       "      <th>9</th>\n",
       "      <td>B</td>\n",
       "      <td>major sixth</td>\n",
       "      <td>NaN</td>\n",
       "      <td>NaN</td>\n",
       "      <td>NaN</td>\n",
       "      <td>NaN</td>\n",
       "      <td>905.87</td>\n",
       "      <td>5.87</td>\n",
       "    </tr>\n",
       "    <tr>\n",
       "      <th>10</th>\n",
       "      <td>F♯</td>\n",
       "      <td>major third</td>\n",
       "      <td>NaN</td>\n",
       "      <td>NaN</td>\n",
       "      <td>NaN</td>\n",
       "      <td>NaN</td>\n",
       "      <td>407.82</td>\n",
       "      <td>7.82</td>\n",
       "    </tr>\n",
       "    <tr>\n",
       "      <th>11</th>\n",
       "      <td>C♯</td>\n",
       "      <td>major seventh</td>\n",
       "      <td>NaN</td>\n",
       "      <td>NaN</td>\n",
       "      <td>NaN</td>\n",
       "      <td>NaN</td>\n",
       "      <td>1109.78</td>\n",
       "      <td>9.78</td>\n",
       "    </tr>\n",
       "    <tr>\n",
       "      <th>12</th>\n",
       "      <td>G♯</td>\n",
       "      <td>augmented fourth</td>\n",
       "      <td>NaN</td>\n",
       "      <td>NaN</td>\n",
       "      <td>NaN</td>\n",
       "      <td>NaN</td>\n",
       "      <td>611.73</td>\n",
       "      <td>11.73</td>\n",
       "    </tr>\n",
       "  </tbody>\n",
       "</table>\n",
       "</div>"
      ],
      "text/plain": [
       "   Note   Interval from D  Formula   =  =.1  Frequency ratio  Size (cents)  \\\n",
       "0    A♭  diminished fifth      NaN NaN  NaN              NaN        588.27   \n",
       "1    E♭      minor second      NaN NaN  NaN              NaN         90.22   \n",
       "2    B♭       minor sixth      NaN NaN  NaN              NaN        792.18   \n",
       "3     F       minor third      NaN NaN  NaN              NaN        294.13   \n",
       "4     C     minor seventh      NaN NaN  NaN              NaN        996.09   \n",
       "5     G    perfect fourth      NaN NaN  NaN              NaN        498.04   \n",
       "6     D            unison      NaN NaN  NaN              NaN          0.00   \n",
       "7     A     perfect fifth      NaN NaN  NaN              NaN        701.96   \n",
       "8     E      major second      NaN NaN  NaN              NaN        203.91   \n",
       "9     B       major sixth      NaN NaN  NaN              NaN        905.87   \n",
       "10   F♯       major third      NaN NaN  NaN              NaN        407.82   \n",
       "11   C♯     major seventh      NaN NaN  NaN              NaN       1109.78   \n",
       "12   G♯  augmented fourth      NaN NaN  NaN              NaN        611.73   \n",
       "\n",
       "   12-TET-dif (cents)  \n",
       "0              −11.73  \n",
       "1               −9.78  \n",
       "2               −7.82  \n",
       "3               −5.87  \n",
       "4               −3.91  \n",
       "5               −1.96  \n",
       "6                0.00  \n",
       "7                1.96  \n",
       "8                3.91  \n",
       "9                5.87  \n",
       "10               7.82  \n",
       "11               9.78  \n",
       "12              11.73  "
      ]
     },
     "execution_count": 170,
     "metadata": {},
     "output_type": "execute_result"
    }
   ],
   "source": [
    "dfs = pd.read_html('https://en.wikipedia.org/wiki/Pythagorean_tuning')\n",
    "dfs[0]"
   ]
  }
 ],
 "metadata": {
  "kernelspec": {
   "display_name": "Python 3 (ipykernel)",
   "language": "python",
   "name": "python3"
  },
  "language_info": {
   "codemirror_mode": {
    "name": "ipython",
    "version": 3
   },
   "file_extension": ".py",
   "mimetype": "text/x-python",
   "name": "python",
   "nbconvert_exporter": "python",
   "pygments_lexer": "ipython3",
   "version": "3.10.10"
  }
 },
 "nbformat": 4,
 "nbformat_minor": 5
}
