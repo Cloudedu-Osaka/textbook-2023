{
 "cells": [
  {
   "attachments": {},
   "cell_type": "markdown",
   "metadata": {},
   "source": [
    "# 学問への扉: プログラミングで遡る科学史\n",
    "\n",
    "## 初回授業の説明\n",
    "\n",
    "* JupyterHub (https://ecsosaka-jh2310.japaneast.cloudapp.azure.com/) への接続\n",
    "  - GitHub Pages (https://cloudedu-osaka.github.io/textbook-2023/) へアクセス (⬅いまここです)\n",
    "  - JupyterHubへの移動\n",
    "    - OUMailによる多要素認証\n",
    "    - 簡単なセルの実行\n",
    "* ChatGPT (OpenAI API) キーの取得\n",
    "  - アカウントの作成\n",
    "  - ChatGPTをアクセするためのキーを取得する\n",
    "    - (本授業の組織への参加は次回)\n",
    "* JupyterHub + ChatGPI\n",
    "  - 上で取得したキーを登録する\n",
    "  - チャットによるプログラミングを体験する"
   ]
  },
  {
   "attachments": {},
   "cell_type": "markdown",
   "metadata": {},
   "source": []
  },
  {
   "attachments": {},
   "cell_type": "markdown",
   "metadata": {},
   "source": [
    "## JupyterHubに接続しプログラムを実行する\n",
    "\n",
    "* 上のロケットのアイコンから\"JupyterHub\"をクリックすると、この授業用のJupyterHubへ遷移するので、OUMailアカウントで認証する (多要素認証)\n",
    "* 下のセルを選択し、Shift+Enter (return) で実行する"
   ]
  },
  {
   "cell_type": "code",
   "execution_count": null,
   "metadata": {},
   "outputs": [],
   "source": [
    "1+1"
   ]
  },
  {
   "cell_type": "code",
   "execution_count": null,
   "metadata": {},
   "outputs": [],
   "source": []
  }
 ],
 "metadata": {
  "kernelspec": {
   "display_name": "Python 3 (ipykernel)",
   "language": "python",
   "name": "python3"
  },
  "language_info": {
   "codemirror_mode": {
    "name": "ipython",
    "version": 3
   },
   "file_extension": ".py",
   "mimetype": "text/x-python",
   "name": "python",
   "nbconvert_exporter": "python",
   "pygments_lexer": "ipython3",
   "version": "3.9.15"
  }
 },
 "nbformat": 4,
 "nbformat_minor": 4
}
