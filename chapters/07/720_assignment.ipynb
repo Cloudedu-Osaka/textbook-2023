{
 "cells": [
  {
   "cell_type": "markdown",
   "id": "040d6ea9-49bf-4016-a513-96d88a28b833",
   "metadata": {},
   "source": [
    "# 課題: 相加平均と相乗平均の関係を表す不等式\n",
    "\n",
    "* [Inequality of arithmetic and geometric means - Wikipedia](https://en.wikipedia.org/wiki/Inequality_of_arithmetic_and_geometric_means)"
   ]
  },
  {
   "cell_type": "code",
   "execution_count": 14,
   "id": "aab07dfb-4a5f-4643-a014-6233e8791a1d",
   "metadata": {
    "tags": []
   },
   "outputs": [
    {
     "data": {
      "text/markdown": [
       "相加相乗平均の公式は以下の通りです。\n",
       "\n",
       "a1, a2, ..., an が正の実数のとき、\n",
       "\n",
       "(a1 + a2 + ... + an) / n ≥ (a1 * a2 * ... * an)^(1/n)\n",
       "\n",
       "この不等式が成り立つことを証明します。\n",
       "\n",
       "まず、n = 2 の場合を考えます。\n",
       "\n",
       "(a1 + a2) / 2 ≥ (a1 * a2)^(1/2)\n",
       "\n",
       "両辺を2乗すると、\n",
       "\n",
       "(a1 + a2)^2 / 4 ≥ a1 * a2\n",
       "\n",
       "a1^2 + 2a1a2 + a2^2 ≥ 4a1a2\n",
       "\n",
       "(a1 - a2)^2 ≥ 0\n",
       "\n",
       "これは常に成り立つので、n = 2 の場合は成立します。\n",
       "\n",
       "次に、n = k の場合が成り立つと仮定して、n = k + 1 の場合を考えます。\n",
       "\n",
       "(a1 + a2 + ... + ak + ak+1) / (k + 1) ≥ (a1 * a2 * ... * ak * ak+1)^(1/(k + 1))\n",
       "\n",
       "左辺を変形すると、\n",
       "\n",
       "(a1 + a2 + ... + ak) / k + (ak+1) / (k + 1) ≥ (a1 * a2 * ... * ak * ak+1)^(1/(k + 1))\n",
       "\n",
       "ここで、相加相乗平均の仮定より、\n",
       "\n",
       "(a1 + a2 + ... + ak) / k ≥ (a1 * a2 * ... * ak)^(1/k)\n",
       "\n",
       "よって、\n",
       "\n",
       "(a1 + a2 + ... + ak) / k + (ak+1) / (k + 1) ≥ (a1 * a2 * ... * ak)^(1/k) + (ak+1) / (k + 1)\n",
       "\n",
       "両辺を k(k + 1) 倍すると、\n",
       "\n",
       "(k + 1)(a1 + a2 + ... + ak) + k ak+1 ≥ k(a1 * a2 * ... * ak)^(1/k) (k + 1)^(k + 1) ak+1^(k + 1)/(k + 1)^(k + 1)\n",
       "\n",
       "ここで、左辺の第1項を相加相乗平均の仮定により、\n",
       "\n",
       "(k + 1)(a1 + a2 + ... + ak) ≥ k(a1 * a2 * ... * ak)^(1/k) (k + 1)^k\n",
       "\n",
       "と書き換えることができます。\n",
       "\n",
       "また、右辺の第2項を、\n",
       "\n",
       "ak+1 / (k + 1) ≤ (a1 * a2 * ... * ak * ak+1)^(1/(k + 1))\n",
       "\n",
       "という不等式により置き換えることができます。\n",
       "\n",
       "これらを代入すると、\n",
       "\n",
       "(k + 1)(a1 + a2 + ... + ak) + k ak+1 ≥ k(a1 * a2 * ... * ak * ak+1)^(1/(k + 1)) (k + 1)^k + (k + 1) ak+1^(k + 1)/(k + 1)^(k + 1)\n",
       "\n",
       "(k + 1)(a1 + a2 + ... + ak + ak+1) ≥ (a1 * a2 * ... * ak * ak+1)^(1/(k + 1)) (k + 1)^(k + 1)\n",
       "\n",
       "となります。\n",
       "\n",
       "したがって、n = k + 1 の場合も成り立つことが示されました。\n",
       "\n",
       "以上より、相加相乗平均の公式が証明されました。"
      ],
      "text/plain": [
       "<IPython.core.display.Markdown object>"
      ]
     },
     "metadata": {},
     "output_type": "display_data"
    }
   ],
   "source": [
    "%%ai_ask\n",
    "相加相乗平均の公式を証明する"
   ]
  },
  {
   "cell_type": "code",
   "execution_count": 15,
   "id": "14cb58a5-d8cf-4233-84ec-8a82735f731d",
   "metadata": {
    "tags": []
   },
   "outputs": [
    {
     "data": {
      "text/markdown": [
       "n=2の場合の相加相乗平均の公式は以下の通りです。\n",
       "\n",
       "a1, a2 が正の実数のとき、\n",
       "\n",
       "(a1 + a2) / 2 ≥ (a1 * a2)^(1/2)\n",
       "\n",
       "この不等式が成り立つことを証明します。\n",
       "\n",
       "両辺を2乗すると、\n",
       "\n",
       "(a1 + a2)^2 / 4 ≥ a1 * a2\n",
       "\n",
       "a1^2 + 2a1a2 + a2^2 ≥ 4a1a2\n",
       "\n",
       "(a1 - a2)^2 ≥ 0\n",
       "\n",
       "これは常に成り立つので、n = 2 の場合は成立します。\n",
       "\n",
       "以上より、n=2の場合の相加相乗平均の公式が証明されました。"
      ],
      "text/plain": [
       "<IPython.core.display.Markdown object>"
      ]
     },
     "metadata": {},
     "output_type": "display_data"
    }
   ],
   "source": [
    "%%ai_continue\n",
    "n=2に限定して"
   ]
  },
  {
   "cell_type": "code",
   "execution_count": 16,
   "id": "78db744c-fd63-4d0c-b86f-81c3e084a24f",
   "metadata": {
    "tags": []
   },
   "outputs": [
    {
     "data": {
      "text/markdown": [
       "sympyを使って相加相乗平均の公式を証明することができます。以下は、sympyを用いた証明の例です。\n",
       "\n",
       "```python\n",
       "import sympy\n",
       "\n",
       "# a, bを正の実数とする\n",
       "a, b = sympy.symbols('a b', positive=True)\n",
       "\n",
       "# 相加相乗平均の不等式を表す式\n",
       "ineq = sympy.sqrt(a * b) <= (a + b) / 2\n",
       "\n",
       "# 不等式を2乗すると、以下の式が得られる\n",
       "ineq_squared = ineq.lhs**2 - ineq.rhs**2 <= 0\n",
       "\n",
       "# 左辺を展開すると、以下の式が得られる\n",
       "lhs_expanded = ineq_squared.lhs.expand()\n",
       "\n",
       "# 右辺を展開すると、以下の式が得られる\n",
       "rhs_expanded = ineq_squared.rhs.expand()\n",
       "\n",
       "# 左辺と右辺を比較すると、以下の式が得られる\n",
       "comparison = lhs_expanded - rhs_expanded\n",
       "\n",
       "# 比較式を展開すると、以下の式が得られる\n",
       "comparison_expanded = comparison.expand()\n",
       "\n",
       "# 比較式が0以下であることを示す\n",
       "assert comparison_expanded <= 0\n",
       "```\n",
       "\n",
       "このように、sympyを使って相加相乗平均の公式を証明することができます。"
      ],
      "text/plain": [
       "<IPython.core.display.Markdown object>"
      ]
     },
     "metadata": {},
     "output_type": "display_data"
    }
   ],
   "source": [
    "%%ai_continue\n",
    "sympyで"
   ]
  },
  {
   "cell_type": "code",
   "execution_count": 1,
   "id": "be86cf92-577e-48fb-b2bc-4e1804c2fa04",
   "metadata": {
    "tags": []
   },
   "outputs": [
    {
     "ename": "TypeError",
     "evalue": "cannot determine truth value of Relational",
     "output_type": "error",
     "traceback": [
      "\u001b[0;31m---------------------------------------------------------------------------\u001b[0m",
      "\u001b[0;31mTypeError\u001b[0m                                 Traceback (most recent call last)",
      "\u001b[0;32m/tmp/ipykernel_1136/881370004.py\u001b[0m in \u001b[0;36m<cell line: 25>\u001b[0;34m()\u001b[0m\n\u001b[1;32m     23\u001b[0m \u001b[0;34m\u001b[0m\u001b[0m\n\u001b[1;32m     24\u001b[0m \u001b[0;31m# 比較式が0以下であることを示す\u001b[0m\u001b[0;34m\u001b[0m\u001b[0;34m\u001b[0m\u001b[0m\n\u001b[0;32m---> 25\u001b[0;31m \u001b[0;32massert\u001b[0m \u001b[0mcomparison_expanded\u001b[0m \u001b[0;34m<=\u001b[0m \u001b[0;36m0\u001b[0m\u001b[0;34m\u001b[0m\u001b[0;34m\u001b[0m\u001b[0m\n\u001b[0m",
      "\u001b[0;32m/opt/conda/lib/python3.10/site-packages/sympy/core/relational.py\u001b[0m in \u001b[0;36m__bool__\u001b[0;34m(self)\u001b[0m\n\u001b[1;32m    509\u001b[0m \u001b[0;34m\u001b[0m\u001b[0m\n\u001b[1;32m    510\u001b[0m     \u001b[0;32mdef\u001b[0m \u001b[0m__bool__\u001b[0m\u001b[0;34m(\u001b[0m\u001b[0mself\u001b[0m\u001b[0;34m)\u001b[0m\u001b[0;34m:\u001b[0m\u001b[0;34m\u001b[0m\u001b[0;34m\u001b[0m\u001b[0m\n\u001b[0;32m--> 511\u001b[0;31m         \u001b[0;32mraise\u001b[0m \u001b[0mTypeError\u001b[0m\u001b[0;34m(\u001b[0m\u001b[0;34m\"cannot determine truth value of Relational\"\u001b[0m\u001b[0;34m)\u001b[0m\u001b[0;34m\u001b[0m\u001b[0;34m\u001b[0m\u001b[0m\n\u001b[0m\u001b[1;32m    512\u001b[0m \u001b[0;34m\u001b[0m\u001b[0m\n\u001b[1;32m    513\u001b[0m     \u001b[0;32mdef\u001b[0m \u001b[0m_eval_as_set\u001b[0m\u001b[0;34m(\u001b[0m\u001b[0mself\u001b[0m\u001b[0;34m)\u001b[0m\u001b[0;34m:\u001b[0m\u001b[0;34m\u001b[0m\u001b[0;34m\u001b[0m\u001b[0m\n",
      "\u001b[0;31mTypeError\u001b[0m: cannot determine truth value of Relational"
     ]
    }
   ],
   "source": [
    "import sympy\n",
    "\n",
    "# a, bを正の実数とする\n",
    "a, b = sympy.symbols('a b', positive=True)\n",
    "\n",
    "# 相加相乗平均の不等式を表す式\n",
    "ineq = sympy.sqrt(a * b) <= (a + b) / 2\n",
    "\n",
    "# 不等式を2乗すると、以下の式が得られる\n",
    "ineq_squared = ineq.lhs**2 - ineq.rhs**2 <= 0\n",
    "\n",
    "# 左辺を展開すると、以下の式が得られる\n",
    "lhs_expanded = ineq_squared.lhs.expand()\n",
    "\n",
    "# 右辺を展開すると、以下の式が得られる\n",
    "rhs_expanded = ineq_squared.rhs.expand()\n",
    "\n",
    "# 左辺と右辺を比較すると、以下の式が得られる\n",
    "comparison = lhs_expanded - rhs_expanded\n",
    "\n",
    "# 比較式を展開すると、以下の式が得られる\n",
    "comparison_expanded = comparison.expand()\n",
    "\n",
    "# 比較式が0以下であることを示す\n",
    "assert comparison_expanded <= 0"
   ]
  },
  {
   "cell_type": "markdown",
   "id": "83d0331e-1954-48a7-96cc-299a4439de4e",
   "metadata": {},
   "source": [
    "* [Assumptions - SymPy 1.12 documentation](https://docs.sympy.org/latest/guides/assumptions.html)"
   ]
  },
  {
   "cell_type": "code",
   "execution_count": 10,
   "id": "e4d1eee6-3696-4c90-9eee-9f3668968cda",
   "metadata": {
    "tags": []
   },
   "outputs": [
    {
     "data": {
      "text/latex": [
       "$\\displaystyle \\sqrt{a} \\sqrt{b} \\leq \\frac{a}{2} + \\frac{b}{2}$"
      ],
      "text/plain": [
       "sqrt(a)*sqrt(b) <= a/2 + b/2"
      ]
     },
     "execution_count": 10,
     "metadata": {},
     "output_type": "execute_result"
    }
   ],
   "source": [
    "ineq"
   ]
  },
  {
   "cell_type": "code",
   "execution_count": 11,
   "id": "5f15b6b7-4278-4520-b711-f44c54922e31",
   "metadata": {
    "tags": []
   },
   "outputs": [
    {
     "data": {
      "text/latex": [
       "$\\displaystyle \\sqrt{a} \\sqrt{b}$"
      ],
      "text/plain": [
       "sqrt(a)*sqrt(b)"
      ]
     },
     "execution_count": 11,
     "metadata": {},
     "output_type": "execute_result"
    }
   ],
   "source": [
    "ineq.lhs"
   ]
  },
  {
   "cell_type": "code",
   "execution_count": 12,
   "id": "0e6f7db2-e963-4e70-91a3-d543d093f8b7",
   "metadata": {
    "tags": []
   },
   "outputs": [
    {
     "data": {
      "text/latex": [
       "$\\displaystyle \\frac{a}{2} + \\frac{b}{2}$"
      ],
      "text/plain": [
       "a/2 + b/2"
      ]
     },
     "execution_count": 12,
     "metadata": {},
     "output_type": "execute_result"
    }
   ],
   "source": [
    "ineq.rhs"
   ]
  },
  {
   "cell_type": "code",
   "execution_count": 13,
   "id": "caa12610-5391-4563-b18d-8796044033bb",
   "metadata": {
    "tags": []
   },
   "outputs": [
    {
     "data": {
      "text/latex": [
       "$\\displaystyle a b - \\left(\\frac{a}{2} + \\frac{b}{2}\\right)^{2}$"
      ],
      "text/plain": [
       "a*b - (a/2 + b/2)**2"
      ]
     },
     "execution_count": 13,
     "metadata": {},
     "output_type": "execute_result"
    }
   ],
   "source": [
    "ineq.lhs**2-ineq.rhs**2"
   ]
  },
  {
   "cell_type": "code",
   "execution_count": 14,
   "id": "6c3a03d7-6f77-4754-baeb-cd7611e043ea",
   "metadata": {
    "tags": []
   },
   "outputs": [
    {
     "data": {
      "text/latex": [
       "$\\displaystyle - \\frac{a^{2}}{4} + \\frac{a b}{2} - \\frac{b^{2}}{4}$"
      ],
      "text/plain": [
       "-a**2/4 + a*b/2 - b**2/4"
      ]
     },
     "execution_count": 14,
     "metadata": {},
     "output_type": "execute_result"
    }
   ],
   "source": [
    "_.expand()"
   ]
  },
  {
   "cell_type": "code",
   "execution_count": 2,
   "id": "d209aeab-8c78-4a2b-8b8e-b9ed37b26a27",
   "metadata": {
    "tags": []
   },
   "outputs": [
    {
     "data": {
      "text/latex": [
       "$\\displaystyle - \\frac{a^{2}}{4} + \\frac{a b}{2} - \\frac{b^{2}}{4}$"
      ],
      "text/plain": [
       "-a**2/4 + a*b/2 - b**2/4"
      ]
     },
     "execution_count": 2,
     "metadata": {},
     "output_type": "execute_result"
    }
   ],
   "source": [
    "comparison_expanded"
   ]
  },
  {
   "cell_type": "code",
   "execution_count": 3,
   "id": "7384248f-7f7b-4322-b2d0-a96cfbfc05fc",
   "metadata": {
    "tags": []
   },
   "outputs": [],
   "source": [
    "comparison_expanded.is_positive"
   ]
  },
  {
   "cell_type": "code",
   "execution_count": 5,
   "id": "937488d0-741c-40cc-96d7-b88d9c926e73",
   "metadata": {
    "tags": []
   },
   "outputs": [
    {
     "data": {
      "text/latex": [
       "$\\displaystyle - \\frac{\\left(a - b\\right)^{2}}{4}$"
      ],
      "text/plain": [
       "-(a - b)**2/4"
      ]
     },
     "execution_count": 5,
     "metadata": {},
     "output_type": "execute_result"
    }
   ],
   "source": [
    "comparison_factorized = sympy.factor(comparison_expanded)\n",
    "comparison_factorized"
   ]
  },
  {
   "cell_type": "code",
   "execution_count": 16,
   "id": "0a7d8523-86bd-46c5-a128-923f610f7347",
   "metadata": {
    "tags": []
   },
   "outputs": [],
   "source": [
    "comparison_factorized.is_negative"
   ]
  },
  {
   "cell_type": "code",
   "execution_count": 16,
   "id": "62779afc",
   "metadata": {
    "tags": []
   },
   "outputs": [],
   "source": [
    "comparison_factorized.is_negative"
   ]
  },
  {
   "cell_type": "code",
   "execution_count": 17,
   "id": "cd1ad378-050d-4ad3-b3b5-61f6d6cea830",
   "metadata": {
    "tags": []
   },
   "outputs": [],
   "source": [
    "comparison_factorized.is_nonnegative"
   ]
  },
  {
   "cell_type": "code",
   "execution_count": 7,
   "id": "21119087-43c0-4d1a-82ab-57bcd9a6bad7",
   "metadata": {
    "tags": []
   },
   "outputs": [
    {
     "data": {
      "text/markdown": [
       "sympyはPythonのライブラリの一つで、数学的な式や式変形、微積分、代数的な計算、方程式の解法などを行うことができます。数学的な問題をプログラムで解く際に便利なツールです。Jupyter Notebook上で使用することができます。"
      ],
      "text/plain": [
       "<IPython.core.display.Markdown object>"
      ]
     },
     "metadata": {},
     "output_type": "display_data"
    }
   ],
   "source": [
    "%%ai_ask\n",
    "sympyについて"
   ]
  },
  {
   "cell_type": "code",
   "execution_count": 9,
   "id": "8eabe149-3a16-4c44-a343-76fbd53e794e",
   "metadata": {
    "tags": []
   },
   "outputs": [
    {
     "data": {
      "text/markdown": [
       "sympyのassumptionには、predicateと呼ばれる関数を使って、より詳細なassumptionを指定することができます。predicateは、変数が持つべき性質を詳細に指定することができます。\n",
       "\n",
       "以下は、predicateを使ったassumptionの例です。\n",
       "\n",
       "```python\n",
       "import sympy\n",
       "\n",
       "x = sympy.symbols('x')\n",
       "y = sympy.symbols('y')\n",
       "\n",
       "expr = sympy.sqrt(x**2)\n",
       "print(expr.is_real)  # None\n",
       "\n",
       "expr = sympy.sqrt(y**2)\n",
       "print(expr.is_real)  # None\n",
       "\n",
       "sympy.assumptions.assume.sympify('x > 0')\n",
       "sympy.assumptions.assume.sympify('y > 0')\n",
       "\n",
       "expr = sympy.sqrt(x**2)\n",
       "print(expr.is_real)  # True\n",
       "\n",
       "expr = sympy.sqrt(y**2)\n",
       "print(expr.is_real)  # True\n",
       "```\n",
       "\n",
       "上記の例では、最初にxとyを定義し、その後にsqrt(x**2)とsqrt(y**2)を計算しています。最初の2つの式に対しては、is_real属性はNoneになります。その後、sympy.assumptions.assume.sympifyを使って、x>0とy>0というassumptionを指定しています。最後に、sqrt(x**2)とsqrt(y**2)に対して、is_real属性を確認すると、どちらもTrueになっていることがわかります。\n",
       "\n",
       "このように、predicateを使うことで、より詳細なassumptionを指定することができます。"
      ],
      "text/plain": [
       "<IPython.core.display.Markdown object>"
      ]
     },
     "metadata": {},
     "output_type": "display_data"
    }
   ],
   "source": [
    "%%ai_continue\n",
    "sympyのassumptionのpredicate使い方について"
   ]
  },
  {
   "cell_type": "code",
   "execution_count": null,
   "id": "2d05d56d-fbdc-4398-8e8b-06f01a233190",
   "metadata": {},
   "outputs": [],
   "source": []
  }
 ],
 "metadata": {
  "kernelspec": {
   "display_name": "Python 3 (ipykernel)",
   "language": "python",
   "name": "python3"
  },
  "language_info": {
   "codemirror_mode": {
    "name": "ipython",
    "version": 3
   },
   "file_extension": ".py",
   "mimetype": "text/x-python",
   "name": "python",
   "nbconvert_exporter": "python",
   "pygments_lexer": "ipython3",
   "version": "3.10.10"
  }
 },
 "nbformat": 4,
 "nbformat_minor": 5
}
