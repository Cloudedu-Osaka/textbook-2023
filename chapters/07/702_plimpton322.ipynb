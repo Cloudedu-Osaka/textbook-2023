{
 "cells": [
  {
   "cell_type": "markdown",
   "id": "f5a31238",
   "metadata": {},
   "source": [
    "# Plimpton 322 の解読 (2)"
   ]
  },
  {
   "cell_type": "markdown",
   "id": "4293139a",
   "metadata": {},
   "source": [
    "## YBC 6967 に基づく解釈"
   ]
  },
  {
   "cell_type": "markdown",
   "id": "0a99bfbb",
   "metadata": {},
   "source": [
    "$c$を定数とする二次方程式\n",
    "\n",
    "$$\n",
    "x - \\frac{1}{x} = c\n",
    "$$\n",
    "\n",
    "について、\n",
    "$v_{1} = \\frac{c}{2}$、\n",
    "$v_{3} = 1 + {v_{1}}^2 = 1 + (\\frac{c}{2})^2$、\n",
    "$v_{4} = \\sqrt{v_{3}} = \\sqrt{1 + (\\frac{c}{2})^2}$ と置くと、次の連立方程式が成り立つ:\n",
    "\n",
    "$$\n",
    "  \\begin{align}\n",
    "    x &= v_{4} + v_{1} \\\\\n",
    "    \\frac{1}{x} &= v_{4} - v_{1}\n",
    "  \\end{align}\n",
    "$$"
   ]
  },
  {
   "cell_type": "markdown",
   "id": "b7ac2e83",
   "metadata": {},
   "source": [
    "さらに、この連立方程式を$v_{1}$, $v_{4}$ について解くと、\n",
    "\n",
    "$$\n",
    "  \\begin{align}\n",
    "    v_{1} &= \\frac{1}{2}(x-\\frac{1}{x}) \\\\\n",
    "    v_{4} &= \\frac{1}{2}(x+\\frac{1}{x})\n",
    "  \\end{align}\n",
    "$$\n",
    "\n",
    "である。\n",
    "\n",
    "$v_{1}$, $1$, $v_{4}$ はピタゴラスの三数であり、${v_{1}}^2 + 1^2 = {v_{4}}^2$が成り立つ。\n",
    "\n",
    "* [Pythagorean triple - Wikipedia](https://en.wikipedia.org/wiki/Pythagorean_triple)"
   ]
  },
  {
   "cell_type": "markdown",
   "id": "6022805f",
   "metadata": {},
   "source": [
    "後で説明する $a$ という係数を用いると、Plimpton 322は次表のように解釈できる:"
   ]
  },
  {
   "cell_type": "markdown",
   "id": "8c97f93d",
   "metadata": {},
   "source": [
    "|#1 |#2 |#3 |\n",
    "|:-:|:-:|:-:|\n",
    "|$$1+{v_{1}}^2 = {v_{4}}^2$$|$$a\\cdot v_{1}$$|$$a\\cdot v_{4}$$|\n",
    "|$$1+\\left(\\frac{c}{2}\\right)^2$$|$$\\frac{a}{2}\\left(x-\\frac{1}{x}\\right)$$|$$\\frac{a}{2}\\left(x+\\frac{1}{x}\\right)$$|"
   ]
  },
  {
   "cell_type": "markdown",
   "id": "14e446ac",
   "metadata": {},
   "source": [
    "10進法で表記したPlimpton 322の11行目に着目する:"
   ]
  },
  {
   "cell_type": "code",
   "execution_count": 2,
   "id": "97a41db3",
   "metadata": {
    "hide_input": true,
    "scrolled": true,
    "tags": []
   },
   "outputs": [
    {
     "data": {
      "text/html": [
       "<div>\n",
       "<style scoped>\n",
       "    .dataframe tbody tr th:only-of-type {\n",
       "        vertical-align: middle;\n",
       "    }\n",
       "\n",
       "    .dataframe tbody tr th {\n",
       "        vertical-align: top;\n",
       "    }\n",
       "\n",
       "    .dataframe thead th {\n",
       "        text-align: right;\n",
       "    }\n",
       "</style>\n",
       "<table border=\"1\" class=\"dataframe\">\n",
       "  <thead>\n",
       "    <tr style=\"text-align: right;\">\n",
       "      <th></th>\n",
       "      <th>or</th>\n",
       "      <th>Short Side</th>\n",
       "      <th>Diagonal</th>\n",
       "      <th>Row #</th>\n",
       "    </tr>\n",
       "  </thead>\n",
       "  <tbody>\n",
       "    <tr>\n",
       "      <th>10</th>\n",
       "      <td>(1).5625</td>\n",
       "      <td>45*</td>\n",
       "      <td>75*</td>\n",
       "      <td>11</td>\n",
       "    </tr>\n",
       "  </tbody>\n",
       "</table>\n",
       "</div>"
      ],
      "text/plain": [
       "          or Short Side Diagonal  Row #\n",
       "10  (1).5625        45*      75*     11"
      ]
     },
     "execution_count": 2,
     "metadata": {},
     "output_type": "execute_result"
    }
   ],
   "source": [
    "import pandas as pd\n",
    "dfs=pd.read_html('https://en.wikipedia.org/wiki/Plimpton_322')\n",
    "dfs[1]\n",
    "dfs[1].take([10])"
   ]
  },
  {
   "cell_type": "code",
   "execution_count": 5,
   "id": "df1197d3-aeb5-4160-9172-b95a82324dbb",
   "metadata": {
    "tags": []
   },
   "outputs": [
    {
     "data": {
      "text/plain": [
       "('45*', '75*')"
      ]
     },
     "execution_count": 5,
     "metadata": {},
     "output_type": "execute_result"
    }
   ],
   "source": [
    "v1, v4 = dfs[1].iloc[10,[1,2]]\n",
    "v1, v4"
   ]
  },
  {
   "cell_type": "code",
   "execution_count": 9,
   "id": "8e8b81da-df32-4baa-8fe8-62dd5e961850",
   "metadata": {
    "tags": []
   },
   "outputs": [],
   "source": [
    "v1, v4 = int(v1[:-1]), int(v4[:-1])"
   ]
  },
  {
   "cell_type": "code",
   "execution_count": 10,
   "id": "2e849975-1e0a-49e5-8133-92ad790f929f",
   "metadata": {
    "tags": []
   },
   "outputs": [
    {
     "data": {
      "text/plain": [
       "(45, 75)"
      ]
     },
     "execution_count": 10,
     "metadata": {},
     "output_type": "execute_result"
    }
   ],
   "source": [
    "v1, v4"
   ]
  },
  {
   "cell_type": "markdown",
   "id": "9a51a32b",
   "metadata": {},
   "source": [
    "係数 $a$ は 60進法の $1\\ 0$ (10進法の$60$):"
   ]
  },
  {
   "cell_type": "code",
   "execution_count": 11,
   "id": "f521b6aa",
   "metadata": {
    "tags": []
   },
   "outputs": [
    {
     "data": {
      "text/plain": [
       "60.0"
      ]
     },
     "execution_count": 11,
     "metadata": {},
     "output_type": "execute_result"
    }
   ],
   "source": [
    "import math\n",
    "math.sqrt(v4**2 - v1**2)"
   ]
  },
  {
   "cell_type": "code",
   "execution_count": 12,
   "id": "70d6a6b7",
   "metadata": {
    "tags": []
   },
   "outputs": [
    {
     "data": {
      "text/plain": [
       "90"
      ]
     },
     "execution_count": 12,
     "metadata": {},
     "output_type": "execute_result"
    }
   ],
   "source": [
    "c = v1*2\n",
    "c"
   ]
  },
  {
   "cell_type": "markdown",
   "id": "0d63120b",
   "metadata": {},
   "source": [
    "$x$ と $\\frac{1}{x}$ を求める:"
   ]
  },
  {
   "cell_type": "code",
   "execution_count": 14,
   "id": "03ddf4ea",
   "metadata": {
    "tags": []
   },
   "outputs": [
    {
     "data": {
      "text/plain": [
       "(120, 30)"
      ]
     },
     "execution_count": 14,
     "metadata": {},
     "output_type": "execute_result"
    }
   ],
   "source": [
    "v4+v1, v4-v1"
   ]
  },
  {
   "cell_type": "code",
   "execution_count": 15,
   "id": "4db5dc7a",
   "metadata": {
    "tags": []
   },
   "outputs": [],
   "source": [
    "def inverse(n, base=10):\n",
    "    denominator = n\n",
    "    remainder   = 1 # initial remainder\n",
    "    quotient    = 0 # dummy\n",
    "    repeat = set()\n",
    "    l = []\n",
    "    while not quotient in repeat:\n",
    "        repeat.add(quotient)\n",
    "        numerator = remainder * base\n",
    "        quotient, remainder = divmod(numerator, denominator)\n",
    "        l.append(quotient)\n",
    "        if remainder == 0:\n",
    "            l.append(0)\n",
    "            break\n",
    "    return l"
   ]
  },
  {
   "cell_type": "code",
   "execution_count": 16,
   "id": "c366b1dc",
   "metadata": {
    "tags": []
   },
   "outputs": [
    {
     "data": {
      "text/plain": [
       "([30, 0], [2, 0])"
      ]
     },
     "execution_count": 16,
     "metadata": {},
     "output_type": "execute_result"
    }
   ],
   "source": [
    "inverse(2, 60), inverse(30, 60)"
   ]
  },
  {
   "cell_type": "markdown",
   "id": "22c40975-c18e-4fcf-8a6a-ea84629e712d",
   "metadata": {},
   "source": [
    "## 逆数表だった？"
   ]
  },
  {
   "cell_type": "markdown",
   "id": "cfc706e1-3bc4-49ae-9c72-ece5c44a9643",
   "metadata": {},
   "source": [
    "補足: \n",
    "\n",
    "|#1 |#2 |#3 |\n",
    "|:-:|:-:|:-:|\n",
    "|$$\\left(\\frac{d}{a}\\right)^2$$|$$b$$      |$$d$$      |\n",
    "|$$\\frac{1}{4}\\left(\\frac{p}{q}+\\frac{q}{p}\\right)^2$$|$$p^2-q^2$$|$$p^2+q^2$$|\n",
    "|$$1+{v_{1}}^2 = {v_{4}}^2$$|$$a\\cdot v_{1}$$|$$a\\cdot v_{4}$$|\n",
    "|$$1+\\left(\\frac{c}{2}\\right)^2$$|$$\\frac{a}{2}\\left(x-\\frac{1}{x}\\right)$$|$$\\frac{a}{2}\\left(x+\\frac{1}{x}\\right)$$|"
   ]
  },
  {
   "cell_type": "markdown",
   "id": "0ecb5fb2-b807-4aa9-acf2-aad7a3db5ebf",
   "metadata": {},
   "source": [
    "補足2: Plimpton 322の左側の欠落を補うと?\n",
    "\n",
    "|.  |.  |.  |.  |\n",
    "|:-:|:-:|:-:|:-:|\n",
    "|$$\\frac{d+b}{a}$$|$$\\frac{d-b}{a}$$|$$2 \\frac{b}{a}$$|$$a$$|\n",
    "|$$\\frac{p}{q}$$|$$\\frac{q}{p}$$|$$\\frac{p}{q}-\\frac{q}{p}$$|$$2qp$$|\n",
    "|$$v_{4}+v_{1}$$|$$v_{4}-v_{1}$$|$$2\\cdot v_{1}$$|$$a$$|\n",
    "|$$x$$|$$\\frac{1}{x}$$|$$c=x-\\frac{1}{x}$$|$$a$$|"
   ]
  },
  {
   "cell_type": "code",
   "execution_count": null,
   "id": "e4517537-b8b2-465e-af47-1e8ccc17755a",
   "metadata": {},
   "outputs": [],
   "source": []
  }
 ],
 "metadata": {
  "kernelspec": {
   "display_name": "Python 3 (ipykernel)",
   "language": "python",
   "name": "python3"
  },
  "language_info": {
   "codemirror_mode": {
    "name": "ipython",
    "version": 3
   },
   "file_extension": ".py",
   "mimetype": "text/x-python",
   "name": "python",
   "nbconvert_exporter": "python",
   "pygments_lexer": "ipython3",
   "version": "3.10.10"
  },
  "toc": {
   "base_numbering": 1,
   "nav_menu": {},
   "number_sections": true,
   "sideBar": true,
   "skip_h1_title": false,
   "title_cell": "Table of Contents",
   "title_sidebar": "Contents",
   "toc_cell": false,
   "toc_position": {},
   "toc_section_display": true,
   "toc_window_display": false
  }
 },
 "nbformat": 4,
 "nbformat_minor": 5
}
