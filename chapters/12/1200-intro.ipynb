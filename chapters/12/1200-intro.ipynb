{
 "cells": [
  {
   "cell_type": "markdown",
   "id": "55e9930a-b6c3-471d-a0c9-cd121b0e04a6",
   "metadata": {},
   "source": [
    "# ケプラーの法則"
   ]
  },
  {
   "cell_type": "markdown",
   "id": "7b85dd49-3436-4f52-b445-e4142d03a59f",
   "metadata": {},
   "source": [
    "* [Kepler's laws of planetary motion - Wikipedia](https://en.wikipedia.org/wiki/Kepler%27s_laws_of_planetary_motion#:~:text=The%20three%20laws%20state%20that,major%20axis%20of%20its%20orbit.)\n",
    "  1. (1609) 惑星の軌道は、太陽を2つの焦点のうちの1つとする楕円である。\n",
    "  2. (1609) 惑星と太陽を結ぶ線分は、等時間間隔で同じ面積を描いている。\n",
    "  3. (1619) 惑星の公転周期の2乗は、公転軌道の半長軸の長さの3乗に比例する。"
   ]
  },
  {
   "cell_type": "markdown",
   "id": "32653a5b-904e-47c1-aa4c-ec4a135398f8",
   "metadata": {},
   "source": [
    "\"Kepler had believed in the Copernican model of the Solar System, which called for circular orbits, but he could not reconcile Brahe's highly precise observations with a circular fit to Mars' orbit – Mars coincidentally having the highest eccentricity of all planets except Mercury.\""
   ]
  },
  {
   "cell_type": "markdown",
   "id": "1b53f849-fa71-41fd-b8ef-105e453e3769",
   "metadata": {},
   "source": [
    "「Keplerは、円軌道を仮定したCopernicusの太陽系モデルを信じていたが、Braheの高精度な観測結果は、火星の軌道を円形に適合することができなかった。偶然にも、火星は水星以外の惑星の中で最も離心率が高かったのである。」"
   ]
  },
  {
   "cell_type": "markdown",
   "id": "b541714e-72f2-41ce-ab75-a33b13a92b1b",
   "metadata": {},
   "source": [
    "* (1473 &ndash; 1543) [Nicolaus Copernicus - Wikipedia](https://en.wikipedia.org/wiki/Nicolaus_Copernicus) \n",
    "* (1546 &ndash; 1601) [Tycho Brahe - Wikipedia](https://en.wikipedia.org/wiki/Tycho_Brahe) \n",
    "* (1571 &ndash; 1630) [Johannes Kepler - Wikipedia](https://en.wikipedia.org/wiki/Johannes_Kepler) "
   ]
  },
  {
   "cell_type": "markdown",
   "id": "78d62775-8225-4a3a-b32e-b36795c70f46",
   "metadata": {},
   "source": [
    "## ケプラーの第一法則\n",
    "\n",
    "* (1609) The orbit of a planet is an ellipse with the Sun at one of the two foci."
   ]
  },
  {
   "cell_type": "markdown",
   "id": "e7953a47-5c26-4b63-bd78-b0a49306f921",
   "metadata": {},
   "source": [
    "![fig-01](https://upload.wikimedia.org/wikipedia/commons/9/98/Kepler_laws_diagram.svg)"
   ]
  },
  {
   "cell_type": "markdown",
   "id": "8451f86a-4adf-4924-bb11-4e7ed3abbe66",
   "metadata": {},
   "source": [
    "### コペルニクスの太陽系モデル\n",
    "\n",
    "* (1543) [Copernican heliocentrism - Wikipedia](https://en.wikipedia.org/wiki/Copernican_heliocentrism)"
   ]
  },
  {
   "cell_type": "markdown",
   "id": "03ebf7fe-2f8e-48da-a3e9-bc98d3571420",
   "metadata": {},
   "source": [
    "![fig-02](https://upload.wikimedia.org/wikipedia/commons/2/28/Copernican_heliocentrism_diagram-2.jpg)"
   ]
  },
  {
   "cell_type": "markdown",
   "id": "ce899bc0-546f-41c1-b368-ace68527cce5",
   "metadata": {},
   "source": [
    "### ティコ・ブラーエの太陽系モデル\n",
    "\n",
    "* (1587) [Tychonic system - Wikipedia](https://en.wikipedia.org/wiki/Tychonic_system)\n",
    "    - [Chapter 5 — Introducing the TYCHOS model – The TYCHOS](https://www.tychos.info/chapter-5/)"
   ]
  },
  {
   "cell_type": "markdown",
   "id": "bda9db51-4e23-4579-bdff-f6694b191530",
   "metadata": {},
   "source": [
    "![fig-03](https://upload.wikimedia.org/wikipedia/commons/9/91/Tychonian.png)"
   ]
  },
  {
   "cell_type": "markdown",
   "id": "997e494a-1dd5-4931-9dc0-771a7a798a73",
   "metadata": {},
   "source": [
    "#### 惑星の逆行\n",
    "\n",
    "* [Apparent retrograde motion - Wikipedia](https://en.wikipedia.org/wiki/Apparent_retrograde_motion)\n",
    "* [Visualizing Tycho Brahe's Mars Observations](http://www.pafko.com/tycho/observe.html)"
   ]
  },
  {
   "cell_type": "markdown",
   "id": "52170f17-912a-4819-b5c7-0f80ef2886b8",
   "metadata": {},
   "source": [
    "## ケプラーの第二法則\n",
    "\n",
    "* (1609) A line segment joining a planet and the Sun sweeps out equal areas during equal intervals of time."
   ]
  },
  {
   "cell_type": "markdown",
   "id": "de990109-3784-4385-a09a-0dbf94b220a9",
   "metadata": {},
   "source": [
    "![fig-01](https://upload.wikimedia.org/wikipedia/commons/9/98/Kepler_laws_diagram.svg)"
   ]
  },
  {
   "cell_type": "markdown",
   "id": "06ca71d8-a9a9-4669-833f-7ac935f1a403",
   "metadata": {},
   "source": [
    "* [Kepler's equation - Wikipedia](https://en.m.wikipedia.org/wiki/Kepler%27s_equation)\n",
    "  - [Kepler's Equation -- from Wolfram MathWorld](https://mathworld.wolfram.com/KeplersEquation.html)"
   ]
  },
  {
   "cell_type": "markdown",
   "id": "07a4ab7a-2ed8-41fd-aa2d-00253a442107",
   "metadata": {},
   "source": [
    "$$\n",
    "  M = E - e \\sin E\n",
    "$$"
   ]
  },
  {
   "cell_type": "markdown",
   "id": "ab8a5439-62f3-4537-999c-8bd409c28829",
   "metadata": {},
   "source": [
    "\"I am sufficiently satisfied that it (Kepler's equation) cannot be solved a priori, on account of the different nature of the arc and the sine. But if I am mistaken, and any one shall point out the way to me, he will be in my eyes the great Apollonius.\" by Johannes Kepler"
   ]
  },
  {
   "cell_type": "markdown",
   "id": "cc693d5e-f49f-4ed0-a219-3e974fd103de",
   "metadata": {},
   "source": [
    "「私は、円弧と正弦の性質の違いから、この方程式が原理的に解けないことに十分満足している。しかし、もし私が間違っていて、誰か私に道を指し示す者がいれば、その人は私の目には偉大なアポロニウスと映るだろう。」"
   ]
  },
  {
   "cell_type": "markdown",
   "id": "7ce64e39-2890-4dfb-b8fe-e65c43dca141",
   "metadata": {},
   "source": [
    "* [Transcendental equation - Wikipedia](https://en.wikipedia.org/wiki/Transcendental_equation) (超越方程式)"
   ]
  },
  {
   "cell_type": "code",
   "execution_count": null,
   "id": "2ca03fa8-6491-48cf-85da-20f29b54ed94",
   "metadata": {},
   "outputs": [],
   "source": []
  }
 ],
 "metadata": {
  "kernelspec": {
   "display_name": "Python 3 (ipykernel)",
   "language": "python",
   "name": "python3"
  },
  "language_info": {
   "codemirror_mode": {
    "name": "ipython",
    "version": 3
   },
   "file_extension": ".py",
   "mimetype": "text/x-python",
   "name": "python",
   "nbconvert_exporter": "python",
   "pygments_lexer": "ipython3",
   "version": "3.10.11"
  }
 },
 "nbformat": 4,
 "nbformat_minor": 5
}
