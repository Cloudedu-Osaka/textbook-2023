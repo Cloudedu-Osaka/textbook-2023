{
 "cells": [
  {
   "cell_type": "markdown",
   "id": "a383b728-7a3c-4ff7-8873-8229bc1706ca",
   "metadata": {},
   "source": [
    "# 数の組み合わせによる概念の生成\n",
    "\n",
    "* [Pythagorean tuning - Wikipedia](https://en.wikipedia.org/wiki/Pythagorean_tuning)\n",
    "* [Pythagorean triple - Wikipedia](https://en.wikipedia.org/wiki/Pythagorean_triple)\n",
    "    - [ピタゴラス数の求め方とその証明 | 高校数学の美しい物語](https://manabitimes.jp/math/661)\n",
    "    - [Plimpton 322 - Wikipedia](https://en.wikipedia.org/wiki/Plimpton_322)"
   ]
  },
  {
   "cell_type": "markdown",
   "id": "346a6f97-2412-4ed9-b167-03e44cc7dcfe",
   "metadata": {},
   "source": [
    "## ピタゴラス音律"
   ]
  },
  {
   "cell_type": "markdown",
   "id": "9e129502-ae25-4f00-a090-79d34e35d641",
   "metadata": {},
   "source": [
    "ピタゴラスは次の式を満たす $m, n \\geq 0 $ を探して $7$ 音階を定めた:\n",
    "\n",
    "$$ 1 \\leq \\left( \\frac{3}{2} \\right)^m \\times \\left( \\frac{1}{2} \\right)^{n} \\leq 2$$\n",
    "または\n",
    "$$ 1 \\leq \\left( \\frac{2}{3} \\right)^m \\times 2^n \\leq 2$$"
   ]
  },
  {
   "cell_type": "markdown",
   "id": "205bf901-844d-41c5-b2e5-b97ae90ba2c1",
   "metadata": {},
   "source": [
    "## ピタゴラスの三数"
   ]
  },
  {
   "cell_type": "markdown",
   "id": "ef2918c1-0f55-4bde-8312-1031ed418cf5",
   "metadata": {},
   "source": [
    "正の整数 $p$, $q$ $(p>q)$ に対して、\n",
    "\n",
    "$$\n",
    "  \\begin{align}\n",
    "    a & =  2 p q \\\\\n",
    "    b & =  p^2 - q^2\\\\\n",
    "    d & =  p^2 + q^2\\\\\n",
    "  \\end{align}\n",
    "$$\n",
    "\n",
    "とおくと、$a$, $b$, $d$ はピタゴラスの三数となり、$a^2+b^2 = d^2$ を満たす。"
   ]
  },
  {
   "cell_type": "markdown",
   "id": "0f37b644-2263-4e2b-ad88-06e9cb592dbf",
   "metadata": {},
   "source": [
    "解) 恒等式\n",
    "\n",
    "$$\n",
    "  (x-y)^2 = (x+y)^2 - 4xy\n",
    "$$\n",
    "\n",
    "に対して $x=p^2$, $y=q^2$ とおいて $p$, $q$ を消去する。\n",
    "\n",
    "$$\n",
    "  \\begin{align}\n",
    "    (p^2-q^2)^2 &= (p^2+q^2)^2 - 4p^2q^2 \\\\\n",
    "    b^2 &= d^2 - a^2\n",
    "  \\end{align}\n",
    "$$"
   ]
  },
  {
   "cell_type": "markdown",
   "id": "c0f694b4-976b-43b0-ada7-60d64309eb60",
   "metadata": {},
   "source": [
    "## 組み合わせ、重複を許す組み合わせ、順番を区別する重複を許す組み合わせ"
   ]
  },
  {
   "cell_type": "markdown",
   "id": "c9611b31-6223-4e88-a2af-e82b86cfa6eb",
   "metadata": {},
   "source": [
    "* [Combination - Wikipedia](https://en.wikipedia.org/wiki/Combination)\n",
    "     - [Combination - Wikipedia](https://en.wikipedia.org/wiki/Combination#Number_of_combinations_with_repetition)#Number_of_combinations_with_repetition\n",
    "     - [重複組合せの公式と例題（玉，整数解の個数） | 高校数学の美しい物語](https://manabitimes.jp/math/1101)"
   ]
  },
  {
   "cell_type": "code",
   "execution_count": 1,
   "id": "29043166-cbdd-4b53-be26-66618578f83e",
   "metadata": {
    "tags": []
   },
   "outputs": [
    {
     "data": {
      "text/markdown": [
       "組み合わせとは、与えられた集合から重複を許さずに一部の要素を選び出す方法の数を表す数学的な概念です。例えば、集合{A,B,C}から2つの要素を選び出す場合、可能な組み合わせは{A,B}、{A,C}、{B,C}の3つです。組み合わせの数は、n個の要素からr個の要素を選び出す場合、nCrと表記され、以下の式で計算されます：nCr = n! / (r! * (n-r)!)。ここで、n!はnの階乗を表し、r!はrの階乗を表します。"
      ],
      "text/plain": [
       "<IPython.core.display.Markdown object>"
      ]
     },
     "metadata": {},
     "output_type": "display_data"
    }
   ],
   "source": [
    "%%ai_ask\n",
    "組み合わせについて"
   ]
  },
  {
   "cell_type": "markdown",
   "id": "6d304a91-19f5-4f2d-bba6-b90d7d127a24",
   "metadata": {},
   "source": [
    "$${}_n \\mathrm{C}_{r}  = \\frac{n!}{r!  (n-r)!}$$"
   ]
  },
  {
   "cell_type": "markdown",
   "id": "02838396-df0d-4a4c-9301-ce3ab6ea1578",
   "metadata": {},
   "source": [
    "$${}_n \\mathrm{H}_r = {}_{n+r-1} \\mathrm{C}_r = \\frac{(n+r-1)!}{r! (n-1)!}$$"
   ]
  },
  {
   "cell_type": "code",
   "execution_count": 2,
   "id": "9cb4d35e-e065-43da-b1fd-a9366f65bb7b",
   "metadata": {
    "tags": []
   },
   "outputs": [
    {
     "data": {
      "text/markdown": [
       "Pythonでは、mathモジュールのcomb関数を使用して、組み合わせの数を求めることができます。comb関数は、n個の要素からr個の要素を選び出す場合の組み合わせの数を計算します。以下は、comb関数を使用して、5個の要素から3個の要素を選び出す場合の組み合わせの数を求める例です。\n",
       "\n",
       "```python\n",
       "import math\n",
       "\n",
       "n = 5\n",
       "r = 3\n",
       "\n",
       "combinations = math.comb(n, r)\n",
       "\n",
       "print(combinations)\n",
       "```\n",
       "\n",
       "このコードを実行すると、組み合わせの数である10が出力されます。"
      ],
      "text/plain": [
       "<IPython.core.display.Markdown object>"
      ]
     },
     "metadata": {},
     "output_type": "display_data"
    }
   ],
   "source": [
    "%%ai_continue\n",
    "pythonで組み合わせの数を求める"
   ]
  },
  {
   "cell_type": "code",
   "execution_count": 22,
   "id": "1d3704a1-f04d-4e47-82ca-2fde3e4ede95",
   "metadata": {
    "tags": []
   },
   "outputs": [
    {
     "data": {
      "text/plain": [
       "\u001b[0;31mSignature:\u001b[0m \u001b[0mmath\u001b[0m\u001b[0;34m.\u001b[0m\u001b[0mcomb\u001b[0m\u001b[0;34m(\u001b[0m\u001b[0mn\u001b[0m\u001b[0;34m,\u001b[0m \u001b[0mk\u001b[0m\u001b[0;34m,\u001b[0m \u001b[0;34m/\u001b[0m\u001b[0;34m)\u001b[0m\u001b[0;34m\u001b[0m\u001b[0;34m\u001b[0m\u001b[0m\n",
       "\u001b[0;31mDocstring:\u001b[0m\n",
       "Number of ways to choose k items from n items without repetition and without order.\n",
       "\n",
       "Evaluates to n! / (k! * (n - k)!) when k <= n and evaluates\n",
       "to zero when k > n.\n",
       "\n",
       "Also called the binomial coefficient because it is equivalent\n",
       "to the coefficient of k-th term in polynomial expansion of the\n",
       "expression (1 + x)**n.\n",
       "\n",
       "Raises TypeError if either of the arguments are not integers.\n",
       "Raises ValueError if either of the arguments are negative.\n",
       "\u001b[0;31mType:\u001b[0m      builtin_function_or_method\n"
      ]
     },
     "metadata": {},
     "output_type": "display_data"
    }
   ],
   "source": [
    "math.comb?"
   ]
  },
  {
   "cell_type": "code",
   "execution_count": 8,
   "id": "fea4b13d-ad6a-40ae-ae98-0eee8e626e81",
   "metadata": {
    "tags": []
   },
   "outputs": [
    {
     "name": "stdout",
     "output_type": "stream",
     "text": [
      "10\n"
     ]
    }
   ],
   "source": [
    "import math\n",
    "\n",
    "n = 5\n",
    "r = 3\n",
    "\n",
    "combinations = math.comb(n, r)\n",
    "\n",
    "print(combinations)"
   ]
  },
  {
   "cell_type": "code",
   "execution_count": 3,
   "id": "1f232f10-ca50-4812-bf75-b65d560e3b84",
   "metadata": {
    "tags": []
   },
   "outputs": [
    {
     "data": {
      "text/markdown": [
       "Pythonでは、itertoolsモジュールのcombinations関数を使用して、与えられたリストからr個の要素を選び出す組み合わせを生成することができます。以下は、combinations関数を使用して、リスト[1, 2, 3, 4]から2つの要素を選び出す組み合わせを生成する例です。\n",
       "\n",
       "```python\n",
       "import itertools\n",
       "\n",
       "lst = [1, 2, 3, 4]\n",
       "r = 2\n",
       "\n",
       "combinations = list(itertools.combinations(lst, r))\n",
       "\n",
       "print(combinations)\n",
       "```\n",
       "\n",
       "このコードを実行すると、以下のように、リストから2つの要素を選び出す組み合わせが生成されます。\n",
       "\n",
       "```\n",
       "[(1, 2), (1, 3), (1, 4), (2, 3), (2, 4), (3, 4)]\n",
       "```\n",
       "\n",
       "combinations関数は、生成された組み合わせをタプルの形式で返します。リストとして取得するためには、list関数で囲む必要があります。"
      ],
      "text/plain": [
       "<IPython.core.display.Markdown object>"
      ]
     },
     "metadata": {},
     "output_type": "display_data"
    }
   ],
   "source": [
    "%%ai_continue\n",
    "pythonで組み合わせを求める"
   ]
  },
  {
   "cell_type": "code",
   "execution_count": 4,
   "id": "6dbbdd9e-caf3-47f1-b136-1a206b1af9a7",
   "metadata": {
    "tags": []
   },
   "outputs": [
    {
     "name": "stdout",
     "output_type": "stream",
     "text": [
      "[(1, 2), (1, 3), (1, 4), (2, 3), (2, 4), (3, 4)]\n"
     ]
    }
   ],
   "source": [
    "import itertools\n",
    "\n",
    "lst = [1, 2, 3, 4]\n",
    "r = 2\n",
    "\n",
    "combinations = list(itertools.combinations(lst, r))\n",
    "\n",
    "print(combinations)"
   ]
  },
  {
   "cell_type": "code",
   "execution_count": 5,
   "id": "9c3527a3-91eb-4986-8bfa-189b13b2143e",
   "metadata": {
    "tags": []
   },
   "outputs": [
    {
     "data": {
      "text/plain": [
       "6"
      ]
     },
     "execution_count": 5,
     "metadata": {},
     "output_type": "execute_result"
    }
   ],
   "source": [
    "len(combinations)"
   ]
  },
  {
   "cell_type": "code",
   "execution_count": 7,
   "id": "adea7487-0a49-43b3-a04c-875530874dfe",
   "metadata": {
    "tags": []
   },
   "outputs": [
    {
     "data": {
      "text/plain": [
       "6"
      ]
     },
     "execution_count": 7,
     "metadata": {},
     "output_type": "execute_result"
    }
   ],
   "source": [
    "math.comb(4, 2)"
   ]
  },
  {
   "cell_type": "code",
   "execution_count": 9,
   "id": "7f350729-0230-4cd2-9423-b037194857a8",
   "metadata": {
    "tags": []
   },
   "outputs": [
    {
     "data": {
      "text/markdown": [
       "重複を許す場合は、itertoolsモジュールのproduct関数を使用して、与えられたリストから重複を許してr個の要素を選び出す組み合わせを生成することができます。以下は、product関数を使用して、リスト[1, 2, 3]から3つの要素を選び出す重複を許す組み合わせを生成する例です。\n",
       "\n",
       "```python\n",
       "import itertools\n",
       "\n",
       "lst = [1, 2, 3]\n",
       "r = 3\n",
       "\n",
       "combinations = list(itertools.product(lst, repeat=r))\n",
       "\n",
       "print(combinations)\n",
       "```\n",
       "\n",
       "このコードを実行すると、以下のように、リストから3つの要素を選び出す重複を許す組み合わせが生成されます。\n",
       "\n",
       "```\n",
       "[(1, 1, 1), (1, 1, 2), (1, 1, 3), (1, 2, 1), (1, 2, 2), (1, 2, 3), (1, 3, 1), (1, 3, 2), (1, 3, 3), (2, 1, 1), (2, 1, 2), (2, 1, 3), (2, 2, 1), (2, 2, 2), (2, 2, 3), (2, 3, 1), (2, 3, 2), (2, 3, 3), (3, 1, 1), (3, 1, 2), (3, 1, 3), (3, 2, 1), (3, 2, 2), (3, 2, 3), (3, 3, 1), (3, 3, 2), (3, 3, 3)]\n",
       "```\n",
       "\n",
       "product関数は、生成された組み合わせをタプルの形式で返します。リストとして取得するためには、list関数で囲む必要があります。"
      ],
      "text/plain": [
       "<IPython.core.display.Markdown object>"
      ]
     },
     "metadata": {},
     "output_type": "display_data"
    }
   ],
   "source": [
    "%%ai_continue\n",
    "重複を許すとき"
   ]
  },
  {
   "cell_type": "code",
   "execution_count": 15,
   "id": "40cacf7a-e7f7-42c0-ba87-6057b232ab2c",
   "metadata": {
    "tags": []
   },
   "outputs": [
    {
     "name": "stdout",
     "output_type": "stream",
     "text": [
      "[(1, 1), (1, 2), (1, 3), (1, 4), (2, 1), (2, 2), (2, 3), (2, 4), (3, 1), (3, 2), (3, 3), (3, 4), (4, 1), (4, 2), (4, 3), (4, 4)]\n"
     ]
    }
   ],
   "source": [
    "lst = [1, 2, 3, 4]\n",
    "r = 2\n",
    "\n",
    "combinations = list(itertools.product(lst, repeat=r))\n",
    "\n",
    "print(combinations)"
   ]
  },
  {
   "cell_type": "code",
   "execution_count": 16,
   "id": "1bf4a15a-d4a9-4a1c-aa91-52e7113411e7",
   "metadata": {
    "tags": []
   },
   "outputs": [
    {
     "data": {
      "text/plain": [
       "16"
      ]
     },
     "execution_count": 16,
     "metadata": {},
     "output_type": "execute_result"
    }
   ],
   "source": [
    "len(combinations)"
   ]
  },
  {
   "cell_type": "code",
   "execution_count": 17,
   "id": "6a5fce33-58a0-4d5d-8432-1765c8559c62",
   "metadata": {
    "tags": []
   },
   "outputs": [],
   "source": [
    "combinations = list(itertools.combinations_with_replacement(lst, r))"
   ]
  },
  {
   "cell_type": "code",
   "execution_count": 18,
   "id": "643f3f33-bc87-496b-a88e-beb8ca8e38e5",
   "metadata": {
    "tags": []
   },
   "outputs": [
    {
     "data": {
      "text/plain": [
       "[(1, 1),\n",
       " (1, 2),\n",
       " (1, 3),\n",
       " (1, 4),\n",
       " (2, 2),\n",
       " (2, 3),\n",
       " (2, 4),\n",
       " (3, 3),\n",
       " (3, 4),\n",
       " (4, 4)]"
      ]
     },
     "execution_count": 18,
     "metadata": {},
     "output_type": "execute_result"
    }
   ],
   "source": [
    "combinations"
   ]
  },
  {
   "cell_type": "code",
   "execution_count": 19,
   "id": "20d92404-a03e-440f-a4a0-f237c378900a",
   "metadata": {
    "tags": []
   },
   "outputs": [
    {
     "data": {
      "text/plain": [
       "10"
      ]
     },
     "execution_count": 19,
     "metadata": {},
     "output_type": "execute_result"
    }
   ],
   "source": [
    "len(combinations)"
   ]
  },
  {
   "cell_type": "code",
   "execution_count": 20,
   "id": "cb92976a-ef40-4ccd-bd66-8acc628683a3",
   "metadata": {
    "tags": []
   },
   "outputs": [
    {
     "data": {
      "text/markdown": [
       "重複組み合わせとは、与えられた集合から重複を許してr個の要素を選び出す方法の数を表す数学的な概念です。一方、組み合わせは、与えられた集合から重複を許さずにr個の要素を選び出す方法の数を表します。\n",
       "\n",
       "例えば、集合{A,B,C}から2つの要素を選び出す場合、重複組み合わせでは{A,A}や{A,B}、{B,B}などの重複を許した組み合わせも含まれますが、組み合わせでは重複を許さずに{A,B}、{A,C}、{B,C}の3つの組み合わせが考えられます。\n",
       "\n",
       "重複組み合わせを求める場合は、itertoolsモジュールのproduct関数を使用して、与えられた集合から重複を許してr個の要素を選び出す方法の数を求めることができます。組み合わせを求める場合は、mathモジュールのcomb関数を使用して、与えられた集合から重複を許さずにr個の要素を選び出す方法の数を求めることができます。"
      ],
      "text/plain": [
       "<IPython.core.display.Markdown object>"
      ]
     },
     "metadata": {},
     "output_type": "display_data"
    }
   ],
   "source": [
    "%%ai_continue\n",
    "重複組み合わせとの違い"
   ]
  },
  {
   "cell_type": "code",
   "execution_count": 22,
   "id": "33a4303a-b1a5-4861-b49d-0af4f08d46c8",
   "metadata": {
    "tags": []
   },
   "outputs": [
    {
     "data": {
      "text/markdown": [
       "重複組み合わせは、与えられた集合から重複を許してr個の要素を選び出す方法の数を表します。順番を区別しないため、同じ要素の組み合わせが重複して数えられます。\n",
       "\n",
       "Pythonでは、itertoolsモジュールのcombinations_with_replacement関数を使用して、与えられたリストから重複を許してr個の要素を選び出す重複組み合わせを生成することができます。以下は、combinations_with_replacement関数を使用して、リスト[1, 2, 3]から2つの要素を選び出す重複組み合わせを生成する例です。\n",
       "\n",
       "```python\n",
       "import itertools\n",
       "\n",
       "lst = [1, 2, 3]\n",
       "r = 2\n",
       "\n",
       "combinations = list(itertools.combinations_with_replacement(lst, r))\n",
       "\n",
       "print(combinations)\n",
       "```\n",
       "\n",
       "このコードを実行すると、以下のように、リストから2つの要素を選び出す重複組み合わせが生成されます。\n",
       "\n",
       "```\n",
       "[(1, 1), (1, 2), (1, 3), (2, 2), (2, 3), (3, 3)]\n",
       "```\n",
       "\n",
       "combinations_with_replacement関数は、生成された組み合わせをタプルの形式で返します。リストとして取得するためには、list関数で囲む必要があります。"
      ],
      "text/plain": [
       "<IPython.core.display.Markdown object>"
      ]
     },
     "metadata": {},
     "output_type": "display_data"
    }
   ],
   "source": [
    "%%ai_continue\n",
    "重複組み合わせは順番を区別しない"
   ]
  },
  {
   "cell_type": "code",
   "execution_count": 23,
   "id": "111f5f7d-9f18-4e8b-99a9-65aa6f70811f",
   "metadata": {
    "tags": []
   },
   "outputs": [
    {
     "data": {
      "text/markdown": [
       "itertools.product()関数を使用して、与えられたリストからr個の要素を選び出す重複を許す組み合わせを生成する場合、生成される組み合わせには順番が含まれます。同じ要素の組み合わせが重複して数えられるため、同じ要素を除くためには、生成された組み合わせを集合(set)に変換することができます。\n",
       "\n",
       "以下は、リスト[1, 2, 3]から2つの要素を選び出す重複を許す組み合わせを生成し、順番を区別せず同じものを除く方法の例です。\n",
       "\n",
       "```python\n",
       "import itertools\n",
       "\n",
       "lst = [1, 2, 3]\n",
       "r = 2\n",
       "\n",
       "combinations = itertools.product(lst, repeat=r)\n",
       "unique_combinations = set(tuple(sorted(c)) for c in combinations)\n",
       "\n",
       "print(unique_combinations)\n",
       "```\n",
       "\n",
       "このコードを実行すると、以下のように、リストから2つの要素を選び出す重複を許す組み合わせが生成され、順番を区別せず同じものが除かれた組み合わせが出力されます。\n",
       "\n",
       "```\n",
       "{(1, 1), (1, 2), (1, 3), (2, 2), (2, 3), (3, 3)}\n",
       "```\n",
       "\n",
       "この例では、生成された組み合わせをタプルの形式で保持し、各タプルをソートしてから集合に追加しています。これにより、同じ要素の組み合わせが重複して数えられることがなくなります。"
      ],
      "text/plain": [
       "<IPython.core.display.Markdown object>"
      ]
     },
     "metadata": {},
     "output_type": "display_data"
    }
   ],
   "source": [
    "%%ai_continue\n",
    "itertools.product() から順番を区別せず同じものを除く"
   ]
  },
  {
   "cell_type": "code",
   "execution_count": 24,
   "id": "84d75ee1-a4e1-45d8-adc0-176d936c2008",
   "metadata": {
    "tags": []
   },
   "outputs": [
    {
     "data": {
      "text/markdown": [
       "Pythonのsetは、重複を許さずに要素を格納することができるデータ型です。setは、{}を使用して作成することができます。以下は、setを作成する例です。\n",
       "\n",
       "```python\n",
       "my_set = {1, 2, 3}\n",
       "```\n",
       "\n",
       "setは、リストやタプルなどのイテラブルなオブジェクトから作成することもできます。以下は、リストからsetを作成する例です。\n",
       "\n",
       "```python\n",
       "my_list = [1, 2, 3, 3, 2, 1]\n",
       "my_set = set(my_list)\n",
       "```\n",
       "\n",
       "この場合、my_setには重複を許さずに要素が格納されます。\n",
       "\n",
       "setは、要素の追加や削除、和集合・積集合・差集合などの演算が可能です。以下は、setの演算の例です。\n",
       "\n",
       "```python\n",
       "# setの作成\n",
       "set1 = {1, 2, 3}\n",
       "set2 = {2, 3, 4}\n",
       "\n",
       "# 要素の追加\n",
       "set1.add(4)\n",
       "print(set1)  # {1, 2, 3, 4}\n",
       "\n",
       "# 要素の削除\n",
       "set1.remove(4)\n",
       "print(set1)  # {1, 2, 3}\n",
       "\n",
       "# 和集合\n",
       "union_set = set1.union(set2)\n",
       "print(union_set)  # {1, 2, 3, 4}\n",
       "\n",
       "# 積集合\n",
       "intersection_set = set1.intersection(set2)\n",
       "print(intersection_set)  # {2, 3}\n",
       "\n",
       "# 差集合\n",
       "difference_set = set1.difference(set2)\n",
       "print(difference_set)  # {1}\n",
       "```\n",
       "\n",
       "setは、重複を許さずに要素を格納するため、集合演算に便利です。また、in演算子を使用して、要素がsetに含まれるかどうかを簡単に判定することができます。"
      ],
      "text/plain": [
       "<IPython.core.display.Markdown object>"
      ]
     },
     "metadata": {},
     "output_type": "display_data"
    }
   ],
   "source": [
    "%%ai_continue\n",
    "pythonのsetについて詳しく"
   ]
  },
  {
   "cell_type": "code",
   "execution_count": 30,
   "id": "4c4d325b-1c84-4559-8b15-c4ef2f18cb50",
   "metadata": {
    "tags": []
   },
   "outputs": [
    {
     "data": {
      "text/plain": [
       "{(0, 0), (0, 1), (0, 2), (0, 3), (1, 1), (1, 2), (1, 3), (2, 2), (2, 3)}"
      ]
     },
     "execution_count": 30,
     "metadata": {},
     "output_type": "execute_result"
    }
   ],
   "source": [
    "set(tuple(sorted(x)) for x in itertools.product(range(3), range(4)))"
   ]
  },
  {
   "cell_type": "code",
   "execution_count": null,
   "id": "92e51b11-6725-4e6b-ba52-97a6c9691d92",
   "metadata": {},
   "outputs": [],
   "source": []
  }
 ],
 "metadata": {
  "kernelspec": {
   "display_name": "Python 3 (ipykernel)",
   "language": "python",
   "name": "python3"
  },
  "language_info": {
   "codemirror_mode": {
    "name": "ipython",
    "version": 3
   },
   "file_extension": ".py",
   "mimetype": "text/x-python",
   "name": "python",
   "nbconvert_exporter": "python",
   "pygments_lexer": "ipython3",
   "version": "3.10.10"
  }
 },
 "nbformat": 4,
 "nbformat_minor": 5
}
