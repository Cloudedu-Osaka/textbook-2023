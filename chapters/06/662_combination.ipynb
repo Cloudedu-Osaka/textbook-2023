{
 "cells": [
  {
   "cell_type": "markdown",
   "id": "35d5e6c6-4e2f-4656-b5cb-c1b3447041bc",
   "metadata": {
    "tags": []
   },
   "source": [
    "# 課題"
   ]
  },
  {
   "cell_type": "markdown",
   "id": "62e7317e-51e9-4da0-a2ac-c5888b204c07",
   "metadata": {},
   "source": [
    "## 組み合わせ: ピタゴラスの三数"
   ]
  },
  {
   "cell_type": "markdown",
   "id": "e510d326-d66f-4d4f-b296-e646c9e9b11a",
   "metadata": {},
   "source": [
    "正の整数 $p$, $q$ $(p>q)$ に対して、\n",
    "\n",
    "$$\n",
    "  \\begin{align}\n",
    "    a & =  2 p q \\\\\n",
    "    b & =  p^2 - q^2\\\\\n",
    "    d & =  p^2 + q^2\\\\\n",
    "  \\end{align}\n",
    "$$\n",
    "\n",
    "とおくと、$a$, $b$, $d$ はピタゴラスの三数となり、$a^2+b^2 = d^2$ を満たす。"
   ]
  },
  {
   "cell_type": "markdown",
   "id": "575b13a2-7964-48e8-bb25-de74c58bc8df",
   "metadata": {},
   "source": [
    "解) 恒等式\n",
    "\n",
    "$$\n",
    "  (x-y)^2 = (x+y)^2 - 4xy\n",
    "$$\n",
    "\n",
    "に対して $x=p^2$, $y=q^2$ とおいて $p$, $q$ を消去する。\n",
    "\n",
    "$$\n",
    "  \\begin{align}\n",
    "    (p^2-q^2)^2 &= (p^2+q^2)^2 - 4p^2q^2 \\\\\n",
    "    b^2 &= d^2 - a^2\n",
    "  \\end{align}\n",
    "$$"
   ]
  },
  {
   "cell_type": "markdown",
   "id": "8bf72825-5298-49b8-b577-b1570c80e29f",
   "metadata": {},
   "source": [
    "## Plimpton 322の数表を生成する"
   ]
  },
  {
   "cell_type": "code",
   "execution_count": 2,
   "id": "10543e43-ebf5-4b8f-9531-cae378133945",
   "metadata": {
    "tags": []
   },
   "outputs": [],
   "source": [
    "import itertools\n",
    "import math\n",
    "import numpy as np"
   ]
  },
  {
   "cell_type": "markdown",
   "id": "bd2fe7e4-6ded-4200-bcf9-c58e1109a85c",
   "metadata": {},
   "source": [
    "### 60進法の基数を組み合わせた合成数を生成する\n",
    "\n",
    "* [Composite number - Wikipedia](https://en.wikipedia.org/wiki/Composite_number)"
   ]
  },
  {
   "cell_type": "code",
   "execution_count": 9,
   "id": "d1f52df9-0262-4d08-b492-b9e6da760e92",
   "metadata": {
    "tags": []
   },
   "outputs": [
    {
     "data": {
      "text/plain": [
       "[(2, 2, 2),\n",
       " (2, 2, 3),\n",
       " (2, 2, 5),\n",
       " (2, 3, 3),\n",
       " (2, 3, 5),\n",
       " (2, 5, 5),\n",
       " (3, 3, 3),\n",
       " (3, 3, 5),\n",
       " (3, 5, 5),\n",
       " (5, 5, 5)]"
      ]
     },
     "execution_count": 9,
     "metadata": {},
     "output_type": "execute_result"
    }
   ],
   "source": [
    "list(itertools.combinations_with_replacement((2, 3, 5), 3))"
   ]
  },
  {
   "cell_type": "code",
   "execution_count": 9,
   "id": "d8737acd",
   "metadata": {
    "tags": []
   },
   "outputs": [
    {
     "data": {
      "text/plain": [
       "[(2, 2, 2),\n",
       " (2, 2, 3),\n",
       " (2, 2, 5),\n",
       " (2, 3, 3),\n",
       " (2, 3, 5),\n",
       " (2, 5, 5),\n",
       " (3, 3, 3),\n",
       " (3, 3, 5),\n",
       " (3, 5, 5),\n",
       " (5, 5, 5)]"
      ]
     },
     "execution_count": 9,
     "metadata": {},
     "output_type": "execute_result"
    }
   ],
   "source": [
    "list(itertools.combinations_with_replacement((2, 3, 5), 3))"
   ]
  },
  {
   "cell_type": "code",
   "execution_count": 9,
   "id": "f92e769e",
   "metadata": {
    "tags": []
   },
   "outputs": [
    {
     "data": {
      "text/plain": [
       "[(2, 2, 2),\n",
       " (2, 2, 3),\n",
       " (2, 2, 5),\n",
       " (2, 3, 3),\n",
       " (2, 3, 5),\n",
       " (2, 5, 5),\n",
       " (3, 3, 3),\n",
       " (3, 3, 5),\n",
       " (3, 5, 5),\n",
       " (5, 5, 5)]"
      ]
     },
     "execution_count": 9,
     "metadata": {},
     "output_type": "execute_result"
    }
   ],
   "source": [
    "list(itertools.combinations_with_replacement((2, 3, 5), 3))"
   ]
  },
  {
   "cell_type": "code",
   "execution_count": 9,
   "id": "33ee376b",
   "metadata": {
    "tags": []
   },
   "outputs": [
    {
     "data": {
      "text/plain": [
       "[(2, 2, 2),\n",
       " (2, 2, 3),\n",
       " (2, 2, 5),\n",
       " (2, 3, 3),\n",
       " (2, 3, 5),\n",
       " (2, 5, 5),\n",
       " (3, 3, 3),\n",
       " (3, 3, 5),\n",
       " (3, 5, 5),\n",
       " (5, 5, 5)]"
      ]
     },
     "execution_count": 9,
     "metadata": {},
     "output_type": "execute_result"
    }
   ],
   "source": [
    "list(itertools.combinations_with_replacement((2, 3, 5), 3))"
   ]
  },
  {
   "cell_type": "code",
   "execution_count": 13,
   "id": "9bbd410f-9ebf-44a2-bb26-2e454d745d76",
   "metadata": {
    "tags": []
   },
   "outputs": [
    {
     "data": {
      "text/plain": [
       "[(),\n",
       " (2,),\n",
       " (3,),\n",
       " (5,),\n",
       " (2, 2),\n",
       " (2, 3),\n",
       " (2, 5),\n",
       " (3, 3),\n",
       " (3, 5),\n",
       " (5, 5),\n",
       " (2, 2, 2),\n",
       " (2, 2, 3),\n",
       " (2, 2, 5),\n",
       " (2, 3, 3),\n",
       " (2, 3, 5),\n",
       " (2, 5, 5),\n",
       " (3, 3, 3),\n",
       " (3, 3, 5),\n",
       " (3, 5, 5),\n",
       " (5, 5, 5)]"
      ]
     },
     "execution_count": 13,
     "metadata": {},
     "output_type": "execute_result"
    }
   ],
   "source": [
    "[t\n",
    " for n in range(4)\n",
    " for t in itertools.combinations_with_replacement((2, 3, 5), n)]"
   ]
  },
  {
   "cell_type": "code",
   "execution_count": 12,
   "id": "d321d396-b8f4-46cc-b414-24a8bf5aab22",
   "metadata": {
    "tags": []
   },
   "outputs": [
    {
     "data": {
      "text/plain": [
       "[1, 2, 3, 4, 5, 6, 8, 9, 10, 12, 15, 18, 20, 25, 27, 30, 45, 50, 75, 125]"
      ]
     },
     "execution_count": 12,
     "metadata": {},
     "output_type": "execute_result"
    }
   ],
   "source": [
    "pp = sorted([int(np.prod(t))\n",
    "            for n in range(4)\n",
    "            for t in itertools.combinations_with_replacement((2, 3, 5), n)])\n",
    "pp"
   ]
  },
  {
   "cell_type": "code",
   "execution_count": 14,
   "id": "aedb0343-de3a-43f5-a52d-aa8e0f38c5e3",
   "metadata": {
    "tags": []
   },
   "outputs": [
    {
     "data": {
      "text/plain": [
       "\u001b[0;31mSignature:\u001b[0m\n",
       "\u001b[0mnp\u001b[0m\u001b[0;34m.\u001b[0m\u001b[0mprod\u001b[0m\u001b[0;34m(\u001b[0m\u001b[0;34m\u001b[0m\n",
       "\u001b[0;34m\u001b[0m    \u001b[0ma\u001b[0m\u001b[0;34m,\u001b[0m\u001b[0;34m\u001b[0m\n",
       "\u001b[0;34m\u001b[0m    \u001b[0maxis\u001b[0m\u001b[0;34m=\u001b[0m\u001b[0;32mNone\u001b[0m\u001b[0;34m,\u001b[0m\u001b[0;34m\u001b[0m\n",
       "\u001b[0;34m\u001b[0m    \u001b[0mdtype\u001b[0m\u001b[0;34m=\u001b[0m\u001b[0;32mNone\u001b[0m\u001b[0;34m,\u001b[0m\u001b[0;34m\u001b[0m\n",
       "\u001b[0;34m\u001b[0m    \u001b[0mout\u001b[0m\u001b[0;34m=\u001b[0m\u001b[0;32mNone\u001b[0m\u001b[0;34m,\u001b[0m\u001b[0;34m\u001b[0m\n",
       "\u001b[0;34m\u001b[0m    \u001b[0mkeepdims\u001b[0m\u001b[0;34m=\u001b[0m\u001b[0;34m<\u001b[0m\u001b[0mno\u001b[0m \u001b[0mvalue\u001b[0m\u001b[0;34m>\u001b[0m\u001b[0;34m,\u001b[0m\u001b[0;34m\u001b[0m\n",
       "\u001b[0;34m\u001b[0m    \u001b[0minitial\u001b[0m\u001b[0;34m=\u001b[0m\u001b[0;34m<\u001b[0m\u001b[0mno\u001b[0m \u001b[0mvalue\u001b[0m\u001b[0;34m>\u001b[0m\u001b[0;34m,\u001b[0m\u001b[0;34m\u001b[0m\n",
       "\u001b[0;34m\u001b[0m    \u001b[0mwhere\u001b[0m\u001b[0;34m=\u001b[0m\u001b[0;34m<\u001b[0m\u001b[0mno\u001b[0m \u001b[0mvalue\u001b[0m\u001b[0;34m>\u001b[0m\u001b[0;34m,\u001b[0m\u001b[0;34m\u001b[0m\n",
       "\u001b[0;34m\u001b[0m\u001b[0;34m)\u001b[0m\u001b[0;34m\u001b[0m\u001b[0;34m\u001b[0m\u001b[0m\n",
       "\u001b[0;31mDocstring:\u001b[0m\n",
       "Return the product of array elements over a given axis.\n",
       "\n",
       "Parameters\n",
       "----------\n",
       "a : array_like\n",
       "    Input data.\n",
       "axis : None or int or tuple of ints, optional\n",
       "    Axis or axes along which a product is performed.  The default,\n",
       "    axis=None, will calculate the product of all the elements in the\n",
       "    input array. If axis is negative it counts from the last to the\n",
       "    first axis.\n",
       "\n",
       "    .. versionadded:: 1.7.0\n",
       "\n",
       "    If axis is a tuple of ints, a product is performed on all of the\n",
       "    axes specified in the tuple instead of a single axis or all the\n",
       "    axes as before.\n",
       "dtype : dtype, optional\n",
       "    The type of the returned array, as well as of the accumulator in\n",
       "    which the elements are multiplied.  The dtype of `a` is used by\n",
       "    default unless `a` has an integer dtype of less precision than the\n",
       "    default platform integer.  In that case, if `a` is signed then the\n",
       "    platform integer is used while if `a` is unsigned then an unsigned\n",
       "    integer of the same precision as the platform integer is used.\n",
       "out : ndarray, optional\n",
       "    Alternative output array in which to place the result. It must have\n",
       "    the same shape as the expected output, but the type of the output\n",
       "    values will be cast if necessary.\n",
       "keepdims : bool, optional\n",
       "    If this is set to True, the axes which are reduced are left in the\n",
       "    result as dimensions with size one. With this option, the result\n",
       "    will broadcast correctly against the input array.\n",
       "\n",
       "    If the default value is passed, then `keepdims` will not be\n",
       "    passed through to the `prod` method of sub-classes of\n",
       "    `ndarray`, however any non-default value will be.  If the\n",
       "    sub-class' method does not implement `keepdims` any\n",
       "    exceptions will be raised.\n",
       "initial : scalar, optional\n",
       "    The starting value for this product. See `~numpy.ufunc.reduce` for details.\n",
       "\n",
       "    .. versionadded:: 1.15.0\n",
       "\n",
       "where : array_like of bool, optional\n",
       "    Elements to include in the product. See `~numpy.ufunc.reduce` for details.\n",
       "\n",
       "    .. versionadded:: 1.17.0\n",
       "\n",
       "Returns\n",
       "-------\n",
       "product_along_axis : ndarray, see `dtype` parameter above.\n",
       "    An array shaped as `a` but with the specified axis removed.\n",
       "    Returns a reference to `out` if specified.\n",
       "\n",
       "See Also\n",
       "--------\n",
       "ndarray.prod : equivalent method\n",
       ":ref:`ufuncs-output-type`\n",
       "\n",
       "Notes\n",
       "-----\n",
       "Arithmetic is modular when using integer types, and no error is\n",
       "raised on overflow.  That means that, on a 32-bit platform:\n",
       "\n",
       ">>> x = np.array([536870910, 536870910, 536870910, 536870910])\n",
       ">>> np.prod(x)\n",
       "16 # may vary\n",
       "\n",
       "The product of an empty array is the neutral element 1:\n",
       "\n",
       ">>> np.prod([])\n",
       "1.0\n",
       "\n",
       "Examples\n",
       "--------\n",
       "By default, calculate the product of all elements:\n",
       "\n",
       ">>> np.prod([1.,2.])\n",
       "2.0\n",
       "\n",
       "Even when the input array is two-dimensional:\n",
       "\n",
       ">>> np.prod([[1.,2.],[3.,4.]])\n",
       "24.0\n",
       "\n",
       "But we can also specify the axis over which to multiply:\n",
       "\n",
       ">>> np.prod([[1.,2.],[3.,4.]], axis=1)\n",
       "array([  2.,  12.])\n",
       "\n",
       "Or select specific elements to include:\n",
       "\n",
       ">>> np.prod([1., np.nan, 3.], where=[True, False, True])\n",
       "3.0\n",
       "\n",
       "If the type of `x` is unsigned, then the output type is\n",
       "the unsigned platform integer:\n",
       "\n",
       ">>> x = np.array([1, 2, 3], dtype=np.uint8)\n",
       ">>> np.prod(x).dtype == np.uint\n",
       "True\n",
       "\n",
       "If `x` is of a signed integer type, then the output type\n",
       "is the default platform integer:\n",
       "\n",
       ">>> x = np.array([1, 2, 3], dtype=np.int8)\n",
       ">>> np.prod(x).dtype == int\n",
       "True\n",
       "\n",
       "You can also start the product with a value other than one:\n",
       "\n",
       ">>> np.prod([1, 2], initial=5)\n",
       "10\n",
       "\u001b[0;31mFile:\u001b[0m      /opt/conda/lib/python3.10/site-packages/numpy/core/fromnumeric.py\n",
       "\u001b[0;31mType:\u001b[0m      function\n"
      ]
     },
     "metadata": {},
     "output_type": "display_data"
    }
   ],
   "source": [
    "np.prod?"
   ]
  },
  {
   "cell_type": "markdown",
   "id": "0b6dc3e0-ece2-44be-8fde-e1be75202ac8",
   "metadata": {},
   "source": [
    "### 合成数の組み合わせ (直積) を作る"
   ]
  },
  {
   "cell_type": "code",
   "execution_count": 15,
   "id": "1a3a68cb-7567-442a-a9a6-44663758290b",
   "metadata": {
    "tags": []
   },
   "outputs": [
    {
     "data": {
      "text/plain": [
       "[1, 2, 3, 4, 5, 6, 9, 10, 15, 25]"
      ]
     },
     "execution_count": 15,
     "metadata": {},
     "output_type": "execute_result"
    }
   ],
   "source": [
    "pp = sorted([int(np.prod(t))\n",
    "            for n in range(3)\n",
    "            for t in itertools.combinations_with_replacement((2, 3, 5), n)])\n",
    "pp"
   ]
  },
  {
   "cell_type": "code",
   "execution_count": 16,
   "id": "e527c598-e392-4d9e-a9ca-0e0704a24c93",
   "metadata": {
    "tags": []
   },
   "outputs": [
    {
     "data": {
      "text/plain": [
       "[(1, 1),\n",
       " (1, 2),\n",
       " (1, 3),\n",
       " (1, 4),\n",
       " (1, 5),\n",
       " (1, 6),\n",
       " (1, 9),\n",
       " (1, 10),\n",
       " (1, 15),\n",
       " (1, 25),\n",
       " (2, 1),\n",
       " (2, 2),\n",
       " (2, 3),\n",
       " (2, 4),\n",
       " (2, 5),\n",
       " (2, 6),\n",
       " (2, 9),\n",
       " (2, 10),\n",
       " (2, 15),\n",
       " (2, 25),\n",
       " (3, 1),\n",
       " (3, 2),\n",
       " (3, 3),\n",
       " (3, 4),\n",
       " (3, 5),\n",
       " (3, 6),\n",
       " (3, 9),\n",
       " (3, 10),\n",
       " (3, 15),\n",
       " (3, 25),\n",
       " (4, 1),\n",
       " (4, 2),\n",
       " (4, 3),\n",
       " (4, 4),\n",
       " (4, 5),\n",
       " (4, 6),\n",
       " (4, 9),\n",
       " (4, 10),\n",
       " (4, 15),\n",
       " (4, 25),\n",
       " (5, 1),\n",
       " (5, 2),\n",
       " (5, 3),\n",
       " (5, 4),\n",
       " (5, 5),\n",
       " (5, 6),\n",
       " (5, 9),\n",
       " (5, 10),\n",
       " (5, 15),\n",
       " (5, 25),\n",
       " (6, 1),\n",
       " (6, 2),\n",
       " (6, 3),\n",
       " (6, 4),\n",
       " (6, 5),\n",
       " (6, 6),\n",
       " (6, 9),\n",
       " (6, 10),\n",
       " (6, 15),\n",
       " (6, 25),\n",
       " (9, 1),\n",
       " (9, 2),\n",
       " (9, 3),\n",
       " (9, 4),\n",
       " (9, 5),\n",
       " (9, 6),\n",
       " (9, 9),\n",
       " (9, 10),\n",
       " (9, 15),\n",
       " (9, 25),\n",
       " (10, 1),\n",
       " (10, 2),\n",
       " (10, 3),\n",
       " (10, 4),\n",
       " (10, 5),\n",
       " (10, 6),\n",
       " (10, 9),\n",
       " (10, 10),\n",
       " (10, 15),\n",
       " (10, 25),\n",
       " (15, 1),\n",
       " (15, 2),\n",
       " (15, 3),\n",
       " (15, 4),\n",
       " (15, 5),\n",
       " (15, 6),\n",
       " (15, 9),\n",
       " (15, 10),\n",
       " (15, 15),\n",
       " (15, 25),\n",
       " (25, 1),\n",
       " (25, 2),\n",
       " (25, 3),\n",
       " (25, 4),\n",
       " (25, 5),\n",
       " (25, 6),\n",
       " (25, 9),\n",
       " (25, 10),\n",
       " (25, 15),\n",
       " (25, 25)]"
      ]
     },
     "execution_count": 16,
     "metadata": {},
     "output_type": "execute_result"
    }
   ],
   "source": [
    "list(itertools.product(pp, repeat=2))"
   ]
  },
  {
   "cell_type": "code",
   "execution_count": 17,
   "id": "23acadfe-4eaa-4c70-aa8d-f0a439978c19",
   "metadata": {
    "tags": []
   },
   "outputs": [
    {
     "data": {
      "text/plain": [
       "(10, 100)"
      ]
     },
     "execution_count": 17,
     "metadata": {},
     "output_type": "execute_result"
    }
   ],
   "source": [
    "len(pp), len(_)"
   ]
  },
  {
   "cell_type": "markdown",
   "id": "cc96ab13-1688-4a51-b98f-d390659797c5",
   "metadata": {},
   "source": [
    "### 互いに素なものだけ抽出する"
   ]
  },
  {
   "cell_type": "code",
   "execution_count": 20,
   "id": "843dde33-a1c2-4c2a-ada9-870101b0873c",
   "metadata": {
    "tags": []
   },
   "outputs": [],
   "source": [
    "pq = sorted([(p, q) for p, q in itertools.product(pp, repeat=2)\n",
    "            if p/q >= 9/5 and p/q <= 12/5 and math.gcd(p, q) == 1],\n",
    "            reverse=True, key=lambda x: x[0]/x[1])"
   ]
  },
  {
   "cell_type": "markdown",
   "id": "203e65b5-ede8-4f19-b115-4a4695de1c8e",
   "metadata": {},
   "source": [
    "### 数表の式に当てはめる"
   ]
  },
  {
   "cell_type": "code",
   "execution_count": 22,
   "id": "f9a7ed27-d10e-4414-b86c-0a9f57f7bc77",
   "metadata": {
    "tags": []
   },
   "outputs": [
    {
     "name": "stdout",
     "output_type": "stream",
     "text": [
      "1.815008 65 97\n",
      "1.562500 3 5\n",
      "1.387160 56 106\n"
     ]
    }
   ],
   "source": [
    "for p, q in pq:\n",
    "    a = 2 * p * q\n",
    "    b = p**2 - q**2\n",
    "    d = p**2 + q**2\n",
    "    print(format((d/a)**2, '#04f'), b, d)"
   ]
  },
  {
   "cell_type": "markdown",
   "id": "98752c2d-15de-4ec5-85c6-1bd0e187bab0",
   "metadata": {},
   "source": [
    "Plimpton 322の最も左のカラム:"
   ]
  },
  {
   "cell_type": "markdown",
   "id": "5224a3e7-4347-4d0a-9804-3e5a903b16b2",
   "metadata": {},
   "source": [
    "$$\\left( \\frac{d}{a} \\right)^2 = \\frac{p^2+q^2}{2pq} \n",
    "  = \\frac{1}{2}\\left( \\frac{p}{q} + \\frac{q}{p} \\right)$$"
   ]
  },
  {
   "cell_type": "markdown",
   "id": "d030ccd9-77ac-4b6c-9cc0-91394ccd538f",
   "metadata": {},
   "source": [
    "$p > q$ のとき、$\\frac{p}{q}>1$ かつ $\\frac{q}{p} < 1$ が成り立つ"
   ]
  },
  {
   "cell_type": "code",
   "execution_count": 23,
   "id": "12c7b912-0c45-453a-b1a6-0de59a81defb",
   "metadata": {
    "tags": []
   },
   "outputs": [],
   "source": [
    "import pandas as pd"
   ]
  },
  {
   "cell_type": "code",
   "execution_count": 24,
   "id": "6502edbf-4a62-41e2-8b53-8aa49a8a08ae",
   "metadata": {
    "tags": []
   },
   "outputs": [],
   "source": [
    "dfs = pd.read_html('https://en.wikipedia.org/wiki/Plimpton_322')"
   ]
  },
  {
   "cell_type": "code",
   "execution_count": 25,
   "id": "e615c3e7-3a28-40d4-bac8-b1920dc564ff",
   "metadata": {
    "tags": []
   },
   "outputs": [
    {
     "data": {
      "text/html": [
       "<div>\n",
       "<style scoped>\n",
       "    .dataframe tbody tr th:only-of-type {\n",
       "        vertical-align: middle;\n",
       "    }\n",
       "\n",
       "    .dataframe tbody tr th {\n",
       "        vertical-align: top;\n",
       "    }\n",
       "\n",
       "    .dataframe thead th {\n",
       "        text-align: right;\n",
       "    }\n",
       "</style>\n",
       "<table border=\"1\" class=\"dataframe\">\n",
       "  <thead>\n",
       "    <tr style=\"text-align: right;\">\n",
       "      <th></th>\n",
       "      <th>or</th>\n",
       "      <th>Short Side</th>\n",
       "      <th>Diagonal</th>\n",
       "      <th>Row #</th>\n",
       "    </tr>\n",
       "  </thead>\n",
       "  <tbody>\n",
       "    <tr>\n",
       "      <th>0</th>\n",
       "      <td>(1).9834028</td>\n",
       "      <td>119</td>\n",
       "      <td>169</td>\n",
       "      <td>1</td>\n",
       "    </tr>\n",
       "    <tr>\n",
       "      <th>1</th>\n",
       "      <td>(1).9491586</td>\n",
       "      <td>3367</td>\n",
       "      <td>4825</td>\n",
       "      <td>2</td>\n",
       "    </tr>\n",
       "    <tr>\n",
       "      <th>2</th>\n",
       "      <td>(1).9188021</td>\n",
       "      <td>4601</td>\n",
       "      <td>6649</td>\n",
       "      <td>3</td>\n",
       "    </tr>\n",
       "    <tr>\n",
       "      <th>3</th>\n",
       "      <td>(1).8862479</td>\n",
       "      <td>12709</td>\n",
       "      <td>18541</td>\n",
       "      <td>4</td>\n",
       "    </tr>\n",
       "    <tr>\n",
       "      <th>4</th>\n",
       "      <td>(1).8150077</td>\n",
       "      <td>65</td>\n",
       "      <td>97</td>\n",
       "      <td>5</td>\n",
       "    </tr>\n",
       "    <tr>\n",
       "      <th>5</th>\n",
       "      <td>(1).7851929</td>\n",
       "      <td>319</td>\n",
       "      <td>481</td>\n",
       "      <td>6</td>\n",
       "    </tr>\n",
       "    <tr>\n",
       "      <th>6</th>\n",
       "      <td>(1).7199837</td>\n",
       "      <td>2291</td>\n",
       "      <td>3541</td>\n",
       "      <td>7</td>\n",
       "    </tr>\n",
       "    <tr>\n",
       "      <th>7</th>\n",
       "      <td>(1).6927094</td>\n",
       "      <td>799</td>\n",
       "      <td>1249</td>\n",
       "      <td>8</td>\n",
       "    </tr>\n",
       "    <tr>\n",
       "      <th>8</th>\n",
       "      <td>(1).6426694</td>\n",
       "      <td>481</td>\n",
       "      <td>769</td>\n",
       "      <td>9</td>\n",
       "    </tr>\n",
       "    <tr>\n",
       "      <th>9</th>\n",
       "      <td>(1).5861226</td>\n",
       "      <td>4961</td>\n",
       "      <td>8161</td>\n",
       "      <td>10</td>\n",
       "    </tr>\n",
       "    <tr>\n",
       "      <th>10</th>\n",
       "      <td>(1).5625</td>\n",
       "      <td>45*</td>\n",
       "      <td>75*</td>\n",
       "      <td>11</td>\n",
       "    </tr>\n",
       "    <tr>\n",
       "      <th>11</th>\n",
       "      <td>(1).4894168</td>\n",
       "      <td>1679</td>\n",
       "      <td>2929</td>\n",
       "      <td>12</td>\n",
       "    </tr>\n",
       "    <tr>\n",
       "      <th>12</th>\n",
       "      <td>(1).4500174</td>\n",
       "      <td>161</td>\n",
       "      <td>289</td>\n",
       "      <td>13</td>\n",
       "    </tr>\n",
       "    <tr>\n",
       "      <th>13</th>\n",
       "      <td>(1).4302388</td>\n",
       "      <td>1771</td>\n",
       "      <td>3229</td>\n",
       "      <td>14</td>\n",
       "    </tr>\n",
       "    <tr>\n",
       "      <th>14</th>\n",
       "      <td>(1).3871605</td>\n",
       "      <td>56*</td>\n",
       "      <td>106*</td>\n",
       "      <td>15</td>\n",
       "    </tr>\n",
       "  </tbody>\n",
       "</table>\n",
       "</div>"
      ],
      "text/plain": [
       "             or Short Side Diagonal  Row #\n",
       "0   (1).9834028        119      169      1\n",
       "1   (1).9491586       3367     4825      2\n",
       "2   (1).9188021       4601     6649      3\n",
       "3   (1).8862479      12709    18541      4\n",
       "4   (1).8150077         65       97      5\n",
       "5   (1).7851929        319      481      6\n",
       "6   (1).7199837       2291     3541      7\n",
       "7   (1).6927094        799     1249      8\n",
       "8   (1).6426694        481      769      9\n",
       "9   (1).5861226       4961     8161     10\n",
       "10     (1).5625        45*      75*     11\n",
       "11  (1).4894168       1679     2929     12\n",
       "12  (1).4500174        161      289     13\n",
       "13  (1).4302388       1771     3229     14\n",
       "14  (1).3871605        56*     106*     15"
      ]
     },
     "execution_count": 25,
     "metadata": {},
     "output_type": "execute_result"
    }
   ],
   "source": [
    "dfs[1]"
   ]
  },
  {
   "cell_type": "markdown",
   "id": "cb328f5a-3a1b-413b-b466-67d6ddcde7e5",
   "metadata": {},
   "source": [
    "## 課題\n",
    "\n",
    "どこまで探索範囲を広げるとPlimpton 322の数表が埋まるか試してみる"
   ]
  },
  {
   "cell_type": "code",
   "execution_count": null,
   "id": "1da9ad9c-668f-4703-b6c9-e98f3fce07c3",
   "metadata": {},
   "outputs": [],
   "source": []
  }
 ],
 "metadata": {
  "kernelspec": {
   "display_name": "Python 3 (ipykernel)",
   "language": "python",
   "name": "python3"
  },
  "language_info": {
   "codemirror_mode": {
    "name": "ipython",
    "version": 3
   },
   "file_extension": ".py",
   "mimetype": "text/x-python",
   "name": "python",
   "nbconvert_exporter": "python",
   "pygments_lexer": "ipython3",
   "version": "3.10.10"
  }
 },
 "nbformat": 4,
 "nbformat_minor": 5
}
