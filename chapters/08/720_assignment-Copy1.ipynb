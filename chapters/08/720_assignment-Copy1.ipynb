{
 "cells": [
  {
   "cell_type": "markdown",
   "id": "040d6ea9-49bf-4016-a513-96d88a28b833",
   "metadata": {},
   "source": [
    "# 課題: 相加平均と相乗平均の関係を表す不等式\n",
    "\n",
    "* [Inequality of arithmetic and geometric means - Wikipedia](https://en.wikipedia.org/wiki/Inequality_of_arithmetic_and_geometric_means)"
   ]
  },
  {
   "cell_type": "code",
   "execution_count": 14,
   "id": "aab07dfb-4a5f-4643-a014-6233e8791a1d",
   "metadata": {
    "tags": []
   },
   "outputs": [
    {
     "data": {
      "text/markdown": [
       "相加相乗平均の公式は以下の通りです。\n",
       "\n",
       "a1, a2, ..., an が正の実数のとき、\n",
       "\n",
       "(a1 + a2 + ... + an) / n ≥ (a1 * a2 * ... * an)^(1/n)\n",
       "\n",
       "この不等式が成り立つことを証明します。\n",
       "\n",
       "まず、n = 2 の場合を考えます。\n",
       "\n",
       "(a1 + a2) / 2 ≥ (a1 * a2)^(1/2)\n",
       "\n",
       "両辺を2乗すると、\n",
       "\n",
       "(a1 + a2)^2 / 4 ≥ a1 * a2\n",
       "\n",
       "a1^2 + 2a1a2 + a2^2 ≥ 4a1a2\n",
       "\n",
       "(a1 - a2)^2 ≥ 0\n",
       "\n",
       "これは常に成り立つので、n = 2 の場合は成立します。\n",
       "\n",
       "次に、n = k の場合が成り立つと仮定して、n = k + 1 の場合を考えます。\n",
       "\n",
       "(a1 + a2 + ... + ak + ak+1) / (k + 1) ≥ (a1 * a2 * ... * ak * ak+1)^(1/(k + 1))\n",
       "\n",
       "左辺を変形すると、\n",
       "\n",
       "(a1 + a2 + ... + ak) / k + (ak+1) / (k + 1) ≥ (a1 * a2 * ... * ak * ak+1)^(1/(k + 1))\n",
       "\n",
       "ここで、相加相乗平均の仮定より、\n",
       "\n",
       "(a1 + a2 + ... + ak) / k ≥ (a1 * a2 * ... * ak)^(1/k)\n",
       "\n",
       "よって、\n",
       "\n",
       "(a1 + a2 + ... + ak) / k + (ak+1) / (k + 1) ≥ (a1 * a2 * ... * ak)^(1/k) + (ak+1) / (k + 1)\n",
       "\n",
       "両辺を k(k + 1) 倍すると、\n",
       "\n",
       "(k + 1)(a1 + a2 + ... + ak) + k ak+1 ≥ k(a1 * a2 * ... * ak)^(1/k) (k + 1)^(k + 1) ak+1^(k + 1)/(k + 1)^(k + 1)\n",
       "\n",
       "ここで、左辺の第1項を相加相乗平均の仮定により、\n",
       "\n",
       "(k + 1)(a1 + a2 + ... + ak) ≥ k(a1 * a2 * ... * ak)^(1/k) (k + 1)^k\n",
       "\n",
       "と書き換えることができます。\n",
       "\n",
       "また、右辺の第2項を、\n",
       "\n",
       "ak+1 / (k + 1) ≤ (a1 * a2 * ... * ak * ak+1)^(1/(k + 1))\n",
       "\n",
       "という不等式により置き換えることができます。\n",
       "\n",
       "これらを代入すると、\n",
       "\n",
       "(k + 1)(a1 + a2 + ... + ak) + k ak+1 ≥ k(a1 * a2 * ... * ak * ak+1)^(1/(k + 1)) (k + 1)^k + (k + 1) ak+1^(k + 1)/(k + 1)^(k + 1)\n",
       "\n",
       "(k + 1)(a1 + a2 + ... + ak + ak+1) ≥ (a1 * a2 * ... * ak * ak+1)^(1/(k + 1)) (k + 1)^(k + 1)\n",
       "\n",
       "となります。\n",
       "\n",
       "したがって、n = k + 1 の場合も成り立つことが示されました。\n",
       "\n",
       "以上より、相加相乗平均の公式が証明されました。"
      ],
      "text/plain": [
       "<IPython.core.display.Markdown object>"
      ]
     },
     "metadata": {},
     "output_type": "display_data"
    }
   ],
   "source": [
    "%%ai_ask\n",
    "相加相乗平均の公式を証明する"
   ]
  },
  {
   "cell_type": "code",
   "execution_count": 15,
   "id": "14cb58a5-d8cf-4233-84ec-8a82735f731d",
   "metadata": {
    "tags": []
   },
   "outputs": [
    {
     "data": {
      "text/markdown": [
       "n=2の場合の相加相乗平均の公式は以下の通りです。\n",
       "\n",
       "a1, a2 が正の実数のとき、\n",
       "\n",
       "(a1 + a2) / 2 ≥ (a1 * a2)^(1/2)\n",
       "\n",
       "この不等式が成り立つことを証明します。\n",
       "\n",
       "両辺を2乗すると、\n",
       "\n",
       "(a1 + a2)^2 / 4 ≥ a1 * a2\n",
       "\n",
       "a1^2 + 2a1a2 + a2^2 ≥ 4a1a2\n",
       "\n",
       "(a1 - a2)^2 ≥ 0\n",
       "\n",
       "これは常に成り立つので、n = 2 の場合は成立します。\n",
       "\n",
       "以上より、n=2の場合の相加相乗平均の公式が証明されました。"
      ],
      "text/plain": [
       "<IPython.core.display.Markdown object>"
      ]
     },
     "metadata": {},
     "output_type": "display_data"
    }
   ],
   "source": [
    "%%ai_continue\n",
    "n=2に限定して"
   ]
  },
  {
   "cell_type": "markdown",
   "id": "2de72dbc-97ce-47c8-8476-e823d99f1503",
   "metadata": {},
   "source": [
    "## 参考: 数式で表すと\n",
    "$a_{1} > 0, a_{2}>0$ のとき\n",
    "$$\\frac{a_{1}+a_{2}}{2} \\geq \\sqrt{a_{1}  a_{2}}$$\n",
    "が成り立つ。\n",
    "証明は次の不等式の変形の通り:\n",
    "$$\n",
    "\\begin{eqnarray}\n",
    "\\left(\\frac{a_{1}+a_{2}}{2}\\right)^2 & \\geq & \\left(\\sqrt{a_{1} a_{2}}\\right)^2 \\\\[10pt]\n",
    "\\frac{(a_{1}+a_{2})^2}{4} & \\geq & a_{1} a_{2} \\\\[10pt]\n",
    "{a_{1}}^2 + 2 a_{1} a_{2} + {a_{2}}^2 & \\geq & 4 a_{1} a_{2} \\\\[10pt]\n",
    "\\left( a_{1} - a_{2} \\right)^2 & \\geq & 0\n",
    "\\end{eqnarray}\n",
    "$$"
   ]
  },
  {
   "cell_type": "code",
   "execution_count": 16,
   "id": "78db744c-fd63-4d0c-b86f-81c3e084a24f",
   "metadata": {
    "tags": []
   },
   "outputs": [
    {
     "data": {
      "text/markdown": [
       "sympyを使って相加相乗平均の公式を証明することができます。以下は、sympyを用いた証明の例です。\n",
       "\n",
       "```python\n",
       "import sympy\n",
       "\n",
       "# a, bを正の実数とする\n",
       "a, b = sympy.symbols('a b', positive=True)\n",
       "\n",
       "# 相加相乗平均の不等式を表す式\n",
       "ineq = sympy.sqrt(a * b) <= (a + b) / 2\n",
       "\n",
       "# 不等式を2乗すると、以下の式が得られる\n",
       "ineq_squared = ineq.lhs**2 - ineq.rhs**2 <= 0\n",
       "\n",
       "# 左辺を展開すると、以下の式が得られる\n",
       "lhs_expanded = ineq_squared.lhs.expand()\n",
       "\n",
       "# 右辺を展開すると、以下の式が得られる\n",
       "rhs_expanded = ineq_squared.rhs.expand()\n",
       "\n",
       "# 左辺と右辺を比較すると、以下の式が得られる\n",
       "comparison = lhs_expanded - rhs_expanded\n",
       "\n",
       "# 比較式を展開すると、以下の式が得られる\n",
       "comparison_expanded = comparison.expand()\n",
       "\n",
       "# 比較式が0以下であることを示す\n",
       "assert comparison_expanded <= 0\n",
       "```\n",
       "\n",
       "このように、sympyを使って相加相乗平均の公式を証明することができます。"
      ],
      "text/plain": [
       "<IPython.core.display.Markdown object>"
      ]
     },
     "metadata": {},
     "output_type": "display_data"
    }
   ],
   "source": [
    "%%ai_continue\n",
    "sympyで"
   ]
  },
  {
   "cell_type": "code",
   "execution_count": 1,
   "id": "be86cf92-577e-48fb-b2bc-4e1804c2fa04",
   "metadata": {
    "tags": []
   },
   "outputs": [
    {
     "ename": "TypeError",
     "evalue": "cannot determine truth value of Relational",
     "output_type": "error",
     "traceback": [
      "\u001b[0;31m---------------------------------------------------------------------------\u001b[0m",
      "\u001b[0;31mTypeError\u001b[0m                                 Traceback (most recent call last)",
      "\u001b[0;32m/tmp/ipykernel_1122/881370004.py\u001b[0m in \u001b[0;36m<cell line: 25>\u001b[0;34m()\u001b[0m\n\u001b[1;32m     23\u001b[0m \u001b[0;34m\u001b[0m\u001b[0m\n\u001b[1;32m     24\u001b[0m \u001b[0;31m# 比較式が0以下であることを示す\u001b[0m\u001b[0;34m\u001b[0m\u001b[0;34m\u001b[0m\u001b[0m\n\u001b[0;32m---> 25\u001b[0;31m \u001b[0;32massert\u001b[0m \u001b[0mcomparison_expanded\u001b[0m \u001b[0;34m<=\u001b[0m \u001b[0;36m0\u001b[0m\u001b[0;34m\u001b[0m\u001b[0;34m\u001b[0m\u001b[0m\n\u001b[0m",
      "\u001b[0;32m/opt/conda/lib/python3.10/site-packages/sympy/core/relational.py\u001b[0m in \u001b[0;36m__bool__\u001b[0;34m(self)\u001b[0m\n\u001b[1;32m    508\u001b[0m \u001b[0;34m\u001b[0m\u001b[0m\n\u001b[1;32m    509\u001b[0m     \u001b[0;32mdef\u001b[0m \u001b[0m__bool__\u001b[0m\u001b[0;34m(\u001b[0m\u001b[0mself\u001b[0m\u001b[0;34m)\u001b[0m\u001b[0;34m:\u001b[0m\u001b[0;34m\u001b[0m\u001b[0;34m\u001b[0m\u001b[0m\n\u001b[0;32m--> 510\u001b[0;31m         \u001b[0;32mraise\u001b[0m \u001b[0mTypeError\u001b[0m\u001b[0;34m(\u001b[0m\u001b[0;34m\"cannot determine truth value of Relational\"\u001b[0m\u001b[0;34m)\u001b[0m\u001b[0;34m\u001b[0m\u001b[0;34m\u001b[0m\u001b[0m\n\u001b[0m\u001b[1;32m    511\u001b[0m \u001b[0;34m\u001b[0m\u001b[0m\n\u001b[1;32m    512\u001b[0m     \u001b[0;32mdef\u001b[0m \u001b[0m_eval_as_set\u001b[0m\u001b[0;34m(\u001b[0m\u001b[0mself\u001b[0m\u001b[0;34m)\u001b[0m\u001b[0;34m:\u001b[0m\u001b[0;34m\u001b[0m\u001b[0;34m\u001b[0m\u001b[0m\n",
      "\u001b[0;31mTypeError\u001b[0m: cannot determine truth value of Relational"
     ]
    }
   ],
   "source": [
    "import sympy\n",
    "\n",
    "# a, bを正の実数とする\n",
    "a, b = sympy.symbols('a b', positive=True)\n",
    "\n",
    "# 相加相乗平均の不等式を表す式\n",
    "ineq = sympy.sqrt(a * b) <= (a + b) / 2\n",
    "\n",
    "# 不等式を2乗すると、以下の式が得られる\n",
    "ineq_squared = ineq.lhs**2 - ineq.rhs**2 <= 0\n",
    "\n",
    "# 左辺を展開すると、以下の式が得られる\n",
    "lhs_expanded = ineq_squared.lhs.expand()\n",
    "\n",
    "# 右辺を展開すると、以下の式が得られる\n",
    "rhs_expanded = ineq_squared.rhs.expand()\n",
    "\n",
    "# 左辺と右辺を比較すると、以下の式が得られる\n",
    "comparison = lhs_expanded - rhs_expanded\n",
    "\n",
    "# 比較式を展開すると、以下の式が得られる\n",
    "comparison_expanded = comparison.expand()\n",
    "\n",
    "# 比較式が0以下であることを示す\n",
    "assert comparison_expanded <= 0"
   ]
  },
  {
   "cell_type": "markdown",
   "id": "83d0331e-1954-48a7-96cc-299a4439de4e",
   "metadata": {},
   "source": [
    "* [Assumptions - SymPy 1.12 documentation](https://docs.sympy.org/latest/guides/assumptions.html)"
   ]
  },
  {
   "cell_type": "code",
   "execution_count": 2,
   "id": "e4d1eee6-3696-4c90-9eee-9f3668968cda",
   "metadata": {
    "tags": []
   },
   "outputs": [
    {
     "data": {
      "text/latex": [
       "$\\displaystyle \\sqrt{a} \\sqrt{b} \\leq \\frac{a}{2} + \\frac{b}{2}$"
      ],
      "text/plain": [
       "sqrt(a)*sqrt(b) <= a/2 + b/2"
      ]
     },
     "execution_count": 2,
     "metadata": {},
     "output_type": "execute_result"
    }
   ],
   "source": [
    "ineq"
   ]
  },
  {
   "cell_type": "code",
   "execution_count": 3,
   "id": "5f15b6b7-4278-4520-b711-f44c54922e31",
   "metadata": {
    "tags": []
   },
   "outputs": [
    {
     "data": {
      "text/latex": [
       "$\\displaystyle \\sqrt{a} \\sqrt{b}$"
      ],
      "text/plain": [
       "sqrt(a)*sqrt(b)"
      ]
     },
     "execution_count": 3,
     "metadata": {},
     "output_type": "execute_result"
    }
   ],
   "source": [
    "ineq.lhs"
   ]
  },
  {
   "cell_type": "code",
   "execution_count": 4,
   "id": "0e6f7db2-e963-4e70-91a3-d543d093f8b7",
   "metadata": {
    "tags": []
   },
   "outputs": [
    {
     "data": {
      "text/latex": [
       "$\\displaystyle \\frac{a}{2} + \\frac{b}{2}$"
      ],
      "text/plain": [
       "a/2 + b/2"
      ]
     },
     "execution_count": 4,
     "metadata": {},
     "output_type": "execute_result"
    }
   ],
   "source": [
    "ineq.rhs"
   ]
  },
  {
   "cell_type": "code",
   "execution_count": 5,
   "id": "caa12610-5391-4563-b18d-8796044033bb",
   "metadata": {
    "tags": []
   },
   "outputs": [
    {
     "data": {
      "text/latex": [
       "$\\displaystyle a b - \\left(\\frac{a}{2} + \\frac{b}{2}\\right)^{2}$"
      ],
      "text/plain": [
       "a*b - (a/2 + b/2)**2"
      ]
     },
     "execution_count": 5,
     "metadata": {},
     "output_type": "execute_result"
    }
   ],
   "source": [
    "ineq.lhs**2-ineq.rhs**2"
   ]
  },
  {
   "cell_type": "code",
   "execution_count": 6,
   "id": "6c3a03d7-6f77-4754-baeb-cd7611e043ea",
   "metadata": {
    "tags": []
   },
   "outputs": [
    {
     "data": {
      "text/latex": [
       "$\\displaystyle - \\frac{a^{2}}{4} + \\frac{a b}{2} - \\frac{b^{2}}{4}$"
      ],
      "text/plain": [
       "-a**2/4 + a*b/2 - b**2/4"
      ]
     },
     "execution_count": 6,
     "metadata": {},
     "output_type": "execute_result"
    }
   ],
   "source": [
    "_.expand()"
   ]
  },
  {
   "cell_type": "code",
   "execution_count": 7,
   "id": "d209aeab-8c78-4a2b-8b8e-b9ed37b26a27",
   "metadata": {
    "tags": []
   },
   "outputs": [
    {
     "data": {
      "text/latex": [
       "$\\displaystyle - \\frac{a^{2}}{4} + \\frac{a b}{2} - \\frac{b^{2}}{4}$"
      ],
      "text/plain": [
       "-a**2/4 + a*b/2 - b**2/4"
      ]
     },
     "execution_count": 7,
     "metadata": {},
     "output_type": "execute_result"
    }
   ],
   "source": [
    "comparison_expanded"
   ]
  },
  {
   "cell_type": "code",
   "execution_count": 8,
   "id": "7384248f-7f7b-4322-b2d0-a96cfbfc05fc",
   "metadata": {
    "tags": []
   },
   "outputs": [],
   "source": [
    "comparison_expanded.is_positive"
   ]
  },
  {
   "cell_type": "code",
   "execution_count": 9,
   "id": "937488d0-741c-40cc-96d7-b88d9c926e73",
   "metadata": {
    "tags": []
   },
   "outputs": [
    {
     "data": {
      "text/latex": [
       "$\\displaystyle - \\frac{\\left(a - b\\right)^{2}}{4}$"
      ],
      "text/plain": [
       "-(a - b)**2/4"
      ]
     },
     "execution_count": 9,
     "metadata": {},
     "output_type": "execute_result"
    }
   ],
   "source": [
    "comparison_factorized = sympy.factor(comparison_expanded)\n",
    "comparison_factorized"
   ]
  },
  {
   "cell_type": "code",
   "execution_count": 10,
   "id": "0a7d8523-86bd-46c5-a128-923f610f7347",
   "metadata": {
    "tags": []
   },
   "outputs": [],
   "source": [
    "comparison_factorized.is_negative"
   ]
  },
  {
   "cell_type": "code",
   "execution_count": 11,
   "id": "62779afc",
   "metadata": {
    "tags": []
   },
   "outputs": [],
   "source": [
    "comparison_factorized.is_negative"
   ]
  },
  {
   "cell_type": "code",
   "execution_count": 12,
   "id": "cd1ad378-050d-4ad3-b3b5-61f6d6cea830",
   "metadata": {
    "tags": []
   },
   "outputs": [],
   "source": [
    "comparison_factorized.is_nonnegative"
   ]
  },
  {
   "cell_type": "code",
   "execution_count": 7,
   "id": "21119087-43c0-4d1a-82ab-57bcd9a6bad7",
   "metadata": {
    "tags": []
   },
   "outputs": [
    {
     "data": {
      "text/markdown": [
       "sympyはPythonのライブラリの一つで、数学的な式や式変形、微積分、代数的な計算、方程式の解法などを行うことができます。数学的な問題をプログラムで解く際に便利なツールです。Jupyter Notebook上で使用することができます。"
      ],
      "text/plain": [
       "<IPython.core.display.Markdown object>"
      ]
     },
     "metadata": {},
     "output_type": "display_data"
    }
   ],
   "source": [
    "%%ai_ask\n",
    "sympyについて"
   ]
  },
  {
   "cell_type": "code",
   "execution_count": 4,
   "id": "a55a7199-7571-4bbd-972f-df994ee7e9b5",
   "metadata": {
    "tags": []
   },
   "outputs": [
    {
     "data": {
      "text/markdown": [
       "sympyにおいて、変数とは値が変化する量を表すものであり、記号とは数学的な表現を表すものです。変数は通常、数値や式の計算に使用されますが、記号は数学的な式や方程式を表現するために使用されます。例えば、xという変数は数値を表すことができますが、Symbol('x')という記号はxという文字を表すだけで、数値を持ちません。また、変数は通常、数値を代入することができますが、記号は代入することができません。"
      ],
      "text/plain": [
       "<IPython.core.display.Markdown object>"
      ]
     },
     "metadata": {},
     "output_type": "display_data"
    }
   ],
   "source": [
    "%%ai_ask\n",
    "sympyの変数と記号の違いについて"
   ]
  },
  {
   "cell_type": "code",
   "execution_count": 5,
   "id": "b950f2f6-664f-4c3d-8ce7-15029a7ecd1a",
   "metadata": {
    "tags": []
   },
   "outputs": [
    {
     "data": {
      "text/markdown": [
       "以下は、変数と記号の違いを示す具体例です。\n",
       "\n",
       "```python\n",
       "import sympy\n",
       "\n",
       "# 変数の例\n",
       "x = 5\n",
       "y = x + 3\n",
       "print(y)  # 出力結果: 8\n",
       "\n",
       "# 記号の例\n",
       "x = sympy.Symbol('x')\n",
       "y = x + 3\n",
       "print(y)  # 出力結果: x + 3\n",
       "\n",
       "# 記号に数値を代入する例\n",
       "y = y.subs(x, 5)\n",
       "print(y)  # 出力結果: 8\n",
       "```\n",
       "\n",
       "この例では、まず変数xに5を代入し、yにx+3を代入しています。その後、yを出力すると、yの値は8になります。次に、xをSymbol('x')で定義し、yにx+3を代入しています。この場合、yはx+3という式を表しており、数値を持ちません。最後に、y.subs(x, 5)を実行することで、xに5を代入したyの値が8になることが確認できます。"
      ],
      "text/plain": [
       "<IPython.core.display.Markdown object>"
      ]
     },
     "metadata": {},
     "output_type": "display_data"
    }
   ],
   "source": [
    "%%ai_continue\n",
    "具体例は？"
   ]
  },
  {
   "cell_type": "code",
   "execution_count": 6,
   "id": "6bddc904-f7a1-40e1-be10-a6615ad12a2d",
   "metadata": {
    "tags": []
   },
   "outputs": [
    {
     "data": {
      "text/markdown": [
       "はい、sympyの記号に値を代入することができます。具体的には、`subs()`メソッドを使用して、記号に対して値を代入することができます。以下は、例です。\n",
       "\n",
       "```python\n",
       "import sympy\n",
       "\n",
       "x = sympy.Symbol('x')\n",
       "y = x**2 + 2*x + 1\n",
       "print(y)  # 出力結果: x**2 + 2*x + 1\n",
       "\n",
       "y = y.subs(x, 3)\n",
       "print(y)  # 出力結果: 16\n",
       "```\n",
       "\n",
       "この例では、まずxをSymbol('x')で定義し、yにxの2乗に2を掛けたものに1を足した式を代入しています。その後、yを出力すると、yの値はxの2乗に2を掛けたものに1を足した式になります。次に、y.subs(x, 3)を実行することで、xに3を代入したyの値が16になることが確認できます。"
      ],
      "text/plain": [
       "<IPython.core.display.Markdown object>"
      ]
     },
     "metadata": {},
     "output_type": "display_data"
    }
   ],
   "source": [
    "%%ai_continue\n",
    "記号に値を代入することはできますか"
   ]
  },
  {
   "cell_type": "code",
   "execution_count": 9,
   "id": "8eabe149-3a16-4c44-a343-76fbd53e794e",
   "metadata": {
    "tags": []
   },
   "outputs": [
    {
     "data": {
      "text/markdown": [
       "sympyのassumptionには、predicateと呼ばれる関数を使って、より詳細なassumptionを指定することができます。predicateは、変数が持つべき性質を詳細に指定することができます。\n",
       "\n",
       "以下は、predicateを使ったassumptionの例です。\n",
       "\n",
       "```python\n",
       "import sympy\n",
       "\n",
       "x = sympy.symbols('x')\n",
       "y = sympy.symbols('y')\n",
       "\n",
       "expr = sympy.sqrt(x**2)\n",
       "print(expr.is_real)  # None\n",
       "\n",
       "expr = sympy.sqrt(y**2)\n",
       "print(expr.is_real)  # None\n",
       "\n",
       "sympy.assumptions.assume.sympify('x > 0')\n",
       "sympy.assumptions.assume.sympify('y > 0')\n",
       "\n",
       "expr = sympy.sqrt(x**2)\n",
       "print(expr.is_real)  # True\n",
       "\n",
       "expr = sympy.sqrt(y**2)\n",
       "print(expr.is_real)  # True\n",
       "```\n",
       "\n",
       "上記の例では、最初にxとyを定義し、その後にsqrt(x**2)とsqrt(y**2)を計算しています。最初の2つの式に対しては、is_real属性はNoneになります。その後、sympy.assumptions.assume.sympifyを使って、x>0とy>0というassumptionを指定しています。最後に、sqrt(x**2)とsqrt(y**2)に対して、is_real属性を確認すると、どちらもTrueになっていることがわかります。\n",
       "\n",
       "このように、predicateを使うことで、より詳細なassumptionを指定することができます。"
      ],
      "text/plain": [
       "<IPython.core.display.Markdown object>"
      ]
     },
     "metadata": {},
     "output_type": "display_data"
    }
   ],
   "source": [
    "%%ai_continue\n",
    "sympyのassumptionのpredicate使い方について"
   ]
  },
  {
   "cell_type": "markdown",
   "id": "acd902f0-d795-4006-a28c-b2bd478de46c",
   "metadata": {},
   "source": [
    "## 補足"
   ]
  },
  {
   "cell_type": "code",
   "execution_count": 1,
   "id": "51fa7889-370e-4895-9bda-fa076cb097d4",
   "metadata": {
    "tags": []
   },
   "outputs": [
    {
     "data": {
      "text/markdown": [
       "代数とは、数学の一分野で、数や文字などの記号を用いて式を表現し、それらの式を操作することで、未知の数や変数の値を求めたり、数学的な問題を解決するための方法を研究する学問です。代数には、一次方程式や二次方程式、多項式、行列などが含まれます。また、代数的な概念は、物理学や工学、経済学などの様々な分野でも応用されています。"
      ],
      "text/plain": [
       "<IPython.core.display.Markdown object>"
      ]
     },
     "metadata": {},
     "output_type": "display_data"
    }
   ],
   "source": [
    "%%ai_ask\n",
    "代数について"
   ]
  },
  {
   "cell_type": "code",
   "execution_count": 2,
   "id": "5c3bf815-1b86-4e3c-a417-0eac5d2905c5",
   "metadata": {
    "tags": []
   },
   "outputs": [
    {
     "data": {
      "text/markdown": [
       "代数の起源は古代バビロニアや古代エジプトにまで遡りますが、現代的な代数学の基礎は、9世紀から12世紀にかけてアラビアで発展したアルジェブラと呼ばれる数学の分野にあります。アルジェブラは、数学的な式を文字や記号で表現することで、未知の数や変数を扱う方法を研究しました。その後、16世紀にはイタリアの数学者ジェロラモ・カルダーノやルネ・デカルトが、現代的な代数学の基礎を築きました。現代の代数学は、数学の中でも重要な分野の一つとして、数学の基礎や応用分野において広く活用されています。"
      ],
      "text/plain": [
       "<IPython.core.display.Markdown object>"
      ]
     },
     "metadata": {},
     "output_type": "display_data"
    }
   ],
   "source": [
    "%%ai_continue\n",
    "代数の起源は"
   ]
  },
  {
   "cell_type": "code",
   "execution_count": 3,
   "id": "c95a8546-2915-46ac-a6cf-e9273078dd4c",
   "metadata": {
    "tags": []
   },
   "outputs": [
    {
     "data": {
      "text/markdown": [
       "コンピュータ代数とは、コンピュータを用いて代数的な式や方程式を解析するための技術やソフトウェアのことを指します。コンピュータ代数システムは、数式処理システムとも呼ばれ、数学的な式や方程式をコンピュータ上で扱うことができます。これにより、代数的な式の簡約、微積分、微分方程式の解法、多項式の因数分解、方程式の解法などを自動的に行うことができます。コンピュータ代数は、数学や物理学、工学、経済学などの分野で広く利用されており、数式処理システムとしては、Mathematica、Maple、Maxima、SageMathなどが有名です。"
      ],
      "text/plain": [
       "<IPython.core.display.Markdown object>"
      ]
     },
     "metadata": {},
     "output_type": "display_data"
    }
   ],
   "source": [
    "%%ai_continue\n",
    "コンピュータ代数について"
   ]
  },
  {
   "cell_type": "code",
   "execution_count": 7,
   "id": "36e7f910-79b0-4ec7-9313-bba0929d3cdf",
   "metadata": {
    "tags": []
   },
   "outputs": [
    {
     "data": {
      "text/markdown": [
       "Alfred Tarskiは、20世紀の著名な数学者・論理学者の一人で、代数学や論理学の分野で多大な業績を残しました。彼は、数学的な構造や論理的な命題を形式化する方法を研究し、現代の数学やコンピュータ科学の基礎を築く上で重要な役割を果たしました。\n",
       "\n",
       "特に、Tarskiは、代数学や論理学における形式的な証明の自動化に関する研究を行い、コンピュータ代数の発展に大きな影響を与えました。彼は、数学的な命題を形式的に表現するための言語や記号体系を開発し、それを用いて自動的な証明を行う方法を提唱しました。これは、現代のコンピュータ代数システムの基礎となっており、数学的な問題を解決するための自動化されたツールとして広く利用されています。"
      ],
      "text/plain": [
       "<IPython.core.display.Markdown object>"
      ]
     },
     "metadata": {},
     "output_type": "display_data"
    }
   ],
   "source": [
    "%%ai_continue\n",
    "Alfred Tarskiとコンピュータ代数について"
   ]
  },
  {
   "cell_type": "code",
   "execution_count": 1,
   "id": "34b471ab-23c0-4ec4-b93d-e190fd28fb5c",
   "metadata": {
    "tags": []
   },
   "outputs": [
    {
     "data": {
      "text/markdown": [
       "Mathematicaは、数学的な計算やデータ解析、可視化、プログラミングなどを行うための統合環境です。高度な数式処理やグラフィックス、機械学習、画像処理、音声処理などの機能を備えています。また、Wolfram言語と呼ばれる独自のプログラミング言語を使用して、高度な数学的な計算やデータ処理を行うことができます。Mathematicaは、科学技術分野や金融分野、教育分野などで広く使用されています。"
      ],
      "text/plain": [
       "<IPython.core.display.Markdown object>"
      ]
     },
     "metadata": {},
     "output_type": "display_data"
    }
   ],
   "source": [
    "%%ai_continue\n",
    "Mathematicaについて"
   ]
  },
  {
   "cell_type": "code",
   "execution_count": 4,
   "id": "e6c95eeb-1d24-4310-84c3-002c7243f1be",
   "metadata": {
    "tags": []
   },
   "outputs": [
    {
     "data": {
      "text/markdown": [
       "Mathematicaの名前は、英語の「mathematics（数学）」に由来しています。Mathematicaは、1988年にスティーブン・ウルフラムによって開発された数式処理システムで、数学的な計算やグラフ作成、データ解析などを行うことができます。Mathematicaは、高度な数学的な計算を行うことができるだけでなく、プログラミング言語としても利用することができます。また、Mathematicaは、多くの分野で利用されており、科学、工学、金融、医療、教育などの分野で広く使われています。"
      ],
      "text/plain": [
       "<IPython.core.display.Markdown object>"
      ]
     },
     "metadata": {},
     "output_type": "display_data"
    }
   ],
   "source": [
    "%%ai_continue\n",
    "Mathematicaの名前の由来は"
   ]
  },
  {
   "cell_type": "code",
   "execution_count": 6,
   "id": "481bc91c-b926-4350-9cba-e74c45a92963",
   "metadata": {
    "tags": []
   },
   "outputs": [
    {
     "data": {
      "text/markdown": [
       "Stephen Wolframに対するSteve Jobsのアドバイスについては、具体的には公に知られていません。ただし、Steve Jobsは、自身が率いるApple社がMathematicaを採用していたことがあり、Stephen Wolframとは親交があったとされています。また、Stephen Wolframは、自身のブログで、Steve Jobsとの出会いや交流について触れており、Jobsが自身の業績について語るときに、常に「どうやってそれをやったのか」という技術的な側面に興味を持っていたことを述べています。このように、Jobsは技術的な側面にも興味を持っていたことから、Stephen Wolframが開発したMathematicaやWolfram Alphaなどの技術に対して、興味を持っていた可能性があります。"
      ],
      "text/plain": [
       "<IPython.core.display.Markdown object>"
      ]
     },
     "metadata": {},
     "output_type": "display_data"
    }
   ],
   "source": [
    "%%ai_continue\n",
    "Stephen Wolframに対するSteven Jobsのアドバイスについて"
   ]
  },
  {
   "cell_type": "markdown",
   "id": "7c20ac99-70ed-4e47-840a-f5a0a5728438",
   "metadata": {},
   "source": [
    "* [Steve Jobs: A Few Memories—Stephen Wolfram Writings](https://writings.stephenwolfram.com/2011/10/steve-jobs-a-few-memories/)\n",
    "    - At first it had been Omega (yes, like Alpha) and later PolyMath. Steve thought those were lousy names. I gave him lists of names I’d considered, and pressed him for his suggestions. For a while he wouldn’t suggest anything. But then one day he said to me: “You should call it Mathematica”."
   ]
  },
  {
   "cell_type": "code",
   "execution_count": 1,
   "id": "20c79e8b-6eac-46d3-b1eb-a945e8737455",
   "metadata": {
    "tags": []
   },
   "outputs": [
    {
     "data": {
      "text/markdown": [
       "以下がMathematicaで書き直したプログラムです。\n",
       "\n",
       "```mathematica\n",
       "(* a, bを正の実数とする *)\n",
       "Assuming[{a > 0, b > 0},\n",
       " \n",
       " (* 相加相乗平均の不等式を表す式 *)\n",
       " ineq = Sqrt[a*b] <= (a + b)/2;\n",
       " \n",
       " (* 不等式を2乗すると、以下の式が得られる *)\n",
       " ineqSquared = lhs^2 - rhs^2 <= 0 /. ineq;\n",
       " \n",
       " (* 左辺を展開すると、以下の式が得られる *)\n",
       " lhsExpanded = Expand[ineqSquared[[1]]];\n",
       " \n",
       " (* 右辺を展開すると、以下の式が得られる *)\n",
       " rhsExpanded = Expand[ineqSquared[[2]]];\n",
       " \n",
       " (* 左辺と右辺を比較すると、以下の式が得られる *)\n",
       " comparison = lhsExpanded - rhsExpanded;\n",
       " \n",
       " (* 比較式を展開すると、以下の式が得られる *)\n",
       " comparisonExpanded = Expand[comparison];\n",
       " \n",
       " (* 比較式が0以下であることを示す *)\n",
       " Simplify[comparisonExpanded <= 0]\n",
       "]\n",
       "``` \n",
       "\n",
       "Mathematicaでは、`Assuming`を使って変数が正の実数であることを指定し、`Simplify`を使って式を簡単化しています。また、`/.`を使って式の代入を行っています。"
      ],
      "text/plain": [
       "<IPython.core.display.Markdown object>"
      ]
     },
     "metadata": {},
     "output_type": "display_data"
    }
   ],
   "source": [
    "%%ai_ask\n",
    "次のプログラムをMathematicaで書き直して下さい\n",
    "\n",
    "```python\n",
    "import sympy\n",
    "\n",
    "# a, bを正の実数とする\n",
    "a, b = sympy.symbols('a b', positive=True)\n",
    "\n",
    "# 相加相乗平均の不等式を表す式\n",
    "ineq = sympy.sqrt(a * b) <= (a + b) / 2\n",
    "\n",
    "# 不等式を2乗すると、以下の式が得られる\n",
    "ineq_squared = ineq.lhs**2 - ineq.rhs**2 <= 0\n",
    "\n",
    "# 左辺を展開すると、以下の式が得られる\n",
    "lhs_expanded = ineq_squared.lhs.expand()\n",
    "\n",
    "# 右辺を展開すると、以下の式が得られる\n",
    "rhs_expanded = ineq_squared.rhs.expand()\n",
    "\n",
    "# 左辺と右辺を比較すると、以下の式が得られる\n",
    "comparison = lhs_expanded - rhs_expanded\n",
    "\n",
    "# 比較式を展開すると、以下の式が得られる\n",
    "comparison_expanded = comparison.expand()\n",
    "\n",
    "# 比較式が0以下であることを示す\n",
    "assert comparison_expanded <= 0\n",
    "```"
   ]
  },
  {
   "cell_type": "code",
   "execution_count": null,
   "id": "0b4b0597-54dc-4937-beb9-4ad348e61569",
   "metadata": {},
   "outputs": [],
   "source": []
  }
 ],
 "metadata": {
  "kernelspec": {
   "display_name": "Python 3 (ipykernel)",
   "language": "python",
   "name": "python3"
  },
  "language_info": {
   "codemirror_mode": {
    "name": "ipython",
    "version": 3
   },
   "file_extension": ".py",
   "mimetype": "text/x-python",
   "name": "python",
   "nbconvert_exporter": "python",
   "pygments_lexer": "ipython3",
   "version": "3.10.11"
  }
 },
 "nbformat": 4,
 "nbformat_minor": 5
}
