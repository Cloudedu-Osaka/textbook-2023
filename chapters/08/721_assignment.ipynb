{
 "cells": [
  {
   "cell_type": "markdown",
   "id": "6d327f73-5d08-4cd8-8b1d-f3441fd32c33",
   "metadata": {},
   "source": [
    "# 先週の課題をMathematicaで実行してみる\n",
    "\n",
    "Mathematica (Wolfram Language) を実行するには、ラインセンスを取得する必要があるので、残念ながら今回の授業では実行出来ません･･･"
   ]
  },
  {
   "cell_type": "code",
   "execution_count": 1,
   "id": "e8a53b9c-e0c8-40fc-9740-c59b01cee164",
   "metadata": {
    "tags": []
   },
   "outputs": [
    {
     "ename": "ReplaceAll::reps",
     "evalue": "              a + b\n{Sqrt[a b] <= -----} is neither a list of replacement rules nor a valid dispatch table, and so cannot be used for replacing.\n                2",
     "output_type": "error",
     "traceback": [
      "\u001b[0;31m                                a + b\nReplaceAll::reps: {Sqrt[a b] <= -----} is neither a list of replacement rules nor a valid dispatch table, and so cannot be used for replacing.\n                                  2\u001b[0m"
     ]
    },
    {
     "data": {
      "text/html": [
       "<div><img alt=\"Output\" src=\"data:image/png;base64,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\"></div>"
      ],
      "text/plain": [
       "    2       2\n",
       "(lhs  <= rhs ) <= True"
      ]
     },
     "execution_count": 2,
     "metadata": {
      "text/html": [],
      "text/plain": []
     },
     "output_type": "execute_result"
    }
   ],
   "source": [
    "(* a, bを正の実数とする *)\n",
    "Assuming[{a > 0, b > 0},\n",
    " \n",
    " (* 相加相乗平均の不等式を表す式 *)\n",
    " ineq = Sqrt[a*b] <= (a + b)/2;\n",
    " \n",
    " (* 不等式を2乗すると、以下の式が得られる *)\n",
    " ineqSquared = lhs^2 - rhs^2 <= 0 /. ineq;\n",
    " \n",
    " (* 左辺を展開すると、以下の式が得られる *)\n",
    " lhsExpanded = Expand[ineqSquared[[1]]];\n",
    " \n",
    " (* 右辺を展開すると、以下の式が得られる *)\n",
    " rhsExpanded = Expand[ineqSquared[[2]]];\n",
    " \n",
    " (* 左辺と右辺を比較すると、以下の式が得られる *)\n",
    " comparison = lhsExpanded - rhsExpanded;\n",
    " \n",
    " (* 比較式を展開すると、以下の式が得られる *)\n",
    " comparisonExpanded = Expand[comparison];\n",
    " \n",
    " (* 比較式が0以下であることを示す *)\n",
    " Simplify[comparisonExpanded <= 0]\n",
    "]"
   ]
  },
  {
   "cell_type": "markdown",
   "id": "b9be4bc9-910c-4ca7-b947-451e56d4a36a",
   "metadata": {},
   "source": [
    "```ineqSquared = lhs^2 - rhs^2 <= 0 /. ineq```が間違っているので修正する"
   ]
  },
  {
   "cell_type": "code",
   "execution_count": 3,
   "id": "df125793-9f52-4830-952b-f4444c6acebf",
   "metadata": {
    "tags": []
   },
   "outputs": [
    {
     "data": {
      "text/html": [
       "<div><img alt=\"Output\" src=\"data:image/png;base64,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\"></div>"
      ],
      "text/plain": [
       "             a + b\n",
       "Sqrt[a b] <= -----\n",
       "               2"
      ]
     },
     "execution_count": 3,
     "metadata": {
      "text/html": [],
      "text/plain": []
     },
     "output_type": "execute_result"
    }
   ],
   "source": [
    "ineq = Sqrt[a * b] <= (a + b)/2"
   ]
  },
  {
   "cell_type": "code",
   "execution_count": 4,
   "id": "68a5f800-cc6a-4f3f-9f38-ca74ea3c9f93",
   "metadata": {
    "tags": []
   },
   "outputs": [
    {
     "data": {
      "text/html": [
       "<div><img alt=\"Output\" src=\"data:image/png;base64,iVBORw0KGgoAAAANSUhEUgAAADAAAAAfCAIAAAAumtkzAAAA0HpUWHRSYXcgcHJvZmlsZSB0eXBlIGV4aWYAAHjabU/tbQUhDPvPFB0hJMGBcbj3OKkbdPyaA7WiqiXixPkiaXx93uljQrMkL1HRACG8edNOp8rC4iztsQ9spxgfesr31jul8pvA2Pp16oHFWv8MEt2b5gb65rthDzJdeu4rvna99lrPQU0OwH++/m/sFoqCHE7rKhFo9GuiS0JRKYEbL4CFGW8Vf5EHItiGmBXWZ+OEjjirR4JReM8TbD6zTsZjg62Z3Kln2mJNL8btyc5zvgFTXlrE9Vp8VAAAAAlwSFlzAAAPYQAAD2EBqD+naQAAADx0RVh0U29mdHdhcmUAQ3JlYXRlZCB3aXRoIHRoZSBXb2xmcmFtIExhbmd1YWdlIDogd3d3LndvbGZyYW0uY29tXKKmhQAAACF0RVh0Q3JlYXRpb24gVGltZQAyMDIzOjA2OjA3IDEwOjIxOjU5BJMiqQAAA2RJREFUWIXNlz1I61AYhk+aa9NKFEGrFdS4dahUFBvEDuKgQyf/Rm1dXBRRJFAUBGcruAhBwT+yqIOgKDgpgiBi8JcWK8EidLAqFGKGkMbkDrmE3Jj2Nl7be9/pnI8333lycr5zTiBZlsH/pB+m3IIgTE5O2my274UIBAIej0dpQ6ZmiKbpaDQaCAS+F0griyn3xcWF1+vNE4oic0CxWMzlcuUJRZE5IEmSLBZzj5iViewcx6Eomj8URSaALi8vm5ub84eiyARQAVY0MAX09PRUV1f3tWEmJiYqKiq+GQgAAEHQl3hMKFegt7e3HF/xL5UrEE3TLS0tfzNSjrObK9DnFf3+/r6wsNDW1lZaWupwOPx+fywWy5LBarXG4/Genh4URcvLy4eHh1mW/TrQ6+urw+HQRoLBIEmS/f39Ozs74XCYYZiOjg6O4zJlSKVS7e3tXq93a2trdHR0Y2PD+EyUc5AkSWNjY7pgMpkURVHtRiIRAABFUYYZxsfHi4uL4/G4GpmbmwMA3N7e6py/zVA6nd7b2/sMnUgkamtrdcHKykoYhnmePzs7W11d3d7ehmGYYZhMM2S32+vr69Vud3c3AODq6kpn+3UfkiSJoqj19XUIgpxOJ47jWpPhlsgwzPT09P7+vtvtbmpqwjDMarXyPJ8JSKeysjIAQDKZNAaCIAiG4cPDw+fn51AotLm5qTXRND01NaWNsCzr8/k8Hs/Dw0NNTY0SDIfDOdIAAB4fHwEA1dXVurhFBRoYGEAQBMMwm82mqxeO40pKSrSRm5ubl5eX2dlZlYbn+Y+PjywEoigKgqB2l5aWEATp7Ow0BtKKIIj5+Xm1a3jlcLvdKIpSFMWyrCAIBwcHra2toihmAUqn0ziOkyS5u7s7NDS0trY2MzNTVVWl9xkWRV9fXyKRUNr39/eLi4ufPScnJziO2+12p9M5ODgYjUa7urpCoVCmKuvt7T0+PsZxHEEQl8u1vLxs6DQGOj09JQhCaVMUdX5+bmjLh4w3Rp/PF4lEUqkUAOD6+rqxsTHLt/heZdypR0ZGSJIEAAiCgCDIvwfy+/1HR0csyxYVFRWMJhuQxWIJBoMEQTQ0NBQSKNtZJggChmF3d3cFW9FypipTtbKyoj1BC6A//ErLslyAa6tW5v7tC6CfnymXjefdoX8AAAAASUVORK5CYII=\"></div>"
      ],
      "text/plain": [
       "Sqrt[a b]"
      ]
     },
     "execution_count": 4,
     "metadata": {
      "text/html": [],
      "text/plain": []
     },
     "output_type": "execute_result"
    }
   ],
   "source": [
    "(* lhs *)\n",
    "ineq[[1]]"
   ]
  },
  {
   "cell_type": "code",
   "execution_count": 5,
   "id": "73e12169-416a-4006-bff0-f9e40abfa079",
   "metadata": {
    "tags": []
   },
   "outputs": [
    {
     "data": {
      "text/html": [
       "<div><img alt=\"Output\" src=\"data:image/png;base64,iVBORw0KGgoAAAANSUhEUgAAADAAAAAuCAIAAADhvA07AAAAznpUWHRSYXcgcHJvZmlsZSB0eXBlIGV4aWYAAHjabU/rjYMhDPvPFDdCSMCBcfhaKt0GN/6ZR1tR1RKx4zyA0P9+H+FnQKOElL2gAkKkmqo2iiILi6PUGSdsl5gfftC+/UYrvwt4+tfpOxZr+Vgkum8aN1Bb2gN7kenyY1v5tfu1lXIuqnIA6fX0r3kyV2RET4xJxR2VugRKErJKdjxwA9gYcVdJN3KHO8fgo8PaGBzQ7md3DzAa9/EFG8eskTGjczSSG32djunFWKce3/kHUrtauqafKZoAAAAJcEhZcwAAD2EAAA9hAag/p2kAAAA8dEVYdFNvZnR3YXJlAENyZWF0ZWQgd2l0aCB0aGUgV29sZnJhbSBMYW5ndWFnZSA6IHd3dy53b2xmcmFtLmNvbVyipoUAAAAhdEVYdENyZWF0aW9uIFRpbWUAMjAyMzowNjowNyAxMDoyMjowM4uEkBwAAANASURBVFiF7Zg9SOtQFIBPaoukilGxmpaCSIpCC+Ii6uIPllCwICKCoLg46FpQcXQMbkWKouAPCOJiMxSUqksHB1HboUKFIJZKUayiYkqNaBzyCBJ9STB99vFevuncy+Hk4+YkuTcIz/PwN2EotICUHxKiaRpBkHg8rpj5v66Qen5UCEEQxRyp0MXFxdTUlMvlMpvNtbW1Y2NjDw8P+RLiOM7n81VXV5eUlHg8nkQi8UUS/4Hn5+eamprOzs7l5eVwODw7O1tWVub1enklVlZW5BOCwSAAWK3W8fHxUCgUCARwHLfZbCzLSjJBMk6n0x+HgUAAAFKplPz1+vv71Qhtbm6KM4eHhwAwNzcnyTRKFsxqtQLA7e1tNBo9Ozs7OjoCAIZh7Ha79lvmdDrFuLm52WaznZycSHKkQnt7ezMzM7FYrLW11eVyYRgGALlc7nP1x8fHSCQixFdXV6FQSIh7enrUNC8AlJeXX19fywkdHBx4PB6fz7ezs1NaWgoAsVjM7/d/We719fX+/l6IOY4TY5W8vb0lk8m2tjY5of39fZPJRFFUUVGRMPP09PS7ihUVFcPDw0JM07QYy5DNZsV4fX2dZVmv1ysn1NLSksvl1tbWRkZGWJbd2NigKErxMuoZHBwcHR1tbGw8Pj6mKIokyd7eXmmSpMkXFhYcDgeKogRBTE9P39zcFBcXb29vyz9Efr9f8SmrrKw8Pz/v6+szm804jk9MTGSz2c+ZCK9vP+TRhZTQhZTQhZT49aZOJpN3d3cFMbDb7RaLRSoUj8dPT08LItTd3f1RSH9TK6ELKaELKaFJKBKJkCSJYVhVVRVJksLJpmBCS0tLXV1d9fX1NE2vrq4ajcb29nY1/zcUkN96ysAwTDAYFIccx9XV1Q0NDX27oID0XKYegiAIghCHJpOpqanp8vJS4wLls6kTiURDQ4PWKhpXWGRra8tgMESjUY118iOUSqUsFsvk5KT2UnkQymQyTqfT7Xa/vLxor6b1a5/JZNxuN4qiu7u7wu8AjWhq6nQ63dHRgWFYOBzOiw1o2Q8xDEOSJM/zi4uLKIqK8w6HA8fx7xt9+2YPDAx8WXB+fr6QPZR3/q2v/Z/gHZcg0vXgeYSHAAAAAElFTkSuQmCC\"></div>"
      ],
      "text/plain": [
       "a + b\n",
       "-----\n",
       "  2"
      ]
     },
     "execution_count": 5,
     "metadata": {
      "text/html": [],
      "text/plain": []
     },
     "output_type": "execute_result"
    }
   ],
   "source": [
    "(* rhs *)\n",
    "ineq[[2]]"
   ]
  },
  {
   "cell_type": "code",
   "execution_count": 4,
   "id": "2a5a1d3e-583d-43fc-b6a4-e9517cb37221",
   "metadata": {
    "tags": []
   },
   "outputs": [
    {
     "data": {
      "text/html": [
       "<div><img alt=\"Output\" src=\"data:image/png;base64,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\"></div>"
      ],
      "text/plain": [
       "             2\n",
       "      (a + b)\n",
       "a b - -------- <= 0\n",
       "         4"
      ]
     },
     "execution_count": 4,
     "metadata": {
      "text/html": [],
      "text/plain": []
     },
     "output_type": "execute_result"
    }
   ],
   "source": [
    "ineqSquared = ineq[[1]]^2 - ineq[[2]]^2 <= 0"
   ]
  },
  {
   "cell_type": "code",
   "execution_count": 76,
   "id": "1b65ffb8-7b2a-4e69-bc7c-68dc000f8663",
   "metadata": {
    "tags": []
   },
   "outputs": [
    {
     "data": {
      "text/html": [
       "<div><img alt=\"Output\" src=\"data:image/png;base64,iVBORw0KGgoAAAANSUhEUgAAACwAAAAXCAIAAAD/Wzo4AAAAz3pUWHRSYXcgcHJvZmlsZSB0eXBlIGV4aWYAAHjabU/bDQMhDPtnio6QFw6Mw12p1A06fsOBWlHVErHjPIDUX89Hug0IU7LsBRWggFWr0kIUmpjMVK94Qc5V491P7MtvYeVvAX35x+471sLys4hkCh03hFZbA2uRyvS5zfxY/dJK2RdV2gD7PP1vbuqCDHaLaELuqKFLChmELJQdD5xANDLuQnYGd7jHGHx0aBuDA9J97+4JGsZ9fEHHUW3BuKLHKAc3Na0RWVmOyOtVHd95A1x3WsVk6pNxAAAACXBIWXMAAA9hAAAPYQGoP6dpAAAAPHRFWHRTb2Z0d2FyZQBDcmVhdGVkIHdpdGggdGhlIFdvbGZyYW0gTGFuZ3VhZ2UgOiB3d3cud29sZnJhbS5jb21coqaFAAAAIXRFWHRDcmVhdGlvbiBUaW1lADIwMjM6MDY6MDcgMTA6NDk6MTEk0LLQAAACB0lEQVRIie2Wv+s5cRzHXyfijgyku4GYRYpBpDOc4cI/IAy4/AVmoww2NpIyKrkkSRdlVjIwyuBHDBaDK7nPcJ/Pfa9vX0XJ5zt4TPd6vl7vd4/r/a47RBAE+G0Uvy0A8JH4w0fiB8V4PEbucz6f3yChdLlcw+FQLDiOKxaL9XrdYrGICYqib5AAQUaz2QSA5XIpvJdH7wTDMLFYDABqtZrb7UZRFMOwfr8PAPv9HkGQWq0mn7fZbAzDyJPRaBQKhXQ6nV6vj0aj8/lcaj1xMU+nUyKRqFar+Xx+NpuxLOvz+R5c22g0KIoymUwsy7bbbQzDAoHAZrP5bj94HJlMRqFQ0DR9uVz+au12OwCoVqvy0Gq1ZjIZ8flwOOh0umQyKXVvt5vH42EY5rnjAAAMwxqNhlqtfnyJSK/XO5/PuVxOShAEoWma4zixVD6+l9FoxHH8WQMA2G63AECSpDzkeV6r1T4tcQ+VSgUA1+v13gBBEADAsqzVapXnSqXyZRIGg0Gj0axWKylZLBbH41EqI5EIhmHdbrdUKv1zhxdIIAgSiUTq9TpFUU6nczKZFAoFs9ksDeA4Xi6Xs9nser2Ox+MEQazX61arlU6nw+EwvOrbUalUSJKMxWJ2u73T6QwGA6/XKx9Ip9PT6ZTn+VQqFQwG8/m8w+Hw+/3fryF8/qxEPhI//BcSX8ODctQPmI+2AAAAAElFTkSuQmCC\"></div>"
      ],
      "text/plain": [
       "True"
      ]
     },
     "execution_count": 77,
     "metadata": {
      "text/html": [],
      "text/plain": []
     },
     "output_type": "execute_result"
    }
   ],
   "source": [
    "(* a, bを正の実数とする *)\n",
    "Assuming[{a > 0, b > 0},\n",
    " \n",
    " (* 相加相乗平均の不等式を表す式 *)\n",
    " ineq = Sqrt[a*b] <= (a + b)/2;\n",
    " \n",
    " (* 不等式を2乗すると、以下の式が得られる *)\n",
    " ineqSquared = ineq[[1]]^2 - ineq[[2]]^2 <= 0;\n",
    " \n",
    " (* 左辺を展開すると、以下の式が得られる *)\n",
    " lhsExpanded = Expand[ineqSquared[[1]]];\n",
    " \n",
    " (* 右辺を展開すると、以下の式が得られる *)\n",
    " rhsExpanded = Expand[ineqSquared[[2]]];\n",
    " \n",
    " (* 左辺と右辺を比較すると、以下の式が得られる *)\n",
    " comparison = lhsExpanded - rhsExpanded;\n",
    " \n",
    " (* 比較式を展開すると、以下の式が得られる *)\n",
    " comparisonExpanded = Expand[comparison];\n",
    " \n",
    " (* 比較式が0以下であることを示す *)\n",
    " Simplify[comparisonExpanded <= 0]\n",
    "]"
   ]
  },
  {
   "cell_type": "code",
   "execution_count": 5,
   "id": "fb38c571-7353-441c-8ab3-43f2f55f0048",
   "metadata": {
    "tags": []
   },
   "outputs": [
    {
     "data": {
      "text/html": [
       "<div><img alt=\"Output\" src=\"data:image/png;base64,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\"></div>"
      ],
      "text/plain": [
       "                 2\n",
       "  1   2   a b   b\n",
       "-(-) a  + --- - --\n",
       "  4        2    4"
      ]
     },
     "execution_count": 5,
     "metadata": {
      "text/html": [],
      "text/plain": []
     },
     "output_type": "execute_result"
    }
   ],
   "source": [
    "lhsExpanded = Expand[ineqSquared[[1]]]"
   ]
  },
  {
   "cell_type": "code",
   "execution_count": 6,
   "id": "b0897e71-c7f1-4444-9b70-79c5d3696d9a",
   "metadata": {
    "tags": []
   },
   "outputs": [
    {
     "data": {
      "text/html": [
       "<div><pre style=\"&#102;&#111;&#110;&#116;&#45;&#102;&#97;&#109;&#105;&#108;&#121;&#58;&#32;&#34;&#67;&#111;&#117;&#114;&#105;&#101;&#114;&#32;&#78;&#101;&#119;&#34;&#44;&#67;&#111;&#117;&#114;&#105;&#101;&#114;&#44;&#109;&#111;&#110;&#111;&#115;&#112;&#97;&#99;&#101;&#59;\">&#48;</pre></div>"
      ],
      "text/plain": [
       "0"
      ]
     },
     "execution_count": 6,
     "metadata": {
      "text/html": [],
      "text/plain": []
     },
     "output_type": "execute_result"
    }
   ],
   "source": [
    "rhsExpanded = Expand[ineqSquared[[2]]]"
   ]
  },
  {
   "cell_type": "code",
   "execution_count": 7,
   "id": "a8dedf38-3edf-424b-ae3a-1f24ef4b7b35",
   "metadata": {
    "tags": []
   },
   "outputs": [
    {
     "data": {
      "text/html": [
       "<div><img alt=\"Output\" src=\"data:image/png;base64,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\"></div>"
      ],
      "text/plain": [
       "                 2\n",
       "  1   2   a b   b\n",
       "-(-) a  + --- - --\n",
       "  4        2    4"
      ]
     },
     "execution_count": 7,
     "metadata": {
      "text/html": [],
      "text/plain": []
     },
     "output_type": "execute_result"
    }
   ],
   "source": [
    "comparison = lhsExpanded - rhsExpanded"
   ]
  },
  {
   "cell_type": "code",
   "execution_count": 8,
   "id": "b7eb0e86-ad98-43dd-bed4-fa6b0cb01a7c",
   "metadata": {
    "tags": []
   },
   "outputs": [
    {
     "data": {
      "text/html": [
       "<div><img alt=\"Output\" src=\"data:image/png;base64,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\"></div>"
      ],
      "text/plain": [
       "                 2\n",
       "  1   2   a b   b\n",
       "-(-) a  + --- - --\n",
       "  4        2    4"
      ]
     },
     "execution_count": 8,
     "metadata": {
      "text/html": [],
      "text/plain": []
     },
     "output_type": "execute_result"
    }
   ],
   "source": [
    "comparisonExpanded = Expand[comparison]"
   ]
  },
  {
   "cell_type": "code",
   "execution_count": 9,
   "id": "34ba1b3f-3a7b-4833-9122-3d55bb0ee989",
   "metadata": {
    "tags": []
   },
   "outputs": [
    {
     "data": {
      "text/html": [
       "<div><img alt=\"Output\" src=\"data:image/png;base64,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\"></div>"
      ],
      "text/plain": [
       "       2\n",
       "(a - b)  >= 0"
      ]
     },
     "execution_count": 9,
     "metadata": {
      "text/html": [],
      "text/plain": []
     },
     "output_type": "execute_result"
    }
   ],
   "source": [
    "Simplify[comparisonExpanded <= 0]"
   ]
  },
  {
   "cell_type": "code",
   "execution_count": 10,
   "id": "98f9a750-3537-4794-9f48-e016ca644d96",
   "metadata": {
    "tags": []
   },
   "outputs": [
    {
     "data": {
      "text/html": [
       "<div><img alt=\"Output\" src=\"data:image/png;base64,iVBORw0KGgoAAAANSUhEUgAAACwAAAAXCAIAAAD/Wzo4AAAAz3pUWHRSYXcgcHJvZmlsZSB0eXBlIGV4aWYAAHjabU/RbQUhDPtnio4QkuDAONw9ntQNOn7NgVpR1YjEOImBNL4+3+ljQrMkL1HRACG8edNOUmVh5SztiQ/03rV86inH1jul8lvA2Pp16oFtWP8YiS5i8wZy8z2wjUyXnvs6X7tfe62nUZMD8J+n/3t2C0VBDmd0lQg08ppImVBUSuCNG2BjxkvFb+aBCI4hZof1OTihI87ukWAUXvMLNrdZZ8YTg6OZa3KaWLGqF1lbCr/zDVwlWsRLEUxOAAAACXBIWXMAAA9hAAAPYQGoP6dpAAAAPHRFWHRTb2Z0d2FyZQBDcmVhdGVkIHdpdGggdGhlIFdvbGZyYW0gTGFuZ3VhZ2UgOiB3d3cud29sZnJhbS5jb21coqaFAAAAIXRFWHRDcmVhdGlvbiBUaW1lADIwMjM6MDY6MDcgMTE6MDA6NTgXny2OAAACB0lEQVRIie2Wv+s5cRzHXyfijgyku4GYRYpBpDOc4cI/IAy4/AVmoww2NpIyKrkkSRdlVjIwyuBHDBaDK7nPcJ/Pfa9vX0XJ5zt4TPd6vl7vd4/r/a47RBAE+G0Uvy0A8JH4w0fiB8V4PEbucz6f3yChdLlcw+FQLDiOKxaL9XrdYrGICYqib5AAQUaz2QSA5XIpvJdH7wTDMLFYDABqtZrb7UZRFMOwfr8PAPv9HkGQWq0mn7fZbAzDyJPRaBQKhXQ6nV6vj0aj8/lcaj1xMU+nUyKRqFar+Xx+NpuxLOvz+R5c22g0KIoymUwsy7bbbQzDAoHAZrP5bj94HJlMRqFQ0DR9uVz+au12OwCoVqvy0Gq1ZjIZ8flwOOh0umQyKXVvt5vH42EY5rnjAAAMwxqNhlqtfnyJSK/XO5/PuVxOShAEoWma4zixVD6+l9FoxHH8WQMA2G63AECSpDzkeV6r1T4tcQ+VSgUA1+v13gBBEADAsqzVapXnSqXyZRIGg0Gj0axWKylZLBbH41EqI5EIhmHdbrdUKv1zhxdIIAgSiUTq9TpFUU6nczKZFAoFs9ksDeA4Xi6Xs9nser2Ox+MEQazX61arlU6nw+EwvOrbUalUSJKMxWJ2u73T6QwGA6/XKx9Ip9PT6ZTn+VQqFQwG8/m8w+Hw+/3fryF8/qxEPhI//BcSX8ODctQPmI+2AAAAAElFTkSuQmCC\"></div>"
      ],
      "text/plain": [
       "True"
      ]
     },
     "execution_count": 10,
     "metadata": {
      "text/html": [],
      "text/plain": []
     },
     "output_type": "execute_result"
    }
   ],
   "source": [
    "Simplify[comparisonExpanded <= 0, {a > 0, b > 0}]"
   ]
  },
  {
   "cell_type": "markdown",
   "id": "db3dc0ae-f8e2-453b-b9a2-0c18ee3b582d",
   "metadata": {
    "tags": []
   },
   "source": [
    "## 量化子を導入し消去する"
   ]
  },
  {
   "cell_type": "markdown",
   "id": "f427ff70-90a9-475b-a4d0-13d25929d337",
   "metadata": {},
   "source": [
    "* [Quantifier (logic) - Wikipedia](https://en.wikipedia.org/wiki/Quantifier_%28logic%29)\n",
    "    - [Universal quantification - Wikipedia](https://en.wikipedia.org/wiki/Universal_quantification) (全称記号: ∀)\n",
    "    - [Existential quantification - Wikipedia](https://en.wikipedia.org/wiki/Existential_quantification) (存在記号: ∃)"
   ]
  },
  {
   "cell_type": "markdown",
   "id": "3d9b1ba1-ef57-4af4-ac30-45283b62cd3d",
   "metadata": {},
   "source": [
    "* [Quantifier elimination - Wikipedia](https://en.wikipedia.org/wiki/Quantifier_elimination)\n",
    "    - [Cylindrical algebraic decomposition - Wikipedia](https://en.wikipedia.org/wiki/Cylindrical_algebraic_decomposition)\n",
    "    - [CylindricalDecomposition—Wolfram Language Documentation](https://reference.wolfram.com/language/ref/CylindricalDecomposition.html)\n",
    "        - finds a decomposition of the region represented by the statement _expr_ into cylindrical parts whose directions correspond to the successive _x_${}_{i}$."
   ]
  },
  {
   "cell_type": "markdown",
   "id": "61d2dde7-e6f1-418b-aca3-294b1d3049a3",
   "metadata": {},
   "source": [
    "* [ForAll—Wolfram Language Documentation](https://reference.wolfram.com/language/ref/ForAll.html)\n",
    "    - represents the statement that _expr_ is `True` for all values of _x_.\n",
    "    - _x_ のすべての値について _expr_ が`True`であると宣言する．"
   ]
  },
  {
   "cell_type": "code",
   "execution_count": 11,
   "id": "2bf836d0-a162-48c4-800d-9112463dff9c",
   "metadata": {
    "tags": []
   },
   "outputs": [
    {
     "data": {
      "text/html": [
       "<div><img alt=\"Output\" src=\"data:image/png;base64,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\"></div>"
      ],
      "text/plain": [
       "                                2\n",
       "                 1   2   a b   b\n",
       "ForAll[{a, b}, -(-) a  + --- - -- <= 0]\n",
       "                 4        2    4"
      ]
     },
     "execution_count": 11,
     "metadata": {
      "text/html": [],
      "text/plain": []
     },
     "output_type": "execute_result"
    }
   ],
   "source": [
    "ForAll[{a,b}, comparisonExpanded<=0]"
   ]
  },
  {
   "cell_type": "markdown",
   "id": "b68bc94d-7ca5-468b-ac5a-b782b6480a84",
   "metadata": {},
   "source": [
    "* [Resolve—Wolfram Language Documentation](https://reference.wolfram.com/language/ref/Resolve.html)\n",
    "    - attempts to resolve _expr_ into a form that eliminates ForAll and Exists quantifiers.\n",
    "    - _expr_ を限定子ForAllとExistsを除去した形に結合しようと試みる．"
   ]
  },
  {
   "cell_type": "code",
   "execution_count": 13,
   "id": "6fb51f30-9e3a-4ec7-8d7a-01fb3481bd2a",
   "metadata": {
    "tags": []
   },
   "outputs": [
    {
     "data": {
      "text/html": [
       "<div><img alt=\"Output\" src=\"data:image/png;base64,iVBORw0KGgoAAAANSUhEUgAAACwAAAAXCAIAAAD/Wzo4AAAAznpUWHRSYXcgcHJvZmlsZSB0eXBlIGV4aWYAAHjabU/ZbQUhDPynipTgizGUw+7jSekg5cdeUCKiDMIejw9wmV+f7/KREKZi1Rs6QAHr1mUEabSwPFN/7AO5d45PvbBvfYRUfxOYW79O3bEHtj+DSBbRfCG42m7Yg1SWzmPF166X0do5qNMB2M/X/41NXVDBbmFNyB09eCtBw6EKVccbNxCFjJeQ3eEn3KMNnhU6sjEh08/qWaAhvHIFzas6wuOxHq0cJ3laUZYreH+UXOcbW5Vau41HgckAAAAJcEhZcwAAD2EAAA9hAag/p2kAAAA8dEVYdFNvZnR3YXJlAENyZWF0ZWQgd2l0aCB0aGUgV29sZnJhbSBMYW5ndWFnZSA6IHd3dy53b2xmcmFtLmNvbVyipoUAAAAhdEVYdENyZWF0aW9uIFRpbWUAMjAyMzowNjowNyAxMTowMToyMZm+ZIgAAAIHSURBVEiJ7Za/6zlxHMdfJ+KODKS7gZhFikGkM5zhwj8gDLj8BWajDDY2kjIquSRJF2VWMjDK4EcMFoMruc9wn899r29fRcnnO3hM93q+Xu93j+v9rjtEEAT4bRS/LQDwkfjDR+IHxXg8Ru5zPp/fIKF0uVzD4VAsOI4rFov1et1isYgJiqJvkABBRrPZBIDlcim8l0fvBMMwsVgMAGq1mtvtRlEUw7B+vw8A+/0eQZBarSaft9lsDMPIk9FoFAqFdDqdXq+PRqPz+VxqPXExT6dTIpGoVqv5fH42m7Es6/P5HlzbaDQoijKZTCzLttttDMMCgcBms/luP3gcmUxGoVDQNH25XP5q7XY7AKhWq/LQarVmMhnx+XA46HS6ZDIpdW+3m8fjYRjmueMAAAzDGo2GWq1+fIlIr9c7n8+5XE5KEAShaZrjOLFUPr6X0WjEcfxZAwDYbrcAQJKkPOR5XqvVPi1xD5VKBQDX6/XeAEEQAMCyrNVqledKpfJlEgaDQaPRrFYrKVksFsfjUSojkQiGYd1ut1Qq/XOHF0ggCBKJROr1OkVRTqdzMpkUCgWz2SwN4DheLpez2ex6vY7H4wRBrNfrVquVTqfD4TC86ttRqVRIkozFYna7vdPpDAYDr9crH0in09PplOf5VCoVDAbz+bzD4fD7/d+vIXz+rEQ+Ej/8FxJfw4Ny1A+Yj7YAAAAASUVORK5CYII=\"></div>"
      ],
      "text/plain": [
       "True"
      ]
     },
     "execution_count": 13,
     "metadata": {
      "text/html": [],
      "text/plain": []
     },
     "output_type": "execute_result"
    }
   ],
   "source": [
    "Resolve[ForAll[{a,b}, comparisonExpanded <= 0]]"
   ]
  },
  {
   "cell_type": "code",
   "execution_count": null,
   "id": "e98eea35-5077-49d2-bfed-505326e029bb",
   "metadata": {},
   "outputs": [],
   "source": []
  }
 ],
 "metadata": {
  "kernelspec": {
   "display_name": "Wolfram Language 13.2",
   "language": "Wolfram Language",
   "name": "wolframlanguage13.2"
  },
  "language_info": {
   "codemirror_mode": "mathematica",
   "file_extension": ".m",
   "mimetype": "application/vnd.wolfram.m",
   "name": "Wolfram Language",
   "pygments_lexer": "mathematica",
   "version": "12.0"
  }
 },
 "nbformat": 4,
 "nbformat_minor": 5
}
