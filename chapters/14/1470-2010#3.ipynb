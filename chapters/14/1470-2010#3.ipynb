{
 "cells": [
  {
   "cell_type": "markdown",
   "id": "a472c53b-0e84-4658-a534-ae2e9534326c",
   "metadata": {},
   "source": [
    "# 2010年度 情報関係基礎 第３問 問3"
   ]
  },
  {
   "cell_type": "markdown",
   "id": "18872d69-33b9-40ef-bba0-4b0d7a29effc",
   "metadata": {},
   "source": [
    "## 課題) ChatGPTとの対話で問３が解答可能か挑戦する"
   ]
  },
  {
   "cell_type": "markdown",
   "id": "d4b0dbe7-8e74-491e-92ec-4bc36a6b672c",
   "metadata": {},
   "source": [
    "## 問３"
   ]
  },
  {
   "cell_type": "markdown",
   "id": "76a89b74-a1e9-44bf-92ad-d35230728db2",
   "metadata": {
    "tags": []
   },
   "source": [
    "次の文章を読み、\n",
    "図中の空欄【サ】〜【セ】および文中の空欄【ソ】に入れるのに最も適当なものを、\n",
    "次ページのそれぞれの解答群のうちから一つずつ選べ。"
   ]
  },
  {
   "cell_type": "markdown",
   "id": "760cb539-3840-4806-a9ee-b512754e9e60",
   "metadata": {},
   "source": [
    "変数`x`に格納された数を漢数字表示する手続きを図３に示す。\n",
    "例えば、123456789を１億２３４５万６７８９とみると、\n",
    "4桁ごとに区切られて、「億」、「万」という大きな位を表す文字が挿入されることがわかる。"
   ]
  },
  {
   "cell_type": "markdown",
   "id": "9261860a-7da5-4dad-97bf-cf2beeafa95d",
   "metadata": {},
   "source": [
    "なお、変数に格納できる整数の範囲が$2^{31}$未満であると仮定すると、\n",
    "「万」「億」『兆」のような大きな位を表す文字は、「億」まで用意しておけば十分である。"
   ]
  },
  {
   "cell_type": "markdown",
   "id": "619d95a4-586b-4747-acf6-470947c073e5",
   "metadata": {
    "tags": []
   },
   "source": [
    "```python\n",
    "(01)〜(05) # (図1 文字の配列を初期化する手続き)\n",
    "(06)〜(08) OkinaKuraiMoji = (\"\", \"\", \"万\", \"億\")\n",
    "(09)       okinaKurai = 【サ】\n",
    "(10)       for kugiri in range(3, 0, -1):\n",
    "(11)         【シ】\n",
    "(12)          if n != 0:\n",
    "(13)〜(26)        # (図2 一万未満の数nを漢数字表示する手続き)\n",
    "(27)              print(n, OkinaKuraiMoji[kugiri])\n",
    "(28)          # end if\n",
    "(29)         【ス】\n",
    "(30)         【セ】\n",
    "(31)       # end for\n",
    "```"
   ]
  },
  {
   "cell_type": "markdown",
   "id": "407410e0-4893-45f1-94de-73f158f3d801",
   "metadata": {},
   "source": [
    "図３ 数`x`を漢数字表示する手続き"
   ]
  },
  {
   "cell_type": "markdown",
   "id": "c882bf42-dfc9-4fba-86d7-847d420ccca6",
   "metadata": {},
   "source": [
    "図３の手続きは、10000000を「千万」と表示する。\n",
    "これを「一千万」と表示するには、\n",
    "図４の手続きを図３の[ソ]の直後に挿入すれば良い。"
   ]
  },
  {
   "cell_type": "markdown",
   "id": "84c3039b-0d64-4186-b586-e8aa8c7379a3",
   "metadata": {},
   "source": [
    "```python\n",
    "if n == 1000 & kugiri != 1:\n",
    "  print(\"一\", end=\"\")\n",
    "# end if\n",
    "```"
   ]
  },
  {
   "cell_type": "markdown",
   "id": "e520faa6-2631-4cbd-9693-3650fd4b019b",
   "metadata": {},
   "source": [
    "図４ 「一千万」の「一」を表示するために挿入される手続き"
   ]
  },
  {
   "cell_type": "markdown",
   "id": "518ecadb-ecce-40d1-b84d-648de9016a4b",
   "metadata": {},
   "source": [
    "【サ】の解答群:"
   ]
  },
  {
   "cell_type": "markdown",
   "id": "c111300b-9654-4a68-b25a-b592cea3bc24",
   "metadata": {},
   "source": [
    "0. `0`\n",
    "1. `1`\n",
    "2. `10_000_000` (一千万)\n",
    "3. `10`\n",
    "4. `100`\n",
    "5. `100_000_000` (一億)\n",
    "6. `1_000`\n",
    "7. `10_000`\n",
    "8. `1_000_000_000_000` (一兆)"
   ]
  },
  {
   "cell_type": "markdown",
   "id": "8d7190c2-a421-4ee6-97cf-c3e41bc42e75",
   "metadata": {},
   "source": [
    "【シ】〜【セ】の解答群:"
   ]
  },
  {
   "cell_type": "markdown",
   "id": "3ccb3b05-ed41-4af5-8f93-92189cbe1dbf",
   "metadata": {},
   "source": [
    "0. `x = x % okinaKurai`\n",
    "1. `n = x // 10`\n",
    "2. `n = x // okinaKurai`\n",
    "3. `n = x // 10_000`\n",
    "4. `okinaKurai = okinaKurai - 1`\n",
    "5. `x = x // 10_000`\n",
    "6. `okinaKurai = okinaKurai + 1`\n",
    "7. `n = x % 10`\n",
    "8. `okinaKurai = okinaKurai // 10`\n",
    "9. `n = x % 10_000`\n",
    "10. `okinaKurai = okinaKurai // 10_000`\n",
    "11. `x = x % 10_000`"
   ]
  },
  {
   "cell_type": "markdown",
   "id": "31088a8a-780e-4d87-ae74-a4d2e1323571",
   "metadata": {},
   "source": [
    "【ソ】の解答群:"
   ]
  },
  {
   "cell_type": "markdown",
   "id": "6c503c3e-80ac-4a86-9f66-3be7320b50df",
   "metadata": {
    "tags": []
   },
   "source": [
    "0. (12)行目\n",
    "1. (26)行目\n",
    "2. (28)行目\n",
    "3. (30)行目"
   ]
  },
  {
   "cell_type": "markdown",
   "id": "7a3b1a5c-2f42-4980-bde8-3455695b4a7c",
   "metadata": {},
   "source": [
    "## 参考"
   ]
  },
  {
   "cell_type": "markdown",
   "id": "c4059439-3e8f-4450-8304-d8ab6297bbb6",
   "metadata": {},
   "source": [
    "### 情報処理学会の問題作成部会の見解"
   ]
  },
  {
   "cell_type": "markdown",
   "id": "1b2b6a8d-c544-4e7b-8186-5d354694c47a",
   "metadata": {},
   "source": [
    "問３ \n",
    "１万以上の場合も含めた漢数字表示を行う手続きを題材に、手続きを読み取り構成する\n",
    "能力を問う問題である。提示された手続きの一部として前問の手続きがそのまま使われており、本問の手続きを見通しよく読み取るには、この部分を一つのモジュールとして理解することが望ましい。\n",
    "前問の１桁ずつ取り出す手続きは常套手段であるとの意見もいただいているが、本問では応用的に数を４桁ずつ取り出す手続きを構成させる設問となっている。\n",
    "なお、$2^{31}$と「億」についての説明は、手続きを設計する際に留意すべき点であることから、述べたものである。\n",
    "また、この第３問のような手続きを構成する問題では、他の試験問題と異なり、試験後に実際に動作させて試してみる受験者がいる可能性もある。現在最も普及している計算機における整数の扱いに合わせて、約20億までの値でしか正しく動作しないことを何らかの形で伝えておく必要もあるものと考えられる。"
   ]
  },
  {
   "cell_type": "markdown",
   "id": "b07012c5-94e1-4874-8c8a-74760fbd287f",
   "metadata": {},
   "source": [
    "試験結果の統計情報を見ると、okinaKurai の初期値や整数除算によって上位桁を取り出す部分については、全体で約３～４割、ほぼ予想したとおりの正答率となった。\n",
    "しかし、`okinaKurai`と`ｘ`を更新する[ス]・[セ]については、全体で約２割と予想よりも低い正答率であった。誤答の中では、10 との除算を選択した者も多く、４桁ごとに区切らねばならないことを理解していないようにも思われる。\n",
    "また、問３の設問はいずれも１割以上がノーマークであり、解答に至らなかった者が若干多かったようである。その理由としては、問２の手続きの理解に時間がかかったのではないかとも思われる。"
   ]
  },
  {
   "cell_type": "markdown",
   "id": "f2d7c934-ba6b-42a7-90cc-ceb0ccdce2c8",
   "metadata": {},
   "source": [
    "### ChatGPTとの応答例"
   ]
  },
  {
   "cell_type": "code",
   "execution_count": 6,
   "id": "374f634b-8fb0-4bc9-9ccd-baf69fe445c7",
   "metadata": {
    "tags": []
   },
   "outputs": [
    {
     "data": {
      "text/markdown": [
       "以下は、Pythonで4桁の十進整数を漢数字に変換するコード例です。\n",
       "\n",
       "```python\n",
       "def to_kanji(num):\n",
       "    # 桁ごとの漢数字を定義\n",
       "    kanji_digits = [\"\", \"千\", \"百\", \"十\"]\n",
       "    kanji_numbers = [\"\", \"一\", \"二\", \"三\", \"四\", \"五\", \"六\", \"七\", \"八\", \"九\"]\n",
       "    \n",
       "    # 整数を文字列に変換して、桁数を取得\n",
       "    num_str = str(num)\n",
       "    num_len = len(num_str)\n",
       "    \n",
       "    # 桁ごとに漢数字に変換\n",
       "    kanji_str = \"\"\n",
       "    for i in range(num_len):\n",
       "        digit = int(num_str[i])\n",
       "        if digit != 0:\n",
       "            kanji_str += kanji_numbers[digit] + kanji_digits[num_len-i-1]\n",
       "    \n",
       "    return kanji_str\n",
       "```\n",
       "\n",
       "この関数を使って、例えば「1234」を漢数字に変換する場合は、以下のように呼び出します。\n",
       "\n",
       "```python\n",
       "to_kanji(1234)  # \"千二百三十四\"\n",
       "```"
      ],
      "text/plain": [
       "<IPython.core.display.Markdown object>"
      ]
     },
     "metadata": {},
     "output_type": "display_data"
    }
   ],
   "source": [
    "%%ai_ask\n",
    "pythonで、4桁の十進整数を漢数字に変換する"
   ]
  },
  {
   "cell_type": "code",
   "execution_count": 7,
   "id": "d0952d28-9825-449f-8406-3d8ef56674c4",
   "metadata": {
    "tags": []
   },
   "outputs": [
    {
     "data": {
      "text/markdown": [
       "以下は、Pythonで4桁ごとを括って、万、億、兆の桁を表示するコード例です。先程のコードに、桁数を判定して万、億、兆の桁を追加する処理を追加しています。\n",
       "\n",
       "```python\n",
       "def to_kanji(num):\n",
       "    # 桁ごとの漢数字を定義\n",
       "    kanji_digits = [\"\", \"千\", \"百\", \"十\"]\n",
       "    kanji_numbers = [\"\", \"一\", \"二\", \"三\", \"四\", \"五\", \"六\", \"七\", \"八\", \"九\"]\n",
       "    kanji_units = [\"\", \"万\", \"億\", \"兆\"]\n",
       "    \n",
       "    # 整数を文字列に変換して、桁数を取得\n",
       "    num_str = str(num)\n",
       "    num_len = len(num_str)\n",
       "    \n",
       "    # 桁ごとに漢数字に変換\n",
       "    kanji_str = \"\"\n",
       "    for i in range(num_len):\n",
       "        digit = int(num_str[i])\n",
       "        if digit != 0:\n",
       "            kanji_str += kanji_numbers[digit] + kanji_digits[num_len-i-1]\n",
       "        # 4桁ごとに区切って、万、億、兆の桁を追加\n",
       "        if (num_len-i-1) % 4 == 0 and i != num_len-1:\n",
       "            unit = kanji_units[(num_len-i-1) // 4]\n",
       "            if kanji_str[-len(unit):] != unit:\n",
       "                kanji_str += unit\n",
       "    \n",
       "    return kanji_str\n",
       "```\n",
       "\n",
       "この関数を使って、例えば「1234567890123456」を漢数字に変換する場合は、以下のように呼び出します。\n",
       "\n",
       "```python\n",
       "to_kanji(1234567890123456)  # \"千二百三十四兆五千六百七十八億九千百一十二万三千四百五十六\"\n",
       "```"
      ],
      "text/plain": [
       "<IPython.core.display.Markdown object>"
      ]
     },
     "metadata": {},
     "output_type": "display_data"
    }
   ],
   "source": [
    "%%ai_continue\n",
    "さらに4桁ごとを括って、万、億、兆の桁を表示する"
   ]
  }
 ],
 "metadata": {
  "kernelspec": {
   "display_name": "Python 3 (ipykernel)",
   "language": "python",
   "name": "python3"
  },
  "language_info": {
   "codemirror_mode": {
    "name": "ipython",
    "version": 3
   },
   "file_extension": ".py",
   "mimetype": "text/x-python",
   "name": "python",
   "nbconvert_exporter": "python",
   "pygments_lexer": "ipython3",
   "version": "3.10.11"
  }
 },
 "nbformat": 4,
 "nbformat_minor": 5
}
