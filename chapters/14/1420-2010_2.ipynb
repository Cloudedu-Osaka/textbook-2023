{
 "cells": [
  {
   "cell_type": "markdown",
   "id": "df52fbfc-bbce-4007-9335-d747d0e64aef",
   "metadata": {},
   "source": [
    "# 2010年度 情報関係基礎 第３問 問2"
   ]
  },
  {
   "cell_type": "markdown",
   "id": "e913d5a6-4ee3-4c95-9c64-2cba73c890c4",
   "metadata": {
    "tags": []
   },
   "source": [
    "## 問２"
   ]
  },
  {
   "cell_type": "markdown",
   "id": "44e36146-35ad-4e1f-bf9f-46aa0bd61da7",
   "metadata": {
    "tags": []
   },
   "source": [
    "次の文章を読み、\n",
    "図中の空欄[オ]〜[コ]に入れるのに最も適当なものを、\n",
    "次ページのそれぞれの解答群のうちから一つずつ選べ。"
   ]
  },
  {
   "cell_type": "markdown",
   "id": "b4f3e036-009b-4772-a7fd-9b6126fa6342",
   "metadata": {},
   "source": [
    "図１のように、\n",
    "配列`Suji`と配列`KuraiMoji`に、漢数字を格納しておく。\n",
    "なお`Suji[1]`と`KuraiMoji[1]`には、空文字を格納しておく。"
   ]
  },
  {
   "cell_type": "markdown",
   "id": "91189afb-b3f5-4c95-ace1-fa7ac17db372",
   "metadata": {
    "tags": []
   },
   "source": [
    "```python\n",
    "Suji = (\"\", \"\", \"二\", \"三\", \"四\", \"五\", \"六\", \"七\", \"八\", \"九\")\n",
    "KuraiMoji = (\"\", \"\", \"十\", \"百\", \"千\")\n",
    "```"
   ]
  },
  {
   "cell_type": "markdown",
   "id": "5a62b851-bd58-43ed-8064-ac41395be9c3",
   "metadata": {},
   "source": [
    "図１ 文字の配列を初期化する手続き"
   ]
  },
  {
   "cell_type": "markdown",
   "id": "a35b45d7-ddf4-45bf-958f-65f930745af9",
   "metadata": {},
   "source": [
    "一万未満の数`n`を漢数字で表示する手続きを図２に示す。\n",
    "ただし、二つの整数`a>=0`、`b>0`に対し、\n",
    "`a//b`は`a`を`b`で割った商の整数部分を、\n",
    "`a%b`は`a`を`b`で割った余りを、それぞれ計算する。"
   ]
  },
  {
   "cell_type": "markdown",
   "id": "a0385069-5950-44b9-aac3-aed9a554acfb",
   "metadata": {
    "tags": []
   },
   "source": [
    "```python\n",
    "kurai = 1000\n",
    "for keta in range(4, 0, -1):\n",
    "    d = n // kurai\n",
    "    if d != 0:\n",
    "        if 【オ】:\n",
    "            print(【カ】, end=\"\")\n",
    "        else:\n",
    "            print(【キ】, end=\"\")\n",
    "            print(【ク】, end=\"\")\n",
    "        # end if\n",
    "    # end if\n",
    "    n = 【ケ】 % 【コ】\n",
    "    kurai = kurai // 10\n",
    "# end for\n",
    "```"
   ]
  },
  {
   "cell_type": "markdown",
   "id": "af4ba0d3-dfa6-4d2f-bb8b-dca45ee844fb",
   "metadata": {},
   "source": [
    "図２ 一万未満の数`n`を漢数字表示する手続き"
   ]
  },
  {
   "cell_type": "markdown",
   "id": "b84f029b-7268-422c-90df-fafeeb011108",
   "metadata": {},
   "source": [
    "[オ]の解答群:"
   ]
  },
  {
   "cell_type": "markdown",
   "id": "d3841690-6343-485d-9c54-67aff384b98a",
   "metadata": {},
   "source": [
    "0. `keta != 1`\n",
    "1. `keta == 1`\n",
    "2. `d == 1 and keta != 1`\n",
    "3. `d == 1 and keta == 1`\n",
    "4. `d >= 2 and keta != 1`\n",
    "5. `d >= 2 and keta == 1`"
   ]
  },
  {
   "cell_type": "markdown",
   "id": "37d090ad-7b74-49f3-8f0a-d5f64701c9a5",
   "metadata": {},
   "source": [
    "[カ]〜[ク]の解答群:"
   ]
  },
  {
   "cell_type": "markdown",
   "id": "205927aa-2187-4907-87e8-aa1b89974e01",
   "metadata": {},
   "source": [
    "0. `\"一\"`\n",
    "1.  `Suji[d]`\n",
    "2. `KuraiMoji[d]`\n",
    "3. `\"十\"`\n",
    "4. `Suji[keta]`\n",
    "5. `KuraiMoji[keta]`\n",
    "6. `\"百\"`\n",
    "7. `Suji[n]`\n",
    "8. `KuraiMoji[n]`\n",
    "9. `\"千\"`\n",
    "10. `Suji[kurai]` (註: マークシートは \"a\")\n",
    "11. `KuraiMoji[kurai]` (註: マークシートは \"b\")"
   ]
  },
  {
   "cell_type": "markdown",
   "id": "3d28a77a-9b3c-4657-96c7-279140779aed",
   "metadata": {},
   "source": [
    "[ケ]・[コ]の解答群:"
   ]
  },
  {
   "cell_type": "markdown",
   "id": "d70f3c30-5983-493c-9fd2-a5d710f6973e",
   "metadata": {},
   "source": [
    "0. `d`\n",
    "1. `10`\n",
    "2. `keta`\n",
    "3. `n`\n",
    "4. `1000`\n",
    "5. `kurai`"
   ]
  },
  {
   "cell_type": "markdown",
   "id": "f92ce312-bfec-4f67-a932-d699655754da",
   "metadata": {},
   "source": [
    "## 問１の仕様に基づいてChatGPTと応答することで問２を解く (in Python)"
   ]
  },
  {
   "cell_type": "markdown",
   "id": "fcff678f-bd34-4599-a708-1854a6adfe15",
   "metadata": {},
   "source": [
    "### 一万未満の数（正の整数値）を漢数字で表示する手続きの仕様"
   ]
  },
  {
   "cell_type": "markdown",
   "id": "08967f38-116a-438a-a24b-f44d249373fa",
   "metadata": {},
   "source": [
    "* 正の整数値を漢数字で表示する手順を考えよう。\n",
    "* まず、一万未満の数を表示することを考えよう。\n",
    "  与えられた数の千の位、百の位、十の位、一の位の順に、一桁ずつ処理をする。\n",
    "* 5023の百の位のように、数字が0の桁では、何も表示しない。\n",
    "* 1211のように1が含まれる場合、数字が1の桁では、一の位ならば、「一」を表示する。\n",
    "  それ以外の位ならば、その桁の位を表す文字のみを漢字で表示する。\n",
    "* 2345の各桁のように、数字が2以上の場合、一の位ならば、その桁の数字のみを漢字で表示する。 \n",
    "  それ以外の位ならば、その桁の数字と位を表す文字を漢字で表示する。"
   ]
  },
  {
   "cell_type": "code",
   "execution_count": null,
   "id": "533a0e8b-0a5c-4e95-a543-ade00ba2206b",
   "metadata": {
    "tags": []
   },
   "outputs": [],
   "source": [
    "%%ai_ask\n",
    "今からpythonでプログラミングする。"
   ]
  },
  {
   "cell_type": "code",
   "execution_count": null,
   "id": "fff90f4e-76a0-415c-a594-9f6e323d0faa",
   "metadata": {
    "tags": []
   },
   "outputs": [],
   "source": [
    "%%ai_continue\n",
    "正の整数値を漢数字で表示する手順を考えよう。"
   ]
  },
  {
   "cell_type": "code",
   "execution_count": null,
   "id": "6ca82589-dcde-469d-96b9-5f2b2c2ffa29",
   "metadata": {},
   "outputs": [],
   "source": [
    "%%ai_continue\n"
   ]
  },
  {
   "cell_type": "code",
   "execution_count": null,
   "id": "353b9361-0ff8-4a23-ae92-3eecca3db63e",
   "metadata": {},
   "outputs": [],
   "source": []
  }
 ],
 "metadata": {
  "kernelspec": {
   "display_name": "Python 3 (ipykernel)",
   "language": "python",
   "name": "python3"
  },
  "language_info": {
   "codemirror_mode": {
    "name": "ipython",
    "version": 3
   },
   "file_extension": ".py",
   "mimetype": "text/x-python",
   "name": "python",
   "nbconvert_exporter": "python",
   "pygments_lexer": "ipython3",
   "version": "3.10.11"
  }
 },
 "nbformat": 4,
 "nbformat_minor": 5
}
