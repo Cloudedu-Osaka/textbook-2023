{
 "cells": [
  {
   "cell_type": "markdown",
   "id": "837cab01-3f02-49d4-8433-1c024e2c49a1",
   "metadata": {},
   "source": [
    "## Pythonの配列と辞書と表"
   ]
  },
  {
   "cell_type": "markdown",
   "id": "30f33943-577d-45ee-a031-3572660c3f03",
   "metadata": {},
   "source": [
    "* Pythonのデータ構造\n",
    "    - リスト\n",
    "    - 不変なリスト (tuple)\n",
    "    - 辞書\n",
    "* Pythonのデータ構造\n",
    "    - 配列\n",
    "        - numpy array\n",
    "    - 表 (テーブル)\n",
    "        - pandas dataframe"
   ]
  },
  {
   "cell_type": "code",
   "execution_count": 1,
   "id": "225b489b-8de5-41a7-802a-982a374786d6",
   "metadata": {
    "tags": []
   },
   "outputs": [
    {
     "data": {
      "text/markdown": [
       "Pythonには、配列、辞書、テーブルの3つのデータ構造があります。\n",
       "\n",
       "配列は、同じ種類のデータを順序付けて格納するためのデータ構造です。Pythonでは、リストと呼ばれます。リストは、角かっこで囲まれた要素のカンマ区切りのリストで表されます。例えば、[1, 2, 3, 4, 5]は、整数のリストです。\n",
       "\n",
       "辞書は、キーと値のペアを格納するためのデータ構造です。Pythonでは、波かっこで囲まれたキーと値のペアのカンマ区切りのリストで表されます。例えば、{'apple': 1, 'banana': 2, 'orange': 3}は、果物の名前とそれぞれの番号を表す辞書です。\n",
       "\n",
       "テーブルは、行と列の形式でデータを格納するためのデータ構造です。Pythonでは、pandasというライブラリを使用して、データフレームと呼ばれるテーブルを作成します。データフレームは、行と列のラベルを持つ2次元のデータ構造で、Excelのようなスプレッドシートのように扱うことができます。"
      ],
      "text/plain": [
       "<IPython.core.display.Markdown object>"
      ]
     },
     "metadata": {},
     "output_type": "display_data"
    }
   ],
   "source": [
    "%%ai_ask\n",
    "pythonの配列と辞書とテーブルについて"
   ]
  },
  {
   "cell_type": "code",
   "execution_count": 1,
   "id": "23085f2a-2a35-4f60-8bf8-c35e5da4c323",
   "metadata": {},
   "outputs": [
    {
     "data": {
      "text/markdown": [
       "Pythonにおいて、配列とリストは似たような機能を持っていますが、いくつかの違いがあります。\n",
       "\n",
       "配列は、同じデータ型の要素を格納することができる固定長のデータ構造です。一方、リストは、異なるデータ型の要素を格納することができる可変長のデータ構造です。\n",
       "\n",
       "また、配列はNumPyライブラリを使用して作成され、高速な数値演算が可能です。一方、リストはPythonの組み込みデータ型であり、より柔軟な操作が可能です。\n",
       "\n",
       "例えば、以下のように配列とリストを作成することができます。\n",
       "\n",
       "```python\n",
       "import numpy as np\n",
       "\n",
       "# 配列の作成\n",
       "arr = np.array([1, 2, 3, 4, 5])\n",
       "\n",
       "# リストの作成\n",
       "lst = [1, 'two', 3.0, [4, 5]]\n",
       "```\n",
       "\n",
       "配列とリストの選択は、使用するデータの種類と操作の目的によって異なります。数値演算を行う場合は、配列を使用することが一般的です。一方、データの追加や削除が必要な場合は、リストを使用することが適しています。"
      ],
      "text/plain": [
       "<IPython.core.display.Markdown object>"
      ]
     },
     "metadata": {},
     "output_type": "display_data"
    }
   ],
   "source": [
    "%%ai_continue\n",
    "pythonの配列とリストの違いについて"
   ]
  },
  {
   "cell_type": "code",
   "execution_count": 2,
   "id": "c80a14d4-91dc-4654-aa03-ab5b6a2ebe7c",
   "metadata": {
    "tags": []
   },
   "outputs": [
    {
     "data": {
      "text/markdown": [
       "Pythonにおいて、不変な配列は「タプル」と呼ばれます。タプルは、リストと同様に複数の要素を格納することができますが、一度作成されたタプルは変更できません。\n",
       "\n",
       "タプルは、リストと同様にカンマで区切られた要素を丸括弧で囲んで作成します。\n",
       "\n",
       "```python\n",
       "# タプルの作成\n",
       "tup = (1, 2, 3, 4, 5)\n",
       "```\n",
       "\n",
       "タプルは、リストと同様にインデックスを使用して要素にアクセスすることができます。\n",
       "\n",
       "```python\n",
       "# タプルの要素にアクセス\n",
       "print(tup[0])  # 1\n",
       "print(tup[2])  # 3\n",
       "```\n",
       "\n",
       "ただし、タプルは不変であるため、要素の変更や追加、削除はできません。\n",
       "\n",
       "```python\n",
       "# タプルの要素を変更しようとするとエラーが発生する\n",
       "tup[0] = 10  # TypeError: 'tuple' object does not support item assignment\n",
       "\n",
       "# タプルに要素を追加しようとするとエラーが発生する\n",
       "tup.append(6)  # AttributeError: 'tuple' object has no attribute 'append'\n",
       "\n",
       "# タプルから要素を削除しようとするとエラーが発生する\n",
       "del tup[0]  # TypeError: 'tuple' object doesn't support item deletion\n",
       "```\n",
       "\n",
       "タプルは、変更できないため安全性が高く、また、リストよりも軽量であるため、処理速度が速いという利点があります。ただし、要素の変更や追加、削除が必要な場合は、リストを使用する必要があります。"
      ],
      "text/plain": [
       "<IPython.core.display.Markdown object>"
      ]
     },
     "metadata": {},
     "output_type": "display_data"
    }
   ],
   "source": [
    "%%ai_continue\n",
    "不変な配列についても"
   ]
  },
  {
   "cell_type": "markdown",
   "id": "f96645a4-47e2-4d3b-83ab-3fa692b24bb9",
   "metadata": {},
   "source": [
    "## 試験問題とデータ構造"
   ]
  },
  {
   "cell_type": "code",
   "execution_count": 6,
   "id": "89f97e00-877c-4fad-be9a-7fbe0a697dc8",
   "metadata": {
    "tags": []
   },
   "outputs": [
    {
     "data": {
      "text/markdown": [
       "以下は、pandasを使用して、`Tomei`と`Tokuhyo`の2つのタプルをテーブルに変換する例です。\n",
       "\n",
       "```\n",
       "import pandas as pd\n",
       "\n",
       "Tomei = (\"A党\", \"B党\", \"C党\", \"D党\")\n",
       "Tokuhyo = (1200, 660, 1440, 180)\n",
       "\n",
       "df = pd.DataFrame({\n",
       "    '政党名': Tomei,\n",
       "    '得票数': Tokuhyo\n",
       "})\n",
       "\n",
       "print(df)\n",
       "```\n",
       "\n",
       "この例では、`pd.DataFrame()`関数を使用して、`Tomei`と`Tokuhyo`の2つのタプルをテーブルに変換しています。`pd.DataFrame()`関数には、辞書形式でデータを渡します。ここでは、`'政党名'`と`'得票数'`という列名を指定しています。\n",
       "\n",
       "出力結果は以下のようになります。\n",
       "\n",
       "```\n",
       "  政党名  得票数\n",
       "0  A党  1200\n",
       "1  B党   660\n",
       "2  C党  1440\n",
       "3  D党   180\n",
       "```\n",
       "\n",
       "このテーブルでは、`'政党名'`列と`'得票数'`列があり、それぞれの行には、政党名と得票数が含まれています。"
      ],
      "text/plain": [
       "<IPython.core.display.Markdown object>"
      ]
     },
     "metadata": {},
     "output_type": "display_data"
    }
   ],
   "source": [
    "%%ai_continue\n",
    "```\n",
    "Tomei = (\"A党\", \"B党\", \"C党\", \"D党\")\n",
    "Tokuhyo = (1200, 660, 1440, 180)\n",
    "```\n",
    "この二つの配列をこの順番でテーブルに変換してください。"
   ]
  },
  {
   "cell_type": "code",
   "execution_count": 7,
   "id": "f1c608f6-4c0a-4ec0-9b7a-f7c8066a93cc",
   "metadata": {
    "tags": []
   },
   "outputs": [
    {
     "data": {
      "text/markdown": [
       "タプルは不変（immutable）なオブジェクトであるため、一度作成されたタプルの要素を変更することはできません。ただし、タプルを要素とするリストや辞書などの可変（mutable）なオブジェクトに対しては、要素の変更や追加が可能です。\n",
       "\n",
       "したがって、この例で言えば、`Tomei`と`Tokuhyo`のタプル自体は不変ですが、これらのタプルを要素とするリストや辞書を作成することができます。ただし、リストや辞書は可変なオブジェクトであるため、要素の変更や追加が可能です。\n",
       "\n",
       "以下は、`Tomei`と`Tokuhyo`のタプルを要素とするリストを作成する例です。\n",
       "\n",
       "```\n",
       "import pandas as pd\n",
       "\n",
       "Tomei = (\"A党\", \"B党\", \"C党\", \"D党\")\n",
       "Tokuhyo = (1200, 660, 1440, 180)\n",
       "\n",
       "data = []\n",
       "data.append(Tomei)\n",
       "data.append(Tokuhyo)\n",
       "\n",
       "df = pd.DataFrame(data, index=['政党名', '得票数'], columns=[0, 1, 2, 3])\n",
       "\n",
       "print(df)\n",
       "```\n",
       "\n",
       "この例では、`data`というリストを作成し、`Tomei`と`Tokuhyo`を要素として追加しています。そして、`pd.DataFrame()`関数に`data`を渡して、テーブルを作成しています。`index`引数には、行のラベルを指定し、`columns`引数には、列のラベルを指定しています。\n",
       "\n",
       "出力結果は以下のようになります。\n",
       "\n",
       "```\n",
       "     0    1    2    3\n",
       "政党名  A党  B党  C党  D党\n",
       "得票数  1200  660  1440  180\n",
       "```\n",
       "\n",
       "このテーブルでは、`'政党名'`列と`'得票数'`列があり、それぞれの行には、政党名と得票数が含まれています。ただし、このテーブルは可変なオブジェクトであるため、要素の変更や追加が可能です。"
      ],
      "text/plain": [
       "<IPython.core.display.Markdown object>"
      ]
     },
     "metadata": {},
     "output_type": "display_data"
    }
   ],
   "source": [
    "%%ai_continue\n",
    "不変にできますか？"
   ]
  },
  {
   "cell_type": "code",
   "execution_count": 8,
   "id": "5af10184-26f9-429f-9106-790ae2209885",
   "metadata": {
    "tags": []
   },
   "outputs": [
    {
     "data": {
      "text/markdown": [
       "以下は、`sort_values()`メソッドを使用して、`df`テーブルを`'得票数'`列でソートする例です。\n",
       "\n",
       "```\n",
       "import pandas as pd\n",
       "\n",
       "Tomei = (\"A党\", \"B党\", \"C党\", \"D党\")\n",
       "Tokuhyo = (1200, 660, 1440, 180)\n",
       "\n",
       "data = []\n",
       "data.append(Tomei)\n",
       "data.append(Tokuhyo)\n",
       "\n",
       "df = pd.DataFrame(data, index=['政党名', '得票数'], columns=[0, 1, 2, 3])\n",
       "\n",
       "sorted_df = df.sort_values(by='得票数', axis=1, ascending=False)\n",
       "\n",
       "print(sorted_df)\n",
       "```\n",
       "\n",
       "この例では、`sort_values()`メソッドを使用して、`df`テーブルを`'得票数'`列でソートしています。`by`引数には、ソートするための列を指定します。ここでは、`'得票数'`列を指定しています。`axis`引数には、ソートする方向を指定します。ここでは、列方向にソートするために`1`を指定しています。`ascending`引数には、昇順か降順かを指定します。ここでは、降順にソートするために`False`を指定しています。\n",
       "\n",
       "ソートされたテーブルは、`sorted_df`変数に格納されます。出力結果は以下のようになります。\n",
       "\n",
       "```\n",
       "        2    0    1    3\n",
       "政党名  C党  A党  B党  D党\n",
       "得票数  1440  1200  660  180\n",
       "```\n",
       "\n",
       "このテーブルでは、`'政党名'`列と`'得票数'`列があり、それぞれの行には、政党名と得票数が含まれています。`'得票数'`列が降順にソートされています。"
      ],
      "text/plain": [
       "<IPython.core.display.Markdown object>"
      ]
     },
     "metadata": {},
     "output_type": "display_data"
    }
   ],
   "source": [
    "%%ai_continue\n",
    "得票数でソートしてください"
   ]
  },
  {
   "cell_type": "markdown",
   "id": "a0802da8-6d38-4186-ae71-1a6d157dc4fa",
   "metadata": {},
   "source": [
    "## 複雑な辞書形式とJSON (Webで一般的なデータ交換形式)"
   ]
  },
  {
   "cell_type": "code",
   "execution_count": 3,
   "id": "a8354c69-864b-4a94-a1a2-e19bf94deed8",
   "metadata": {
    "tags": []
   },
   "outputs": [
    {
     "data": {
      "text/markdown": [
       "Pythonにおいて、辞書はキーと値のペアを格納するデータ構造です。キーは一意であり、値は重複することがあります。辞書は波括弧で囲まれ、キーと値はコロンで区切られます。\n",
       "\n",
       "```python\n",
       "# 辞書の作成\n",
       "dict = {'apple': 100, 'banana': 200, 'orange': 300}\n",
       "```\n",
       "\n",
       "辞書の要素にアクセスするには、キーを指定します。\n",
       "\n",
       "```python\n",
       "# 辞書の要素にアクセス\n",
       "print(dict['apple'])  # 100\n",
       "print(dict['orange'])  # 300\n",
       "```\n",
       "\n",
       "辞書のリストは、辞書を要素とするリストです。辞書のリストは、複数の辞書をまとめて扱う場合に便利です。\n",
       "\n",
       "```python\n",
       "# 辞書のリストの作成\n",
       "dict_list = [{'name': 'Alice', 'age': 20}, {'name': 'Bob', 'age': 30}, {'name': 'Charlie', 'age': 40}]\n",
       "```\n",
       "\n",
       "辞書のリストの要素にアクセスするには、インデックスを指定します。\n",
       "\n",
       "```python\n",
       "# 辞書のリストの要素にアクセス\n",
       "print(dict_list[0])  # {'name': 'Alice', 'age': 20}\n",
       "print(dict_list[1]['name'])  # 'Bob'\n",
       "```\n",
       "\n",
       "辞書のリストは、データの検索やフィルタリングに便利です。例えば、年齢が30歳以上の人の名前を取得するには、以下のようにします。\n",
       "\n",
       "```python\n",
       "# 年齢が30歳以上の人の名前を取得\n",
       "names = [d['name'] for d in dict_list if d['age'] >= 30]\n",
       "print(names)  # ['Bob', 'Charlie']\n",
       "```\n",
       "\n",
       "辞書のリストは、リスト内包表記を使用して簡単に作成することができます。例えば、以下のようにします。\n",
       "\n",
       "```python\n",
       "# 辞書のリストの作成（リスト内包表記を使用）\n",
       "dict_list = [{'name': name, 'age': age} for name, age in [('Alice', 20), ('Bob', 30), ('Charlie', 40)]]\n",
       "```"
      ],
      "text/plain": [
       "<IPython.core.display.Markdown object>"
      ]
     },
     "metadata": {},
     "output_type": "display_data"
    }
   ],
   "source": [
    "%%ai_continue\n",
    "さらに、辞書と辞書のリストについて"
   ]
  },
  {
   "cell_type": "code",
   "execution_count": 4,
   "id": "5b28a481-80c8-479f-9b59-b6721bf5fe90",
   "metadata": {
    "tags": []
   },
   "outputs": [
    {
     "data": {
      "text/markdown": [
       "辞書のリストとJSONは密接に関連しています。JSONは、JavaScript Object Notationの略で、JavaScriptのオブジェクトを表現するための軽量なデータ交換形式です。JSONは、辞書のリストを含む複雑なデータ構造を表現することができます。\n",
       "\n",
       "Pythonの辞書のリストは、JSON形式に変換することができます。Pythonには、JSONを扱うための標準ライブラリ「json」があります。以下は、辞書のリストをJSON形式に変換する例です。\n",
       "\n",
       "```python\n",
       "import json\n",
       "\n",
       "# 辞書のリストの作成\n",
       "dict_list = [{'name': 'Alice', 'age': 20}, {'name': 'Bob', 'age': 30}, {'name': 'Charlie', 'age': 40}]\n",
       "\n",
       "# 辞書のリストをJSON形式に変換\n",
       "json_str = json.dumps(dict_list)\n",
       "\n",
       "# JSON形式の文字列を出力\n",
       "print(json_str)\n",
       "```\n",
       "\n",
       "出力結果は以下のようになります。\n",
       "\n",
       "```\n",
       "[{\"name\": \"Alice\", \"age\": 20}, {\"name\": \"Bob\", \"age\": 30}, {\"name\": \"Charlie\", \"age\": 40}]\n",
       "```\n",
       "\n",
       "JSON形式の文字列をPythonの辞書のリストに変換するには、json.loads()関数を使用します。\n",
       "\n",
       "```python\n",
       "# JSON形式の文字列を辞書のリストに変換\n",
       "dict_list2 = json.loads(json_str)\n",
       "\n",
       "# 辞書のリストを出力\n",
       "print(dict_list2)\n",
       "```\n",
       "\n",
       "出力結果は以下のようになります。\n",
       "\n",
       "```\n",
       "[{'name': 'Alice', 'age': 20}, {'name': 'Bob', 'age': 30}, {'name': 'Charlie', 'age': 40}]\n",
       "```\n",
       "\n",
       "JSONは、WebアプリケーションやAPIなどで広く使用されており、Pythonの辞書のリストをJSON形式に変換することで、WebアプリケーションとPythonの間でデータをやり取りすることができます。"
      ],
      "text/plain": [
       "<IPython.core.display.Markdown object>"
      ]
     },
     "metadata": {},
     "output_type": "display_data"
    }
   ],
   "source": [
    "%%ai_continue\n",
    "辞書のリストとJSONの関係は？"
   ]
  },
  {
   "cell_type": "markdown",
   "id": "3149211f-70b0-4cae-a844-3a1ec78bdfcb",
   "metadata": {},
   "source": [
    "* [Literal (computer programming) - Wikipedia](https://en.wikipedia.org/wiki/Literal_(computer_programming))\n",
    "* [JSON - Wikipedia](https://en.wikipedia.org/wiki/JSON)"
   ]
  },
  {
   "cell_type": "code",
   "execution_count": 5,
   "id": "6fe1650d-46cf-490f-9bae-e71b16268b74",
   "metadata": {
    "tags": []
   },
   "outputs": [
    {
     "data": {
      "text/markdown": [
       "プログラミングにおいて、リテラルとは、プログラム中で直接値を表現するために使用される表記法のことを指します。つまり、リテラルは、プログラム中で値そのものを表現するために使用される文字列や数値などの表記法です。\n",
       "\n",
       "例えば、以下のようなリテラルがあります。\n",
       "\n",
       "- 数値リテラル：整数や浮動小数点数などの数値を表現するためのリテラル。例えば、`123`や`3.14`などが数値リテラルです。\n",
       "- 文字列リテラル：文字列を表現するためのリテラル。例えば、`\"Hello, World!\"`や`'Python'`などが文字列リテラルです。\n",
       "- 真偽値リテラル：真偽値（TrueまたはFalse）を表現するためのリテラル。例えば、`True`や`False`が真偽値リテラルです。\n",
       "- Noneリテラル：何もないことを表現するためのリテラル。例えば、`None`がNoneリテラルです。\n",
       "\n",
       "リテラルは、プログラム中で値を直接表現するために使用されるため、変数や定数などの識別子を使用する必要がなく、直接値を使用することができます。また、リテラルは、プログラムの可読性を向上させるためにも重要な役割を果たします。"
      ],
      "text/plain": [
       "<IPython.core.display.Markdown object>"
      ]
     },
     "metadata": {},
     "output_type": "display_data"
    }
   ],
   "source": [
    "%%ai_continue\n",
    "リテラルってなんだろう？"
   ]
  },
  {
   "cell_type": "code",
   "execution_count": 6,
   "id": "c3f26a42-9472-44d1-83bd-785327022b95",
   "metadata": {
    "tags": []
   },
   "outputs": [
    {
     "data": {
      "text/markdown": [
       "PythonのリテラルとJSONは密接に関連しています。JSONは、JavaScript Object Notationの略で、JavaScriptのオブジェクトを表現するための軽量なデータ交換形式です。JSONは、Pythonのリテラルを含む複雑なデータ構造を表現することができます。\n",
       "\n",
       "Pythonのリテラルは、JSON形式に変換することができます。Pythonには、JSONを扱うための標準ライブラリ「json」があります。以下は、PythonのリテラルをJSON形式に変換する例です。\n",
       "\n",
       "```python\n",
       "import json\n",
       "\n",
       "# Pythonのリテラルを含むデータ構造の作成\n",
       "data = {\n",
       "    'name': 'Alice',\n",
       "    'age': 20,\n",
       "    'is_student': True,\n",
       "    'hobbies': ['reading', 'music', 'travel'],\n",
       "    'address': {\n",
       "        'zip': '123-4567',\n",
       "        'prefecture': 'Tokyo',\n",
       "        'city': 'Chiyoda-ku'\n",
       "    }\n",
       "}\n",
       "\n",
       "# データ構造をJSON形式に変換\n",
       "json_str = json.dumps(data)\n",
       "\n",
       "# JSON形式の文字列を出力\n",
       "print(json_str)\n",
       "```\n",
       "\n",
       "出力結果は以下のようになります。\n",
       "\n",
       "```\n",
       "{\"name\": \"Alice\", \"age\": 20, \"is_student\": true, \"hobbies\": [\"reading\", \"music\", \"travel\"], \"address\": {\"zip\": \"123-4567\", \"prefecture\": \"Tokyo\", \"city\": \"Chiyoda-ku\"}}\n",
       "```\n",
       "\n",
       "JSON形式の文字列をPythonのリテラルに変換するには、json.loads()関数を使用します。\n",
       "\n",
       "```python\n",
       "# JSON形式の文字列をPythonのリテラルに変換\n",
       "data2 = json.loads(json_str)\n",
       "\n",
       "# データ構造を出力\n",
       "print(data2)\n",
       "```\n",
       "\n",
       "出力結果は以下のようになります。\n",
       "\n",
       "```\n",
       "{'name': 'Alice', 'age': 20, 'is_student': True, 'hobbies': ['reading', 'music', 'travel'], 'address': {'zip': '123-4567', 'prefecture': 'Tokyo', 'city': 'Chiyoda-ku'}}\n",
       "```\n",
       "\n",
       "JSONは、WebアプリケーションやAPIなどで広く使用されており、PythonのリテラルをJSON形式に変換することで、WebアプリケーションとPythonの間でデータをやり取りすることができます。"
      ],
      "text/plain": [
       "<IPython.core.display.Markdown object>"
      ]
     },
     "metadata": {},
     "output_type": "display_data"
    }
   ],
   "source": [
    "%%ai_continue\n",
    "pythonのリテラルとJSONについて"
   ]
  },
  {
   "cell_type": "code",
   "execution_count": 7,
   "id": "532ed94b-9db0-430e-bb88-47a4b7cc9ccf",
   "metadata": {
    "tags": []
   },
   "outputs": [
    {
     "data": {
      "text/markdown": [
       "以下は、例示されたデータ構造の型をトラバースして表示するPythonのプログラムです。\n",
       "\n",
       "```python\n",
       "def traverse(data):\n",
       "    # データの型を取得\n",
       "    data_type = type(data).__name__\n",
       "\n",
       "    # データの型に応じて処理を分岐\n",
       "    if data_type == 'dict':\n",
       "        # 辞書の場合\n",
       "        print('Dictionary:')\n",
       "        for key, value in data.items():\n",
       "            print(f'Key: {key}')\n",
       "            traverse(value)\n",
       "    elif data_type == 'list':\n",
       "        # リストの場合\n",
       "        print('List:')\n",
       "        for value in data:\n",
       "            traverse(value)\n",
       "    else:\n",
       "        # その他の場合\n",
       "        print(f'{data_type}: {data}')\n",
       "\n",
       "# 例示されたデータ構造の作成\n",
       "data = {\n",
       "    'name': 'Alice',\n",
       "    'age': 20,\n",
       "    'is_student': True,\n",
       "    'hobbies': ['reading', 'music', 'travel'],\n",
       "    'address': {\n",
       "        'zip': '123-4567',\n",
       "        'prefecture': 'Tokyo',\n",
       "        'city': 'Chiyoda-ku'\n",
       "    }\n",
       "}\n",
       "\n",
       "# データ構造のトラバース\n",
       "traverse(data)\n",
       "```\n",
       "\n",
       "出力結果は以下のようになります。\n",
       "\n",
       "```\n",
       "Dictionary:\n",
       "Key: name\n",
       "str: Alice\n",
       "Key: age\n",
       "int: 20\n",
       "Key: is_student\n",
       "bool: True\n",
       "Key: hobbies\n",
       "List:\n",
       "str: reading\n",
       "str: music\n",
       "str: travel\n",
       "Key: address\n",
       "Dictionary:\n",
       "Key: zip\n",
       "str: 123-4567\n",
       "Key: prefecture\n",
       "str: Tokyo\n",
       "Key: city\n",
       "str: Chiyoda-ku\n",
       "```\n",
       "\n",
       "このプログラムでは、再帰的にデータ構造をトラバースして、各要素の型を表示しています。辞書の場合は、キーと値を表示し、値について再帰的にトラバースします。リストの場合は、各要素について再帰的にトラバースします。その他の場合は、そのまま型と値を表示します。"
      ],
      "text/plain": [
       "<IPython.core.display.Markdown object>"
      ]
     },
     "metadata": {},
     "output_type": "display_data"
    }
   ],
   "source": [
    "%%ai_continue\n",
    "例示されたデータ構造のトラバースして型を表示するプログラムを書いてください"
   ]
  },
  {
   "cell_type": "code",
   "execution_count": 8,
   "id": "256f3c6b-90c0-407f-a3e5-95edff03a9be",
   "metadata": {
    "tags": []
   },
   "outputs": [
    {
     "name": "stdout",
     "output_type": "stream",
     "text": [
      "Dictionary:\n",
      "Key: name\n",
      "str: Alice\n",
      "Key: age\n",
      "int: 20\n",
      "Key: is_student\n",
      "bool: True\n",
      "Key: hobbies\n",
      "List:\n",
      "str: reading\n",
      "str: music\n",
      "str: travel\n",
      "Key: address\n",
      "Dictionary:\n",
      "Key: zip\n",
      "str: 123-4567\n",
      "Key: prefecture\n",
      "str: Tokyo\n",
      "Key: city\n",
      "str: Chiyoda-ku\n"
     ]
    }
   ],
   "source": [
    "def traverse(data):\n",
    "    # データの型を取得\n",
    "    data_type = type(data).__name__\n",
    "\n",
    "    # データの型に応じて処理を分岐\n",
    "    if data_type == 'dict':\n",
    "        # 辞書の場合\n",
    "        print('Dictionary:')\n",
    "        for key, value in data.items():\n",
    "            print(f'Key: {key}')\n",
    "            traverse(value)\n",
    "    elif data_type == 'list':\n",
    "        # リストの場合\n",
    "        print('List:')\n",
    "        for value in data:\n",
    "            traverse(value)\n",
    "    else:\n",
    "        # その他の場合\n",
    "        print(f'{data_type}: {data}')\n",
    "\n",
    "# 例示されたデータ構造の作成\n",
    "data = {\n",
    "    'name': 'Alice',\n",
    "    'age': 20,\n",
    "    'is_student': True,\n",
    "    'hobbies': ['reading', 'music', 'travel'],\n",
    "    'address': {\n",
    "        'zip': '123-4567',\n",
    "        'prefecture': 'Tokyo',\n",
    "        'city': 'Chiyoda-ku'\n",
    "    }\n",
    "}\n",
    "\n",
    "# データ構造のトラバース\n",
    "traverse(data)"
   ]
  },
  {
   "cell_type": "code",
   "execution_count": null,
   "id": "6f0a0ea5-bde7-4091-bebc-ddd2d6106b07",
   "metadata": {},
   "outputs": [],
   "source": []
  }
 ],
 "metadata": {
  "kernelspec": {
   "display_name": "Python 3 (ipykernel)",
   "language": "python",
   "name": "python3"
  },
  "language_info": {
   "codemirror_mode": {
    "name": "ipython",
    "version": 3
   },
   "file_extension": ".py",
   "mimetype": "text/x-python",
   "name": "python",
   "nbconvert_exporter": "python",
   "pygments_lexer": "ipython3",
   "version": "3.10.10"
  }
 },
 "nbformat": 4,
 "nbformat_minor": 5
}
