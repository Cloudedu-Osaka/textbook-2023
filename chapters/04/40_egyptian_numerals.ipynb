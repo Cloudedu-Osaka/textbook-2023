{
 "cells": [
  {
   "cell_type": "markdown",
   "id": "30a3563d-524f-45c1-a1f2-bb63b156e656",
   "metadata": {},
   "source": [
    "# エジプト数字に変換するための辞書を作る"
   ]
  },
  {
   "cell_type": "code",
   "execution_count": 10,
   "id": "d8edca9d-8c56-4374-9ae5-3edb22bc00d2",
   "metadata": {
    "tags": []
   },
   "outputs": [
    {
     "data": {
      "text/markdown": [
       "ロゼッタストーンは、言語学習ソフトウェアであり、世界中の言語を学ぶことができます。ソフトウェアは、聞く、話す、読む、書くの4つのスキルを強化するために設計されています。ユーザーは、リアルなシミュレーションや音声認識技術を使用して、言語を学ぶことができます。また、オンラインコミュニティやコーチングサービスも提供されています。"
      ],
      "text/plain": [
       "<IPython.core.display.Markdown object>"
      ]
     },
     "metadata": {},
     "output_type": "display_data"
    }
   ],
   "source": [
    "%%ai_ask\n",
    "ロゼッタストーンについて"
   ]
  },
  {
   "cell_type": "code",
   "execution_count": 11,
   "id": "ff6d6344-c8cc-45e9-bd3e-c69938e38ded",
   "metadata": {
    "tags": []
   },
   "outputs": [
    {
     "data": {
      "text/markdown": [
       "遺物とは、歴史的な価値や文化的な意味を持つ、古代の人々が使用していた物品や遺跡のことを指します。遺物は、考古学的な発掘調査や研究によって発見され、その時代や文化、社会の状況を知る上で重要な情報源となります。遺物には、陶器や石器、金属製品、建造物、墓地などが含まれます。また、遺物は博物館や美術館などで展示され、一般の人々にも見ることができます。"
      ],
      "text/plain": [
       "<IPython.core.display.Markdown object>"
      ]
     },
     "metadata": {},
     "output_type": "display_data"
    }
   ],
   "source": [
    "%%ai_continue\n",
    "遺物のほう"
   ]
  },
  {
   "cell_type": "code",
   "execution_count": 12,
   "id": "39b8b77b-1e79-4131-9b94-0fcf91b02d82",
   "metadata": {
    "tags": []
   },
   "outputs": [
    {
     "data": {
      "text/markdown": [
       "遺物のロゼッタストーンという表現は一般的ではありませんが、文化遺産や考古学的な遺物を調査・研究する際に、ロゼッタストーンのような役割を果たすものが存在します。ロゼッタストーンは、古代エジプトのヒエログリフ文字を解読するための重要な手がかりとなった石碑のことで、同じ内容が3種類の言語で刻まれていたことから、解読の鍵となりました。同様に、文化遺産や考古学的な遺物には、その時代や文化、社会の状況を知る上で重要な情報が含まれており、それを解読することで、歴史や文化を理解することができます。つまり、文化遺産や考古学的な遺物は、その時代や文化を理解するためのロゼッタストーンのような役割を果たすことがあると言えます。"
      ],
      "text/plain": [
       "<IPython.core.display.Markdown object>"
      ]
     },
     "metadata": {},
     "output_type": "display_data"
    }
   ],
   "source": [
    "%%ai_continue\n",
    "遺物のロゼッタストーンについて"
   ]
  },
  {
   "cell_type": "markdown",
   "id": "32282ed3-e592-4f20-a254-bdf774e99a09",
   "metadata": {},
   "source": [
    "* [Rosetta Stone - Wikipedia](https://en.wikipedia.org/wiki/Rosetta_Stone)\n",
    "    - Created: 196 BC\n",
    "    - Discovered: 1779\n",
    "    - Location: Egypt\n",
    "    - Languages:\n",
    "        - [Egyptian hieroglyphs - Wikipedia](https://en.wikipedia.org/wiki/Egyptian_hieroglyphs)\n",
    "        - [Demotic (Egyptian) - Wikipedia](https://en.wikipedia.org/wiki/Demotic_%28Egyptian%29)\n",
    "        - [Ancient Greek - Wikipedia](https://en.wikipedia.org/wiki/Ancient_Greek)"
   ]
  },
  {
   "cell_type": "markdown",
   "id": "4b74c846",
   "metadata": {},
   "source": [
    "## Wikipediaからコードポイント表を読み込む"
   ]
  },
  {
   "cell_type": "markdown",
   "id": "50798aa6-3986-49c9-8766-20d2b5cf267d",
   "metadata": {},
   "source": [
    "* [Egyptian numerals - Wikipedia](https://en.wikipedia.org/wiki/Egyptian_numerals)\n",
    "    - [Sign-value notation - Wikipedia](https://en.wikipedia.org/wiki/Sign-value_notation)\n",
    "* [Egyptian Hieroglyphs (Unicode block) - Wikipedia](https://en.wikipedia.org/wiki/Egyptian_Hieroglyphs_%28Unicode_block%29)"
   ]
  },
  {
   "cell_type": "code",
   "execution_count": 93,
   "id": "bfb7101f-bdfc-4589-ac86-168cd7133801",
   "metadata": {
    "tags": []
   },
   "outputs": [],
   "source": [
    "import pandas as pd"
   ]
  },
  {
   "cell_type": "code",
   "execution_count": 94,
   "id": "5e9d52c3-ebef-4d35-9581-dfca56833099",
   "metadata": {
    "tags": []
   },
   "outputs": [],
   "source": [
    "dfs = pd.read_html('https://en.wikipedia.org/wiki/Egyptian_Hieroglyphs_(Unicode_block)')"
   ]
  },
  {
   "cell_type": "code",
   "execution_count": 95,
   "id": "3a8b03ae-a38e-46f0-8f6b-9afb147bf577",
   "metadata": {
    "tags": []
   },
   "outputs": [
    {
     "data": {
      "text/html": [
       "<div>\n",
       "<style scoped>\n",
       "    .dataframe tbody tr th:only-of-type {\n",
       "        vertical-align: middle;\n",
       "    }\n",
       "\n",
       "    .dataframe tbody tr th {\n",
       "        vertical-align: top;\n",
       "    }\n",
       "\n",
       "    .dataframe thead th {\n",
       "        text-align: right;\n",
       "    }\n",
       "</style>\n",
       "<table border=\"1\" class=\"dataframe\">\n",
       "  <thead>\n",
       "    <tr style=\"text-align: right;\">\n",
       "      <th></th>\n",
       "      <th>0</th>\n",
       "      <th>1</th>\n",
       "      <th>2</th>\n",
       "      <th>3</th>\n",
       "      <th>4</th>\n",
       "      <th>5</th>\n",
       "      <th>6</th>\n",
       "      <th>7</th>\n",
       "      <th>8</th>\n",
       "      <th>9</th>\n",
       "      <th>10</th>\n",
       "      <th>11</th>\n",
       "      <th>12</th>\n",
       "      <th>13</th>\n",
       "      <th>14</th>\n",
       "      <th>15</th>\n",
       "      <th>16</th>\n",
       "    </tr>\n",
       "  </thead>\n",
       "  <tbody>\n",
       "    <tr>\n",
       "      <th>0</th>\n",
       "      <td>Egyptian Hieroglyphs[1] Official Unicode Conso...</td>\n",
       "      <td>Egyptian Hieroglyphs[1] Official Unicode Conso...</td>\n",
       "      <td>Egyptian Hieroglyphs[1] Official Unicode Conso...</td>\n",
       "      <td>Egyptian Hieroglyphs[1] Official Unicode Conso...</td>\n",
       "      <td>Egyptian Hieroglyphs[1] Official Unicode Conso...</td>\n",
       "      <td>Egyptian Hieroglyphs[1] Official Unicode Conso...</td>\n",
       "      <td>Egyptian Hieroglyphs[1] Official Unicode Conso...</td>\n",
       "      <td>Egyptian Hieroglyphs[1] Official Unicode Conso...</td>\n",
       "      <td>Egyptian Hieroglyphs[1] Official Unicode Conso...</td>\n",
       "      <td>Egyptian Hieroglyphs[1] Official Unicode Conso...</td>\n",
       "      <td>Egyptian Hieroglyphs[1] Official Unicode Conso...</td>\n",
       "      <td>Egyptian Hieroglyphs[1] Official Unicode Conso...</td>\n",
       "      <td>Egyptian Hieroglyphs[1] Official Unicode Conso...</td>\n",
       "      <td>Egyptian Hieroglyphs[1] Official Unicode Conso...</td>\n",
       "      <td>Egyptian Hieroglyphs[1] Official Unicode Conso...</td>\n",
       "      <td>Egyptian Hieroglyphs[1] Official Unicode Conso...</td>\n",
       "      <td>Egyptian Hieroglyphs[1] Official Unicode Conso...</td>\n",
       "    </tr>\n",
       "    <tr>\n",
       "      <th>1</th>\n",
       "      <td>NaN</td>\n",
       "      <td>0</td>\n",
       "      <td>1</td>\n",
       "      <td>2</td>\n",
       "      <td>3</td>\n",
       "      <td>4</td>\n",
       "      <td>5</td>\n",
       "      <td>6</td>\n",
       "      <td>7</td>\n",
       "      <td>8</td>\n",
       "      <td>9</td>\n",
       "      <td>A</td>\n",
       "      <td>B</td>\n",
       "      <td>C</td>\n",
       "      <td>D</td>\n",
       "      <td>E</td>\n",
       "      <td>F</td>\n",
       "    </tr>\n",
       "    <tr>\n",
       "      <th>2</th>\n",
       "      <td>U+1300x</td>\n",
       "      <td>𓀀</td>\n",
       "      <td>𓀁</td>\n",
       "      <td>𓀂</td>\n",
       "      <td>𓀃</td>\n",
       "      <td>𓀄</td>\n",
       "      <td>𓀅</td>\n",
       "      <td>𓀆</td>\n",
       "      <td>𓀇</td>\n",
       "      <td>𓀈</td>\n",
       "      <td>𓀉</td>\n",
       "      <td>𓀊</td>\n",
       "      <td>𓀋</td>\n",
       "      <td>𓀌</td>\n",
       "      <td>𓀍</td>\n",
       "      <td>𓀎</td>\n",
       "      <td>𓀏</td>\n",
       "    </tr>\n",
       "    <tr>\n",
       "      <th>3</th>\n",
       "      <td>U+1301x</td>\n",
       "      <td>𓀐</td>\n",
       "      <td>𓀑</td>\n",
       "      <td>𓀒</td>\n",
       "      <td>𓀓</td>\n",
       "      <td>𓀔</td>\n",
       "      <td>𓀕</td>\n",
       "      <td>𓀖</td>\n",
       "      <td>𓀗</td>\n",
       "      <td>𓀘</td>\n",
       "      <td>𓀙</td>\n",
       "      <td>𓀚</td>\n",
       "      <td>𓀛</td>\n",
       "      <td>𓀜</td>\n",
       "      <td>𓀝</td>\n",
       "      <td>𓀞</td>\n",
       "      <td>𓀟</td>\n",
       "    </tr>\n",
       "    <tr>\n",
       "      <th>4</th>\n",
       "      <td>U+1302x</td>\n",
       "      <td>𓀠</td>\n",
       "      <td>𓀡</td>\n",
       "      <td>𓀢</td>\n",
       "      <td>𓀣</td>\n",
       "      <td>𓀤</td>\n",
       "      <td>𓀥</td>\n",
       "      <td>𓀦</td>\n",
       "      <td>𓀧</td>\n",
       "      <td>𓀨</td>\n",
       "      <td>𓀩</td>\n",
       "      <td>𓀪</td>\n",
       "      <td>𓀫</td>\n",
       "      <td>𓀬</td>\n",
       "      <td>𓀭</td>\n",
       "      <td>𓀮</td>\n",
       "      <td>𓀯</td>\n",
       "    </tr>\n",
       "    <tr>\n",
       "      <th>...</th>\n",
       "      <td>...</td>\n",
       "      <td>...</td>\n",
       "      <td>...</td>\n",
       "      <td>...</td>\n",
       "      <td>...</td>\n",
       "      <td>...</td>\n",
       "      <td>...</td>\n",
       "      <td>...</td>\n",
       "      <td>...</td>\n",
       "      <td>...</td>\n",
       "      <td>...</td>\n",
       "      <td>...</td>\n",
       "      <td>...</td>\n",
       "      <td>...</td>\n",
       "      <td>...</td>\n",
       "      <td>...</td>\n",
       "      <td>...</td>\n",
       "    </tr>\n",
       "    <tr>\n",
       "      <th>65</th>\n",
       "      <td>U+133Fx</td>\n",
       "      <td>𓏰</td>\n",
       "      <td>𓏱</td>\n",
       "      <td>𓏲</td>\n",
       "      <td>𓏳</td>\n",
       "      <td>𓏴</td>\n",
       "      <td>𓏵</td>\n",
       "      <td>𓏶</td>\n",
       "      <td>𓏷</td>\n",
       "      <td>𓏸</td>\n",
       "      <td>𓏹</td>\n",
       "      <td>𓏺</td>\n",
       "      <td>𓏻</td>\n",
       "      <td>𓏼</td>\n",
       "      <td>𓏽</td>\n",
       "      <td>𓏾</td>\n",
       "      <td>𓏿</td>\n",
       "    </tr>\n",
       "    <tr>\n",
       "      <th>66</th>\n",
       "      <td>U+1340x</td>\n",
       "      <td>𓐀</td>\n",
       "      <td>𓐁</td>\n",
       "      <td>𓐂</td>\n",
       "      <td>𓐃</td>\n",
       "      <td>𓐄</td>\n",
       "      <td>𓐅</td>\n",
       "      <td>𓐆</td>\n",
       "      <td>𓐇</td>\n",
       "      <td>𓐈</td>\n",
       "      <td>𓐉</td>\n",
       "      <td>𓐊</td>\n",
       "      <td>𓐋</td>\n",
       "      <td>𓐌</td>\n",
       "      <td>𓐍</td>\n",
       "      <td>𓐎</td>\n",
       "      <td>𓐏</td>\n",
       "    </tr>\n",
       "    <tr>\n",
       "      <th>67</th>\n",
       "      <td>U+1341x</td>\n",
       "      <td>𓐐</td>\n",
       "      <td>𓐑</td>\n",
       "      <td>𓐒</td>\n",
       "      <td>𓐓</td>\n",
       "      <td>𓐔</td>\n",
       "      <td>𓐕</td>\n",
       "      <td>𓐖</td>\n",
       "      <td>𓐗</td>\n",
       "      <td>𓐘</td>\n",
       "      <td>𓐙</td>\n",
       "      <td>𓐚</td>\n",
       "      <td>𓐛</td>\n",
       "      <td>𓐜</td>\n",
       "      <td>𓐝</td>\n",
       "      <td>𓐞</td>\n",
       "      <td>𓐟</td>\n",
       "    </tr>\n",
       "    <tr>\n",
       "      <th>68</th>\n",
       "      <td>U+1342x</td>\n",
       "      <td>𓐠</td>\n",
       "      <td>𓐡</td>\n",
       "      <td>𓐢</td>\n",
       "      <td>𓐣</td>\n",
       "      <td>𓐤</td>\n",
       "      <td>𓐥</td>\n",
       "      <td>𓐦</td>\n",
       "      <td>𓐧</td>\n",
       "      <td>𓐨</td>\n",
       "      <td>𓐩</td>\n",
       "      <td>𓐪</td>\n",
       "      <td>𓐫</td>\n",
       "      <td>𓐬</td>\n",
       "      <td>𓐭</td>\n",
       "      <td>𓐮</td>\n",
       "      <td>𓐯</td>\n",
       "    </tr>\n",
       "    <tr>\n",
       "      <th>69</th>\n",
       "      <td>Notes 1..mw-parser-output .citation{word-wrap:...</td>\n",
       "      <td>Notes 1..mw-parser-output .citation{word-wrap:...</td>\n",
       "      <td>Notes 1..mw-parser-output .citation{word-wrap:...</td>\n",
       "      <td>Notes 1..mw-parser-output .citation{word-wrap:...</td>\n",
       "      <td>Notes 1..mw-parser-output .citation{word-wrap:...</td>\n",
       "      <td>Notes 1..mw-parser-output .citation{word-wrap:...</td>\n",
       "      <td>Notes 1..mw-parser-output .citation{word-wrap:...</td>\n",
       "      <td>Notes 1..mw-parser-output .citation{word-wrap:...</td>\n",
       "      <td>Notes 1..mw-parser-output .citation{word-wrap:...</td>\n",
       "      <td>Notes 1..mw-parser-output .citation{word-wrap:...</td>\n",
       "      <td>Notes 1..mw-parser-output .citation{word-wrap:...</td>\n",
       "      <td>Notes 1..mw-parser-output .citation{word-wrap:...</td>\n",
       "      <td>Notes 1..mw-parser-output .citation{word-wrap:...</td>\n",
       "      <td>Notes 1..mw-parser-output .citation{word-wrap:...</td>\n",
       "      <td>Notes 1..mw-parser-output .citation{word-wrap:...</td>\n",
       "      <td>Notes 1..mw-parser-output .citation{word-wrap:...</td>\n",
       "      <td>Notes 1..mw-parser-output .citation{word-wrap:...</td>\n",
       "    </tr>\n",
       "  </tbody>\n",
       "</table>\n",
       "<p>70 rows × 17 columns</p>\n",
       "</div>"
      ],
      "text/plain": [
       "                                                   0    \n",
       "0   Egyptian Hieroglyphs[1] Official Unicode Conso...  \\\n",
       "1                                                 NaN   \n",
       "2                                             U+1300x   \n",
       "3                                             U+1301x   \n",
       "4                                             U+1302x   \n",
       "..                                                ...   \n",
       "65                                            U+133Fx   \n",
       "66                                            U+1340x   \n",
       "67                                            U+1341x   \n",
       "68                                            U+1342x   \n",
       "69  Notes 1..mw-parser-output .citation{word-wrap:...   \n",
       "\n",
       "                                                   1    \n",
       "0   Egyptian Hieroglyphs[1] Official Unicode Conso...  \\\n",
       "1                                                   0   \n",
       "2                                                   𓀀   \n",
       "3                                                   𓀐   \n",
       "4                                                   𓀠   \n",
       "..                                                ...   \n",
       "65                                                  𓏰   \n",
       "66                                                  𓐀   \n",
       "67                                                  𓐐   \n",
       "68                                                  𓐠   \n",
       "69  Notes 1..mw-parser-output .citation{word-wrap:...   \n",
       "\n",
       "                                                   2    \n",
       "0   Egyptian Hieroglyphs[1] Official Unicode Conso...  \\\n",
       "1                                                   1   \n",
       "2                                                   𓀁   \n",
       "3                                                   𓀑   \n",
       "4                                                   𓀡   \n",
       "..                                                ...   \n",
       "65                                                  𓏱   \n",
       "66                                                  𓐁   \n",
       "67                                                  𓐑   \n",
       "68                                                  𓐡   \n",
       "69  Notes 1..mw-parser-output .citation{word-wrap:...   \n",
       "\n",
       "                                                   3    \n",
       "0   Egyptian Hieroglyphs[1] Official Unicode Conso...  \\\n",
       "1                                                   2   \n",
       "2                                                   𓀂   \n",
       "3                                                   𓀒   \n",
       "4                                                   𓀢   \n",
       "..                                                ...   \n",
       "65                                                  𓏲   \n",
       "66                                                  𓐂   \n",
       "67                                                  𓐒   \n",
       "68                                                  𓐢   \n",
       "69  Notes 1..mw-parser-output .citation{word-wrap:...   \n",
       "\n",
       "                                                   4    \n",
       "0   Egyptian Hieroglyphs[1] Official Unicode Conso...  \\\n",
       "1                                                   3   \n",
       "2                                                   𓀃   \n",
       "3                                                   𓀓   \n",
       "4                                                   𓀣   \n",
       "..                                                ...   \n",
       "65                                                  𓏳   \n",
       "66                                                  𓐃   \n",
       "67                                                  𓐓   \n",
       "68                                                  𓐣   \n",
       "69  Notes 1..mw-parser-output .citation{word-wrap:...   \n",
       "\n",
       "                                                   5    \n",
       "0   Egyptian Hieroglyphs[1] Official Unicode Conso...  \\\n",
       "1                                                   4   \n",
       "2                                                   𓀄   \n",
       "3                                                   𓀔   \n",
       "4                                                   𓀤   \n",
       "..                                                ...   \n",
       "65                                                  𓏴   \n",
       "66                                                  𓐄   \n",
       "67                                                  𓐔   \n",
       "68                                                  𓐤   \n",
       "69  Notes 1..mw-parser-output .citation{word-wrap:...   \n",
       "\n",
       "                                                   6    \n",
       "0   Egyptian Hieroglyphs[1] Official Unicode Conso...  \\\n",
       "1                                                   5   \n",
       "2                                                   𓀅   \n",
       "3                                                   𓀕   \n",
       "4                                                   𓀥   \n",
       "..                                                ...   \n",
       "65                                                  𓏵   \n",
       "66                                                  𓐅   \n",
       "67                                                  𓐕   \n",
       "68                                                  𓐥   \n",
       "69  Notes 1..mw-parser-output .citation{word-wrap:...   \n",
       "\n",
       "                                                   7    \n",
       "0   Egyptian Hieroglyphs[1] Official Unicode Conso...  \\\n",
       "1                                                   6   \n",
       "2                                                   𓀆   \n",
       "3                                                   𓀖   \n",
       "4                                                   𓀦   \n",
       "..                                                ...   \n",
       "65                                                  𓏶   \n",
       "66                                                  𓐆   \n",
       "67                                                  𓐖   \n",
       "68                                                  𓐦   \n",
       "69  Notes 1..mw-parser-output .citation{word-wrap:...   \n",
       "\n",
       "                                                   8    \n",
       "0   Egyptian Hieroglyphs[1] Official Unicode Conso...  \\\n",
       "1                                                   7   \n",
       "2                                                   𓀇   \n",
       "3                                                   𓀗   \n",
       "4                                                   𓀧   \n",
       "..                                                ...   \n",
       "65                                                  𓏷   \n",
       "66                                                  𓐇   \n",
       "67                                                  𓐗   \n",
       "68                                                  𓐧   \n",
       "69  Notes 1..mw-parser-output .citation{word-wrap:...   \n",
       "\n",
       "                                                   9    \n",
       "0   Egyptian Hieroglyphs[1] Official Unicode Conso...  \\\n",
       "1                                                   8   \n",
       "2                                                   𓀈   \n",
       "3                                                   𓀘   \n",
       "4                                                   𓀨   \n",
       "..                                                ...   \n",
       "65                                                  𓏸   \n",
       "66                                                  𓐈   \n",
       "67                                                  𓐘   \n",
       "68                                                  𓐨   \n",
       "69  Notes 1..mw-parser-output .citation{word-wrap:...   \n",
       "\n",
       "                                                   10   \n",
       "0   Egyptian Hieroglyphs[1] Official Unicode Conso...  \\\n",
       "1                                                   9   \n",
       "2                                                   𓀉   \n",
       "3                                                   𓀙   \n",
       "4                                                   𓀩   \n",
       "..                                                ...   \n",
       "65                                                  𓏹   \n",
       "66                                                  𓐉   \n",
       "67                                                  𓐙   \n",
       "68                                                  𓐩   \n",
       "69  Notes 1..mw-parser-output .citation{word-wrap:...   \n",
       "\n",
       "                                                   11   \n",
       "0   Egyptian Hieroglyphs[1] Official Unicode Conso...  \\\n",
       "1                                                   A   \n",
       "2                                                   𓀊   \n",
       "3                                                   𓀚   \n",
       "4                                                   𓀪   \n",
       "..                                                ...   \n",
       "65                                                  𓏺   \n",
       "66                                                  𓐊   \n",
       "67                                                  𓐚   \n",
       "68                                                  𓐪   \n",
       "69  Notes 1..mw-parser-output .citation{word-wrap:...   \n",
       "\n",
       "                                                   12   \n",
       "0   Egyptian Hieroglyphs[1] Official Unicode Conso...  \\\n",
       "1                                                   B   \n",
       "2                                                   𓀋   \n",
       "3                                                   𓀛   \n",
       "4                                                   𓀫   \n",
       "..                                                ...   \n",
       "65                                                  𓏻   \n",
       "66                                                  𓐋   \n",
       "67                                                  𓐛   \n",
       "68                                                  𓐫   \n",
       "69  Notes 1..mw-parser-output .citation{word-wrap:...   \n",
       "\n",
       "                                                   13   \n",
       "0   Egyptian Hieroglyphs[1] Official Unicode Conso...  \\\n",
       "1                                                   C   \n",
       "2                                                   𓀌   \n",
       "3                                                   𓀜   \n",
       "4                                                   𓀬   \n",
       "..                                                ...   \n",
       "65                                                  𓏼   \n",
       "66                                                  𓐌   \n",
       "67                                                  𓐜   \n",
       "68                                                  𓐬   \n",
       "69  Notes 1..mw-parser-output .citation{word-wrap:...   \n",
       "\n",
       "                                                   14   \n",
       "0   Egyptian Hieroglyphs[1] Official Unicode Conso...  \\\n",
       "1                                                   D   \n",
       "2                                                   𓀍   \n",
       "3                                                   𓀝   \n",
       "4                                                   𓀭   \n",
       "..                                                ...   \n",
       "65                                                  𓏽   \n",
       "66                                                  𓐍   \n",
       "67                                                  𓐝   \n",
       "68                                                  𓐭   \n",
       "69  Notes 1..mw-parser-output .citation{word-wrap:...   \n",
       "\n",
       "                                                   15   \n",
       "0   Egyptian Hieroglyphs[1] Official Unicode Conso...  \\\n",
       "1                                                   E   \n",
       "2                                                   𓀎   \n",
       "3                                                   𓀞   \n",
       "4                                                   𓀮   \n",
       "..                                                ...   \n",
       "65                                                  𓏾   \n",
       "66                                                  𓐎   \n",
       "67                                                  𓐞   \n",
       "68                                                  𓐮   \n",
       "69  Notes 1..mw-parser-output .citation{word-wrap:...   \n",
       "\n",
       "                                                   16  \n",
       "0   Egyptian Hieroglyphs[1] Official Unicode Conso...  \n",
       "1                                                   F  \n",
       "2                                                   𓀏  \n",
       "3                                                   𓀟  \n",
       "4                                                   𓀯  \n",
       "..                                                ...  \n",
       "65                                                  𓏿  \n",
       "66                                                  𓐏  \n",
       "67                                                  𓐟  \n",
       "68                                                  𓐯  \n",
       "69  Notes 1..mw-parser-output .citation{word-wrap:...  \n",
       "\n",
       "[70 rows x 17 columns]"
      ]
     },
     "execution_count": 95,
     "metadata": {},
     "output_type": "execute_result"
    }
   ],
   "source": [
    "dfs[1]"
   ]
  },
  {
   "cell_type": "code",
   "execution_count": 1,
   "id": "49285f0c-2845-4c22-948c-cc947c52f16c",
   "metadata": {
    "tags": []
   },
   "outputs": [
    {
     "data": {
      "text/markdown": [
       "以下のように、ilocを使ってx行目y列のデータを参照できます。\n",
       "\n",
       "```python\n",
       "df.iloc[x, y]\n",
       "```\n",
       "\n",
       "ここで、dfはデータフレームの変数名です。xは行のインデックス（0から始まる）で、yは列のインデックス（0から始まる）です。"
      ],
      "text/plain": [
       "<IPython.core.display.Markdown object>"
      ]
     },
     "metadata": {},
     "output_type": "display_data"
    }
   ],
   "source": [
    "%%ai_ask\n",
    "pandasのデータフレームのx行目y列のデータを参照したい"
   ]
  },
  {
   "cell_type": "code",
   "execution_count": 96,
   "id": "530eea47-245a-4694-95ca-6be9daa4f646",
   "metadata": {
    "tags": []
   },
   "outputs": [
    {
     "data": {
      "text/plain": [
       "'𓏺'"
      ]
     },
     "execution_count": 96,
     "metadata": {},
     "output_type": "execute_result"
    }
   ],
   "source": [
    "dfs[1].iat[65, 11]"
   ]
  },
  {
   "cell_type": "code",
   "execution_count": 2,
   "id": "23cd56ff-7585-4297-862e-a8c13ae7d375",
   "metadata": {
    "tags": []
   },
   "outputs": [
    {
     "data": {
      "text/markdown": [
       "Jupyter Notebookでは、直前のセルの出力を参照するために、アンダースコア `_` を使用できます。アンダースコアを単独で実行すると、直前のセルの出力が表示されます。また、アンダースコアを変数に代入することで、直前のセルの出力を変数として使用することができます。\n",
       "\n",
       "例えば、以下のように直前のセルの出力を変数に代入することができます。\n",
       "\n",
       "```python\n",
       "previous_output = _\n",
       "```\n",
       "\n",
       "また、過去の出力を参照する場合は、出力の番号を指定することもできます。例えば、2つ前の出力を参照する場合は、`_2` を使用します。\n",
       "\n",
       "```python\n",
       "previous_output = _2\n",
       "``` \n",
       "\n",
       "ただし、過去の出力を参照する場合は、その出力がまだメモリに残っている必要があります。Jupyter Notebookを再起動すると、過去の出力はすべて消去されます。"
      ],
      "text/plain": [
       "<IPython.core.display.Markdown object>"
      ]
     },
     "metadata": {},
     "output_type": "display_data"
    }
   ],
   "source": [
    "%%ai_continue\n",
    "jupyterで一個前のセルの出力を参照したい"
   ]
  },
  {
   "cell_type": "code",
   "execution_count": 3,
   "id": "84f76071-e105-485f-bed0-f2f0ad1f269a",
   "metadata": {
    "tags": []
   },
   "outputs": [
    {
     "data": {
      "text/markdown": [
       "Pythonでは、文字列のユニコードのコードポイントを表示するために、`ord()`関数を使用します。`ord()`関数は、指定された文字のUnicodeコードポイントを返します。\n",
       "\n",
       "例えば、文字列の1文字目のユニコードのコードポイントを表示するには、以下のようにします。\n",
       "\n",
       "```python\n",
       "s = \"Hello, world!\"\n",
       "print(ord(s[0]))\n",
       "```\n",
       "\n",
       "出力結果は、72となります。72は、文字列の1文字目である\"H\"のユニコードのコードポイントです。\n",
       "\n",
       "また、文字列全体のユニコードのコードポイントを表示するには、`ord()`関数をループ処理で使用します。\n",
       "\n",
       "```python\n",
       "s = \"Hello, world!\"\n",
       "for c in s:\n",
       "    print(ord(c))\n",
       "```\n",
       "\n",
       "このコードは、文字列の各文字のユニコードのコードポイントを順番に表示します。"
      ],
      "text/plain": [
       "<IPython.core.display.Markdown object>"
      ]
     },
     "metadata": {},
     "output_type": "display_data"
    }
   ],
   "source": [
    "%%ai_continue\n",
    "文字列のユニコードのコードポイントを表示したい"
   ]
  },
  {
   "cell_type": "code",
   "execution_count": 5,
   "id": "977d6d93-40ae-4081-b6f3-ec1985b492a3",
   "metadata": {
    "tags": []
   },
   "outputs": [
    {
     "data": {
      "text/markdown": [
       "ユニコードエスケープされたraw文字列を表示するには、文字列の先頭に`ur`を付けます。`ur`はPython 2.xで使用されていた表記で、Python 3.xでは`r`だけでユニコードエスケープされたraw文字列を表現できます。\n",
       "\n",
       "例えば、以下のようにしてユニコードエスケープされたraw文字列を表示することができます。\n",
       "\n",
       "```python\n",
       "s = ur\"\\u3053\\u3093\\u306b\\u3061\\u306f\"\n",
       "print(s)\n",
       "```\n",
       "\n",
       "このコードは、`\\u3053\\u3093\\u306b\\u3061\\u306f`というユニコードエスケープされた文字列を、raw文字列として扱います。出力結果は、`こんにちは`となります。\n",
       "\n",
       "ただし、Python 3.xでは、`r`だけでユニコードエスケープされたraw文字列を表現できるため、`ur`を使用する必要はありません。以下のように、`r`だけでユニコードエスケープされたraw文字列を表現することができます。\n",
       "\n",
       "```python\n",
       "s = r\"\\u3053\\u3093\\u306b\\u3061\\u306f\"\n",
       "print(s.encode().decode('unicode-escape'))\n",
       "```\n",
       "\n",
       "このコードは、`r\"\\u3053\\u3093\\u306b\\u3061\\u306f\"`という文字列を、ユニコードエスケープされた文字列として扱い、`encode()`メソッドでバイト列に変換し、`decode('unicode-escape')`メソッドでユニコードエスケープを解除して文字列に変換します。出力結果は、`こんにちは`となります。"
      ],
      "text/plain": [
       "<IPython.core.display.Markdown object>"
      ]
     },
     "metadata": {},
     "output_type": "display_data"
    }
   ],
   "source": [
    "%%ai_continue\n",
    "ユニコードエスケープされたraw文字列で表示して"
   ]
  },
  {
   "cell_type": "code",
   "execution_count": 96,
   "id": "3bf2ef9d-2ed6-41ab-879c-9ca7dc8597ed",
   "metadata": {
    "tags": []
   },
   "outputs": [
    {
     "data": {
      "text/plain": [
       "'𓏺'"
      ]
     },
     "execution_count": 96,
     "metadata": {},
     "output_type": "execute_result"
    }
   ],
   "source": [
    "dfs[1].iat[65, 11]"
   ]
  },
  {
   "cell_type": "code",
   "execution_count": 97,
   "id": "a9a212b1-5ca5-4b14-9107-51d58f41b3f8",
   "metadata": {
    "tags": []
   },
   "outputs": [
    {
     "data": {
      "text/plain": [
       "b'\\\\U000133fa'"
      ]
     },
     "execution_count": 97,
     "metadata": {},
     "output_type": "execute_result"
    }
   ],
   "source": [
    "_.encode('unicode-escape')"
   ]
  },
  {
   "cell_type": "code",
   "execution_count": 98,
   "id": "e7a652ef-c246-4215-8fa5-84323b0b26b4",
   "metadata": {
    "tags": []
   },
   "outputs": [
    {
     "data": {
      "text/plain": [
       "'𓏺'"
      ]
     },
     "execution_count": 98,
     "metadata": {},
     "output_type": "execute_result"
    }
   ],
   "source": [
    "u'\\U000133fa'"
   ]
  },
  {
   "cell_type": "code",
   "execution_count": 99,
   "id": "3a289cb2-5246-4de9-893a-bd9a7157d445",
   "metadata": {
    "tags": []
   },
   "outputs": [
    {
     "data": {
      "text/plain": [
       "'𓎆'"
      ]
     },
     "execution_count": 99,
     "metadata": {},
     "output_type": "execute_result"
    }
   ],
   "source": [
    "dfs[1].iat[58, 7]"
   ]
  },
  {
   "cell_type": "code",
   "execution_count": 100,
   "id": "3368ba19-75c1-4993-848d-bbb7d64cc187",
   "metadata": {
    "tags": []
   },
   "outputs": [
    {
     "data": {
      "text/plain": [
       "b'\\\\U00013386'"
      ]
     },
     "execution_count": 100,
     "metadata": {},
     "output_type": "execute_result"
    }
   ],
   "source": [
    "_.encode('unicode-escape')"
   ]
  },
  {
   "cell_type": "code",
   "execution_count": 101,
   "id": "629af344-0ace-41b6-9f3e-ac8f2cec39da",
   "metadata": {
    "tags": []
   },
   "outputs": [
    {
     "data": {
      "text/plain": [
       "'𓍢'"
      ]
     },
     "execution_count": 101,
     "metadata": {},
     "output_type": "execute_result"
    }
   ],
   "source": [
    "dfs[1].iat[56, 3]"
   ]
  },
  {
   "cell_type": "code",
   "execution_count": 102,
   "id": "0b595dcb-3dfd-4e91-8cfa-ded85539b419",
   "metadata": {
    "tags": []
   },
   "outputs": [
    {
     "data": {
      "text/plain": [
       "b'\\\\U00013362'"
      ]
     },
     "execution_count": 102,
     "metadata": {},
     "output_type": "execute_result"
    }
   ],
   "source": [
    "_.encode('unicode-escape')"
   ]
  },
  {
   "cell_type": "code",
   "execution_count": 113,
   "id": "2a24a51a-01da-4b93-aab2-a744e194bcea",
   "metadata": {
    "tags": []
   },
   "outputs": [
    {
     "data": {
      "text/plain": [
       "'𓆼'"
      ]
     },
     "execution_count": 113,
     "metadata": {},
     "output_type": "execute_result"
    }
   ],
   "source": [
    "dfs[1].iat[29,13]"
   ]
  },
  {
   "cell_type": "code",
   "execution_count": 114,
   "id": "64bfc0cb-9842-4308-89fa-8613d508a13f",
   "metadata": {
    "tags": []
   },
   "outputs": [
    {
     "data": {
      "text/plain": [
       "b'\\\\U000131bc'"
      ]
     },
     "execution_count": 114,
     "metadata": {},
     "output_type": "execute_result"
    }
   ],
   "source": [
    "_.encode('unicode-escape')"
   ]
  },
  {
   "cell_type": "code",
   "execution_count": 51,
   "id": "b0d0cced-fe0c-427c-a517-6d7d1ffa529a",
   "metadata": {
    "tags": []
   },
   "outputs": [
    {
     "data": {
      "text/plain": [
       "'𓂭'"
      ]
     },
     "execution_count": 51,
     "metadata": {},
     "output_type": "execute_result"
    }
   ],
   "source": [
    "dfs[1].iat[12, 14]"
   ]
  },
  {
   "cell_type": "code",
   "execution_count": 52,
   "id": "2840dd1f-11ad-4f08-b3b8-c7e458f325e5",
   "metadata": {
    "tags": []
   },
   "outputs": [
    {
     "data": {
      "text/plain": [
       "b'\\\\U000130ad'"
      ]
     },
     "execution_count": 52,
     "metadata": {},
     "output_type": "execute_result"
    }
   ],
   "source": [
    "_.encode('unicode-escape')"
   ]
  },
  {
   "cell_type": "code",
   "execution_count": 53,
   "id": "72a40f73-ec8c-4101-9838-f3232c9fd5a6",
   "metadata": {
    "tags": []
   },
   "outputs": [
    {
     "data": {
      "text/plain": [
       "'𓆐'"
      ]
     },
     "execution_count": 53,
     "metadata": {},
     "output_type": "execute_result"
    }
   ],
   "source": [
    "dfs[1].iat[27, 1]"
   ]
  },
  {
   "cell_type": "code",
   "execution_count": 54,
   "id": "38a7168d-2d77-4b24-b960-3237c6660794",
   "metadata": {
    "tags": []
   },
   "outputs": [
    {
     "data": {
      "text/plain": [
       "b'\\\\U00013190'"
      ]
     },
     "execution_count": 54,
     "metadata": {},
     "output_type": "execute_result"
    }
   ],
   "source": [
    "_.encode('unicode-escape')"
   ]
  },
  {
   "cell_type": "code",
   "execution_count": 9,
   "id": "3bcd0df3-474f-4c28-a5d9-dc7527958ba3",
   "metadata": {
    "tags": []
   },
   "outputs": [
    {
     "data": {
      "text/plain": [
       "'𓁨'"
      ]
     },
     "execution_count": 9,
     "metadata": {},
     "output_type": "execute_result"
    }
   ],
   "source": [
    "dfs[1].iat[8, 9]"
   ]
  },
  {
   "cell_type": "markdown",
   "id": "f7bcaeff-c868-42cb-9d08-697f026d9cee",
   "metadata": {},
   "source": [
    "## 10進数をエジプト数字に変換する"
   ]
  },
  {
   "cell_type": "code",
   "execution_count": 8,
   "id": "fd45049a-62d9-4ce7-a837-6365c6157e32",
   "metadata": {
    "tags": []
   },
   "outputs": [
    {
     "data": {
      "text/markdown": [
       "コードポイントが連続した文字を列挙するには、`chr()`関数を使用して、Unicodeコードポイントに対応する文字を生成することができます。`chr()`関数は、指定されたUnicodeコードポイントに対応する文字を返します。\n",
       "\n",
       "例えば、以下のようにして、Unicodeコードポイントが97から100までの文字列を生成することができます。\n",
       "\n",
       "```python\n",
       "result = \"\".join([chr(i) for i in range(97, 101)])\n",
       "print(result)\n",
       "```\n",
       "\n",
       "このコードは、`range()`関数を使用して97から100までの整数のリストを生成し、`chr()`関数を使用して各整数に対応するUnicode文字を生成します。`join()`メソッドを使用して、生成された文字列を連結して`\"abcd\"`という文字列を生成します。\n",
       "\n",
       "また、Unicodeコードポイントが連続していない場合は、リスト内包表記を使用して、必要なUnicodeコードポイントを指定することができます。\n",
       "\n",
       "例えば、以下のようにして、Unicodeコードポイントが97, 99, 101, 103の文字列を生成することができます。\n",
       "\n",
       "```python\n",
       "result = \"\".join([chr(i) for i in [97, 99, 101, 103]])\n",
       "print(result)\n",
       "```\n",
       "\n",
       "このコードは、リスト内包表記を使用して、Unicodeコードポイントが97, 99, 101, 103の文字を生成し、`join()`メソッドを使用して、生成された文字列を連結して`\"aceg\"`という文字列を生成します。"
      ],
      "text/plain": [
       "<IPython.core.display.Markdown object>"
      ]
     },
     "metadata": {},
     "output_type": "display_data"
    }
   ],
   "source": [
    "%%ai_continue\n",
    "コードポイントが連続した文字を列挙する方法"
   ]
  },
  {
   "cell_type": "code",
   "execution_count": 115,
   "id": "94f0d8ee-4675-4b6c-902e-6248f8ac2f66",
   "metadata": {
    "tags": []
   },
   "outputs": [],
   "source": [
    "egyptian_numerals = {}"
   ]
  },
  {
   "cell_type": "code",
   "execution_count": 116,
   "id": "a6342d7e",
   "metadata": {
    "tags": []
   },
   "outputs": [
    {
     "name": "stdout",
     "output_type": "stream",
     "text": [
      "1 𓏺\n",
      "2 𓏻\n",
      "3 𓏼\n",
      "4 𓏽\n",
      "5 𓏾\n",
      "6 𓏿\n",
      "7 𓐀\n",
      "8 𓐁\n",
      "9 𓐂\n"
     ]
    },
    {
     "data": {
      "text/plain": [
       "{1: '𓏺', 2: '𓏻', 3: '𓏼', 4: '𓏽', 5: '𓏾', 6: '𓏿', 7: '𓐀', 8: '𓐁', 9: '𓐂'}"
      ]
     },
     "execution_count": 116,
     "metadata": {},
     "output_type": "execute_result"
    }
   ],
   "source": [
    "for i in range(1, 10):\n",
    "    print(i, chr(ord('\\U000133fa')-1+i))\n",
    "    egyptian_numerals[i] = chr(ord('\\U000133fa')-1+i)\n",
    "egyptian_numerals"
   ]
  },
  {
   "cell_type": "code",
   "execution_count": 117,
   "id": "6197c0ab",
   "metadata": {
    "tags": []
   },
   "outputs": [
    {
     "name": "stdout",
     "output_type": "stream",
     "text": [
      "10 𓎆\n",
      "20 𓎇\n",
      "30 𓎈\n",
      "40 𓎉\n",
      "50 𓎊\n",
      "60 𓎋\n",
      "70 𓎌\n",
      "80 𓎍\n",
      "90 𓎎\n"
     ]
    },
    {
     "data": {
      "text/plain": [
       "{1: '𓏺',\n",
       " 2: '𓏻',\n",
       " 3: '𓏼',\n",
       " 4: '𓏽',\n",
       " 5: '𓏾',\n",
       " 6: '𓏿',\n",
       " 7: '𓐀',\n",
       " 8: '𓐁',\n",
       " 9: '𓐂',\n",
       " 10: '𓎆',\n",
       " 20: '𓎇',\n",
       " 30: '𓎈',\n",
       " 40: '𓎉',\n",
       " 50: '𓎊',\n",
       " 60: '𓎋',\n",
       " 70: '𓎌',\n",
       " 80: '𓎍',\n",
       " 90: '𓎎'}"
      ]
     },
     "execution_count": 117,
     "metadata": {},
     "output_type": "execute_result"
    }
   ],
   "source": [
    "for i in range(1, 10):\n",
    "    print(i*10, chr(ord('\\U00013386')-1+i))\n",
    "    egyptian_numerals[i*10] = chr(ord('\\U00013386')-1+i)\n",
    "egyptian_numerals"
   ]
  },
  {
   "cell_type": "code",
   "execution_count": 118,
   "id": "c5a38a35",
   "metadata": {
    "tags": []
   },
   "outputs": [
    {
     "name": "stdout",
     "output_type": "stream",
     "text": [
      "100 𓍢\n",
      "200 𓍣\n",
      "300 𓍤\n",
      "400 𓍥\n",
      "500 𓍦\n",
      "600 𓍧\n",
      "700 𓍨\n",
      "800 𓍩\n",
      "900 𓍪\n"
     ]
    },
    {
     "data": {
      "text/plain": [
       "{1: '𓏺',\n",
       " 2: '𓏻',\n",
       " 3: '𓏼',\n",
       " 4: '𓏽',\n",
       " 5: '𓏾',\n",
       " 6: '𓏿',\n",
       " 7: '𓐀',\n",
       " 8: '𓐁',\n",
       " 9: '𓐂',\n",
       " 10: '𓎆',\n",
       " 20: '𓎇',\n",
       " 30: '𓎈',\n",
       " 40: '𓎉',\n",
       " 50: '𓎊',\n",
       " 60: '𓎋',\n",
       " 70: '𓎌',\n",
       " 80: '𓎍',\n",
       " 90: '𓎎',\n",
       " 100: '𓍢',\n",
       " 200: '𓍣',\n",
       " 300: '𓍤',\n",
       " 400: '𓍥',\n",
       " 500: '𓍦',\n",
       " 600: '𓍧',\n",
       " 700: '𓍨',\n",
       " 800: '𓍩',\n",
       " 900: '𓍪'}"
      ]
     },
     "execution_count": 118,
     "metadata": {},
     "output_type": "execute_result"
    }
   ],
   "source": [
    "for i in range(1, 10):\n",
    "    print(i*100, chr(ord('\\U00013362')-1+i))\n",
    "    egyptian_numerals[i*100] = chr(ord('\\U00013362')-1+i)\n",
    "egyptian_numerals"
   ]
  },
  {
   "cell_type": "code",
   "execution_count": 121,
   "id": "b10150c0",
   "metadata": {
    "tags": []
   },
   "outputs": [
    {
     "name": "stdout",
     "output_type": "stream",
     "text": [
      "1000 𓆼\n",
      "2000 𓆽\n",
      "3000 𓆾\n",
      "4000 𓆿\n",
      "5000 𓇀\n",
      "6000 𓇁\n",
      "7000 𓇂\n",
      "8000 𓇃\n",
      "9000 𓇄\n"
     ]
    },
    {
     "data": {
      "text/plain": [
       "{1: '𓏺',\n",
       " 2: '𓏻',\n",
       " 3: '𓏼',\n",
       " 4: '𓏽',\n",
       " 5: '𓏾',\n",
       " 6: '𓏿',\n",
       " 7: '𓐀',\n",
       " 8: '𓐁',\n",
       " 9: '𓐂',\n",
       " 10: '𓎆',\n",
       " 20: '𓎇',\n",
       " 30: '𓎈',\n",
       " 40: '𓎉',\n",
       " 50: '𓎊',\n",
       " 60: '𓎋',\n",
       " 70: '𓎌',\n",
       " 80: '𓎍',\n",
       " 90: '𓎎',\n",
       " 100: '𓍢',\n",
       " 200: '𓍣',\n",
       " 300: '𓍤',\n",
       " 400: '𓍥',\n",
       " 500: '𓍦',\n",
       " 600: '𓍧',\n",
       " 700: '𓍨',\n",
       " 800: '𓍩',\n",
       " 900: '𓍪',\n",
       " 1000: '𓆼',\n",
       " 2000: '𓆽',\n",
       " 3000: '𓆾',\n",
       " 4000: '𓆿',\n",
       " 5000: '𓇀',\n",
       " 6000: '𓇁',\n",
       " 7000: '𓇂',\n",
       " 8000: '𓇃',\n",
       " 9000: '𓇄'}"
      ]
     },
     "execution_count": 121,
     "metadata": {},
     "output_type": "execute_result"
    }
   ],
   "source": [
    "for i in range(1, 10):\n",
    "    print(i*1000, chr(ord('\\U000131bc')-1+i))\n",
    "    egyptian_numerals[i*1000] = chr(ord('\\U000131bc')-1+i)\n",
    "egyptian_numerals"
   ]
  },
  {
   "cell_type": "code",
   "execution_count": 122,
   "id": "5fc48c90-0eb6-45ec-8394-a6cff7ac0b37",
   "metadata": {
    "tags": []
   },
   "outputs": [
    {
     "name": "stdout",
     "output_type": "stream",
     "text": [
      "10000 𓂭\n",
      "20000 𓂮\n",
      "30000 𓂯\n",
      "40000 𓂰\n",
      "50000 𓂱\n",
      "60000 𓂲\n",
      "70000 𓂳\n",
      "80000 𓂴\n",
      "90000 𓂵\n"
     ]
    },
    {
     "data": {
      "text/plain": [
       "{1: '𓏺',\n",
       " 2: '𓏻',\n",
       " 3: '𓏼',\n",
       " 4: '𓏽',\n",
       " 5: '𓏾',\n",
       " 6: '𓏿',\n",
       " 7: '𓐀',\n",
       " 8: '𓐁',\n",
       " 9: '𓐂',\n",
       " 10: '𓎆',\n",
       " 20: '𓎇',\n",
       " 30: '𓎈',\n",
       " 40: '𓎉',\n",
       " 50: '𓎊',\n",
       " 60: '𓎋',\n",
       " 70: '𓎌',\n",
       " 80: '𓎍',\n",
       " 90: '𓎎',\n",
       " 100: '𓍢',\n",
       " 200: '𓍣',\n",
       " 300: '𓍤',\n",
       " 400: '𓍥',\n",
       " 500: '𓍦',\n",
       " 600: '𓍧',\n",
       " 700: '𓍨',\n",
       " 800: '𓍩',\n",
       " 900: '𓍪',\n",
       " 1000: '𓆼',\n",
       " 2000: '𓆽',\n",
       " 3000: '𓆾',\n",
       " 4000: '𓆿',\n",
       " 5000: '𓇀',\n",
       " 6000: '𓇁',\n",
       " 7000: '𓇂',\n",
       " 8000: '𓇃',\n",
       " 9000: '𓇄',\n",
       " 10000: '𓂭',\n",
       " 20000: '𓂮',\n",
       " 30000: '𓂯',\n",
       " 40000: '𓂰',\n",
       " 50000: '𓂱',\n",
       " 60000: '𓂲',\n",
       " 70000: '𓂳',\n",
       " 80000: '𓂴',\n",
       " 90000: '𓂵'}"
      ]
     },
     "execution_count": 122,
     "metadata": {},
     "output_type": "execute_result"
    }
   ],
   "source": [
    "for i in range(1, 10):\n",
    "    print(i*10000, chr(ord('\\U000130ad')-1+i))\n",
    "    egyptian_numerals[i*10000] = chr(ord('\\U000130ad')-1+i)\n",
    "egyptian_numerals"
   ]
  },
  {
   "cell_type": "code",
   "execution_count": 123,
   "id": "9cc80ced-6cb1-448f-8d25-0d439e6054b8",
   "metadata": {
    "tags": []
   },
   "outputs": [],
   "source": [
    "def decimal_to_egyptian(num):\n",
    "    result = ''\n",
    "    for value in sorted(egyptian_numerals.keys(), reverse=True):\n",
    "        while num >= value:\n",
    "            result += egyptian_numerals[value]\n",
    "            num -= value\n",
    "    return result"
   ]
  },
  {
   "cell_type": "code",
   "execution_count": 124,
   "id": "c900c393-46c8-46d0-ad5a-958f1619c3ab",
   "metadata": {
    "tags": []
   },
   "outputs": [
    {
     "data": {
      "text/plain": [
       "'𓆿𓍧𓎇𓏻'"
      ]
     },
     "execution_count": 124,
     "metadata": {},
     "output_type": "execute_result"
    }
   ],
   "source": [
    "decimal_to_egyptian(4622)"
   ]
  },
  {
   "cell_type": "markdown",
   "id": "1b947c76-f3e2-4937-9282-9ca6e5df743e",
   "metadata": {},
   "source": [
    "* [Egyptian numerals - Wikipedia](https://en.wikipedia.org/wiki/Egyptian_numerals)"
   ]
  },
  {
   "cell_type": "markdown",
   "id": "6e500dbf",
   "metadata": {},
   "source": [
    "## `ord()` と `chr()` で文字とコードポイントの変換ができる"
   ]
  },
  {
   "cell_type": "code",
   "execution_count": 9,
   "id": "c50ff460-623f-44c6-a502-c5942e206249",
   "metadata": {
    "tags": []
   },
   "outputs": [
    {
     "data": {
      "text/markdown": [
       "`ord()`関数は、文字列の各文字のUnicodeコードポイントを取得するために使用されます。Unicodeコードポイントは、文字を表す数値であり、文字列の比較やソートなどの操作に必要です。\n",
       "\n",
       "Pythonでは、文字列はUnicode文字列として扱われます。Unicode文字列は、UTF-8、UTF-16、UTF-32などのエンコーディング形式で表現されます。`ord()`関数を使用することで、Unicode文字列をエンコーディング形式に依存しない数値として扱うことができます。\n",
       "\n",
       "例えば、以下のようにして、文字列の比較に`ord()`関数を使用することができます。\n",
       "\n",
       "```python\n",
       "s1 = \"apple\"\n",
       "s2 = \"banana\"\n",
       "if ord(s1[0]) < ord(s2[0]):\n",
       "    print(s1 + \" comes before \" + s2)\n",
       "else:\n",
       "    print(s2 + \" comes before \" + s1)\n",
       "```\n",
       "\n",
       "このコードは、文字列`s1`と`s2`の先頭文字のUnicodeコードポイントを比較し、文字列の順序を決定します。Unicodeコードポイントを使用することで、エンコーディング形式に依存しない文字列の比較が可能になります。"
      ],
      "text/plain": [
       "<IPython.core.display.Markdown object>"
      ]
     },
     "metadata": {},
     "output_type": "display_data"
    }
   ],
   "source": [
    "%%ai_continue\n",
    "`ord()`が必要な理由"
   ]
  },
  {
   "cell_type": "markdown",
   "id": "9458c22c-5531-4612-b9a3-6d36086df27b",
   "metadata": {},
   "source": [
    "### \"a\" の次の文字 \"b\" を表示する"
   ]
  },
  {
   "cell_type": "code",
   "execution_count": 32,
   "id": "b393b25d-47f3-4beb-aae2-1278448da4b8",
   "metadata": {
    "tags": []
   },
   "outputs": [
    {
     "data": {
      "text/plain": [
       "\u001b[0;31mSignature:\u001b[0m \u001b[0mchr\u001b[0m\u001b[0;34m(\u001b[0m\u001b[0mi\u001b[0m\u001b[0;34m,\u001b[0m \u001b[0;34m/\u001b[0m\u001b[0;34m)\u001b[0m\u001b[0;34m\u001b[0m\u001b[0;34m\u001b[0m\u001b[0m\n",
       "\u001b[0;31mDocstring:\u001b[0m Return a Unicode string of one character with ordinal i; 0 <= i <= 0x10ffff.\n",
       "\u001b[0;31mType:\u001b[0m      builtin_function_or_method"
      ]
     },
     "metadata": {},
     "output_type": "display_data"
    }
   ],
   "source": [
    "chr?"
   ]
  },
  {
   "cell_type": "code",
   "execution_count": 31,
   "id": "b911cc6e-ee39-41bf-b95e-8a4654162d2c",
   "metadata": {
    "tags": []
   },
   "outputs": [
    {
     "data": {
      "text/plain": [
       "\u001b[0;31mSignature:\u001b[0m \u001b[0mord\u001b[0m\u001b[0;34m(\u001b[0m\u001b[0mc\u001b[0m\u001b[0;34m,\u001b[0m \u001b[0;34m/\u001b[0m\u001b[0;34m)\u001b[0m\u001b[0;34m\u001b[0m\u001b[0;34m\u001b[0m\u001b[0m\n",
       "\u001b[0;31mDocstring:\u001b[0m Return the Unicode code point for a one-character string.\n",
       "\u001b[0;31mType:\u001b[0m      builtin_function_or_method"
      ]
     },
     "metadata": {},
     "output_type": "display_data"
    }
   ],
   "source": [
    "ord?"
   ]
  },
  {
   "cell_type": "code",
   "execution_count": 126,
   "id": "fc0c26c9-92db-4526-9e09-d23783e33feb",
   "metadata": {
    "tags": []
   },
   "outputs": [
    {
     "data": {
      "text/plain": [
       "97"
      ]
     },
     "execution_count": 126,
     "metadata": {},
     "output_type": "execute_result"
    }
   ],
   "source": [
    "ord('a')"
   ]
  },
  {
   "cell_type": "code",
   "execution_count": 127,
   "id": "1dbb2d55-e48c-4da1-877f-110dbf0b4bde",
   "metadata": {
    "tags": []
   },
   "outputs": [
    {
     "data": {
      "text/plain": [
       "'a'"
      ]
     },
     "execution_count": 127,
     "metadata": {},
     "output_type": "execute_result"
    }
   ],
   "source": [
    "chr(97)"
   ]
  },
  {
   "cell_type": "code",
   "execution_count": 130,
   "id": "1d2dc74f-42c6-4b34-aa9c-c4d81f56b2df",
   "metadata": {
    "tags": []
   },
   "outputs": [
    {
     "ename": "TypeError",
     "evalue": "can only concatenate str (not \"int\") to str",
     "output_type": "error",
     "traceback": [
      "\u001b[0;31m---------------------------------------------------------------------------\u001b[0m",
      "\u001b[0;31mTypeError\u001b[0m                                 Traceback (most recent call last)",
      "Cell \u001b[0;32mIn[130], line 1\u001b[0m\n\u001b[0;32m----> 1\u001b[0m \u001b[38;5;124;43m'\u001b[39;49m\u001b[38;5;124;43ma\u001b[39;49m\u001b[38;5;124;43m'\u001b[39;49m\u001b[38;5;241;43m+\u001b[39;49m\u001b[38;5;241;43m1\u001b[39;49m\n",
      "\u001b[0;31mTypeError\u001b[0m: can only concatenate str (not \"int\") to str"
     ]
    }
   ],
   "source": [
    "'a'+1"
   ]
  },
  {
   "cell_type": "code",
   "execution_count": 5,
   "id": "7f5a4178-93e8-4369-a242-37e5b9ebb39c",
   "metadata": {
    "tags": []
   },
   "outputs": [
    {
     "data": {
      "text/plain": [
       "'a1'"
      ]
     },
     "execution_count": 5,
     "metadata": {},
     "output_type": "execute_result"
    }
   ],
   "source": [
    "'a'+'1'"
   ]
  },
  {
   "cell_type": "code",
   "execution_count": 3,
   "id": "868433da-1b14-4458-bfc7-aeb971359db0",
   "metadata": {
    "tags": []
   },
   "outputs": [
    {
     "data": {
      "text/plain": [
       "98"
      ]
     },
     "execution_count": 3,
     "metadata": {},
     "output_type": "execute_result"
    }
   ],
   "source": [
    "ord('a')+1"
   ]
  },
  {
   "cell_type": "code",
   "execution_count": 4,
   "id": "25b5262c-208a-4046-8da0-7c3b472b6be3",
   "metadata": {
    "tags": []
   },
   "outputs": [
    {
     "data": {
      "text/plain": [
       "'b'"
      ]
     },
     "execution_count": 4,
     "metadata": {},
     "output_type": "execute_result"
    }
   ],
   "source": [
    "chr(_)"
   ]
  },
  {
   "cell_type": "code",
   "execution_count": 2,
   "id": "59d63c24-e553-48cc-bdf8-4783055b698a",
   "metadata": {
    "tags": []
   },
   "outputs": [
    {
     "data": {
      "text/plain": [
       "'b'"
      ]
     },
     "execution_count": 2,
     "metadata": {},
     "output_type": "execute_result"
    }
   ],
   "source": [
    "chr(ord('a')+1)"
   ]
  },
  {
   "cell_type": "code",
   "execution_count": null,
   "id": "6840a57c-5092-40e6-b66a-5c4d36c08701",
   "metadata": {
    "tags": []
   },
   "outputs": [
    {
     "name": "stdout",
     "output_type": "stream",
     "text": [
      "0 97 a\n",
      "1 98 b\n",
      "2 99 c\n",
      "3 100 d\n",
      "4 101 e\n",
      "5 102 f\n",
      "6 103 g\n",
      "7 104 h\n",
      "8 105 i\n",
      "9 106 j\n",
      "10 107 k\n",
      "11 108 l\n",
      "12 109 m\n",
      "13 110 n\n",
      "14 111 o\n",
      "15 112 p\n",
      "16 113 q\n",
      "17 114 r\n",
      "18 115 s\n",
      "19 116 t\n",
      "20 117 u\n",
      "21 118 v\n",
      "22 119 w\n",
      "23 120 x\n",
      "24 121 y\n",
      "25 122 z\n"
     ]
    }
   ],
   "source": [
    "for i in range(26):\n",
    "    print(i, ord('a')+i, chr(ord('a')+i))"
   ]
  },
  {
   "cell_type": "markdown",
   "id": "3d22668a-eff2-4747-a594-49ec1c8d4a77",
   "metadata": {},
   "source": []
  }
 ],
 "metadata": {
  "kernelspec": {
   "display_name": "Python 3 (ipykernel)",
   "language": "python",
   "name": "python3"
  },
  "language_info": {
   "codemirror_mode": {
    "name": "ipython",
    "version": 3
   },
   "file_extension": ".py",
   "mimetype": "text/x-python",
   "name": "python",
   "nbconvert_exporter": "python",
   "pygments_lexer": "ipython3",
   "version": "3.10.10"
  }
 },
 "nbformat": 4,
 "nbformat_minor": 5
}
