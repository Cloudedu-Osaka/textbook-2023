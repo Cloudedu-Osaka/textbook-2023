{
 "cells": [
  {
   "cell_type": "markdown",
   "id": "003a5fa4-4765-44e9-be81-fb244ac3ec4f",
   "metadata": {},
   "source": [
    "# 前回の課題"
   ]
  },
  {
   "cell_type": "markdown",
   "id": "fa90bcef-8751-43e1-90f5-afd5864bbbb6",
   "metadata": {},
   "source": [
    "## 課題1"
   ]
  },
  {
   "cell_type": "code",
   "execution_count": 1,
   "id": "ae99bd28-b88f-4786-bfd2-64589bc7fe89",
   "metadata": {
    "tags": []
   },
   "outputs": [
    {
     "data": {
      "text/markdown": [
       "二つのプログラムは、異なる基数での加算を行っている。`decimal_addition`関数は、10進数での加算を行い、`binary_addition`関数は、2進数での加算を行っている。また、`decimal_addition`関数では、各桁の和が10以上の場合に繰り上がりを行い、`binary_addition`関数では、各桁の和が2以上の場合に繰り上がりを行っている。"
      ],
      "text/plain": [
       "<IPython.core.display.Markdown object>"
      ]
     },
     "metadata": {},
     "output_type": "display_data"
    }
   ],
   "source": [
    "%%ai_ask\n",
    "次の二つのプログラムの違いをさがせ\n",
    "\n",
    "```python\n",
    "def decimal_addition(a, b):\n",
    "    carry = 0\n",
    "    result = \"\"\n",
    "    # 文字列を反転させて、下位桁から処理する\n",
    "    a = a[::-1]\n",
    "    b = b[::-1]\n",
    "    # 2つの数の桁数が同じになるように、0を追加する\n",
    "    if len(a) > len(b):\n",
    "        b += \"0\" * (len(a) - len(b))\n",
    "    else:\n",
    "        a += \"0\" * (len(b) - len(a))\n",
    "    # 各桁を足していく\n",
    "    for i in range(len(a)):\n",
    "        digit_sum = int(a[i]) + int(b[i]) + carry\n",
    "        if digit_sum >= 10:\n",
    "            carry = 1\n",
    "            digit_sum -= 10\n",
    "        else:\n",
    "            carry = 0\n",
    "        result += str(digit_sum)\n",
    "    # 最上位桁での繰り上がりがある場合は、1を追加する\n",
    "    if carry == 1:\n",
    "        result += \"1\"\n",
    "    # 結果を反転させて、正しい順序にする\n",
    "    result = result[::-1]\n",
    "    return result\n",
    "```\n",
    "\n",
    "```python\n",
    "def binary_addition(a, b):\n",
    "    carry = 0\n",
    "    result = \"\"\n",
    "    # 文字列を反転させて、下位桁から処理する\n",
    "    a = a[::-1]\n",
    "    b = b[::-1]\n",
    "    # 2つの数の桁数が同じになるように、0を追加する\n",
    "    if len(a) > len(b):\n",
    "        b += \"0\" * (len(a) - len(b))\n",
    "    else:\n",
    "        a += \"0\" * (len(b) - len(a))\n",
    "    # 各桁を足していく\n",
    "    for i in range(len(a)):\n",
    "        digit_sum = int(a[i]) + int(b[i]) + carry\n",
    "        if digit_sum >= 2:\n",
    "            carry = 1\n",
    "            digit_sum -= 2\n",
    "        else:\n",
    "            carry = 0\n",
    "        result += str(digit_sum)\n",
    "    # 最上位桁での繰り上がりがある場合は、1を追加する\n",
    "    if carry == 1:\n",
    "        result += \"1\"\n",
    "    # 結果を反転させて、正しい順序にする\n",
    "    result = result[::-1]\n",
    "    return result\n",
    "```"
   ]
  },
  {
   "cell_type": "code",
   "execution_count": 2,
   "id": "501dcb5a-9485-4c97-b953-4afdb230811b",
   "metadata": {
    "tags": []
   },
   "outputs": [
    {
     "data": {
      "text/markdown": [
       "`decimal_addition`関数では、以下の行が繰り上がり判定をしています。\n",
       "\n",
       "```python\n",
       "if digit_sum >= 10:\n",
       "    carry = 1\n",
       "    digit_sum -= 10\n",
       "else:\n",
       "    carry = 0\n",
       "```\n",
       "\n",
       "`binary_addition`関数では、以下の行が繰り上がり判定をしています。\n",
       "\n",
       "```python\n",
       "if digit_sum >= 2:\n",
       "    carry = 1\n",
       "    digit_sum -= 2\n",
       "else:\n",
       "    carry = 0\n",
       "```"
      ],
      "text/plain": [
       "<IPython.core.display.Markdown object>"
      ]
     },
     "metadata": {},
     "output_type": "display_data"
    }
   ],
   "source": [
    "%%ai_continue\n",
    "具体的にプロウグラムのどの行が繰り上がり判定をしていますか？"
   ]
  },
  {
   "cell_type": "code",
   "execution_count": 3,
   "id": "6c92ed3d-e3bf-4889-a697-174bfd1fe5db",
   "metadata": {
    "tags": []
   },
   "outputs": [
    {
     "data": {
      "text/markdown": [
       "はい、基数を定数にして関数に汎用性を持たせることができます。以下は、基数を引数として受け取るように変更した例です。\n",
       "\n",
       "```python\n",
       "def addition(a, b, base):\n",
       "    carry = 0\n",
       "    result = \"\"\n",
       "    # 文字列を反転させて、下位桁から処理する\n",
       "    a = a[::-1]\n",
       "    b = b[::-1]\n",
       "    # 2つの数の桁数が同じになるように、0を追加する\n",
       "    if len(a) > len(b):\n",
       "        b += \"0\" * (len(a) - len(b))\n",
       "    else:\n",
       "        a += \"0\" * (len(b) - len(a))\n",
       "    # 各桁を足していく\n",
       "    for i in range(len(a)):\n",
       "        digit_sum = int(a[i], base) + int(b[i], base) + carry\n",
       "        if digit_sum >= base:\n",
       "            carry = 1\n",
       "            digit_sum -= base\n",
       "        else:\n",
       "            carry = 0\n",
       "        result += str(digit_sum)\n",
       "    # 最上位桁での繰り上がりがある場合は、1を追加する\n",
       "    if carry == 1:\n",
       "        result += \"1\"\n",
       "    # 結果を反転させて、正しい順序にする\n",
       "    result = result[::-1]\n",
       "    return result\n",
       "```\n",
       "\n",
       "このように、`int()`関数の第2引数に基数を指定することで、任意の基数での加算が可能になります。例えば、10進数での加算を行う場合は、`base=10`と指定します。"
      ],
      "text/plain": [
       "<IPython.core.display.Markdown object>"
      ]
     },
     "metadata": {},
     "output_type": "display_data"
    }
   ],
   "source": [
    "%%ai_continue\n",
    "基数を定数にして関数に汎用性を持たせられますか？"
   ]
  },
  {
   "cell_type": "code",
   "execution_count": 4,
   "id": "f047dba6-357e-47ea-a391-74a801b7c1ef",
   "metadata": {
    "tags": []
   },
   "outputs": [
    {
     "data": {
      "text/markdown": [
       "了解です。基数のデフォルト値を10に設定した例を以下に示します。\n",
       "\n",
       "```python\n",
       "def addition(a, b, base=10):\n",
       "    carry = 0\n",
       "    result = \"\"\n",
       "    # 文字列を反転させて、下位桁から処理する\n",
       "    a = a[::-1]\n",
       "    b = b[::-1]\n",
       "    # 2つの数の桁数が同じになるように、0を追加する\n",
       "    if len(a) > len(b):\n",
       "        b += \"0\" * (len(a) - len(b))\n",
       "    else:\n",
       "        a += \"0\" * (len(b) - len(a))\n",
       "    # 各桁を足していく\n",
       "    for i in range(len(a)):\n",
       "        digit_sum = int(a[i], base) + int(b[i], base) + carry\n",
       "        if digit_sum >= base:\n",
       "            carry = 1\n",
       "            digit_sum -= base\n",
       "        else:\n",
       "            carry = 0\n",
       "        result += str(digit_sum)\n",
       "    # 最上位桁での繰り上がりがある場合は、1を追加する\n",
       "    if carry == 1:\n",
       "        result += \"1\"\n",
       "    # 結果を反転させて、正しい順序にする\n",
       "    result = result[::-1]\n",
       "    return result\n",
       "```\n",
       "\n",
       "このように、`base`引数にデフォルト値を設定することで、基数を指定しない場合は10進数での加算が行われるようになります。"
      ],
      "text/plain": [
       "<IPython.core.display.Markdown object>"
      ]
     },
     "metadata": {},
     "output_type": "display_data"
    }
   ],
   "source": [
    "%%ai_continue\n",
    "デフォルトを10にしてください"
   ]
  },
  {
   "cell_type": "markdown",
   "id": "93f61d8c-59d1-4dcf-b01e-89b79398c2fd",
   "metadata": {},
   "source": [
    "## 課題2"
   ]
  },
  {
   "cell_type": "code",
   "execution_count": 3,
   "id": "5ea2ee8b-f84f-4b1b-8cd1-635bd27ac52c",
   "metadata": {
    "tags": []
   },
   "outputs": [
    {
     "data": {
      "text/markdown": [
       "二つのプログラムは、2つの2進数を足し合わせるための関数であるが、足し算の方法が異なる。最初のプログラムでは、各桁を足していき、繰り上がりを考慮している。一方、2番目のプログラムでは、XOR演算子を使用して各桁を足し、AND演算子を使用して繰り上がりを計算している。"
      ],
      "text/plain": [
       "<IPython.core.display.Markdown object>"
      ]
     },
     "metadata": {},
     "output_type": "display_data"
    }
   ],
   "source": [
    "%%ai_ask\n",
    "次の二つのプログラムの違いをさがせ\n",
    "\n",
    "```python\n",
    "def binary_addition(a, b):\n",
    "    carry = 0\n",
    "    result = \"\"\n",
    "    # 文字列を反転させて、下位桁から処理する\n",
    "    a = a[::-1]\n",
    "    b = b[::-1]\n",
    "    # 2つの数の桁数が同じになるように、0を追加する\n",
    "    if len(a) > len(b):\n",
    "        b += \"0\" * (len(a) - len(b))\n",
    "    else:\n",
    "        a += \"0\" * (len(b) - len(a))\n",
    "    # 各桁を足していく\n",
    "    for i in range(len(a)):\n",
    "        digit_sum = int(a[i]) + int(b[i]) + carry\n",
    "        if digit_sum >= 2:\n",
    "            carry = 1\n",
    "            digit_sum -= 2\n",
    "        else:\n",
    "            carry = 0\n",
    "        result += str(digit_sum)\n",
    "    # 最上位桁での繰り上がりがある場合は、1を追加する\n",
    "    if carry == 1:\n",
    "        result += \"1\"\n",
    "    # 結果を反転させて、正しい順序にする\n",
    "    result = result[::-1]\n",
    "    return result\n",
    "```\n",
    "\n",
    "```python\n",
    "def binary_addition(a, b):\n",
    "    carry = 0\n",
    "    result = \"\"\n",
    "    # 文字列を反転させて、下位桁から処理する\n",
    "    a = a[::-1]\n",
    "    b = b[::-1]\n",
    "    # 2つの数の桁数が同じになるように、0を追加する\n",
    "    if len(a) > len(b):\n",
    "        b += \"0\" * (len(a) - len(b))\n",
    "    else:\n",
    "        a += \"0\" * (len(b) - len(a))\n",
    "    # 各桁を足していく\n",
    "    for i in range(len(a)):\n",
    "        # XOR演算で各桁を足す\n",
    "        digit_sum = int(a[i]) ^ int(b[i]) ^ carry\n",
    "        # AND演算で繰り上がりを計算する\n",
    "        carry = (int(a[i]) & int(b[i])) | (int(a[i]) & carry) | (int(b[i]) & carry)\n",
    "        result += str(digit_sum)\n",
    "    # 最上位桁での繰り上がりがある場合は、1を追加する\n",
    "    if carry == 1:\n",
    "        result += \"1\"\n",
    "    # 結果を反転させて、正しい順序にする\n",
    "    result = result[::-1]\n",
    "    return result\n",
    "```"
   ]
  },
  {
   "cell_type": "code",
   "execution_count": 4,
   "id": "310e6e8c-9b78-4120-9f35-b71418c3d081",
   "metadata": {
    "tags": []
   },
   "outputs": [
    {
     "data": {
      "text/markdown": [
       "二つの関数は、異なる方法で足し算を行っていますが、どちらの方法でも同じ結果を返します。これは、2進数の足し算において、各桁の値が0または1であるため、XOR演算子とAND演算子の結果が同じになるためです。つまり、どちらの方法でも同じ結果が得られるため、同等の関数と言えます。ただし、実際には、XOR演算子とAND演算子を使用した方が、計算量が少なくなるため、より効率的な方法と言えます。"
      ],
      "text/plain": [
       "<IPython.core.display.Markdown object>"
      ]
     },
     "metadata": {},
     "output_type": "display_data"
    }
   ],
   "source": [
    "%%ai_continue\n",
    "同等の関数と聞いたのですが、何故同じ結果が返るのですか？"
   ]
  },
  {
   "cell_type": "code",
   "execution_count": 5,
   "id": "8b05ecfa-1117-47fa-9f37-7928717f91b6",
   "metadata": {
    "tags": []
   },
   "outputs": [
    {
     "data": {
      "text/markdown": [
       "二進法を最初に使用したのは、ドイツの数学者・哲学者であるゴットフリート・ライプニッツです。彼は、二進法を使用して、論理的な演算を行うことができると考え、二進法を論理学や計算機科学の基礎として発展させました。ライプニッツは、二進法を使用して、算術演算、論理演算、および記号論理学の問題を解決し、その成果は、彼が発明した「計算機械」の設計にも反映されました。"
      ],
      "text/plain": [
       "<IPython.core.display.Markdown object>"
      ]
     },
     "metadata": {},
     "output_type": "display_data"
    }
   ],
   "source": [
    "%%ai_continue\n",
    "ちなみに、歴史上、最初に二進法で計算を試みたのは誰ですか？"
   ]
  },
  {
   "cell_type": "markdown",
   "id": "c8884c36-4568-4add-b1b0-01ad0d21957a",
   "metadata": {},
   "source": [
    "## なぜLeibnizは2進法を導入しようとしたのか?!\n",
    "\n",
    "* [Gottfried Wilhelm Leibniz - Wikipedia](https://en.wikipedia.org/wiki/Gottfried_Wilhelm_Leibniz) (1646&ndash;1716)\n",
    "     - [Dropping In on Gottfried Leibniz—Stephen Wolfram Writings](https://writings.stephenwolfram.com/2013/05/dropping-in-on-gottfried-leibniz/)"
   ]
  },
  {
   "cell_type": "markdown",
   "id": "44d6ff44-0b36-4df9-8805-de4aef56085f",
   "metadata": {},
   "source": [
    "<img src=\"https://content.wolfram.com/uploads/sites/43/2013/05/33-large-a.png\"/>"
   ]
  },
  {
   "cell_type": "code",
   "execution_count": 5,
   "id": "c3a7e2ff-74be-4116-ba4f-19f79ff89f04",
   "metadata": {
    "tags": []
   },
   "outputs": [],
   "source": [
    "def addition(a, b, base=10):\n",
    "    carry = 0\n",
    "    result = \"\"\n",
    "    # 文字列を反転させて、下位桁から処理する\n",
    "    a = a[::-1]\n",
    "    b = b[::-1]\n",
    "    # 2つの数の桁数が同じになるように、0を追加する\n",
    "    if len(a) > len(b):\n",
    "        b += \"0\" * (len(a) - len(b))\n",
    "    else:\n",
    "        a += \"0\" * (len(b) - len(a))\n",
    "    # 各桁を足していく\n",
    "    for i in range(len(a)):\n",
    "        digit_sum = int(a[i], base) + int(b[i], base) + carry\n",
    "        if digit_sum >= base:\n",
    "            carry = 1\n",
    "            digit_sum -= base\n",
    "        else:\n",
    "            carry = 0\n",
    "        result += str(digit_sum)\n",
    "    # 最上位桁での繰り上がりがある場合は、1を追加する\n",
    "    if carry == 1:\n",
    "        result += \"1\"\n",
    "    # 結果を反転させて、正しい順序にする\n",
    "    result = result[::-1]\n",
    "    return result"
   ]
  },
  {
   "cell_type": "code",
   "execution_count": 7,
   "id": "ca3ec07f-ecc9-4f37-bfa1-83069af4ff33",
   "metadata": {
    "tags": []
   },
   "outputs": [
    {
     "data": {
      "text/plain": [
       "'111'"
      ]
     },
     "execution_count": 7,
     "metadata": {},
     "output_type": "execute_result"
    }
   ],
   "source": [
    "addition('10', '101', base=2)"
   ]
  },
  {
   "cell_type": "code",
   "execution_count": 1,
   "id": "37e904af-8de5-4ca8-8a2c-a78633859df9",
   "metadata": {
    "tags": []
   },
   "outputs": [
    {
     "data": {
      "text/markdown": [
       "Pythonでは、int()関数を使用して二進数の文字列を10進数の数値に変換できます。以下は例です。\n",
       "\n",
       "```python\n",
       "binary_string = \"101010\"\n",
       "decimal_number = int(binary_string, 2)\n",
       "print(decimal_number) # Output: 42\n",
       "```\n",
       "\n",
       "int()関数の第1引数には変換したい二進数の文字列を、第2引数には基数を指定します。基数には2を指定することで、二進数を10進数に変換できます。"
      ],
      "text/plain": [
       "<IPython.core.display.Markdown object>"
      ]
     },
     "metadata": {},
     "output_type": "display_data"
    }
   ],
   "source": [
    "%%ai_ask\n",
    "pythonで二進法の文字列を10進法の数字に変換する方法"
   ]
  },
  {
   "cell_type": "code",
   "execution_count": 2,
   "id": "3abdccce-394b-4827-88c3-faa8c32293ae",
   "metadata": {
    "tags": []
   },
   "outputs": [
    {
     "data": {
      "text/plain": [
       "7"
      ]
     },
     "execution_count": 2,
     "metadata": {},
     "output_type": "execute_result"
    }
   ],
   "source": [
    "int(\"111\", 2)"
   ]
  },
  {
   "cell_type": "code",
   "execution_count": 22,
   "id": "6eb27f93-7136-4d87-a25c-a3197c3954de",
   "metadata": {
    "tags": []
   },
   "outputs": [
    {
     "data": {
      "text/plain": [
       "7"
      ]
     },
     "execution_count": 22,
     "metadata": {},
     "output_type": "execute_result"
    }
   ],
   "source": [
    "0b111"
   ]
  },
  {
   "cell_type": "code",
   "execution_count": 12,
   "id": "af7f6aa1-aa17-4895-94dc-556c2f7499ad",
   "metadata": {
    "tags": []
   },
   "outputs": [
    {
     "data": {
      "text/plain": [
       "\u001b[0;31mInit signature:\u001b[0m \u001b[0mint\u001b[0m\u001b[0;34m(\u001b[0m\u001b[0mself\u001b[0m\u001b[0;34m,\u001b[0m \u001b[0;34m/\u001b[0m\u001b[0;34m,\u001b[0m \u001b[0;34m*\u001b[0m\u001b[0margs\u001b[0m\u001b[0;34m,\u001b[0m \u001b[0;34m**\u001b[0m\u001b[0mkwargs\u001b[0m\u001b[0;34m)\u001b[0m\u001b[0;34m\u001b[0m\u001b[0;34m\u001b[0m\u001b[0m\n",
       "\u001b[0;31mDocstring:\u001b[0m     \n",
       "int([x]) -> integer\n",
       "int(x, base=10) -> integer\n",
       "\n",
       "Convert a number or string to an integer, or return 0 if no arguments\n",
       "are given.  If x is a number, return x.__int__().  For floating point\n",
       "numbers, this truncates towards zero.\n",
       "\n",
       "If x is not a number or if base is given, then x must be a string,\n",
       "bytes, or bytearray instance representing an integer literal in the\n",
       "given base.  The literal can be preceded by '+' or '-' and be surrounded\n",
       "by whitespace.  The base defaults to 10.  Valid bases are 0 and 2-36.\n",
       "Base 0 means to interpret the base from the string as an integer literal.\n",
       ">>> int('0b100', base=0)\n",
       "4\n",
       "\u001b[0;31mType:\u001b[0m           type\n",
       "\u001b[0;31mSubclasses:\u001b[0m     bool, IntEnum, IntFlag, _NamedIntConstant, _CacheHashWrapper"
      ]
     },
     "metadata": {},
     "output_type": "display_data"
    }
   ],
   "source": [
    "int?"
   ]
  },
  {
   "cell_type": "code",
   "execution_count": 11,
   "id": "980b7a0e-858f-49ac-ba2e-6c498261fbdf",
   "metadata": {
    "tags": []
   },
   "outputs": [
    {
     "data": {
      "text/plain": [
       "\u001b[0;31mSignature:\u001b[0m \u001b[0mbin\u001b[0m\u001b[0;34m(\u001b[0m\u001b[0mnumber\u001b[0m\u001b[0;34m,\u001b[0m \u001b[0;34m/\u001b[0m\u001b[0;34m)\u001b[0m\u001b[0;34m\u001b[0m\u001b[0;34m\u001b[0m\u001b[0m\n",
       "\u001b[0;31mDocstring:\u001b[0m\n",
       "Return the binary representation of an integer.\n",
       "\n",
       ">>> bin(2796202)\n",
       "'0b1010101010101010101010'\n",
       "\u001b[0;31mType:\u001b[0m      builtin_function_or_method"
      ]
     },
     "metadata": {},
     "output_type": "display_data"
    }
   ],
   "source": [
    "bin?"
   ]
  },
  {
   "cell_type": "code",
   "execution_count": 14,
   "id": "5d0a1064-5420-40c2-b107-aa0268f44d41",
   "metadata": {
    "tags": []
   },
   "outputs": [
    {
     "data": {
      "text/plain": [
       "'0b111'"
      ]
     },
     "execution_count": 14,
     "metadata": {},
     "output_type": "execute_result"
    }
   ],
   "source": [
    "bin(7)"
   ]
  },
  {
   "cell_type": "markdown",
   "id": "40a8df4b-bbd0-4ee5-b2b8-a8700748aa28",
   "metadata": {},
   "source": [
    "### 2進数の乗算は、加算より簡単!?"
   ]
  },
  {
   "cell_type": "code",
   "execution_count": 23,
   "id": "8c6681aa-3abf-45f8-8b62-6089a1f5ca8e",
   "metadata": {
    "tags": []
   },
   "outputs": [],
   "source": [
    "import itertools"
   ]
  },
  {
   "cell_type": "code",
   "execution_count": 27,
   "id": "8d0d8f19-ef69-4763-a801-66611ab64563",
   "metadata": {
    "tags": []
   },
   "outputs": [
    {
     "data": {
      "text/plain": [
       "[(0, 0), (0, 1), (1, 0), (1, 1)]"
      ]
     },
     "execution_count": 27,
     "metadata": {},
     "output_type": "execute_result"
    }
   ],
   "source": [
    "list(itertools.product(range(2), repeat=2))"
   ]
  },
  {
   "cell_type": "code",
   "execution_count": 28,
   "id": "03bf6fde-3246-44fb-a45e-8f8714c2245d",
   "metadata": {
    "tags": []
   },
   "outputs": [
    {
     "name": "stdout",
     "output_type": "stream",
     "text": [
      "0\n",
      "0\n",
      "0\n",
      "1\n"
     ]
    }
   ],
   "source": [
    "for i, j in itertools.product(range(2), repeat=2):\n",
    "    print(i * j)"
   ]
  },
  {
   "cell_type": "code",
   "execution_count": null,
   "id": "6f0570c3-f5af-418e-8f4e-1d96c35d63d0",
   "metadata": {},
   "outputs": [],
   "source": []
  }
 ],
 "metadata": {
  "kernelspec": {
   "display_name": "Python 3 (ipykernel)",
   "language": "python",
   "name": "python3"
  },
  "language_info": {
   "codemirror_mode": {
    "name": "ipython",
    "version": 3
   },
   "file_extension": ".py",
   "mimetype": "text/x-python",
   "name": "python",
   "nbconvert_exporter": "python",
   "pygments_lexer": "ipython3",
   "version": "3.10.10"
  }
 },
 "nbformat": 4,
 "nbformat_minor": 5
}
