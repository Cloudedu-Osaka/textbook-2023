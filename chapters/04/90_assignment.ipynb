{
 "cells": [
  {
   "cell_type": "markdown",
   "id": "5a2d02a4-776d-4b7e-a007-1f53bfc76849",
   "metadata": {},
   "source": [
    "# 課題\n",
    "\n",
    "## ピタゴラスと音階\n",
    "\n",
    "1オクターブは、周波数比 $2:1$ の音程です。\n",
    "ピタゴラスは、($3, 4, 5$) を組み合わせた比率を使って1オクターブ中に12の音階を設定しました。\n",
    "現代の我々が使っている7音階の元となった音階ですが、その違いについて考えてみましょう:\n",
    "\n",
    "* [Cochlea - Wikipedia](https://en.wikipedia.org/wiki/Cochlea)\n",
    "* [Pythagorean tuning - Wikipedia](https://en.wikipedia.org/wiki/Pythagorean_tuning)\n",
    "    - [Pythagorean comma - Wikipedia](https://en.wikipedia.org/wiki/Pythagorean_comma)\n",
    "        - [Comma (music) - Wikipedia](https://en.wikipedia.org/wiki/Comma_%28music%29)\n",
    "        - [Cent (music) - Wikipedia](https://en.wikipedia.org/wiki/Cent_%28music%29)\n",
    "* [Musical notation - Wikipedia](https://en.wikipedia.org/wiki/Musical_notation)\n",
    "* [Piano tuning - Wikipedia](https://en.wikipedia.org/wiki/Piano_tuning)"
   ]
  },
  {
   "cell_type": "code",
   "execution_count": 1,
   "id": "69b13e69-5164-4adf-a5ee-4f41a078770a",
   "metadata": {
    "tags": []
   },
   "outputs": [
    {
     "data": {
      "text/markdown": [
       "蝸牛は、周波数に敏感な生き物です。蝸牛の内耳には、音波を感知するための器官である蝸牛殻があります。この蝸牛殻には、周波数に応じた振動が起こり、それによって蝸牛は音を感知します。人間が聞くことができる周波数帯域は、約20Hzから20kHzまでですが、蝸牛はこれよりも高い周波数を感知することができます。そのため、蝸牛は超音波を感知することができ、獲物を見つけたり、危険を察知することができます。"
      ],
      "text/plain": [
       "<IPython.core.display.Markdown object>"
      ]
     },
     "metadata": {},
     "output_type": "display_data"
    }
   ],
   "source": [
    "%%ai_ask\n",
    "蝸牛と周波数について"
   ]
  },
  {
   "cell_type": "code",
   "execution_count": 2,
   "id": "d08953f0-67ea-466d-8631-3a02fb72d9ab",
   "metadata": {
    "tags": []
   },
   "outputs": [
    {
     "data": {
      "text/markdown": [
       "I apologize for the confusion. The cochlea is a spiral-shaped organ in the inner ear of many animals, including humans, that is responsible for detecting sound vibrations and converting them into electrical signals that the brain can interpret. The cochlea contains tiny hair cells that are sensitive to different frequencies of sound. When sound waves enter the cochlea, they cause these hair cells to vibrate, which in turn triggers the release of neurotransmitters that send signals to the brain. The brain then interprets these signals as sound. The cochlea is a crucial component of the auditory system and plays a vital role in our ability to hear and perceive sound."
      ],
      "text/plain": [
       "<IPython.core.display.Markdown object>"
      ]
     },
     "metadata": {},
     "output_type": "display_data"
    }
   ],
   "source": [
    "%%ai_continue\n",
    "I mean 蝸牛 as cochlea of animals's organ"
   ]
  },
  {
   "cell_type": "code",
   "execution_count": 3,
   "id": "48df2bb2-4d9b-4b69-8219-b7f3bbc689ff",
   "metadata": {
    "tags": []
   },
   "outputs": [
    {
     "data": {
      "text/markdown": [
       "蝸牛殻は、多くの動物、人間を含めた内耳にある螺旋状の器官で、音の振動を検出し、それを脳が解釈できる電気信号に変換する役割を担っています。蝸牛殻には、異なる周波数の音に敏感な微小な毛細胞が含まれています。音波が蝸牛殻に入ると、これらの毛細胞が振動し、それによって神経伝達物質が放出され、脳に信号が送られます。脳はこれらの信号を音として解釈します。蝸牛殻は聴覚系の重要な構成要素であり、私たちが音を聞き、知覚する能力に重要な役割を果たしています。"
      ],
      "text/plain": [
       "<IPython.core.display.Markdown object>"
      ]
     },
     "metadata": {},
     "output_type": "display_data"
    }
   ],
   "source": [
    "%%ai_continue\n",
    "in japanese"
   ]
  },
  {
   "cell_type": "code",
   "execution_count": 4,
   "id": "f4ef8f13-1f32-4f15-8a4f-23d82f6f0912",
   "metadata": {
    "tags": []
   },
   "outputs": [
    {
     "data": {
      "text/markdown": [
       "はい、蝸牛の構造と音階、特にオクターブには関係があります。蝸牛は、音の周波数に応じて異なる場所で振動する毛細胞を持っています。低い周波数の音は、蝸牛の基底部で振動し、高い周波数の音は、蝸牛の先端部で振動します。このように、蝸牛の構造は、音の周波数によって異なる場所で振動することによって、音階を区別することができます。\n",
       "\n",
       "また、オクターブは、周波数が2倍になると音の高さが1オクターブ上がるという関係があります。蝸牛の構造によって、周波数が2倍になると、毛細胞が振動する場所も2倍になります。そのため、蝸牛の構造は、オクターブの概念と密接に関連しています。"
      ],
      "text/plain": [
       "<IPython.core.display.Markdown object>"
      ]
     },
     "metadata": {},
     "output_type": "display_data"
    }
   ],
   "source": [
    "%%ai_continue\n",
    "蝸牛の構造と音階、特にオクターブとは関係がありますか？"
   ]
  },
  {
   "cell_type": "code",
   "execution_count": 5,
   "id": "13976491-3337-4dfa-998d-53bb03f93cc7",
   "metadata": {
    "tags": []
   },
   "outputs": [
    {
     "data": {
      "text/markdown": [
       "蝸牛の渦巻き構造は、音波を効率的に処理するために最適化された形状です。蝸牛は、外側から見ると渦巻き状の形状をしており、内部には螺旋状に並んだ3つの管があります。この構造によって、音波は蝸牛の基底部から先端部に向かって伝わり、異なる周波数の音が蝸牛の異なる場所で処理されます。また、蝸牛の管の内部には、リンパ液で満たされた膜があり、この膜には毛細胞が付着しています。音波が蝸牛の管内を伝わると、膜が振動し、毛細胞が刺激されます。このように、蝸牛の渦巻き構造は、音波を効率的に処理するために最適化された形状であり、聴覚の重要な役割を果たしています。"
      ],
      "text/plain": [
       "<IPython.core.display.Markdown object>"
      ]
     },
     "metadata": {},
     "output_type": "display_data"
    }
   ],
   "source": [
    "%%ai_continue\n",
    "渦巻き構造なのは？"
   ]
  },
  {
   "cell_type": "code",
   "execution_count": 6,
   "id": "c8d066d9-4ef5-402f-82cd-6349095e6f9e",
   "metadata": {
    "tags": []
   },
   "outputs": [
    {
     "data": {
      "text/markdown": [
       "鼓膜は、周波数を分解することはできません。鼓膜は、外耳から入ってくる音波を振動に変換する役割を持っています。鼓膜が振動することで、中耳の骨（ツチ骨、キヌタ骨、アブミ骨）が振動し、内耳の蝸牛に音波が伝わります。蝸牛の中には、周波数に応じて異なる場所で振動する毛細胞があり、これによって音の高さが分解されます。つまり、鼓膜は音波を振動に変換するだけであり、周波数を分解することはできません。"
      ],
      "text/plain": [
       "<IPython.core.display.Markdown object>"
      ]
     },
     "metadata": {},
     "output_type": "display_data"
    }
   ],
   "source": [
    "%%ai_continue\n",
    "鼓膜は周波数を分解できますか？"
   ]
  },
  {
   "cell_type": "markdown",
   "id": "16d5e463-966a-4524-98a3-0e2c91f742f2",
   "metadata": {},
   "source": [
    "---"
   ]
  },
  {
   "cell_type": "code",
   "execution_count": 1,
   "id": "229b8456-3bda-43c4-a16b-0fb60936694c",
   "metadata": {
    "tags": []
   },
   "outputs": [
    {
     "data": {
      "text/markdown": [
       "ピタゴラスの定理によると、直角三角形の斜辺の長さをc、他の2辺の長さをaとbとすると、a²+b²=c²が成り立ちます。例えば、3, 4, 5の辺を持つ三角形は直角三角形であり、5²=3²+4²が成り立ちます。Pythonでこの計算をする場合、以下のように書くことができます。\n",
       "\n",
       "```\n",
       "a = 3\n",
       "b = 4\n",
       "c = (a**2 + b**2)**0.5\n",
       "print(c)\n",
       "```\n",
       "\n",
       "このコードを実行すると、5.0という結果が得られます。"
      ],
      "text/plain": [
       "<IPython.core.display.Markdown object>"
      ]
     },
     "metadata": {},
     "output_type": "display_data"
    }
   ],
   "source": [
    "%%ai_ask\n",
    "ピタゴラスと3, 4, 5について"
   ]
  },
  {
   "cell_type": "code",
   "execution_count": 2,
   "id": "836c8290-5c6f-4b60-aa84-dc90db6db95b",
   "metadata": {
    "tags": []
   },
   "outputs": [
    {
     "data": {
      "text/markdown": [
       "ピタゴラスは、音階の調律にも関心を持っていました。彼は、音階を数学的に表現することができると考え、周波数比を用いて音程を決定しました。彼が提唱したピタゴラス音律では、オクターブを2:1、完全5度を3:2、完全4度を4:3の周波数比で表現します。\n",
       "\n",
       "例えば、A4音（440Hz）の完全5度上のE5音は、440Hz × 3/2 = 660Hzとなります。同様に、A4音の完全4度上のD5音は、440Hz × 4/3 = 586.67Hzとなります。\n",
       "\n",
       "Pythonで周波数比を計算する場合、以下のように書くことができます。\n",
       "\n",
       "```\n",
       "f1 = 440 # A4音の周波数\n",
       "f2 = f1 * 3/2 # 完全5度上の周波数\n",
       "f3 = f1 * 4/3 # 完全4度上の周波数\n",
       "print(f2, f3)\n",
       "```\n",
       "\n",
       "このコードを実行すると、660.0と586.6666666666666という結果が得られます。"
      ],
      "text/plain": [
       "<IPython.core.display.Markdown object>"
      ]
     },
     "metadata": {},
     "output_type": "display_data"
    }
   ],
   "source": [
    "%%ai_continue\n",
    "ピタゴラスと3, 4, 5と音階について"
   ]
  },
  {
   "cell_type": "code",
   "execution_count": 3,
   "id": "4a0db668-f32a-47c4-8541-6876b947151c",
   "metadata": {
    "tags": []
   },
   "outputs": [
    {
     "data": {
      "text/markdown": [
       "Pythonで音を鳴らすには、`pyaudio`や`sounddevice`といったライブラリを使用することができます。以下は、`sounddevice`を使用して、簡単な音を鳴らす例です。\n",
       "\n",
       "```python\n",
       "import sounddevice as sd\n",
       "import numpy as np\n",
       "\n",
       "# サンプリング周波数\n",
       "fs = 44100\n",
       "\n",
       "# 音の長さ（秒）\n",
       "duration = 5\n",
       "\n",
       "# 音の周波数\n",
       "freq = 440\n",
       "\n",
       "# 時間軸を作成\n",
       "t = np.linspace(0, duration, int(fs * duration), endpoint=False)\n",
       "\n",
       "# 音を生成\n",
       "sound = 0.1 * np.sin(2 * np.pi * freq * t)\n",
       "\n",
       "# 音を再生\n",
       "sd.play(sound, fs)\n",
       "sd.wait()\n",
       "```\n",
       "\n",
       "このコードを実行すると、440Hzの音が5秒間再生されます。`sound`の部分を変更することで、異なる周波数や音の長さの音を生成することができます。ただし、音を鳴らすにはスピーカーやヘッドフォンが必要です。"
      ],
      "text/plain": [
       "<IPython.core.display.Markdown object>"
      ]
     },
     "metadata": {},
     "output_type": "display_data"
    }
   ],
   "source": [
    "%%ai_continue\n",
    "音を鳴らしたい"
   ]
  },
  {
   "cell_type": "code",
   "execution_count": 4,
   "id": "366f5968-ff48-4004-8470-6c33854e692e",
   "metadata": {
    "tags": []
   },
   "outputs": [
    {
     "ename": "ModuleNotFoundError",
     "evalue": "No module named 'sounddevice'",
     "output_type": "error",
     "traceback": [
      "\u001b[0;31m---------------------------------------------------------------------------\u001b[0m",
      "\u001b[0;31mModuleNotFoundError\u001b[0m                       Traceback (most recent call last)",
      "Cell \u001b[0;32mIn[4], line 1\u001b[0m\n\u001b[0;32m----> 1\u001b[0m \u001b[38;5;28;01mimport\u001b[39;00m \u001b[38;5;21;01msounddevice\u001b[39;00m \u001b[38;5;28;01mas\u001b[39;00m \u001b[38;5;21;01msd\u001b[39;00m\n",
      "\u001b[0;31mModuleNotFoundError\u001b[0m: No module named 'sounddevice'"
     ]
    }
   ],
   "source": [
    "import sounddevice as sd"
   ]
  },
  {
   "cell_type": "code",
   "execution_count": 5,
   "id": "7a7a4042-ab39-4e1b-8492-3a7cfed4b768",
   "metadata": {
    "tags": []
   },
   "outputs": [
    {
     "ename": "ModuleNotFoundError",
     "evalue": "No module named 'pyaudio'",
     "output_type": "error",
     "traceback": [
      "\u001b[0;31m---------------------------------------------------------------------------\u001b[0m",
      "\u001b[0;31mModuleNotFoundError\u001b[0m                       Traceback (most recent call last)",
      "Cell \u001b[0;32mIn[5], line 1\u001b[0m\n\u001b[0;32m----> 1\u001b[0m \u001b[38;5;28;01mimport\u001b[39;00m \u001b[38;5;21;01mpyaudio\u001b[39;00m\n",
      "\u001b[0;31mModuleNotFoundError\u001b[0m: No module named 'pyaudio'"
     ]
    }
   ],
   "source": [
    "import pyaudio"
   ]
  },
  {
   "cell_type": "code",
   "execution_count": 6,
   "id": "839febc7-4115-4c96-a100-2a0aedf2adbb",
   "metadata": {
    "tags": []
   },
   "outputs": [
    {
     "data": {
      "text/markdown": [
       "`pyaudio`や`sounddevice`を使用するためには、まずそれらのライブラリをインストールする必要があります。以下は、`pyaudio`をインストールする方法です。\n",
       "\n",
       "```\n",
       "pip install pyaudio\n",
       "```\n",
       "\n",
       "以下は、`sounddevice`をインストールする方法です。\n",
       "\n",
       "```\n",
       "pip install sounddevice\n",
       "```\n",
       "\n",
       "どちらのライブラリも、Pythonの標準ライブラリには含まれていないため、事前にインストールする必要があります。"
      ],
      "text/plain": [
       "<IPython.core.display.Markdown object>"
      ]
     },
     "metadata": {},
     "output_type": "display_data"
    }
   ],
   "source": [
    "%%ai_continue\n",
    "どちらのライブラリも導入されていない"
   ]
  },
  {
   "cell_type": "code",
   "execution_count": 7,
   "id": "af376c08-516d-49cc-a680-3f5f4f50e17c",
   "metadata": {
    "tags": []
   },
   "outputs": [
    {
     "data": {
      "text/markdown": [
       "Jupyter Notebookでも、`!pip install`コマンドを使用してライブラリをインストールすることができます。以下は、`pyaudio`をインストールする例です。\n",
       "\n",
       "```python\n",
       "!pip install pyaudio\n",
       "```\n",
       "\n",
       "以下は、`sounddevice`をインストールする例です。\n",
       "\n",
       "```python\n",
       "!pip install sounddevice\n",
       "```\n",
       "\n",
       "これらのコマンドを実行することで、ライブラリをインストールすることができます。ただし、Jupyter Notebookを実行する環境によっては、インストールに失敗する場合があります。その場合は、別の方法でライブラリをインストールする必要があります。"
      ],
      "text/plain": [
       "<IPython.core.display.Markdown object>"
      ]
     },
     "metadata": {},
     "output_type": "display_data"
    }
   ],
   "source": [
    "%%ai_continue\n",
    "だけどここはjupyter"
   ]
  },
  {
   "cell_type": "code",
   "execution_count": 8,
   "id": "3476d4cc-edcc-4fe2-b694-fa3a086c15cb",
   "metadata": {
    "tags": []
   },
   "outputs": [
    {
     "data": {
      "text/markdown": [
       "Jupyter Notebookで音を鳴らすには、`IPython.display.Audio`を使用することができます。以下は、440Hzの音を1秒間再生する例です。\n",
       "\n",
       "```python\n",
       "from IPython.display import Audio\n",
       "import numpy as np\n",
       "\n",
       "# サンプリング周波数\n",
       "fs = 44100\n",
       "\n",
       "# 音の長さ（秒）\n",
       "duration = 1\n",
       "\n",
       "# 音の周波数\n",
       "freq = 440\n",
       "\n",
       "# 時間軸を作成\n",
       "t = np.linspace(0, duration, int(fs * duration), endpoint=False)\n",
       "\n",
       "# 音を生成\n",
       "sound = 0.1 * np.sin(2 * np.pi * freq * t)\n",
       "\n",
       "# 音を再生\n",
       "Audio(sound, rate=fs, autoplay=True)\n",
       "```\n",
       "\n",
       "このコードを実行すると、音が再生されます。`sound`の部分を変更することで、異なる周波数や音の長さの音を生成することができます。ただし、音を鳴らすにはスピーカーやヘッドフォンが必要です。"
      ],
      "text/plain": [
       "<IPython.core.display.Markdown object>"
      ]
     },
     "metadata": {},
     "output_type": "display_data"
    }
   ],
   "source": [
    "%%ai_continue\n",
    "jupyterで音を鳴らす"
   ]
  },
  {
   "cell_type": "code",
   "execution_count": 9,
   "id": "84ba2ee8-83f9-4e6d-ad2a-3c6a4450ef9b",
   "metadata": {
    "tags": []
   },
   "outputs": [
    {
     "data": {
      "text/markdown": [
       "ピタゴラス音階では、周波数比を用いて音程を決定します。例えば、オクターブを2:1、完全5度を3:2、完全4度を4:3の周波数比で表現します。しかし、この方法では、周波数比が整数でない音程が生じます。これを「ピタゴラスのコンマ」と呼びます。\n",
       "\n",
       "例えば、CとGの完全5度の周波数比は3:2ですが、CからGへの12個の完全5度を重ねると、周波数比が2の11乗:1となります。この差をピタゴラスのコンマと呼び、約1.955倍の差が生じます。\n",
       "\n",
       "このような端数が生じるため、ピタゴラス音階は純正律や平均律と比べて微妙な音程のズレが生じます。しかし、ピタゴラス音階は、数学的に美しい比率を用いて音程を表現することができるため、古代から愛されてきました。"
      ],
      "text/plain": [
       "<IPython.core.display.Markdown object>"
      ]
     },
     "metadata": {},
     "output_type": "display_data"
    }
   ],
   "source": [
    "%%ai_continue\n",
    "ピタゴラス音階と周波数の端数について"
   ]
  },
  {
   "cell_type": "code",
   "execution_count": 10,
   "id": "64e3afd9-0678-4a2d-a3e8-d5eb3fd631ee",
   "metadata": {
    "tags": []
   },
   "outputs": [
    {
     "data": {
      "text/markdown": [
       "近代の音階では、純正律や平均律が一般的に使用されています。純正律は、完全な整数比を用いて音程を表現する方法であり、ピタゴラス音階よりも微妙な音程のズレが少なくなります。一方、平均律は、12の等分音階を用いて音程を表現する方法であり、全ての音程が等しく分割されています。\n",
       "\n",
       "近代の音階では、A4音（ラの音）の周波数が440Hzに定められています。この基準周波数を用いて、他の音程の周波数を計算することができます。例えば、A4音の完全5度上のE5音の周波数は、440Hz × 3/2 = 660Hzとなります。同様に、A4音の完全4度上のD5音の周波数は、440Hz × 4/3 = 586.67Hzとなります。\n",
       "\n",
       "近代の音階では、純正律や平均律が広く使用されているため、音楽理論や楽器演奏において、これらの音階を理解することが重要です。"
      ],
      "text/plain": [
       "<IPython.core.display.Markdown object>"
      ]
     },
     "metadata": {},
     "output_type": "display_data"
    }
   ],
   "source": [
    "%%ai_continue\n",
    "近代の音階の周波数について"
   ]
  },
  {
   "cell_type": "code",
   "execution_count": 11,
   "id": "ed38c9cd-3fb3-4c5c-8284-4103b0907903",
   "metadata": {
    "tags": []
   },
   "outputs": [
    {
     "data": {
      "text/markdown": [
       "以下は、Jupyter Notebookでピタゴラス音階でドレミファソラシドを鳴らす例です。ここでは、A4音（440Hz）を基準周波数として使用し、ピタゴラス音階の周波数比を用いて各音程の周波数を計算しています。\n",
       "\n",
       "```python\n",
       "from IPython.display import Audio\n",
       "import numpy as np\n",
       "\n",
       "# サンプリング周波数\n",
       "fs = 44100\n",
       "\n",
       "# 音の長さ（秒）\n",
       "duration = 1\n",
       "\n",
       "# A4音の周波数\n",
       "a4_freq = 440\n",
       "\n",
       "# ピタゴラス音階の周波数比\n",
       "ratios = [1, 9/8, 81/64, 4/3, 3/2, 27/16, 243/128]\n",
       "\n",
       "# ドレミファソラシドの周波数を計算\n",
       "freqs = [a4_freq * r for r in ratios]\n",
       "\n",
       "# 時間軸を作成\n",
       "t = np.linspace(0, duration, int(fs * duration), endpoint=False)\n",
       "\n",
       "# 音を生成\n",
       "sounds = []\n",
       "for freq in freqs:\n",
       "    sound = 0.1 * np.sin(2 * np.pi * freq * t)\n",
       "    sounds.append(sound)\n",
       "\n",
       "# 音を再生\n",
       "Audio(np.concatenate(sounds), rate=fs, autoplay=True)\n",
       "```\n",
       "\n",
       "このコードを実行すると、ドレミファソラシドの音が順番に再生されます。ピタゴラス音階では、純正律や平均律と比べて微妙な音程のズレが生じるため、聴覚的に異なる印象を与えることがあります。"
      ],
      "text/plain": [
       "<IPython.core.display.Markdown object>"
      ]
     },
     "metadata": {},
     "output_type": "display_data"
    }
   ],
   "source": [
    "%%ai_continue\n",
    "jupyterでピタゴラス音階でドレミファソラシドを鳴らす"
   ]
  },
  {
   "cell_type": "code",
   "execution_count": 12,
   "id": "d3e92a66-ed0a-4b9d-8ef9-621cce66bba0",
   "metadata": {
    "tags": []
   },
   "outputs": [
    {
     "data": {
      "text/markdown": [
       "以下は、Jupyter Notebookで平均律でドレミファソラシドを鳴らす例です。ここでは、A4音（440Hz）を基準周波数として使用し、12の等分音階を用いて各音程の周波数を計算しています。\n",
       "\n",
       "```python\n",
       "from IPython.display import Audio\n",
       "import numpy as np\n",
       "\n",
       "# サンプリング周波数\n",
       "fs = 44100\n",
       "\n",
       "# 音の長さ（秒）\n",
       "duration = 1\n",
       "\n",
       "# A4音の周波数\n",
       "a4_freq = 440\n",
       "\n",
       "# 12の等分音階の周波数比\n",
       "ratios = [2**(n/12) for n in range(12)]\n",
       "\n",
       "# ドレミファソラシドの周波数を計算\n",
       "freqs = [a4_freq * r for r in ratios]\n",
       "\n",
       "# 時間軸を作成\n",
       "t = np.linspace(0, duration, int(fs * duration), endpoint=False)\n",
       "\n",
       "# 音を生成\n",
       "sounds = []\n",
       "for freq in freqs:\n",
       "    sound = 0.1 * np.sin(2 * np.pi * freq * t)\n",
       "    sounds.append(sound)\n",
       "\n",
       "# 音を再生\n",
       "Audio(np.concatenate(sounds), rate=fs, autoplay=True)\n",
       "```\n",
       "\n",
       "このコードを実行すると、ドレミファソラシドの音が順番に再生されます。平均律では、全ての音程が等しく分割されているため、ピタゴラス音階や純正律と比べて微妙な音程のズレが少なくなります。"
      ],
      "text/plain": [
       "<IPython.core.display.Markdown object>"
      ]
     },
     "metadata": {},
     "output_type": "display_data"
    }
   ],
   "source": [
    "%%ai_continue\n",
    "jupyterで平均律でドレミファソラシドを鳴らす"
   ]
  },
  {
   "cell_type": "code",
   "execution_count": null,
   "id": "a0408746-3b9e-4762-88ab-90f3813a4610",
   "metadata": {},
   "outputs": [],
   "source": []
  }
 ],
 "metadata": {
  "kernelspec": {
   "display_name": "Python 3 (ipykernel)",
   "language": "python",
   "name": "python3"
  },
  "language_info": {
   "codemirror_mode": {
    "name": "ipython",
    "version": 3
   },
   "file_extension": ".py",
   "mimetype": "text/x-python",
   "name": "python",
   "nbconvert_exporter": "python",
   "pygments_lexer": "ipython3",
   "version": "3.10.10"
  }
 },
 "nbformat": 4,
 "nbformat_minor": 5
}
