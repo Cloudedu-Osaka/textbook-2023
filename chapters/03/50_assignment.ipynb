{
 "cells": [
  {
   "cell_type": "markdown",
   "id": "96e45dbb-0c56-42e2-9f3b-42a6e3572b06",
   "metadata": {},
   "source": [
    "## 課題 1\n",
    "\n",
    "次の二つのプログラムの違いを探せ"
   ]
  },
  {
   "cell_type": "code",
   "execution_count": 1,
   "id": "f9120f05-ff02-4ecc-9328-c2967a106553",
   "metadata": {
    "tags": []
   },
   "outputs": [
    {
     "data": {
      "text/markdown": [
       "以下は、十進法位取り記法の足し算をPythonでプログラミングする例です。\n",
       "\n",
       "```python\n",
       "def decimal_addition(a, b):\n",
       "    carry = 0\n",
       "    result = \"\"\n",
       "    # 文字列を反転させて、下位桁から処理する\n",
       "    a = a[::-1]\n",
       "    b = b[::-1]\n",
       "    # 2つの数の桁数が同じになるように、0を追加する\n",
       "    if len(a) > len(b):\n",
       "        b += \"0\" * (len(a) - len(b))\n",
       "    else:\n",
       "        a += \"0\" * (len(b) - len(a))\n",
       "    # 各桁を足していく\n",
       "    for i in range(len(a)):\n",
       "        digit_sum = int(a[i]) + int(b[i]) + carry\n",
       "        if digit_sum >= 10:\n",
       "            carry = 1\n",
       "            digit_sum -= 10\n",
       "        else:\n",
       "            carry = 0\n",
       "        result += str(digit_sum)\n",
       "    # 最上位桁での繰り上がりがある場合は、1を追加する\n",
       "    if carry == 1:\n",
       "        result += \"1\"\n",
       "    # 結果を反転させて、正しい順序にする\n",
       "    result = result[::-1]\n",
       "    return result\n",
       "```\n",
       "\n",
       "この関数は、2つの引数 `a` と `b` を取り、それらを十進法位取り記法で足し合わせた結果を返します。例えば、`decimal_addition(\"123\", \"456\")` を呼び出すと、文字列 `\"579\"` が返されます。"
      ],
      "text/plain": [
       "<IPython.core.display.Markdown object>"
      ]
     },
     "metadata": {},
     "output_type": "display_data"
    }
   ],
   "source": [
    "%%ai_ask\n",
    "十進法位取り記法の足し算をpythonでプログラミングする"
   ]
  },
  {
   "cell_type": "code",
   "execution_count": 2,
   "id": "a60865c1-5443-4805-85a4-3526327cafdd",
   "metadata": {
    "tags": []
   },
   "outputs": [
    {
     "data": {
      "text/markdown": [
       "以下は、二進法位取り記法の足し算をPythonでプログラミングする例です。\n",
       "\n",
       "```python\n",
       "def binary_addition(a, b):\n",
       "    carry = 0\n",
       "    result = \"\"\n",
       "    # 文字列を反転させて、下位桁から処理する\n",
       "    a = a[::-1]\n",
       "    b = b[::-1]\n",
       "    # 2つの数の桁数が同じになるように、0を追加する\n",
       "    if len(a) > len(b):\n",
       "        b += \"0\" * (len(a) - len(b))\n",
       "    else:\n",
       "        a += \"0\" * (len(b) - len(a))\n",
       "    # 各桁を足していく\n",
       "    for i in range(len(a)):\n",
       "        digit_sum = int(a[i]) + int(b[i]) + carry\n",
       "        if digit_sum >= 2:\n",
       "            carry = 1\n",
       "            digit_sum -= 2\n",
       "        else:\n",
       "            carry = 0\n",
       "        result += str(digit_sum)\n",
       "    # 最上位桁での繰り上がりがある場合は、1を追加する\n",
       "    if carry == 1:\n",
       "        result += \"1\"\n",
       "    # 結果を反転させて、正しい順序にする\n",
       "    result = result[::-1]\n",
       "    return result\n",
       "```\n",
       "\n",
       "この関数は、2つの引数 `a` と `b` を取り、それらを二進法位取り記法で足し合わせた結果を返します。例えば、`binary_addition(\"101\", \"110\")` を呼び出すと、文字列 `\"1011\"` が返されます。"
      ],
      "text/plain": [
       "<IPython.core.display.Markdown object>"
      ]
     },
     "metadata": {},
     "output_type": "display_data"
    }
   ],
   "source": [
    "%%ai_continue\n",
    "二進法位取り記法の足し算をpythonでプログラミングする"
   ]
  },
  {
   "cell_type": "markdown",
   "id": "111ce5e4-5caa-4f80-8acc-6d86709894d3",
   "metadata": {},
   "source": [
    "# 課題 2\n",
    "上のプログラムと次のプログラムの違いを探せ\n",
    "\n",
    "* プログラムの違いがわかった箇所が何故同じ結果になるか考えてみよ"
   ]
  },
  {
   "cell_type": "code",
   "execution_count": 4,
   "id": "73c7917f-d379-40dc-bc49-486db13ac9df",
   "metadata": {
    "tags": []
   },
   "outputs": [
    {
     "data": {
      "text/markdown": [
       "以下は、ブール代数の論理演算を使用して、二進法位取り記法の足し算をPythonでプログラミングする例です。\n",
       "\n",
       "```python\n",
       "def binary_addition(a, b):\n",
       "    carry = 0\n",
       "    result = \"\"\n",
       "    # 文字列を反転させて、下位桁から処理する\n",
       "    a = a[::-1]\n",
       "    b = b[::-1]\n",
       "    # 2つの数の桁数が同じになるように、0を追加する\n",
       "    if len(a) > len(b):\n",
       "        b += \"0\" * (len(a) - len(b))\n",
       "    else:\n",
       "        a += \"0\" * (len(b) - len(a))\n",
       "    # 各桁を足していく\n",
       "    for i in range(len(a)):\n",
       "        # XOR演算で各桁を足す\n",
       "        digit_sum = int(a[i]) ^ int(b[i]) ^ carry\n",
       "        # AND演算で繰り上がりを計算する\n",
       "        carry = (int(a[i]) & int(b[i])) | (int(a[i]) & carry) | (int(b[i]) & carry)\n",
       "        result += str(digit_sum)\n",
       "    # 最上位桁での繰り上がりがある場合は、1を追加する\n",
       "    if carry == 1:\n",
       "        result += \"1\"\n",
       "    # 結果を反転させて、正しい順序にする\n",
       "    result = result[::-1]\n",
       "    return result\n",
       "```\n",
       "\n",
       "この関数は、2つの引数 `a` と `b` を取り、それらを二進法位取り記法で足し合わせた結果を返します。ブール代数の論理演算を使用して、各桁の足し算と繰り上がりの計算を行っています。例えば、`binary_addition(\"101\", \"110\")` を呼び出すと、文字列 `\"1011\"` が返されます。"
      ],
      "text/plain": [
       "<IPython.core.display.Markdown object>"
      ]
     },
     "metadata": {},
     "output_type": "display_data"
    }
   ],
   "source": [
    "%%ai_continue\n",
    "二進法位取り記法の足し算をpythonでプログラミングする。その際、ブール代数の論理演算をつかう"
   ]
  },
  {
   "cell_type": "code",
   "execution_count": null,
   "id": "28e2d854-0d5c-4042-bb17-83a2eea2598d",
   "metadata": {},
   "outputs": [],
   "source": []
  }
 ],
 "metadata": {
  "kernelspec": {
   "display_name": "Python 3 (ipykernel)",
   "language": "python",
   "name": "python3"
  },
  "language_info": {
   "codemirror_mode": {
    "name": "ipython",
    "version": 3
   },
   "file_extension": ".py",
   "mimetype": "text/x-python",
   "name": "python",
   "nbconvert_exporter": "python",
   "pygments_lexer": "ipython3",
   "version": "3.10.10"
  }
 },
 "nbformat": 4,
 "nbformat_minor": 5
}
