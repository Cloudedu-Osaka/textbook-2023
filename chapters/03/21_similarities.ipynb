{
 "cells": [
  {
   "cell_type": "markdown",
   "id": "f9c8b70d-3ae0-4bb0-9b5b-269f9fae8a0a",
   "metadata": {},
   "source": [
    "# 「命数法」とプログラムの類似性\n",
    "\n",
    "* [Positional notation - Wikipedia](https://en.wikipedia.org/wiki/Positional_notation) (Place-value notation)\n",
    "* [Sign-value notation - Wikipedia](https://en.wikipedia.org/wiki/Sign-value_notation)\n",
    "    - [Egyptian numerals - Wikipedia](https://en.wikipedia.org/wiki/Egyptian_numerals)\n",
    "    - [Greek numerals - Wikipedia](https://en.wikipedia.org/wiki/Greek_numerals)\n",
    "    - [Romanian numbers - Wikipedia](https://en.wikipedia.org/wiki/Romanian_numbers)"
   ]
  },
  {
   "cell_type": "code",
   "execution_count": 1,
   "id": "2b255cbd-292d-482c-a928-2a019176841a",
   "metadata": {
    "tags": []
   },
   "outputs": [
    {
     "data": {
      "text/markdown": [
       "これらのプログラムは、与えられた整数を異なる古代の数字システムに変換するために、同じアルゴリズムを使用しています。両方のプログラムは、与えられた数字を、大きい値から小さい値に向かって順番に処理し、その数字に対応する文字列を結果に追加していきます。"
      ],
      "text/plain": [
       "<IPython.core.display.Markdown object>"
      ]
     },
     "metadata": {},
     "output_type": "display_data"
    }
   ],
   "source": [
    "%%ai_ask\n",
    "次の二つのプログラムの類似性について\n",
    "```python\n",
    "def decimal_to_greek(num):\n",
    "    greek_numerals = {\n",
    "        1: 'α',\n",
    "        2: 'β',\n",
    "        3: 'γ',\n",
    "        4: 'δ',\n",
    "        5: 'ε',\n",
    "        6: 'ϛ',\n",
    "        7: 'ζ',\n",
    "        8: 'η',\n",
    "        9: 'θ',\n",
    "        10: 'ι',\n",
    "        20: 'κ',\n",
    "        30: 'λ',\n",
    "        40: 'μ',\n",
    "        50: 'ν',\n",
    "        60: 'ξ',\n",
    "        70: 'ο',\n",
    "        80: 'π',\n",
    "        90: 'ϙ',\n",
    "        100: 'ρ',\n",
    "        200: 'σ',\n",
    "        300: 'τ',\n",
    "        400: 'υ',\n",
    "        500: 'φ',\n",
    "        600: 'χ',\n",
    "        700: 'ψ',\n",
    "        800: 'ω',\n",
    "        900: 'ϡ'\n",
    "    }\n",
    "    result = ''\n",
    "    for value in sorted(greek_numerals.keys(), reverse=True):\n",
    "        while num >= value:\n",
    "            result += greek_numerals[value]\n",
    "            num -= value\n",
    "    return result\n",
    "```\n",
    "\n",
    "```python\n",
    "def decimal_to_roman(num):\n",
    "    roman_numerals = {\n",
    "        1: 'I',\n",
    "        4: 'IV',\n",
    "        5: 'V',\n",
    "        9: 'IX',\n",
    "        10: 'X',\n",
    "        40: 'XL',\n",
    "        50: 'L',\n",
    "        90: 'XC',\n",
    "        100: 'C',\n",
    "        400: 'CD',\n",
    "        500: 'D',\n",
    "        900: 'CM',\n",
    "        1000: 'M'\n",
    "    }\n",
    "    result = ''\n",
    "    for value in sorted(roman_numerals.keys(), reverse=True):\n",
    "        while num >= value:\n",
    "            result = result + roman_numerals[value]\n",
    "            num = num - value\n",
    "    return result\n",
    "```"
   ]
  },
  {
   "cell_type": "code",
   "execution_count": 2,
   "id": "275fe23a-cabf-4772-b6b3-7fdf09866ab5",
   "metadata": {
    "tags": []
   },
   "outputs": [
    {
     "data": {
      "text/markdown": [
       "与えられた数字を、大きい値から小さい値に向かって順番に処理する方法は、以下の手順で行います。\n",
       "\n",
       "1. 変換に使用する数字と、それに対応する文字列を辞書に定義します。\n",
       "2. 辞書のキーを大きい順にソートします。\n",
       "3. ソートされたキーのリストをループで処理します。\n",
       "4. ループ内で、与えられた数字が現在のキーに対応する値以上である限り、その値に対応する文字列を結果に追加し、与えられた数字からその値を引きます。\n",
       "5. 与えられた数字が0になるまで、3-4の処理を繰り返します。"
      ],
      "text/plain": [
       "<IPython.core.display.Markdown object>"
      ]
     },
     "metadata": {},
     "output_type": "display_data"
    }
   ],
   "source": [
    "%%ai_continue\n",
    "与えられた数字を、大きい値から小さい値に向かって順番に処理する方法について"
   ]
  },
  {
   "cell_type": "code",
   "execution_count": 3,
   "id": "fb16812d-b5da-4569-af2c-b61b43d3cd35",
   "metadata": {
    "tags": []
   },
   "outputs": [
    {
     "data": {
      "text/markdown": [
       "はい、以下は与えられた数字を大きい順に処理する方法をPythonで実装した例です。コメントで各処理に対応する番号を示しています。\n",
       "\n",
       "```python\n",
       "def process_number(num):\n",
       "    # 1. 変換に使用する数字と、それに対応する文字列を辞書に定義する\n",
       "    numerals = {\n",
       "        1000: 'M',\n",
       "        900: 'CM',\n",
       "        500: 'D',\n",
       "        400: 'CD',\n",
       "        100: 'C',\n",
       "        90: 'XC',\n",
       "        50: 'L',\n",
       "        40: 'XL',\n",
       "        10: 'X',\n",
       "        9: 'IX',\n",
       "        5: 'V',\n",
       "        4: 'IV',\n",
       "        1: 'I'\n",
       "    }\n",
       "    \n",
       "    result = ''\n",
       "    # 2. 辞書のキーを大きい順にソートする\n",
       "    sorted_numerals = sorted(numerals.keys(), reverse=True)\n",
       "    \n",
       "    # 3. ソートされたキーのリストをループで処理する\n",
       "    for value in sorted_numerals:\n",
       "        # 4. ループ内で、与えられた数字が現在のキーに対応する値以上である限り、その値に対応する文字列を結果に追加し、与えられた数字からその値を引く\n",
       "        while num >= value:\n",
       "            result += numerals[value]\n",
       "            num -= value\n",
       "    \n",
       "    # 5. 与えられた数字が0になるまで、3-4の処理を繰り返す\n",
       "    return result\n",
       "```"
      ],
      "text/plain": [
       "<IPython.core.display.Markdown object>"
      ]
     },
     "metadata": {},
     "output_type": "display_data"
    }
   ],
   "source": [
    "%%ai_continue\n",
    "具体的にpythonのプログラムが何番の処理に対応するか、コメントを入れることはできますか"
   ]
  },
  {
   "cell_type": "code",
   "execution_count": 6,
   "id": "15f5a918-06c8-49c9-b528-bb2da6ef0cb9",
   "metadata": {
    "tags": []
   },
   "outputs": [
    {
     "data": {
      "text/plain": [
       "{1000: 'M',\n",
       " 900: 'CM',\n",
       " 500: 'D',\n",
       " 400: 'CD',\n",
       " 100: 'C',\n",
       " 90: 'XC',\n",
       " 50: 'L',\n",
       " 40: 'XL',\n",
       " 10: 'X',\n",
       " 9: 'IX',\n",
       " 5: 'V',\n",
       " 4: 'IV',\n",
       " 1: 'I'}"
      ]
     },
     "execution_count": 6,
     "metadata": {},
     "output_type": "execute_result"
    }
   ],
   "source": [
    "numerals = {\n",
    "    1000: 'M',\n",
    "    900: 'CM',\n",
    "    500: 'D',\n",
    "    400: 'CD',\n",
    "    100: 'C',\n",
    "    90: 'XC',\n",
    "    50: 'L',\n",
    "    40: 'XL',\n",
    "    10: 'X',\n",
    "    9: 'IX',\n",
    "    5: 'V',\n",
    "    4: 'IV',\n",
    "    1: 'I'\n",
    "}\n",
    "numerals"
   ]
  },
  {
   "cell_type": "code",
   "execution_count": 7,
   "id": "e3f6c803-2a4d-46d0-8f63-8b48a825cc01",
   "metadata": {
    "tags": []
   },
   "outputs": [
    {
     "data": {
      "text/plain": [
       "[1000, 900, 500, 400, 100, 90, 50, 40, 10, 9, 5, 4, 1]"
      ]
     },
     "execution_count": 7,
     "metadata": {},
     "output_type": "execute_result"
    }
   ],
   "source": [
    "sorted_numerals = sorted(numerals.keys(), reverse=True)\n",
    "sorted_numerals"
   ]
  },
  {
   "cell_type": "code",
   "execution_count": 8,
   "id": "ea148148-ddba-4044-80b7-b00e133eb3f4",
   "metadata": {
    "tags": []
   },
   "outputs": [
    {
     "data": {
      "text/plain": [
       "dict_keys([1000, 900, 500, 400, 100, 90, 50, 40, 10, 9, 5, 4, 1])"
      ]
     },
     "execution_count": 8,
     "metadata": {},
     "output_type": "execute_result"
    }
   ],
   "source": [
    "numerals.keys()"
   ]
  },
  {
   "cell_type": "code",
   "execution_count": 9,
   "id": "c8fac091-e313-47a9-ba55-3e65b912e2c4",
   "metadata": {
    "tags": []
   },
   "outputs": [
    {
     "name": "stdout",
     "output_type": "stream",
     "text": [
      "1000 M\n",
      "900 CM\n",
      "500 D\n",
      "400 CD\n",
      "100 C\n",
      "90 XC\n",
      "50 L\n",
      "40 XL\n",
      "10 X\n",
      "9 IX\n",
      "5 V\n",
      "4 IV\n",
      "1 I\n"
     ]
    }
   ],
   "source": [
    "for value in sorted_numerals:\n",
    "    print(value, numerals[value])"
   ]
  },
  {
   "cell_type": "code",
   "execution_count": 10,
   "id": "5b1591f0-59be-403d-b565-bc9cf6280172",
   "metadata": {
    "tags": []
   },
   "outputs": [
    {
     "data": {
      "text/markdown": [
       "二つのプログラムの類似性を抽出すると、以下のようになります。\n",
       "\n",
       "1. 与えられた数字を、大きい値から小さい値に向かって順番に処理する。\n",
       "2. 変換に使用する数字と、それに対応する文字列を辞書に定義する。\n",
       "3. 辞書のキーを大きい順にソートする。\n",
       "4. ソートされたキーのリストをループで処理する。\n",
       "5. ループ内で、与えられた数字が現在のキーに対応する値以上である限り、その値に対応する文字列を結果に追加し、与えられた数字からその値を引く。\n",
       "6. 与えられた数字が0になるまで、3-5の処理を繰り返す。\n",
       "\n",
       "このように、二つのプログラムは同じアルゴリズムを使用しており、異なる数字システムに変換するために異なる辞書を使用しているだけです。"
      ],
      "text/plain": [
       "<IPython.core.display.Markdown object>"
      ]
     },
     "metadata": {},
     "output_type": "display_data"
    }
   ],
   "source": [
    "%%ai_continue\n",
    "コメントが入って判りやすくなりました。\n",
    "二つのプログラムの類似性を抽出して表現する方法はありますか？"
   ]
  },
  {
   "cell_type": "code",
   "execution_count": 11,
   "id": "a94c8aa3-40bc-4b9c-a6fc-d0c6db316f29",
   "metadata": {
    "tags": []
   },
   "outputs": [
    {
     "data": {
      "text/markdown": [
       "古代ギリシャと古代ローマの数値システムは、本質的に同じシステムではありませんが、いくつかの類似点があります。両方のシステムは、位取り記法ではなく、各桁の値を単独で表現します。ただし、両方のシステムは、同じ数字を表すために同じ文字を使用することがあります。たとえば、ギリシャの「α」は、ローマの「I」と同じ値を表します。ただし、両方のシステムには、独自の数字と表記法があります。"
      ],
      "text/plain": [
       "<IPython.core.display.Markdown object>"
      ]
     },
     "metadata": {},
     "output_type": "display_data"
    }
   ],
   "source": [
    "%%ai_continue\n",
    "古代ギリシアと古代ローマの数字システムは、\n",
    "位取り記法ではないが、本質的に同じシステムであるということですね"
   ]
  },
  {
   "cell_type": "code",
   "execution_count": 12,
   "id": "84e8af7e-d019-4940-a618-e27aef93c58f",
   "metadata": {
    "tags": []
   },
   "outputs": [
    {
     "data": {
      "text/markdown": [
       "プログラムの類似性を数値化することはできます。プログラムの類似性を数値化するためには、一般的にはテキストマイニングや自然言語処理の技術を使用します。具体的には、プログラムのソースコードをトークン化し、トークンの出現頻度やパターンを分析することで、プログラムの類似性を数値化することができます。また、プログラムの構造やアルゴリズムを解析し、それらの類似性を数値化することもできます。ただし、プログラムの類似性を数値化するためには、高度な技術や専門知識が必要となる場合があります。"
      ],
      "text/plain": [
       "<IPython.core.display.Markdown object>"
      ]
     },
     "metadata": {},
     "output_type": "display_data"
    }
   ],
   "source": [
    "%%ai_continue\n",
    "プログラムの類似性を数値化することはできますか？"
   ]
  },
  {
   "cell_type": "code",
   "execution_count": 13,
   "id": "66a6cf7d-edc5-40fe-b7c2-79f5e6556f73",
   "metadata": {
    "tags": []
   },
   "outputs": [
    {
     "data": {
      "text/markdown": [
       "プログラムの類似性を数値化するための高度な技術には、以下のようなものがあります。\n",
       "\n",
       "1. シンタックスツリーの比較：プログラムの構文解析木（シンタックスツリー）を作成し、それらのツリーを比較することで、プログラムの類似性を数値化する方法です。この手法は、プログラムの構造やアルゴリズムの類似性を捉えることができます。\n",
       "\n",
       "2. データフローグラフの比較：プログラムのデータフローグラフを作成し、それらのグラフを比較することで、プログラムの類似性を数値化する方法です。この手法は、プログラムのデータフローの類似性を捉えることができます。\n",
       "\n",
       "3. ニューラルネットワークの利用：プログラムのソースコードを入力として、ニューラルネットワークを学習させることで、プログラムの類似性を数値化する方法です。この手法は、プログラムの構造やアルゴリズムの類似性を捉えることができます。\n",
       "\n",
       "これらの手法は、プログラムの類似性を数値化するために高度な技術や専門知識が必要となる場合があります。また、これらの手法は、プログラムの規模や複雑さによっては、計算コストが高くなる場合があります。"
      ],
      "text/plain": [
       "<IPython.core.display.Markdown object>"
      ]
     },
     "metadata": {},
     "output_type": "display_data"
    }
   ],
   "source": [
    "%%ai_continue\n",
    "プログラムの類似性を数値化する高度な技術とは？"
   ]
  },
  {
   "cell_type": "code",
   "execution_count": 14,
   "id": "64ad43d7-ad56-4597-826c-440199e30315",
   "metadata": {
    "tags": []
   },
   "outputs": [
    {
     "data": {
      "text/markdown": [
       "構文解析木を作成するために、以下のPythonコードを使用して、二つのプログラムの構文解析木を作成しました。\n",
       "\n",
       "```python\n",
       "import ast\n",
       "\n",
       "def create_syntax_tree(code):\n",
       "    tree = ast.parse(code)\n",
       "    return tree\n",
       "\n",
       "# decimal_to_greek関数の構文解析木を作成する\n",
       "greek_code = \"\"\"\n",
       "def decimal_to_greek(num):\n",
       "    greek_numerals = {\n",
       "        1: 'α',\n",
       "        2: 'β',\n",
       "        3: 'γ',\n",
       "        4: 'δ',\n",
       "        5: 'ε',\n",
       "        6: 'ϛ',\n",
       "        7: 'ζ',\n",
       "        8: 'η',\n",
       "        9: 'θ',\n",
       "        10: 'ι',\n",
       "        20: 'κ',\n",
       "        30: 'λ',\n",
       "        40: 'μ',\n",
       "        50: 'ν',\n",
       "        60: 'ξ',\n",
       "        70: 'ο',\n",
       "        80: 'π',\n",
       "        90: 'ϙ',\n",
       "        100: 'ρ',\n",
       "        200: 'σ',\n",
       "        300: 'τ',\n",
       "        400: 'υ',\n",
       "        500: 'φ',\n",
       "        600: 'χ',\n",
       "        700: 'ψ',\n",
       "        800: 'ω',\n",
       "        900: 'ϡ'\n",
       "    }\n",
       "    result = ''\n",
       "    for value in sorted(greek_numerals.keys(), reverse=True):\n",
       "        while num >= value:\n",
       "            result += greek_numerals[value]\n",
       "            num -= value\n",
       "    return result\n",
       "\"\"\"\n",
       "\n",
       "greek_tree = create_syntax_tree(greek_code)\n",
       "print(ast.dump(greek_tree))\n",
       "\n",
       "# decimal_to_roman関数の構文解析木を作成する\n",
       "roman_code = \"\"\"\n",
       "def decimal_to_roman(num):\n",
       "    roman_numerals = {\n",
       "        1: 'I',\n",
       "        4: 'IV',\n",
       "        5: 'V',\n",
       "        9: 'IX',\n",
       "        10: 'X',\n",
       "        40: 'XL',\n",
       "        50: 'L',\n",
       "        90: 'XC',\n",
       "        100: 'C',\n",
       "        400: 'CD',\n",
       "        500: 'D',\n",
       "        900: 'CM',\n",
       "        1000: 'M'\n",
       "    }\n",
       "    result = ''\n",
       "    for value in sorted(roman_numerals.keys(), reverse=True):\n",
       "        while num >= value:\n",
       "            result = result + roman_numerals[value]\n",
       "            num = num - value\n",
       "    return result\n",
       "\"\"\"\n",
       "\n",
       "roman_tree = create_syntax_tree(roman_code)\n",
       "print(ast.dump(roman_tree))\n",
       "```\n",
       "\n",
       "上記のコードを実行すると、それぞれのプログラムの構文解析木が出力されます。構文解析木は、プログラムの構造を木構造で表現したものであり、プログラムの解析や変換に使用されます。構文解析木を作成することで、プログラムの構造やアルゴリズムの類似性を捉えることができます。"
      ],
      "text/plain": [
       "<IPython.core.display.Markdown object>"
      ]
     },
     "metadata": {},
     "output_type": "display_data"
    }
   ],
   "source": [
    "%%ai_continue\n",
    "構文解析木を作成してみて"
   ]
  },
  {
   "cell_type": "code",
   "execution_count": 15,
   "id": "b72d2b62-9f51-4844-973b-a19f7b2ea7e5",
   "metadata": {
    "tags": []
   },
   "outputs": [
    {
     "name": "stdout",
     "output_type": "stream",
     "text": [
      "Module(body=[FunctionDef(name='decimal_to_greek', args=arguments(posonlyargs=[], args=[arg(arg='num')], kwonlyargs=[], kw_defaults=[], defaults=[]), body=[Assign(targets=[Name(id='greek_numerals', ctx=Store())], value=Dict(keys=[Constant(value=1), Constant(value=2), Constant(value=3), Constant(value=4), Constant(value=5), Constant(value=6), Constant(value=7), Constant(value=8), Constant(value=9), Constant(value=10), Constant(value=20), Constant(value=30), Constant(value=40), Constant(value=50), Constant(value=60), Constant(value=70), Constant(value=80), Constant(value=90), Constant(value=100), Constant(value=200), Constant(value=300), Constant(value=400), Constant(value=500), Constant(value=600), Constant(value=700), Constant(value=800), Constant(value=900)], values=[Constant(value='α'), Constant(value='β'), Constant(value='γ'), Constant(value='δ'), Constant(value='ε'), Constant(value='ϛ'), Constant(value='ζ'), Constant(value='η'), Constant(value='θ'), Constant(value='ι'), Constant(value='κ'), Constant(value='λ'), Constant(value='μ'), Constant(value='ν'), Constant(value='ξ'), Constant(value='ο'), Constant(value='π'), Constant(value='ϙ'), Constant(value='ρ'), Constant(value='σ'), Constant(value='τ'), Constant(value='υ'), Constant(value='φ'), Constant(value='χ'), Constant(value='ψ'), Constant(value='ω'), Constant(value='ϡ')])), Assign(targets=[Name(id='result', ctx=Store())], value=Constant(value='')), For(target=Name(id='value', ctx=Store()), iter=Call(func=Name(id='sorted', ctx=Load()), args=[Call(func=Attribute(value=Name(id='greek_numerals', ctx=Load()), attr='keys', ctx=Load()), args=[], keywords=[])], keywords=[keyword(arg='reverse', value=Constant(value=True))]), body=[While(test=Compare(left=Name(id='num', ctx=Load()), ops=[GtE()], comparators=[Name(id='value', ctx=Load())]), body=[AugAssign(target=Name(id='result', ctx=Store()), op=Add(), value=Subscript(value=Name(id='greek_numerals', ctx=Load()), slice=Name(id='value', ctx=Load()), ctx=Load())), AugAssign(target=Name(id='num', ctx=Store()), op=Sub(), value=Name(id='value', ctx=Load()))], orelse=[])], orelse=[]), Return(value=Name(id='result', ctx=Load()))], decorator_list=[])], type_ignores=[])\n",
      "Module(body=[FunctionDef(name='decimal_to_roman', args=arguments(posonlyargs=[], args=[arg(arg='num')], kwonlyargs=[], kw_defaults=[], defaults=[]), body=[Assign(targets=[Name(id='roman_numerals', ctx=Store())], value=Dict(keys=[Constant(value=1), Constant(value=4), Constant(value=5), Constant(value=9), Constant(value=10), Constant(value=40), Constant(value=50), Constant(value=90), Constant(value=100), Constant(value=400), Constant(value=500), Constant(value=900), Constant(value=1000)], values=[Constant(value='I'), Constant(value='IV'), Constant(value='V'), Constant(value='IX'), Constant(value='X'), Constant(value='XL'), Constant(value='L'), Constant(value='XC'), Constant(value='C'), Constant(value='CD'), Constant(value='D'), Constant(value='CM'), Constant(value='M')])), Assign(targets=[Name(id='result', ctx=Store())], value=Constant(value='')), For(target=Name(id='value', ctx=Store()), iter=Call(func=Name(id='sorted', ctx=Load()), args=[Call(func=Attribute(value=Name(id='roman_numerals', ctx=Load()), attr='keys', ctx=Load()), args=[], keywords=[])], keywords=[keyword(arg='reverse', value=Constant(value=True))]), body=[While(test=Compare(left=Name(id='num', ctx=Load()), ops=[GtE()], comparators=[Name(id='value', ctx=Load())]), body=[Assign(targets=[Name(id='result', ctx=Store())], value=BinOp(left=Name(id='result', ctx=Load()), op=Add(), right=Subscript(value=Name(id='roman_numerals', ctx=Load()), slice=Name(id='value', ctx=Load()), ctx=Load()))), Assign(targets=[Name(id='num', ctx=Store())], value=BinOp(left=Name(id='num', ctx=Load()), op=Sub(), right=Name(id='value', ctx=Load())))], orelse=[])], orelse=[]), Return(value=Name(id='result', ctx=Load()))], decorator_list=[])], type_ignores=[])\n"
     ]
    }
   ],
   "source": [
    "import ast\n",
    "\n",
    "def create_syntax_tree(code):\n",
    "    tree = ast.parse(code)\n",
    "    return tree\n",
    "\n",
    "# decimal_to_greek関数の構文解析木を作成する\n",
    "greek_code = \"\"\"\n",
    "def decimal_to_greek(num):\n",
    "    greek_numerals = {\n",
    "        1: 'α',\n",
    "        2: 'β',\n",
    "        3: 'γ',\n",
    "        4: 'δ',\n",
    "        5: 'ε',\n",
    "        6: 'ϛ',\n",
    "        7: 'ζ',\n",
    "        8: 'η',\n",
    "        9: 'θ',\n",
    "        10: 'ι',\n",
    "        20: 'κ',\n",
    "        30: 'λ',\n",
    "        40: 'μ',\n",
    "        50: 'ν',\n",
    "        60: 'ξ',\n",
    "        70: 'ο',\n",
    "        80: 'π',\n",
    "        90: 'ϙ',\n",
    "        100: 'ρ',\n",
    "        200: 'σ',\n",
    "        300: 'τ',\n",
    "        400: 'υ',\n",
    "        500: 'φ',\n",
    "        600: 'χ',\n",
    "        700: 'ψ',\n",
    "        800: 'ω',\n",
    "        900: 'ϡ'\n",
    "    }\n",
    "    result = ''\n",
    "    for value in sorted(greek_numerals.keys(), reverse=True):\n",
    "        while num >= value:\n",
    "            result += greek_numerals[value]\n",
    "            num -= value\n",
    "    return result\n",
    "\"\"\"\n",
    "\n",
    "greek_tree = create_syntax_tree(greek_code)\n",
    "print(ast.dump(greek_tree))\n",
    "\n",
    "# decimal_to_roman関数の構文解析木を作成する\n",
    "roman_code = \"\"\"\n",
    "def decimal_to_roman(num):\n",
    "    roman_numerals = {\n",
    "        1: 'I',\n",
    "        4: 'IV',\n",
    "        5: 'V',\n",
    "        9: 'IX',\n",
    "        10: 'X',\n",
    "        40: 'XL',\n",
    "        50: 'L',\n",
    "        90: 'XC',\n",
    "        100: 'C',\n",
    "        400: 'CD',\n",
    "        500: 'D',\n",
    "        900: 'CM',\n",
    "        1000: 'M'\n",
    "    }\n",
    "    result = ''\n",
    "    for value in sorted(roman_numerals.keys(), reverse=True):\n",
    "        while num >= value:\n",
    "            result = result + roman_numerals[value]\n",
    "            num = num - value\n",
    "    return result\n",
    "\"\"\"\n",
    "\n",
    "roman_tree = create_syntax_tree(roman_code)\n",
    "print(ast.dump(roman_tree))"
   ]
  },
  {
   "cell_type": "code",
   "execution_count": 16,
   "id": "393763b0-9612-4a8c-9354-227f64763247",
   "metadata": {
    "tags": []
   },
   "outputs": [
    {
     "data": {
      "text/markdown": [
       "構文解析木を目視で比較するためには、`ast`モジュールの`dump`関数ではなく、`astor`モジュールの`to_source`関数を使用することで、構文解析木をプリティプリントすることができます。以下は、二つのプログラムの構文解析木をプリティプリントするPythonコードです。\n",
       "\n",
       "```python\n",
       "import ast\n",
       "import astor\n",
       "\n",
       "def create_syntax_tree(code):\n",
       "    tree = ast.parse(code)\n",
       "    return tree\n",
       "\n",
       "# decimal_to_greek関数の構文解析木を作成する\n",
       "greek_code = \"\"\"\n",
       "def decimal_to_greek(num):\n",
       "    greek_numerals = {\n",
       "        1: 'α',\n",
       "        2: 'β',\n",
       "        3: 'γ',\n",
       "        4: 'δ',\n",
       "        5: 'ε',\n",
       "        6: 'ϛ',\n",
       "        7: 'ζ',\n",
       "        8: 'η',\n",
       "        9: 'θ',\n",
       "        10: 'ι',\n",
       "        20: 'κ',\n",
       "        30: 'λ',\n",
       "        40: 'μ',\n",
       "        50: 'ν',\n",
       "        60: 'ξ',\n",
       "        70: 'ο',\n",
       "        80: 'π',\n",
       "        90: 'ϙ',\n",
       "        100: 'ρ',\n",
       "        200: 'σ',\n",
       "        300: 'τ',\n",
       "        400: 'υ',\n",
       "        500: 'φ',\n",
       "        600: 'χ',\n",
       "        700: 'ψ',\n",
       "        800: 'ω',\n",
       "        900: 'ϡ'\n",
       "    }\n",
       "    result = ''\n",
       "    for value in sorted(greek_numerals.keys(), reverse=True):\n",
       "        while num >= value:\n",
       "            result += greek_numerals[value]\n",
       "            num -= value\n",
       "    return result\n",
       "\"\"\"\n",
       "\n",
       "greek_tree = create_syntax_tree(greek_code)\n",
       "print(astor.to_source(greek_tree))\n",
       "\n",
       "# decimal_to_roman関数の構文解析木を作成する\n",
       "roman_code = \"\"\"\n",
       "def decimal_to_roman(num):\n",
       "    roman_numerals = {\n",
       "        1: 'I',\n",
       "        4: 'IV',\n",
       "        5: 'V',\n",
       "        9: 'IX',\n",
       "        10: 'X',\n",
       "        40: 'XL',\n",
       "        50: 'L',\n",
       "        90: 'XC',\n",
       "        100: 'C',\n",
       "        400: 'CD',\n",
       "        500: 'D',\n",
       "        900: 'CM',\n",
       "        1000: 'M'\n",
       "    }\n",
       "    result = ''\n",
       "    for value in sorted(roman_numerals.keys(), reverse=True):\n",
       "        while num >= value:\n",
       "            result = result + roman_numerals[value]\n",
       "            num = num - value\n",
       "    return result\n",
       "\"\"\"\n",
       "\n",
       "roman_tree = create_syntax_tree(roman_code)\n",
       "print(astor.to_source(roman_tree))\n",
       "```\n",
       "\n",
       "上記のコードを実行すると、それぞれのプログラムの構文解析木がプリティプリントされます。`astor`モジュールの`to_source`関数を使用することで、構文解析木をPythonコードの形式で出力することができます。これにより、目視で二つのプログラムの構文解析木を比較することができます。"
      ],
      "text/plain": [
       "<IPython.core.display.Markdown object>"
      ]
     },
     "metadata": {},
     "output_type": "display_data"
    }
   ],
   "source": [
    "%%ai_continue\n",
    "目視で比較出来るようにプリティプリントしたい"
   ]
  },
  {
   "cell_type": "code",
   "execution_count": 20,
   "id": "928dcf80-f728-4e7b-b041-496a9fac1a7c",
   "metadata": {
    "tags": []
   },
   "outputs": [
    {
     "name": "stdout",
     "output_type": "stream",
     "text": [
      "def decimal_to_greek(num):\n",
      "    greek_numerals = {(1): 'α', (2): 'β', (3): 'γ', (4): 'δ', (5): 'ε', (6):\n",
      "        'ϛ', (7): 'ζ', (8): 'η', (9): 'θ', (10): 'ι', (20): 'κ', (30): 'λ',\n",
      "        (40): 'μ', (50): 'ν', (60): 'ξ', (70): 'ο', (80): 'π', (90): 'ϙ', (\n",
      "        100): 'ρ', (200): 'σ', (300): 'τ', (400): 'υ', (500): 'φ', (600):\n",
      "        'χ', (700): 'ψ', (800): 'ω', (900): 'ϡ'}\n",
      "    result = ''\n",
      "    for value in sorted(greek_numerals.keys(), reverse=True):\n",
      "        while num >= value:\n",
      "            result += greek_numerals[value]\n",
      "            num -= value\n",
      "    return result\n",
      "\n",
      "def decimal_to_roman(num):\n",
      "    roman_numerals = {(1): 'I', (4): 'IV', (5): 'V', (9): 'IX', (10): 'X',\n",
      "        (40): 'XL', (50): 'L', (90): 'XC', (100): 'C', (400): 'CD', (500):\n",
      "        'D', (900): 'CM', (1000): 'M'}\n",
      "    result = ''\n",
      "    for value in sorted(roman_numerals.keys(), reverse=True):\n",
      "        while num >= value:\n",
      "            result = result + roman_numerals[value]\n",
      "            num = num - value\n",
      "    return result\n",
      "\n"
     ]
    }
   ],
   "source": [
    "import ast\n",
    "import astor\n",
    "\n",
    "def create_syntax_tree(code):\n",
    "    tree = ast.parse(code)\n",
    "    return tree\n",
    "\n",
    "# decimal_to_greek関数の構文解析木を作成する\n",
    "greek_code = \"\"\"\n",
    "def decimal_to_greek(num):\n",
    "    greek_numerals = {\n",
    "        1: 'α',\n",
    "        2: 'β',\n",
    "        3: 'γ',\n",
    "        4: 'δ',\n",
    "        5: 'ε',\n",
    "        6: 'ϛ',\n",
    "        7: 'ζ',\n",
    "        8: 'η',\n",
    "        9: 'θ',\n",
    "        10: 'ι',\n",
    "        20: 'κ',\n",
    "        30: 'λ',\n",
    "        40: 'μ',\n",
    "        50: 'ν',\n",
    "        60: 'ξ',\n",
    "        70: 'ο',\n",
    "        80: 'π',\n",
    "        90: 'ϙ',\n",
    "        100: 'ρ',\n",
    "        200: 'σ',\n",
    "        300: 'τ',\n",
    "        400: 'υ',\n",
    "        500: 'φ',\n",
    "        600: 'χ',\n",
    "        700: 'ψ',\n",
    "        800: 'ω',\n",
    "        900: 'ϡ'\n",
    "    }\n",
    "    result = ''\n",
    "    for value in sorted(greek_numerals.keys(), reverse=True):\n",
    "        while num >= value:\n",
    "            result += greek_numerals[value]\n",
    "            num -= value\n",
    "    return result\n",
    "\"\"\"\n",
    "\n",
    "greek_tree = create_syntax_tree(greek_code)\n",
    "print(astor.to_source(greek_tree))\n",
    "\n",
    "# decimal_to_roman関数の構文解析木を作成する\n",
    "roman_code = \"\"\"\n",
    "def decimal_to_roman(num):\n",
    "    roman_numerals = {\n",
    "        1: 'I',\n",
    "        4: 'IV',\n",
    "        5: 'V',\n",
    "        9: 'IX',\n",
    "        10: 'X',\n",
    "        40: 'XL',\n",
    "        50: 'L',\n",
    "        90: 'XC',\n",
    "        100: 'C',\n",
    "        400: 'CD',\n",
    "        500: 'D',\n",
    "        900: 'CM',\n",
    "        1000: 'M'\n",
    "    }\n",
    "    result = ''\n",
    "    for value in sorted(roman_numerals.keys(), reverse=True):\n",
    "        while num >= value:\n",
    "            result = result + roman_numerals[value]\n",
    "            num = num - value\n",
    "    return result\n",
    "\"\"\"\n",
    "\n",
    "roman_tree = create_syntax_tree(roman_code)\n",
    "print(astor.to_source(roman_tree))"
   ]
  },
  {
   "cell_type": "code",
   "execution_count": 25,
   "id": "469e3326-3770-49d6-bb03-8f327a912649",
   "metadata": {
    "tags": []
   },
   "outputs": [
    {
     "name": "stdout",
     "output_type": "stream",
     "text": [
      "Module\n",
      "  FunctionDef\n",
      "    arguments\n",
      "      arg\n",
      "    Assign\n",
      "      Name\n",
      "        Store\n",
      "      Dict\n",
      "        Constant\n",
      "        Constant\n",
      "        Constant\n",
      "        Constant\n",
      "        Constant\n",
      "        Constant\n",
      "        Constant\n",
      "        Constant\n",
      "        Constant\n",
      "        Constant\n",
      "        Constant\n",
      "        Constant\n",
      "        Constant\n",
      "        Constant\n",
      "        Constant\n",
      "        Constant\n",
      "        Constant\n",
      "        Constant\n",
      "        Constant\n",
      "        Constant\n",
      "        Constant\n",
      "        Constant\n",
      "        Constant\n",
      "        Constant\n",
      "        Constant\n",
      "        Constant\n",
      "    Assign\n",
      "      Name\n",
      "        Store\n",
      "      Constant\n",
      "    For\n",
      "      Name\n",
      "        Store\n",
      "      Call\n",
      "        Name\n",
      "          Load\n",
      "        Call\n",
      "          Attribute\n",
      "            Name\n",
      "              Load\n",
      "            Load\n",
      "        keyword\n",
      "          Constant\n",
      "      While\n",
      "        Compare\n",
      "          Name\n",
      "            Load\n",
      "          GtE\n",
      "          Name\n",
      "            Load\n",
      "        Assign\n",
      "          Name\n",
      "            Store\n",
      "          BinOp\n",
      "            Name\n",
      "              Load\n",
      "            Add\n",
      "            Subscript\n",
      "              Name\n",
      "                Load\n",
      "              Name\n",
      "                Load\n",
      "              Load\n",
      "        Assign\n",
      "          Name\n",
      "            Store\n",
      "          BinOp\n",
      "            Name\n",
      "              Load\n",
      "            Sub\n",
      "            Name\n",
      "              Load\n",
      "    Return\n",
      "      Name\n",
      "        Load\n"
     ]
    }
   ],
   "source": [
    "import astdump\n",
    "astdump.indented(roman_tree)"
   ]
  },
  {
   "cell_type": "code",
   "execution_count": 6,
   "id": "7686699f-3020-475b-af10-d194527c6972",
   "metadata": {
    "tags": []
   },
   "outputs": [
    {
     "data": {
      "text/markdown": [
       "両方のプログラムのASTを比較すると、以下のような類似点があります。\n",
       "\n",
       "- `For`ループの構造が似ている\n",
       "- `While`ループの構造が似ている\n",
       "- `Dict`の構造が似ている\n",
       "- `sorted`関数の呼び出し方が似ている\n",
       "- `reverse`引数の使用が似ている\n",
       "- `value`変数の使用が似ている\n",
       "- `num`変数の使用が似ている\n",
       "- `result`変数の使用が似ている\n",
       "\n",
       "これらの類似点から、両方のプログラムが同じ基本的なアルゴリズムを使用していることがわかります。ただし、両方のプログラムは、異なる数値システムを変換するために異なる辞書を使用しているため、ASTの一部は異なります。"
      ],
      "text/plain": [
       "<IPython.core.display.Markdown object>"
      ]
     },
     "metadata": {},
     "output_type": "display_data"
    }
   ],
   "source": [
    "%%ai_continue\n",
    "ASTの類似している部分を抽出してください"
   ]
  },
  {
   "cell_type": "code",
   "execution_count": 26,
   "id": "182339e5-2e25-4d02-88bb-9a363d432d2c",
   "metadata": {
    "tags": []
   },
   "outputs": [
    {
     "data": {
      "text/markdown": [
       "はい、プログラムのデータフローグラフを作成することができます。データフローグラフは、プログラムのデータの流れを表現するグラフであり、プログラムの解析や最適化に使用されます。以下は、Pythonの`networkx`ライブラリを使用して、二つのプログラムのデータフローグラフを作成する例です。\n",
       "\n",
       "```python\n",
       "import ast\n",
       "import networkx as nx\n",
       "import matplotlib.pyplot as plt\n",
       "\n",
       "def create_dataflow_graph(code):\n",
       "    tree = ast.parse(code)\n",
       "    graph = nx.DiGraph()\n",
       "    for node in ast.walk(tree):\n",
       "        if isinstance(node, ast.Assign):\n",
       "            for target in node.targets:\n",
       "                if isinstance(target, ast.Name):\n",
       "                    graph.add_node(target.id)\n",
       "                    for child_node in ast.walk(node.value):\n",
       "                        if isinstance(child_node, ast.Name):\n",
       "                            graph.add_node(child_node.id)\n",
       "                            graph.add_edge(child_node.id, target.id)\n",
       "    return graph\n",
       "\n",
       "# decimal_to_greek関数のデータフローグラフを作成する\n",
       "greek_code = \"\"\"\n",
       "def decimal_to_greek(num):\n",
       "    greek_numerals = {\n",
       "        1: 'α',\n",
       "        2: 'β',\n",
       "        3: 'γ',\n",
       "        4: 'δ',\n",
       "        5: 'ε',\n",
       "        6: 'ϛ',\n",
       "        7: 'ζ',\n",
       "        8: 'η',\n",
       "        9: 'θ',\n",
       "        10: 'ι',\n",
       "        20: 'κ',\n",
       "        30: 'λ',\n",
       "        40: 'μ',\n",
       "        50: 'ν',\n",
       "        60: 'ξ',\n",
       "        70: 'ο',\n",
       "        80: 'π',\n",
       "        90: 'ϙ',\n",
       "        100: 'ρ',\n",
       "        200: 'σ',\n",
       "        300: 'τ',\n",
       "        400: 'υ',\n",
       "        500: 'φ',\n",
       "        600: 'χ',\n",
       "        700: 'ψ',\n",
       "        800: 'ω',\n",
       "        900: 'ϡ'\n",
       "    }\n",
       "    result = ''\n",
       "    for value in sorted(greek_numerals.keys(), reverse=True):\n",
       "        while num >= value:\n",
       "            result += greek_numerals[value]\n",
       "            num -= value\n",
       "    return result\n",
       "\"\"\"\n",
       "\n",
       "greek_graph = create_dataflow_graph(greek_code)\n",
       "nx.draw(greek_graph, with_labels=True)\n",
       "plt.show()\n",
       "\n",
       "# decimal_to_roman関数のデータフローグラフを作成する\n",
       "roman_code = \"\"\"\n",
       "def decimal_to_roman(num):\n",
       "    roman_numerals = {\n",
       "        1: 'I',\n",
       "        4: 'IV',\n",
       "        5: 'V',\n",
       "        9: 'IX',\n",
       "        10: 'X',\n",
       "        40: 'XL',\n",
       "        50: 'L',\n",
       "        90: 'XC',\n",
       "        100: 'C',\n",
       "        400: 'CD',\n",
       "        500: 'D',\n",
       "        900: 'CM',\n",
       "        1000: 'M'\n",
       "    }\n",
       "    result = ''\n",
       "    for value in sorted(roman_numerals.keys(), reverse=True):\n",
       "        while num >= value:\n",
       "            result = result + roman_numerals[value]\n",
       "            num = num - value\n",
       "    return result\n",
       "\"\"\"\n",
       "\n",
       "roman_graph = create_dataflow_graph(roman_code)\n",
       "nx.draw(roman_graph, with_labels=True)\n",
       "plt.show()\n",
       "```\n",
       "\n",
       "上記のコードを実行すると、それぞれのプログラムのデータフローグラフが描画されます。`create_dataflow_graph`関数は、プログラムの構文解析木を作成し、代入文を検出して、左辺の変数と右辺の変数の間に有向辺を追加することで、データフローグラフを作成します。`networkx`ライブラリを使用して、作成したデータフローグラフを描画することができます。"
      ],
      "text/plain": [
       "<IPython.core.display.Markdown object>"
      ]
     },
     "metadata": {},
     "output_type": "display_data"
    }
   ],
   "source": [
    "%%ai_continue\n",
    "データフローグラフを作成することはできますか"
   ]
  },
  {
   "cell_type": "code",
   "execution_count": 31,
   "id": "d5713351-b88e-4f2b-a0a5-b32ee865279e",
   "metadata": {
    "tags": []
   },
   "outputs": [
    {
     "data": {
      "image/png": "[encoded data removed]",
      "text/plain": [
       "<Figure size 640x480 with 1 Axes>"
      ]
     },
     "metadata": {},
     "output_type": "display_data"
    }
   ],
   "source": [
    "import ast\n",
    "import networkx as nx\n",
    "import matplotlib.pyplot as plt\n",
    "\n",
    "def create_dataflow_graph(code):\n",
    "    tree = ast.parse(code)\n",
    "    graph = nx.DiGraph()\n",
    "    for node in ast.walk(tree):\n",
    "        if isinstance(node, ast.Assign):\n",
    "            for target in node.targets:\n",
    "                if isinstance(target, ast.Name):\n",
    "                    graph.add_node(target.id)\n",
    "                    for child_node in ast.walk(node.value):\n",
    "                        if isinstance(child_node, ast.Name):\n",
    "                            graph.add_node(child_node.id)\n",
    "                            graph.add_edge(child_node.id, target.id)\n",
    "    return graph\n",
    "\n",
    "# decimal_to_greek関数のデータフローグラフを作成する\n",
    "greek_code = \"\"\"\n",
    "def decimal_to_greek(num):\n",
    "    greek_numerals = {\n",
    "        1: 'α',\n",
    "        2: 'β',\n",
    "        3: 'γ',\n",
    "        4: 'δ',\n",
    "        5: 'ε',\n",
    "        6: 'ϛ',\n",
    "        7: 'ζ',\n",
    "        8: 'η',\n",
    "        9: 'θ',\n",
    "        10: 'ι',\n",
    "        20: 'κ',\n",
    "        30: 'λ',\n",
    "        40: 'μ',\n",
    "        50: 'ν',\n",
    "        60: 'ξ',\n",
    "        70: 'ο',\n",
    "        80: 'π',\n",
    "        90: 'ϙ',\n",
    "        100: 'ρ',\n",
    "        200: 'σ',\n",
    "        300: 'τ',\n",
    "        400: 'υ',\n",
    "        500: 'φ',\n",
    "        600: 'χ',\n",
    "        700: 'ψ',\n",
    "        800: 'ω',\n",
    "        900: 'ϡ'\n",
    "    }\n",
    "    result = ''\n",
    "    for value in sorted(greek_numerals.keys(), reverse=True):\n",
    "        while num >= value:\n",
    "            result += greek_numerals[value]\n",
    "            num -= value\n",
    "    return result\n",
    "\"\"\"\n",
    "\n",
    "greek_graph = create_dataflow_graph(greek_code)\n",
    "nx.draw(greek_graph, with_labels=True)\n",
    "plt.show()"
   ]
  },
  {
   "cell_type": "code",
   "execution_count": 29,
   "id": "672b9254-0abb-4c55-bb79-9915050e7724",
   "metadata": {
    "tags": []
   },
   "outputs": [
    {
     "data": {
      "image/png": "[encoded data removed]",
      "text/plain": [
       "<Figure size 640x480 with 1 Axes>"
      ]
     },
     "metadata": {},
     "output_type": "display_data"
    }
   ],
   "source": [
    "# decimal_to_roman関数のデータフローグラフを作成する\n",
    "roman_code = \"\"\"\n",
    "def decimal_to_roman(num):\n",
    "    roman_numerals = {\n",
    "        1: 'I',\n",
    "        4: 'IV',\n",
    "        5: 'V',\n",
    "        9: 'IX',\n",
    "        10: 'X',\n",
    "        40: 'XL',\n",
    "        50: 'L',\n",
    "        90: 'XC',\n",
    "        100: 'C',\n",
    "        400: 'CD',\n",
    "        500: 'D',\n",
    "        900: 'CM',\n",
    "        1000: 'M'\n",
    "    }\n",
    "    result = ''\n",
    "    for value in sorted(roman_numerals.keys(), reverse=True):\n",
    "        while num >= value:\n",
    "            result = result + roman_numerals[value]\n",
    "            num = num - value\n",
    "    return result\n",
    "\"\"\"\n",
    "\n",
    "roman_graph = create_dataflow_graph(roman_code)\n",
    "nx.draw(roman_graph, with_labels=True)\n",
    "plt.show()"
   ]
  },
  {
   "cell_type": "code",
   "execution_count": null,
   "id": "e86c60c7-a771-44dc-9672-defd944b6cab",
   "metadata": {},
   "outputs": [],
   "source": []
  }
 ],
 "metadata": {
  "kernelspec": {
   "display_name": "Python 3 (ipykernel)",
   "language": "python",
   "name": "python3"
  },
  "language_info": {
   "codemirror_mode": {
    "name": "ipython",
    "version": 3
   },
   "file_extension": ".py",
   "mimetype": "text/x-python",
   "name": "python",
   "nbconvert_exporter": "python",
   "pygments_lexer": "ipython3",
   "version": "3.10.10"
  }
 },
 "nbformat": 4,
 "nbformat_minor": 5
}
