{
 "cells": [
  {
   "attachments": {},
   "cell_type": "markdown",
   "id": "ab2e18a2-6542-4461-84f9-7ea2fb259055",
   "metadata": {
    "tags": []
   },
   "source": [
    "## 第三回\n",
    "\n",
    "### テーマ\n",
    "\n",
    "* プログラムの似ているところと違うところ\n",
    "    - 考え方の変遷を辿ることはできるだろうか？\n",
    "\n",
    "### 内容\n",
    "\n",
    "* これまで\n",
    "    - 第一回: ChatGPTで科学 (数学: ガウスの逸話) にまつわるプログラミングをする\n",
    "        - ChatGPTの設定\n",
    "    - 第二回: 大学センター試験で予定されているプログラミング問題をChatGPTで解く\n",
    "        - ChatGPTで自己紹介\n",
    "* 今後\n",
    "    - 古代メソポタミアから始まる数学の歴史\n",
    "        - エジプト、ギリシアを経てローマで終わる\n",
    "    - 古代インドから始まる数学の歴史\n",
    "        - イスラムを経てヨーロッパに伝わりルネッサンスを興す\n",
    "* 位取り記法記法の断絶と再興\n",
    "    - 古代メソポタミアの位取り記法と古代ギリシア、古代ローマの数値記法\n",
    "     - 古代ギリシア、ローマの記法で数の演算\n",
    "* 配列と辞書と表 (テーブル)\n",
    "     - データの定義と参照\n",
    "     - リストのソート\n",
    "* 次回\n",
    "    - 古代メソポタミアの人々は何故60進法を"
   ]
  },
  {
   "cell_type": "markdown",
   "id": "aab9dc4a",
   "metadata": {},
   "source": []
  }
 ],
 "metadata": {
  "kernelspec": {
   "display_name": "Python 3 (ipykernel)",
   "language": "python",
   "name": "python3"
  },
  "language_info": {
   "codemirror_mode": {
    "name": "ipython",
    "version": 3
   },
   "file_extension": ".py",
   "mimetype": "text/x-python",
   "name": "python",
   "nbconvert_exporter": "python",
   "pygments_lexer": "ipython3",
   "version": "3.10.10"
  }
 },
 "nbformat": 4,
 "nbformat_minor": 5
}
