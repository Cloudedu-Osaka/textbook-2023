{
 "cells": [
  {
   "cell_type": "markdown",
   "id": "767dc7ff-a8f0-4459-8795-bfbbca8fea21",
   "metadata": {},
   "source": [
    "# データ構造に依存するプログラミング"
   ]
  },
  {
   "cell_type": "markdown",
   "id": "cb0dd74b-9dcb-48b9-b44b-c6622cf95e76",
   "metadata": {
    "tags": []
   },
   "source": [
    "## ローマ数字を変換する\n",
    "\n",
    "* [Roman numerals - Wikipedia](https://en.wikipedia.org/wiki/Roman_numerals)"
   ]
  },
  {
   "cell_type": "markdown",
   "id": "9575fe5e-2266-44fd-acb8-cab4150b7657",
   "metadata": {},
   "source": [
    "### Wikipediaのデータを活用する"
   ]
  },
  {
   "cell_type": "markdown",
   "id": "6fb7c423-92ae-4b60-a7ac-f51ba0996f71",
   "metadata": {},
   "source": [
    "pandasのライブラリ関数 `read_html()` を使ってWikipediaの表を読み込む:\n",
    "\n",
    "* [Web scraping - Wikipedia](https://en.wikipedia.org/wiki/Web_scraping)\n",
    "    - [pandas.read_html — pandas 2.0.1 documentation](https://pandas.pydata.org/docs/reference/api/pandas.read_html.html)"
   ]
  },
  {
   "cell_type": "code",
   "execution_count": 2,
   "id": "cfb52dfe-3d5a-4a24-97bc-09134c3bd62d",
   "metadata": {
    "tags": []
   },
   "outputs": [],
   "source": [
    "import pandas as pd\n",
    "tables = pd.read_html('https://en.wikipedia.org/wiki/Roman_numerals')"
   ]
  },
  {
   "cell_type": "code",
   "execution_count": 6,
   "id": "7b7294e0-ba6c-4821-b273-c110ed8398f1",
   "metadata": {
    "tags": []
   },
   "outputs": [
    {
     "data": {
      "text/html": [
       "<div>\n",
       "<style scoped>\n",
       "    .dataframe tbody tr th:only-of-type {\n",
       "        vertical-align: middle;\n",
       "    }\n",
       "\n",
       "    .dataframe tbody tr th {\n",
       "        vertical-align: top;\n",
       "    }\n",
       "\n",
       "    .dataframe thead th {\n",
       "        text-align: right;\n",
       "    }\n",
       "</style>\n",
       "<table border=\"1\" class=\"dataframe\">\n",
       "  <thead>\n",
       "    <tr style=\"text-align: right;\">\n",
       "      <th></th>\n",
       "      <th>0</th>\n",
       "    </tr>\n",
       "  </thead>\n",
       "  <tbody>\n",
       "    <tr>\n",
       "      <th>0</th>\n",
       "      <td>Hindu-Arabic numerals Western Arabic Eastern A...</td>\n",
       "    </tr>\n",
       "    <tr>\n",
       "      <th>1</th>\n",
       "      <td>East Asian systems Contemporary Chinese Suzhou...</td>\n",
       "    </tr>\n",
       "    <tr>\n",
       "      <th>2</th>\n",
       "      <td>Other systems History Ancient Babylonian Post-...</td>\n",
       "    </tr>\n",
       "    <tr>\n",
       "      <th>3</th>\n",
       "      <td>By radix/base Common radices/bases 2 3 4 5 6 8...</td>\n",
       "    </tr>\n",
       "  </tbody>\n",
       "</table>\n",
       "</div>"
      ],
      "text/plain": [
       "                                                   0\n",
       "0  Hindu-Arabic numerals Western Arabic Eastern A...\n",
       "1  East Asian systems Contemporary Chinese Suzhou...\n",
       "2  Other systems History Ancient Babylonian Post-...\n",
       "3  By radix/base Common radices/bases 2 3 4 5 6 8..."
      ]
     },
     "execution_count": 6,
     "metadata": {},
     "output_type": "execute_result"
    }
   ],
   "source": [
    "tables[1]"
   ]
  },
  {
   "cell_type": "markdown",
   "id": "b9657d04-4370-4034-9573-1dbbff8b79b4",
   "metadata": {
    "tags": []
   },
   "source": [
    "読み込んだデータがそのまま使えないこともある。その場合は修正する:"
   ]
  },
  {
   "cell_type": "code",
   "execution_count": 7,
   "id": "04378b09-ca6c-4440-aedc-e65d9b57d8ef",
   "metadata": {
    "tags": []
   },
   "outputs": [
    {
     "data": {
      "text/html": [
       "<div>\n",
       "<style scoped>\n",
       "    .dataframe tbody tr th:only-of-type {\n",
       "        vertical-align: middle;\n",
       "    }\n",
       "\n",
       "    .dataframe tbody tr th {\n",
       "        vertical-align: top;\n",
       "    }\n",
       "\n",
       "    .dataframe thead th {\n",
       "        text-align: right;\n",
       "    }\n",
       "</style>\n",
       "<table border=\"1\" class=\"dataframe\">\n",
       "  <thead>\n",
       "    <tr style=\"text-align: right;\">\n",
       "      <th></th>\n",
       "      <th>0</th>\n",
       "      <th>1</th>\n",
       "      <th>2</th>\n",
       "      <th>3</th>\n",
       "      <th>4</th>\n",
       "      <th>5</th>\n",
       "      <th>6</th>\n",
       "    </tr>\n",
       "  </thead>\n",
       "  <tbody>\n",
       "    <tr>\n",
       "      <th>0</th>\n",
       "      <td>.mw-parser-output .roman-numeral{font-family:\"...</td>\n",
       "      <td>V</td>\n",
       "      <td>X</td>\n",
       "      <td>L</td>\n",
       "      <td>C</td>\n",
       "      <td>D</td>\n",
       "      <td>M</td>\n",
       "    </tr>\n",
       "    <tr>\n",
       "      <th>1</th>\n",
       "      <td>1</td>\n",
       "      <td>5</td>\n",
       "      <td>10</td>\n",
       "      <td>50</td>\n",
       "      <td>100</td>\n",
       "      <td>500</td>\n",
       "      <td>1000</td>\n",
       "    </tr>\n",
       "  </tbody>\n",
       "</table>\n",
       "</div>"
      ],
      "text/plain": [
       "                                                   0  1   2   3    4    5   \n",
       "0  .mw-parser-output .roman-numeral{font-family:\"...  V   X   L    C    D  \\\n",
       "1                                                  1  5  10  50  100  500   \n",
       "\n",
       "      6  \n",
       "0     M  \n",
       "1  1000  "
      ]
     },
     "execution_count": 7,
     "metadata": {},
     "output_type": "execute_result"
    }
   ],
   "source": [
    "df1 = tables[2]\n",
    "df1"
   ]
  },
  {
   "cell_type": "code",
   "execution_count": 8,
   "id": "d221c211-d36f-481d-8fb2-489c3bcbb3d5",
   "metadata": {
    "tags": []
   },
   "outputs": [
    {
     "data": {
      "text/plain": [
       "Index([0, 1, 2, 3, 4, 5, 6], dtype='int64')"
      ]
     },
     "execution_count": 8,
     "metadata": {},
     "output_type": "execute_result"
    }
   ],
   "source": [
    "df1.columns"
   ]
  },
  {
   "cell_type": "code",
   "execution_count": 9,
   "id": "06dccbcd-8586-43e6-b4a5-3f7a6458e707",
   "metadata": {
    "tags": []
   },
   "outputs": [
    {
     "data": {
      "text/plain": [
       "'.mw-parser-output .roman-numeral{font-family:\"Nimbus Roman No9 L\",\"Times New Roman\",Times,serif;font-size:118%;line-height:1}.mw-parser-output .roman-numeral-a{border:1px solid}.mw-parser-output .roman-numeral-t{border-top:1px solid}.mw-parser-output .roman-numeral-v{border:solid;border-width:0 1px;padding:0 2px}.mw-parser-output .roman-numeral-h{border:solid;border-width:1px 0}.mw-parser-output .roman-numeral-tv{border:1px solid;border-bottom:none;padding:0 2px}I'"
      ]
     },
     "execution_count": 9,
     "metadata": {},
     "output_type": "execute_result"
    }
   ],
   "source": [
    "df1[0][0]"
   ]
  },
  {
   "cell_type": "code",
   "execution_count": 6,
   "id": "3ff50160",
   "metadata": {
    "tags": []
   },
   "outputs": [],
   "source": [
    "df1[0][0] = 'I'"
   ]
  },
  {
   "cell_type": "code",
   "execution_count": 7,
   "id": "93f03095-1613-4d8c-a04f-e861a9ce7a29",
   "metadata": {
    "tags": []
   },
   "outputs": [
    {
     "data": {
      "text/html": [
       "<div>\n",
       "<style scoped>\n",
       "    .dataframe tbody tr th:only-of-type {\n",
       "        vertical-align: middle;\n",
       "    }\n",
       "\n",
       "    .dataframe tbody tr th {\n",
       "        vertical-align: top;\n",
       "    }\n",
       "\n",
       "    .dataframe thead th {\n",
       "        text-align: right;\n",
       "    }\n",
       "</style>\n",
       "<table border=\"1\" class=\"dataframe\">\n",
       "  <thead>\n",
       "    <tr style=\"text-align: right;\">\n",
       "      <th></th>\n",
       "      <th>0</th>\n",
       "      <th>1</th>\n",
       "      <th>2</th>\n",
       "      <th>3</th>\n",
       "      <th>4</th>\n",
       "      <th>5</th>\n",
       "      <th>6</th>\n",
       "    </tr>\n",
       "  </thead>\n",
       "  <tbody>\n",
       "    <tr>\n",
       "      <th>0</th>\n",
       "      <td>I</td>\n",
       "      <td>V</td>\n",
       "      <td>X</td>\n",
       "      <td>L</td>\n",
       "      <td>C</td>\n",
       "      <td>D</td>\n",
       "      <td>M</td>\n",
       "    </tr>\n",
       "    <tr>\n",
       "      <th>1</th>\n",
       "      <td>1</td>\n",
       "      <td>5</td>\n",
       "      <td>10</td>\n",
       "      <td>50</td>\n",
       "      <td>100</td>\n",
       "      <td>500</td>\n",
       "      <td>1000</td>\n",
       "    </tr>\n",
       "  </tbody>\n",
       "</table>\n",
       "</div>"
      ],
      "text/plain": [
       "   0  1   2   3    4    5     6\n",
       "0  I  V   X   L    C    D     M\n",
       "1  1  5  10  50  100  500  1000"
      ]
     },
     "execution_count": 7,
     "metadata": {},
     "output_type": "execute_result"
    }
   ],
   "source": [
    "df1"
   ]
  },
  {
   "cell_type": "markdown",
   "id": "b84f9bd2-1cf9-4da9-805b-d2adf30c1e1e",
   "metadata": {},
   "source": [
    "表を参照してローマ数字を変換するプログラムを書く:\n",
    "* `index` (行番号) を設定し直す\n",
    "* 表形式のままでもプログラムは書けるが、JSON形式を経由して辞書形式に変換する"
   ]
  },
  {
   "cell_type": "code",
   "execution_count": 9,
   "id": "68a98a35-97af-4ed4-9782-7208187a10bd",
   "metadata": {
    "tags": []
   },
   "outputs": [
    {
     "data": {
      "text/html": [
       "<div>\n",
       "<style scoped>\n",
       "    .dataframe tbody tr th:only-of-type {\n",
       "        vertical-align: middle;\n",
       "    }\n",
       "\n",
       "    .dataframe tbody tr th {\n",
       "        vertical-align: top;\n",
       "    }\n",
       "\n",
       "    .dataframe thead th {\n",
       "        text-align: right;\n",
       "    }\n",
       "</style>\n",
       "<table border=\"1\" class=\"dataframe\">\n",
       "  <thead>\n",
       "    <tr style=\"text-align: right;\">\n",
       "      <th></th>\n",
       "      <th>Unnamed: 0</th>\n",
       "      <th>Thousands</th>\n",
       "      <th>Hundreds</th>\n",
       "      <th>Tens</th>\n",
       "      <th>Units</th>\n",
       "    </tr>\n",
       "  </thead>\n",
       "  <tbody>\n",
       "    <tr>\n",
       "      <th>0</th>\n",
       "      <td>1</td>\n",
       "      <td>M</td>\n",
       "      <td>C</td>\n",
       "      <td>X</td>\n",
       "      <td>I</td>\n",
       "    </tr>\n",
       "    <tr>\n",
       "      <th>1</th>\n",
       "      <td>2</td>\n",
       "      <td>MM</td>\n",
       "      <td>CC</td>\n",
       "      <td>XX</td>\n",
       "      <td>II</td>\n",
       "    </tr>\n",
       "    <tr>\n",
       "      <th>2</th>\n",
       "      <td>3</td>\n",
       "      <td>MMM</td>\n",
       "      <td>CCC</td>\n",
       "      <td>XXX</td>\n",
       "      <td>III</td>\n",
       "    </tr>\n",
       "    <tr>\n",
       "      <th>3</th>\n",
       "      <td>4</td>\n",
       "      <td>NaN</td>\n",
       "      <td>CD</td>\n",
       "      <td>XL</td>\n",
       "      <td>IV</td>\n",
       "    </tr>\n",
       "    <tr>\n",
       "      <th>4</th>\n",
       "      <td>5</td>\n",
       "      <td>NaN</td>\n",
       "      <td>D</td>\n",
       "      <td>L</td>\n",
       "      <td>V</td>\n",
       "    </tr>\n",
       "    <tr>\n",
       "      <th>5</th>\n",
       "      <td>6</td>\n",
       "      <td>NaN</td>\n",
       "      <td>DC</td>\n",
       "      <td>LX</td>\n",
       "      <td>VI</td>\n",
       "    </tr>\n",
       "    <tr>\n",
       "      <th>6</th>\n",
       "      <td>7</td>\n",
       "      <td>NaN</td>\n",
       "      <td>DCC</td>\n",
       "      <td>LXX</td>\n",
       "      <td>VII</td>\n",
       "    </tr>\n",
       "    <tr>\n",
       "      <th>7</th>\n",
       "      <td>8</td>\n",
       "      <td>NaN</td>\n",
       "      <td>DCCC</td>\n",
       "      <td>LXXX</td>\n",
       "      <td>VIII</td>\n",
       "    </tr>\n",
       "    <tr>\n",
       "      <th>8</th>\n",
       "      <td>9</td>\n",
       "      <td>NaN</td>\n",
       "      <td>CM</td>\n",
       "      <td>XC</td>\n",
       "      <td>IX</td>\n",
       "    </tr>\n",
       "  </tbody>\n",
       "</table>\n",
       "</div>"
      ],
      "text/plain": [
       "   Unnamed: 0 Thousands Hundreds  Tens Units\n",
       "0           1         M        C     X     I\n",
       "1           2        MM       CC    XX    II\n",
       "2           3       MMM      CCC   XXX   III\n",
       "3           4       NaN       CD    XL    IV\n",
       "4           5       NaN        D     L     V\n",
       "5           6       NaN       DC    LX    VI\n",
       "6           7       NaN      DCC   LXX   VII\n",
       "7           8       NaN     DCCC  LXXX  VIII\n",
       "8           9       NaN       CM    XC    IX"
      ]
     },
     "execution_count": 9,
     "metadata": {},
     "output_type": "execute_result"
    }
   ],
   "source": [
    "df2 = tables[3]\n",
    "df2"
   ]
  },
  {
   "cell_type": "code",
   "execution_count": 10,
   "id": "21909938-003a-4365-b96c-c34004890803",
   "metadata": {
    "tags": []
   },
   "outputs": [
    {
     "data": {
      "text/html": [
       "<div>\n",
       "<style scoped>\n",
       "    .dataframe tbody tr th:only-of-type {\n",
       "        vertical-align: middle;\n",
       "    }\n",
       "\n",
       "    .dataframe tbody tr th {\n",
       "        vertical-align: top;\n",
       "    }\n",
       "\n",
       "    .dataframe thead th {\n",
       "        text-align: right;\n",
       "    }\n",
       "</style>\n",
       "<table border=\"1\" class=\"dataframe\">\n",
       "  <thead>\n",
       "    <tr style=\"text-align: right;\">\n",
       "      <th></th>\n",
       "      <th>Thousands</th>\n",
       "      <th>Hundreds</th>\n",
       "      <th>Tens</th>\n",
       "      <th>Units</th>\n",
       "    </tr>\n",
       "    <tr>\n",
       "      <th>index</th>\n",
       "      <th></th>\n",
       "      <th></th>\n",
       "      <th></th>\n",
       "      <th></th>\n",
       "    </tr>\n",
       "  </thead>\n",
       "  <tbody>\n",
       "    <tr>\n",
       "      <th>1</th>\n",
       "      <td>M</td>\n",
       "      <td>C</td>\n",
       "      <td>X</td>\n",
       "      <td>I</td>\n",
       "    </tr>\n",
       "    <tr>\n",
       "      <th>2</th>\n",
       "      <td>MM</td>\n",
       "      <td>CC</td>\n",
       "      <td>XX</td>\n",
       "      <td>II</td>\n",
       "    </tr>\n",
       "    <tr>\n",
       "      <th>3</th>\n",
       "      <td>MMM</td>\n",
       "      <td>CCC</td>\n",
       "      <td>XXX</td>\n",
       "      <td>III</td>\n",
       "    </tr>\n",
       "    <tr>\n",
       "      <th>4</th>\n",
       "      <td>NaN</td>\n",
       "      <td>CD</td>\n",
       "      <td>XL</td>\n",
       "      <td>IV</td>\n",
       "    </tr>\n",
       "    <tr>\n",
       "      <th>5</th>\n",
       "      <td>NaN</td>\n",
       "      <td>D</td>\n",
       "      <td>L</td>\n",
       "      <td>V</td>\n",
       "    </tr>\n",
       "    <tr>\n",
       "      <th>6</th>\n",
       "      <td>NaN</td>\n",
       "      <td>DC</td>\n",
       "      <td>LX</td>\n",
       "      <td>VI</td>\n",
       "    </tr>\n",
       "    <tr>\n",
       "      <th>7</th>\n",
       "      <td>NaN</td>\n",
       "      <td>DCC</td>\n",
       "      <td>LXX</td>\n",
       "      <td>VII</td>\n",
       "    </tr>\n",
       "    <tr>\n",
       "      <th>8</th>\n",
       "      <td>NaN</td>\n",
       "      <td>DCCC</td>\n",
       "      <td>LXXX</td>\n",
       "      <td>VIII</td>\n",
       "    </tr>\n",
       "    <tr>\n",
       "      <th>9</th>\n",
       "      <td>NaN</td>\n",
       "      <td>CM</td>\n",
       "      <td>XC</td>\n",
       "      <td>IX</td>\n",
       "    </tr>\n",
       "  </tbody>\n",
       "</table>\n",
       "</div>"
      ],
      "text/plain": [
       "      Thousands Hundreds  Tens Units\n",
       "index                               \n",
       "1             M        C     X     I\n",
       "2            MM       CC    XX    II\n",
       "3           MMM      CCC   XXX   III\n",
       "4           NaN       CD    XL    IV\n",
       "5           NaN        D     L     V\n",
       "6           NaN       DC    LX    VI\n",
       "7           NaN      DCC   LXX   VII\n",
       "8           NaN     DCCC  LXXX  VIII\n",
       "9           NaN       CM    XC    IX"
      ]
     },
     "execution_count": 10,
     "metadata": {},
     "output_type": "execute_result"
    }
   ],
   "source": [
    "df_new = df2.rename(columns={'Unnamed: 0':'index'}).set_index('index')\n",
    "df_new"
   ]
  },
  {
   "cell_type": "markdown",
   "id": "ad43d9d4-a434-4fbe-b8fb-bebef29b682c",
   "metadata": {},
   "source": [
    "* [NaN - Wikipedia](https://en.wikipedia.org/wiki/NaN)\n",
    "    - [Working with missing data — pandas 2.0.1 documentation](https://pandas.pydata.org/docs/user_guide/missing_data.html)"
   ]
  },
  {
   "cell_type": "code",
   "execution_count": 14,
   "id": "fa1e1c0e-946f-47b0-933f-7677a2390235",
   "metadata": {
    "tags": []
   },
   "outputs": [
    {
     "data": {
      "text/plain": [
       "'{\"Thousands\":{\"1\":\"M\",\"2\":\"MM\",\"3\":\"MMM\",\"4\":null,\"5\":null,\"6\":null,\"7\":null,\"8\":null,\"9\":null},\"Hundreds\":{\"1\":\"C\",\"2\":\"CC\",\"3\":\"CCC\",\"4\":\"CD\",\"5\":\"D\",\"6\":\"DC\",\"7\":\"DCC\",\"8\":\"DCCC\",\"9\":\"CM\"},\"Tens\":{\"1\":\"X\",\"2\":\"XX\",\"3\":\"XXX\",\"4\":\"XL\",\"5\":\"L\",\"6\":\"LX\",\"7\":\"LXX\",\"8\":\"LXXX\",\"9\":\"XC\"},\"Units\":{\"1\":\"I\",\"2\":\"II\",\"3\":\"III\",\"4\":\"IV\",\"5\":\"V\",\"6\":\"VI\",\"7\":\"VII\",\"8\":\"VIII\",\"9\":\"IX\"}}'"
      ]
     },
     "execution_count": 14,
     "metadata": {},
     "output_type": "execute_result"
    }
   ],
   "source": [
    "df_new.to_json()"
   ]
  },
  {
   "cell_type": "code",
   "execution_count": 23,
   "id": "4b592a39-2cf5-4f92-b328-71c646c2817c",
   "metadata": {
    "tags": []
   },
   "outputs": [],
   "source": [
    "import json"
   ]
  },
  {
   "cell_type": "code",
   "execution_count": 34,
   "id": "5b5a94e4-ac53-4d78-9257-7d10e9870f77",
   "metadata": {
    "tags": []
   },
   "outputs": [
    {
     "name": "stdout",
     "output_type": "stream",
     "text": [
      "{\n",
      "    \"Thousands\": {\n",
      "        \"1\": \"M\",\n",
      "        \"2\": \"MM\",\n",
      "        \"3\": \"MMM\",\n",
      "        \"4\": null,\n",
      "        \"5\": null,\n",
      "        \"6\": null,\n",
      "        \"7\": null,\n",
      "        \"8\": null,\n",
      "        \"9\": null\n",
      "    },\n",
      "    \"Hundreds\": {\n",
      "        \"1\": \"C\",\n",
      "        \"2\": \"CC\",\n",
      "        \"3\": \"CCC\",\n",
      "        \"4\": \"CD\",\n",
      "        \"5\": \"D\",\n",
      "        \"6\": \"DC\",\n",
      "        \"7\": \"DCC\",\n",
      "        \"8\": \"DCCC\",\n",
      "        \"9\": \"CM\"\n",
      "    },\n",
      "    \"Tens\": {\n",
      "        \"1\": \"X\",\n",
      "        \"2\": \"XX\",\n",
      "        \"3\": \"XXX\",\n",
      "        \"4\": \"XL\",\n",
      "        \"5\": \"L\",\n",
      "        \"6\": \"LX\",\n",
      "        \"7\": \"LXX\",\n",
      "        \"8\": \"LXXX\",\n",
      "        \"9\": \"XC\"\n",
      "    },\n",
      "    \"Units\": {\n",
      "        \"1\": \"I\",\n",
      "        \"2\": \"II\",\n",
      "        \"3\": \"III\",\n",
      "        \"4\": \"IV\",\n",
      "        \"5\": \"V\",\n",
      "        \"6\": \"VI\",\n",
      "        \"7\": \"VII\",\n",
      "        \"8\": \"VIII\",\n",
      "        \"9\": \"IX\"\n",
      "    }\n",
      "}\n"
     ]
    }
   ],
   "source": [
    "df_json = json.loads((df_new.to_json()))\n",
    "print(json.dumps(df_json, indent=4))"
   ]
  },
  {
   "cell_type": "code",
   "execution_count": 35,
   "id": "1f7fc010-f1d9-4abf-8428-d736f3491410",
   "metadata": {
    "tags": []
   },
   "outputs": [
    {
     "data": {
      "text/markdown": [
       "Pythonの辞書を以下のように作成できます。\n",
       "\n",
       "```python\n",
       "roman_dict = {\n",
       "    \"Thousands\": {\n",
       "        \"1\": \"M\",\n",
       "        \"2\": \"MM\",\n",
       "        \"3\": \"MMM\",\n",
       "        \"4\": None,\n",
       "        \"5\": None,\n",
       "        \"6\": None,\n",
       "        \"7\": None,\n",
       "        \"8\": None,\n",
       "        \"9\": None\n",
       "    },\n",
       "    \"Hundreds\": {\n",
       "        \"1\": \"C\",\n",
       "        \"2\": \"CC\",\n",
       "        \"3\": \"CCC\",\n",
       "        \"4\": \"CD\",\n",
       "        \"5\": \"D\",\n",
       "        \"6\": \"DC\",\n",
       "        \"7\": \"DCC\",\n",
       "        \"8\": \"DCCC\",\n",
       "        \"9\": \"CM\"\n",
       "    },\n",
       "    \"Tens\": {\n",
       "        \"1\": \"X\",\n",
       "        \"2\": \"XX\",\n",
       "        \"3\": \"XXX\",\n",
       "        \"4\": \"XL\",\n",
       "        \"5\": \"L\",\n",
       "        \"6\": \"LX\",\n",
       "        \"7\": \"LXX\",\n",
       "        \"8\": \"LXXX\",\n",
       "        \"9\": \"XC\"\n",
       "    },\n",
       "    \"Units\": {\n",
       "        \"1\": \"I\",\n",
       "        \"2\": \"II\",\n",
       "        \"3\": \"III\",\n",
       "        \"4\": \"IV\",\n",
       "        \"5\": \"V\",\n",
       "        \"6\": \"VI\",\n",
       "        \"7\": \"VII\",\n",
       "        \"8\": \"VIII\",\n",
       "        \"9\": \"IX\"\n",
       "    }\n",
       "}\n",
       "```\n",
       "\n",
       "この辞書を使って、例えば「3,456」をローマ数字に変換する場合は、以下のようになります。\n",
       "\n",
       "```python\n",
       "thousands = roman_dict[\"Thousands\"][\"3\"]\n",
       "hundreds = roman_dict[\"Hundreds\"][\"4\"]\n",
       "tens = roman_dict[\"Tens\"][\"5\"]\n",
       "units = roman_dict[\"Units\"][\"6\"]\n",
       "roman_numeral = thousands + hundreds + tens + units\n",
       "print(roman_numeral) # 結果: \"MMMCDLVI\"\n",
       "```"
      ],
      "text/plain": [
       "<IPython.core.display.Markdown object>"
      ]
     },
     "metadata": {},
     "output_type": "display_data"
    }
   ],
   "source": [
    "%%ai_ask\n",
    "次の表を10進数をローマ数字に変換するときに使うPythonの辞書に変換してください\n",
    "```json\n",
    "{\n",
    "    \"Thousands\": {\n",
    "        \"1\": \"M\",\n",
    "        \"2\": \"MM\",\n",
    "        \"3\": \"MMM\",\n",
    "        \"4\": null,\n",
    "        \"5\": null,\n",
    "        \"6\": null,\n",
    "        \"7\": null,\n",
    "        \"8\": null,\n",
    "        \"9\": null\n",
    "    },\n",
    "    \"Hundreds\": {\n",
    "        \"1\": \"C\",\n",
    "        \"2\": \"CC\",\n",
    "        \"3\": \"CCC\",\n",
    "        \"4\": \"CD\",\n",
    "        \"5\": \"D\",\n",
    "        \"6\": \"DC\",\n",
    "        \"7\": \"DCC\",\n",
    "        \"8\": \"DCCC\",\n",
    "        \"9\": \"CM\"\n",
    "    },\n",
    "    \"Tens\": {\n",
    "        \"1\": \"X\",\n",
    "        \"2\": \"XX\",\n",
    "        \"3\": \"XXX\",\n",
    "        \"4\": \"XL\",\n",
    "        \"5\": \"L\",\n",
    "        \"6\": \"LX\",\n",
    "        \"7\": \"LXX\",\n",
    "        \"8\": \"LXXX\",\n",
    "        \"9\": \"XC\"\n",
    "    },\n",
    "    \"Units\": {\n",
    "        \"1\": \"I\",\n",
    "        \"2\": \"II\",\n",
    "        \"3\": \"III\",\n",
    "        \"4\": \"IV\",\n",
    "        \"5\": \"V\",\n",
    "        \"6\": \"VI\",\n",
    "        \"7\": \"VII\",\n",
    "        \"8\": \"VIII\",\n",
    "        \"9\": \"IX\"\n",
    "    }\n",
    "}\n",
    "```"
   ]
  }
 ],
 "metadata": {
  "kernelspec": {
   "display_name": "Python 3 (ipykernel)",
   "language": "python",
   "name": "python3"
  },
  "language_info": {
   "codemirror_mode": {
    "name": "ipython",
    "version": 3
   },
   "file_extension": ".py",
   "mimetype": "text/x-python",
   "name": "python",
   "nbconvert_exporter": "python",
   "pygments_lexer": "ipython3",
   "version": "3.10.10"
  }
 },
 "nbformat": 4,
 "nbformat_minor": 5
}
