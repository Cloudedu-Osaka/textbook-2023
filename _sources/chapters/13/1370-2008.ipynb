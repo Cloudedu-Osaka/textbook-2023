{
 "cells": [
  {
   "cell_type": "markdown",
   "id": "3260d0ff-dd27-4a01-ac5e-94fdaf914863",
   "metadata": {},
   "source": [
    "# 2008年度 大学入学共通テスト 情報関係基礎から"
   ]
  },
  {
   "cell_type": "markdown",
   "id": "b033e389-dd79-4c59-8a58-5593bc5f72cb",
   "metadata": {},
   "source": [
    "## 題材: バブルソート\n",
    "\n",
    "|if |else|elif|前条件ループ|後条件ループ|for|条件演算|switch|一次元配列|二次元配列|配列初期化|\n",
    "|:-:|----|----|----------|:-:       |:-:|------|------|:-:      |---------|--------|\n",
    "|◯  |    |    |          |◯         |◯  |      |      |◯        |         |        |"
   ]
  },
  {
   "cell_type": "markdown",
   "id": "515a4a72-1a8a-477f-bee6-699708b34d6d",
   "metadata": {},
   "source": [
    "## 情報処理学 問題作成部会の見解\n",
    "\n",
    "* プログラミングを通じた論理的思考力を問う選択問題として出題して、3年目となる。\n",
    "  高等学校でのプログラミング実習量が異なることを考慮し、四則演算や配列操作を中心にして、\n",
    "  与えられた条件や手続きからアルゴリズムの動作を理解する能力を問う方針で作題している。\n",
    "* 今回の出題は、バブルソートを用いた「並べ替え」を取り上げた。並べ替えの際には、\n",
    "  単に値だけを並べ替えるのではなく、名前も同時に並べ替えるようにした。\n",
    "  導入部分は、受験者が選択しやすいように、並べ替えの様子を図示してルールが理解しやすいように配慮した。\n",
    "  説明部分の文書量が多いため、受験者が理解しやすいように平易な表現に努めた。\n",
    "  また、処理手順の記述は、特定のプログラミング言語を出題に用いることにより生じる不公平を避けるため、\n",
    "  制限された構文を持つ日本語表記の言語を用いた。"
   ]
  },
  {
   "cell_type": "markdown",
   "id": "055fe36a-6ca9-48b5-9bdb-4b409852cca3",
   "metadata": {},
   "source": [
    "### 問1\n",
    "- 「並べ替え」の手順の理解を問う導入問題である。\n",
    "   手順の説明に続き、それを実際に用いて4人の並べ替えを行う様子を追跡できることを問う設問としている。\n",
    "- 【ア】・【イ】は並べ替えの初期段階に近い部分で、\n",
    " 処理の対象となる人を答える易しい設問であるため9割程度の正答率を予想した。いずれも正答率は予想どおりであった。\n",
    "- 【ウ】は並べ替えがある程度進んだ状態で処理の対象となる人を答える問題であり、若干難しいと判断して8割程度の正答率を予想したが、\n",
    "  実際には9割程度の正答率だったため予想よりも受験者にとって易しい設問となっていた。"
   ]
  },
  {
   "cell_type": "markdown",
   "id": "697880aa-4868-49ea-b99c-20ff4f95584a",
   "metadata": {},
   "source": [
    "![fig-21](./fig-21.png)"
   ]
  },
  {
   "cell_type": "markdown",
   "id": "07cbb201-b3b2-40e2-947a-d1f1f1f47100",
   "metadata": {},
   "source": [
    "![fig-22](./fig-22.png)"
   ]
  },
  {
   "cell_type": "markdown",
   "id": "d75d3102-4092-439a-9fd0-87932365559b",
   "metadata": {},
   "source": [
    "|問題番号 (配点)|設問|解答記号|正解|配点|備考|\n",
    "|:-:          |:-:|:-:    |:-:|:-:|----|\n",
    "|第３問 (35)   |1  |ア| 0| 2|はるこ|\n",
    "|             |   |イ|2 | 2|あきよ|\n",
    "|             |   |ウ|2 | 2|あきよ|"
   ]
  },
  {
   "cell_type": "markdown",
   "id": "5eb3a8a3-1b42-4bc1-9d6e-7e0250be9208",
   "metadata": {
    "tags": []
   },
   "source": [
    "### 問2\n",
    "- 問1で説明した「並べ替え」を実際に手順に変換する方法について考える問題である。\n",
    "  要素を入れ替える手順を問う【エ】~【キ】は予想よりも若干低い7割弱の正答率であった。\n",
    "- 【カ】・【キ】よりも【エ】・【オ】の方が低い正答率となったのは、\n",
    "  名前と得点の両方を入れ替える必要があることが理解しづらかったのではないかと考える。\n",
    "- 【ク】の二重ループの内側のループの終了条件を問う問題は、5割程度の正答率を予想していたにもかかわらず、\n",
    "  3割弱しか正解しなかった。二重ループで、表全体を走査するような使い方では、外側と内側の両方が固定回数になるが、\n",
    "  今回の設問のようにすべての組合せを試すような場合には、内側のループの終了条件は外側のループ変数を用いたものとなる。\n",
    "  このような形式のループ構造に受験者が慣れていなかったことがうかがえる。"
   ]
  },
  {
   "cell_type": "markdown",
   "id": "70fe1e85-8671-4d90-a97a-de635c383b5d",
   "metadata": {},
   "source": [
    "![fig-23](./fig-23.png)"
   ]
  },
  {
   "cell_type": "markdown",
   "id": "a43885b9-15c9-4c1a-9e24-b0d06e5069fe",
   "metadata": {},
   "source": [
    "![fig-24](./fig-24.png)"
   ]
  },
  {
   "cell_type": "markdown",
   "id": "0dcf6e48-fd20-4fd9-a6f9-abd7aa3d3909",
   "metadata": {},
   "source": [
    "|問題番号 (配点)|設問|解答記号|正解|配点|備考|\n",
    "|:-:          |:-:|:-:    |:-:|:-:|----|\n",
    "|第３問 (35)   |2  |エ|0 | 3|```Name[i]```|\n",
    "|             |   |オ|2 | 3|```Name[i+1]```|\n",
    "|             |   |カ|3 | 3|```Tokuten[i]```|\n",
    "|             |   |キ|8 | 3|```t```|\n",
    "|             |   |ク|9 | 3|```j```|\n",
    "|             |   |ケ|5 | 3|```Tokuten[i+1]```|"
   ]
  },
  {
   "cell_type": "markdown",
   "id": "42385f0f-3110-407a-8a42-2ff68d9f6b42",
   "metadata": {},
   "source": [
    "### 問3\n",
    "- 並べ替えに必要な比較処理の回数を減らすためのアルゴリズムを示し、\n",
    "  その理解と、手続きへの変換方法について考える問題である。\n",
    "- アルゴリズムの理解を問う【コ】・【サ】は、図から読み取ることも可能であるため、\n",
    "  5割程度の正答率を予想していたが、実際には4割程度となった。また、アルゴリズムを理解していないと正解を見つけられない\n",
    "- 【ス】も2割程度しか正解していない。標準的なアルゴリズムをほんの少し変えただけのものであっても、\n",
    "  受験者にとっては難しい問題になってしまうことが分かる。"
   ]
  },
  {
   "cell_type": "markdown",
   "id": "0e63e4bb-9b8a-432d-98fa-3e15c6f568aa",
   "metadata": {},
   "source": [
    "![fig-25](./fig-25.png)"
   ]
  },
  {
   "cell_type": "markdown",
   "id": "1abc8f2d-39a9-491b-9d09-be5e16619254",
   "metadata": {},
   "source": [
    "![fig-26](./fig-26.png)"
   ]
  },
  {
   "cell_type": "markdown",
   "id": "0d0407e1-39cb-4036-8dfb-23b5191d409e",
   "metadata": {},
   "source": [
    "|問題番号 (配点)|設問|解答記号|正解|配点|備考|\n",
    "|:-:          |:-:|:-:    |:-:|:-:|----|\n",
    "|第３問 (35)   |3  |コ|4 | 2|```2```|\n",
    "|             |   |サ|3 | 3|```3```|\n",
    "|             |   |シ|4 | 3|```4```|\n",
    "|             |   |ス|5 | 3|```i```|\n"
   ]
  },
  {
   "cell_type": "markdown",
   "id": "ad01c094-a1ec-4ea6-a799-eaa8b5a36785",
   "metadata": {},
   "source": [
    "* 第3問の選択率は、昨年とほぼ同じ、約4割台半ばとなった。受験者の学科別に分析すると、\n",
    "  普通科約半数に比べ、工業科約7割、商業科約3割とそれぞれ偏る傾向があった。\n",
    "  これは高等学校段階での既習傾向に要因があると推測できる。\n",
    "* 第3問の平均得点率は、5割台後半程度と予想よりも若干低い結果となったが、\n",
    "  成績別の得点率は、ほぼ直線的な傾斜となっており、期待どおりの得点分布を示している。\n",
    "  このように、全体として第3問は、受験者の理解度の差により、ほぼ期待どおりの得点の分布を示す結果となった。"
   ]
  },
  {
   "cell_type": "markdown",
   "id": "b9e9f25b-898b-4fd4-ba05-dbb290dd0087",
   "metadata": {},
   "source": [
    "## ChatGPTで解答してみる"
   ]
  },
  {
   "cell_type": "markdown",
   "id": "49b2060e-1d4d-4bad-9c8c-b70b26250431",
   "metadata": {},
   "source": [
    "### 問2"
   ]
  },
  {
   "cell_type": "markdown",
   "id": "727eebfd-6c57-484e-8311-d699520a5f5a",
   "metadata": {},
   "source": [
    "![fig-23](./fig-23.png)"
   ]
  },
  {
   "cell_type": "code",
   "execution_count": 1,
   "id": "b88d304b-d466-4883-8307-fdd55b3b8283",
   "metadata": {
    "tags": []
   },
   "outputs": [
    {
     "data": {
      "text/markdown": [
       "Sure, I can help you with Python programming. What do you need assistance with?"
      ],
      "text/plain": [
       "<IPython.core.display.Markdown object>"
      ]
     },
     "metadata": {},
     "output_type": "display_data"
    }
   ],
   "source": [
    "%%ai_ask\n",
    "今らかpythonでプログラミングします"
   ]
  },
  {
   "cell_type": "code",
   "execution_count": 2,
   "id": "115ded82-c433-49e8-bf69-8de7249692e9",
   "metadata": {
    "tags": []
   },
   "outputs": [
    {
     "data": {
      "text/markdown": [
       "以下は、Pythonで配列を作成する方法です。\n",
       "\n",
       "```python\n",
       "Name = [\"はるこ\", \"なつお\", \"あきよ\", \"ふゆき\"]\n",
       "```\n",
       "\n",
       "このように、角括弧（[]）を使用して、配列の要素をカンマで区切って指定します。上記の例では、Nameという名前の配列に4つの要素が含まれています。"
      ],
      "text/plain": [
       "<IPython.core.display.Markdown object>"
      ]
     },
     "metadata": {},
     "output_type": "display_data"
    }
   ],
   "source": [
    "%%ai_continue\n",
    "配列Nameに (\"はるこ\", \"なつお\", \"あきよ\", \"ふゆき\") を登録します。"
   ]
  },
  {
   "cell_type": "code",
   "execution_count": 3,
   "id": "4918cebd-7a82-463a-8786-f68c65a6ee93",
   "metadata": {
    "tags": []
   },
   "outputs": [
    {
     "data": {
      "text/markdown": [
       "以下は、Pythonで2つの配列を作成する方法です。\n",
       "\n",
       "```python\n",
       "Name = [\"はるこ\", \"なつお\", \"あきよ\", \"ふゆき\"]\n",
       "Tokuten = [73, 77, 81, 68]\n",
       "```\n",
       "\n",
       "このように、それぞれの配列の要素をカンマで区切って指定します。上記の例では、Nameという名前の配列に4つの要素が含まれており、Tokutenという名前の配列にも4つの要素が含まれています。また、NameとTokutenの添字は対応していることが前提となっています。"
      ],
      "text/plain": [
       "<IPython.core.display.Markdown object>"
      ]
     },
     "metadata": {},
     "output_type": "display_data"
    }
   ],
   "source": [
    "%%ai_continue\n",
    "配列Tokutenに (73, 77, 81, 68) を登録します。NameとTokutenの添字は対応していることを覚えておいてください。"
   ]
  },
  {
   "cell_type": "code",
   "execution_count": 13,
   "id": "25ae7860-0b18-447d-9652-5fb6d55947df",
   "metadata": {
    "tags": []
   },
   "outputs": [],
   "source": [
    "Name = [\"はるこ\", \"なつお\", \"あきよ\", \"ふゆき\"]\n",
    "Tokuten = [73, 77, 81, 68]"
   ]
  },
  {
   "cell_type": "code",
   "execution_count": 15,
   "id": "e9aaa182-47b5-4009-9775-7edc4c21e880",
   "metadata": {
    "tags": []
   },
   "outputs": [
    {
     "data": {
      "text/plain": [
       "['はるこ', 'なつお', 'あきよ', 'ふゆき']"
      ]
     },
     "execution_count": 15,
     "metadata": {},
     "output_type": "execute_result"
    }
   ],
   "source": [
    "Name"
   ]
  },
  {
   "cell_type": "code",
   "execution_count": 16,
   "id": "2647fc74-2b4b-4d43-b372-681007553888",
   "metadata": {
    "tags": []
   },
   "outputs": [
    {
     "data": {
      "text/plain": [
       "[73, 77, 81, 68]"
      ]
     },
     "execution_count": 16,
     "metadata": {},
     "output_type": "execute_result"
    }
   ],
   "source": [
    "Tokuten"
   ]
  },
  {
   "cell_type": "markdown",
   "id": "f1b9c29a-ee18-41d6-a551-adf2321622d7",
   "metadata": {},
   "source": [
    "```\n",
    "(01) Namae[1] ← 「はるこ」，Tokuten[1] ← 73 \n",
    "(02) Namae[2] ← 「なつお」，Tokuten[2] ← 77\n",
    "(03) Namae[3] ← 「あきよ」，Tokuten[3] ← 81 \n",
    "(04) Namae[4] ← 「ふゆき」，Tokuten[4] ← 68\n",
    "```\n",
    "            図2 配列の要素を初期化する手続き"
   ]
  },
  {
   "cell_type": "code",
   "execution_count": 4,
   "id": "6f82398c-0186-4300-881d-4b5bc0302094",
   "metadata": {
    "tags": []
   },
   "outputs": [
    {
     "data": {
      "text/markdown": [
       "以下は、Pythonで2つの配列の要素を入れ替える方法です。\n",
       "\n",
       "```python\n",
       "# 配列Nameと配列Tokutenのi番目とi+1番目の要素を入れ替える\n",
       "for i in range(len(Name)-1):\n",
       "    Name[i], Name[i+1] = Name[i+1], Name[i]\n",
       "    Tokuten[i], Tokuten[i+1] = Tokuten[i+1], Tokuten[i]\n",
       "```\n",
       "\n",
       "このように、forループを使用して、配列の要素を順番に入れ替えます。上記の例では、NameとTokutenのi番目とi+1番目の要素を入れ替えています。注意点として、forループの範囲は、配列の要素数から1を引いた値になっています。これは、i+1番目の要素が存在しない場合に、エラーが発生するのを防ぐためです。"
      ],
      "text/plain": [
       "<IPython.core.display.Markdown object>"
      ]
     },
     "metadata": {},
     "output_type": "display_data"
    }
   ],
   "source": [
    "%%ai_continue\n",
    "配列Nameと配列Tokutenのi番目とi+1番目の要素を入れ替えてください。"
   ]
  },
  {
   "cell_type": "code",
   "execution_count": 5,
   "id": "a37e7d29-17a1-4de1-9a6a-b2eced172c1b",
   "metadata": {
    "tags": []
   },
   "outputs": [
    {
     "data": {
      "text/markdown": [
       "以下は、Pythonで指定した添字の要素を一時変数を使って入れ替える方法です。\n",
       "\n",
       "```python\n",
       "# 添字iの要素を一時変数を使って入れ替える\n",
       "i = 1  # 例として、i=1とします\n",
       "temp_name = Name[i]\n",
       "Name[i] = Name[i+1]\n",
       "Name[i+1] = temp_name\n",
       "\n",
       "temp_tokuten = Tokuten[i]\n",
       "Tokuten[i] = Tokuten[i+1]\n",
       "Tokuten[i+1] = temp_tokuten\n",
       "```\n",
       "\n",
       "このように、一時変数を使用して、指定した添字の要素を入れ替えます。上記の例では、i=1の場合を想定しています。一時変数を使用することで、要素の入れ替えがスムーズに行われます。"
      ],
      "text/plain": [
       "<IPython.core.display.Markdown object>"
      ]
     },
     "metadata": {},
     "output_type": "display_data"
    }
   ],
   "source": [
    "%%ai_continue\n",
    "ある添字iを指定したときに、配列Nameと配列Tokutenのi番目とi+1番目の要素をそれぞれ入れ替える手続きです。\n",
    "一時変数を使ってください。"
   ]
  },
  {
   "cell_type": "markdown",
   "id": "e9647d34-8fb3-43c5-b9b1-3094e587717a",
   "metadata": {},
   "source": [
    "```\n",
    "(01) n ← Namae[i]\n",
    "(02) [エ] ← [オ]\n",
    "(03) Namae[i+1] ← n \n",
    "(04) t ← [カ]\n",
    "(05) [カ] ← Tokuten[i+1]\n",
    "(06) Tokuten[i+1] ← [キ]\n",
    "```\n",
    "            図3 配列の要素を入れ替える手続き"
   ]
  },
  {
   "cell_type": "markdown",
   "id": "845d0b89-154c-4523-9ea2-35077c6d6714",
   "metadata": {
    "tags": []
   },
   "source": [
    "### 問2に関する問題作成部会の見解 (1of2)\n",
    "- 問1で説明した「並べ替え」を実際に手順に変換する方法について考える問題である。\n",
    "  要素を入れ替える手順を問う【エ】~【キ】は予想よりも若干低い7割弱の正答率であった。\n",
    "- 【カ】・【キ】よりも【エ】・【オ】の方が低い正答率となったのは、\n",
    "  名前と得点の両方を入れ替える必要があることが理解しづらかったのではないかと考える。"
   ]
  },
  {
   "cell_type": "markdown",
   "id": "b231ffe9-9540-4347-80a1-dbe4d80004ad",
   "metadata": {},
   "source": [
    "![fig-24](./fig-24.png)"
   ]
  },
  {
   "cell_type": "code",
   "execution_count": 6,
   "id": "34997d4e-1108-4023-9a60-9611adef7ec3",
   "metadata": {
    "tags": []
   },
   "outputs": [
    {
     "data": {
      "text/markdown": [
       "以下は、Pythonで配列をキーとして降順にソートする方法です。\n",
       "\n",
       "```python\n",
       "# 配列Tokutenをキーとして降順にソートする\n",
       "sorted_data = sorted(zip(Tokuten, Name), reverse=True)\n",
       "Tokuten, Name = zip(*sorted_data)\n",
       "```\n",
       "\n",
       "このように、zip関数を使用して、TokutenとNameの要素をペアにして、sorted関数で降順にソートします。そして、zip関数を再度使用して、TokutenとNameを別々の配列に戻します。上記の例では、sorted_dataという変数に、TokutenとNameのペアを降順にソートした結果が格納されます。そして、zip関数とアスタリスク（*）を使用して、sorted_dataをTokutenとNameに分解しています。"
      ],
      "text/plain": [
       "<IPython.core.display.Markdown object>"
      ]
     },
     "metadata": {},
     "output_type": "display_data"
    }
   ],
   "source": [
    "%%ai_continue\n",
    "配列Tokutenをキーとして降順にソートしてください。"
   ]
  },
  {
   "cell_type": "code",
   "execution_count": 7,
   "id": "ccb0a896-002a-4804-b430-337b365d4cda",
   "metadata": {
    "tags": []
   },
   "outputs": [
    {
     "data": {
      "text/markdown": [
       "以下は、Pythonでバブルソートを実装する方法です。\n",
       "\n",
       "```python\n",
       "# バブルソートで配列Tokutenをキーとして降順にソートする\n",
       "n = len(Tokuten)\n",
       "for i in range(n):\n",
       "    for j in range(n-i-1):\n",
       "        if Tokuten[j] < Tokuten[j+1]:\n",
       "            # 要素を入れ替える\n",
       "            temp_tokuten = Tokuten[j]\n",
       "            Tokuten[j] = Tokuten[j+1]\n",
       "            Tokuten[j+1] = temp_tokuten\n",
       "            temp_name = Name[j]\n",
       "            Name[j] = Name[j+1]\n",
       "            Name[j+1] = temp_name\n",
       "```\n",
       "\n",
       "このように、2重のforループを使用して、バブルソートを実装します。外側のforループは、配列の要素数分繰り返します。内側のforループは、配列の要素を比較して、必要に応じて入れ替えます。上記の例では、Tokutenをキーとして降順にソートしています。"
      ],
      "text/plain": [
       "<IPython.core.display.Markdown object>"
      ]
     },
     "metadata": {},
     "output_type": "display_data"
    }
   ],
   "source": [
    "%%ai_continue\n",
    "組み込み関数を使わず、バブルソートを実装してください。要素の入れ替えは、これまでに回答のあった手順を使ってください。"
   ]
  },
  {
   "cell_type": "markdown",
   "id": "1103dc4e-09a1-49c8-aed6-d4e3a16804e1",
   "metadata": {},
   "source": [
    "```\n",
    "(01) ~ (04) (図2 配列の要素を初期化する手続き) \n",
    "(05)        jを4-1から1まで1ずつ減らしながら，\n",
    "(06)        ｜ iを1から[ク]まで1ずつ増やしながら，\n",
    "(07)        ｜ ｜ もしTokuten[i] < [ケ] ならば\n",
    "(08) ~ (13) ｜ ｜ ｜ (図3 配列の要素を入れ替える手続き) \n",
    "(14)        ｜ ｜ を実行する\n",
    "(15)        ｜ を繰り返す\n",
    "(16)        を繰り返す\n",
    "```\n",
    "            図4 並べ替えの手続き"
   ]
  },
  {
   "cell_type": "code",
   "execution_count": 8,
   "id": "7fbfbc75-3df6-43a9-b099-456534f60368",
   "metadata": {
    "tags": []
   },
   "outputs": [],
   "source": [
    "Name = [\"はるこ\", \"なつお\", \"あきよ\", \"ふゆき\"]\n",
    "Tokuten = [73, 77, 81, 68]"
   ]
  },
  {
   "cell_type": "code",
   "execution_count": 9,
   "id": "75508c91-fbba-4450-ba0d-e7fde3425568",
   "metadata": {
    "tags": []
   },
   "outputs": [],
   "source": [
    "n = len(Tokuten)\n",
    "for i in range(n):\n",
    "    for j in range(n-i-1):\n",
    "        if Tokuten[j] > Tokuten[j+1]:\n",
    "            # j番目とj+1番目の要素を入れ替える\n",
    "            temp_tokuten = Tokuten[j]\n",
    "            Tokuten[j] = Tokuten[j+1]\n",
    "            Tokuten[j+1] = temp_tokuten\n",
    "            temp_name = Name[j]\n",
    "            Name[j] = Name[j+1]\n",
    "            Name[j+1] = temp_name"
   ]
  },
  {
   "cell_type": "code",
   "execution_count": 10,
   "id": "36f6ce25-b928-405c-97e9-b05472e69251",
   "metadata": {
    "tags": []
   },
   "outputs": [
    {
     "data": {
      "text/plain": [
       "['ふゆき', 'はるこ', 'なつお', 'あきよ']"
      ]
     },
     "execution_count": 10,
     "metadata": {},
     "output_type": "execute_result"
    }
   ],
   "source": [
    "Name"
   ]
  },
  {
   "cell_type": "code",
   "execution_count": 11,
   "id": "70387144-366e-473b-9344-9f840b803872",
   "metadata": {
    "tags": []
   },
   "outputs": [
    {
     "data": {
      "text/plain": [
       "[68, 73, 77, 81]"
      ]
     },
     "execution_count": 11,
     "metadata": {},
     "output_type": "execute_result"
    }
   ],
   "source": [
    "Tokuten"
   ]
  },
  {
   "cell_type": "markdown",
   "id": "d600b099-9232-4689-8a34-9ac2eb460e47",
   "metadata": {
    "tags": []
   },
   "source": [
    "### 問2に関する問題作成部会の見解 (2of2)\n",
    "- 問1で説明した「並べ替え」を実際に手順に変換する方法について考える問題である。\n",
    "  要素を入れ替える手順を問う【エ】~【キ】は予想よりも若干低い7割弱の正答率であった。\n",
    "- 【ク】の二重ループの内側のループの終了条件を問う問題は、5割程度の正答率を予想していたにもかかわらず、\n",
    "  3割弱しか正解しなかった。二重ループで、表全体を走査するような使い方では、外側と内側の両方が固定回数になるが、\n",
    "  今回の設問のようにすべての組合せを試すような場合には、内側のループの終了条件は外側のループ変数を用いたものとなる。\n",
    "  このような形式のループ構造に受験者が慣れていなかったことがうかがえる。"
   ]
  },
  {
   "cell_type": "markdown",
   "id": "9c42b039-a508-4f80-9e0a-33882922cab1",
   "metadata": {},
   "source": [
    "### 問3"
   ]
  },
  {
   "cell_type": "markdown",
   "id": "2f348b7f-dfde-4463-86b3-c6cfbd6d182c",
   "metadata": {},
   "source": [
    "![fig-25](./fig-25.png)"
   ]
  },
  {
   "cell_type": "markdown",
   "id": "5530edd2-9c4d-4a71-931c-6cf8804fbdfe",
   "metadata": {},
   "source": [
    "![fig-26](./fig-26.png)"
   ]
  },
  {
   "cell_type": "code",
   "execution_count": 12,
   "id": "63a1b08b-5c66-4147-b4c7-b6aeaa80f5b1",
   "metadata": {
    "tags": []
   },
   "outputs": [
    {
     "data": {
      "text/markdown": [
       "はい、可能です。以下は、Pythonで最後に要素の入れ替えが行われた位置以降は順番が確定していることを利用して、配列Tokutenの比較の回数を減らす方法です。\n",
       "\n",
       "```python\n",
       "# 最後に要素の入れ替えが行われた位置以降は順番が確定しているので、その添字を記憶する\n",
       "n = len(Tokuten)\n",
       "last_swap_index = n - 1\n",
       "for i in range(n):\n",
       "    is_sorted = True\n",
       "    for j in range(last_swap_index):\n",
       "        if Tokuten[j] < Tokuten[j+1]:\n",
       "            # 要素を入れ替える\n",
       "            temp_tokuten = Tokuten[j]\n",
       "            Tokuten[j] = Tokuten[j+1]\n",
       "            Tokuten[j+1] = temp_tokuten\n",
       "            temp_name = Name[j]\n",
       "            Name[j] = Name[j+1]\n",
       "            Name[j+1] = temp_name\n",
       "            is_sorted = False\n",
       "            last_swap_index = j\n",
       "    if is_sorted:\n",
       "        break\n",
       "```\n",
       "\n",
       "このように、last_swap_indexという変数を使用して、最後に要素の入れ替えが行われた位置以降は順番が確定していることを記憶します。内側のforループでは、last_swap_indexまでの要素を比較して、必要に応じて入れ替えます。そして、is_sortedという変数を使用して、配列がソート済みかどうかを判定します。is_sortedがTrueの場合は、配列がソート済みであるため、外側のforループを終了します。このようにすることで、配列Tokutenの比較の回数を減らすことができます。"
      ],
      "text/plain": [
       "<IPython.core.display.Markdown object>"
      ]
     },
     "metadata": {},
     "output_type": "display_data"
    }
   ],
   "source": [
    "%%ai_continue\n",
    "最後に要素の入れ替えが行われた位置以降は順番が確定しているので、\n",
    "その添字を記憶することで配列Tokutenの比較の回数を減らすことはできますか？"
   ]
  },
  {
   "cell_type": "markdown",
   "id": "4a587ac8-9114-431f-bb39-50566ad27440",
   "metadata": {},
   "source": [
    "```\n",
    "(01) ~ (04) (図2 配列の要素を初期化する手続き) \n",
    "(05)        j ← [シ] - 1\n",
    "(06)        繰り返し，\n",
    "(07)        ｜ saigo ← 0\n",
    "(08)        ｜ iを1から[ク]まで1ずつ増やしながら，\n",
    "(09)        ｜ ｜ もしTokuten[i] < [ケ] ならば\n",
    "(10) ~ (15) ｜ ｜ ｜ (図3 配列の要素を入れ替える手続き) \n",
    "(16)        ｜ ｜ ｜ saigo ← [ス]\n",
    "(17)        ｜ ｜ を実行する\n",
    "(18)        ｜ を繰り返す\n",
    "(19)        ｜ j ← saigo - 1\n",
    "(20)        を，saigo ≤ 1になるまで実行する\n",
    "```\n",
    "            図6 比較回数を減らした並べ替えの手続き"
   ]
  },
  {
   "cell_type": "markdown",
   "id": "6479fc7e-03f7-4fcc-be04-06a3617a7816",
   "metadata": {},
   "source": [
    "### 問3に関する問題作成部会の見解\n",
    "- 並べ替えに必要な比較処理の回数を減らすためのアルゴリズムを示し、\n",
    "  その理解と、手続きへの変換方法について考える問題である。\n",
    "- アルゴリズムの理解を問う【コ】・【サ】は、図から読み取ることも可能であるため、\n",
    "  5割程度の正答率を予想していたが、実際には4割程度となった。また、アルゴリズムを理解していないと正解を見つけられない\n",
    "- 【ス】も2割程度しか正解していない。標準的なアルゴリズムをほんの少し変えただけのものであっても、\n",
    "  受験者にとっては難しい問題になってしまうことが分かる。"
   ]
  },
  {
   "cell_type": "code",
   "execution_count": null,
   "id": "450c0fff-8f7a-48ad-a018-08e7e3623632",
   "metadata": {},
   "outputs": [],
   "source": []
  }
 ],
 "metadata": {
  "kernelspec": {
   "display_name": "Python 3 (ipykernel)",
   "language": "python",
   "name": "python3"
  },
  "language_info": {
   "codemirror_mode": {
    "name": "ipython",
    "version": 3
   },
   "file_extension": ".py",
   "mimetype": "text/x-python",
   "name": "python",
   "nbconvert_exporter": "python",
   "pygments_lexer": "ipython3",
   "version": "3.10.11"
  }
 },
 "nbformat": 4,
 "nbformat_minor": 5
}
