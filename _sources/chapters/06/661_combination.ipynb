{
 "cells": [
  {
   "cell_type": "markdown",
   "id": "3e8a6544-c966-4281-a3ad-0ec2c8017c5d",
   "metadata": {},
   "source": [
    "# 組み合わせ: ピタゴラス音律を生成する\n",
    "\n",
    "* [Pythagorean tuning - Wikipedia](https://en.wikipedia.org/wiki/Pythagorean_tuning)"
   ]
  },
  {
   "cell_type": "markdown",
   "id": "83cbc98b-726a-4f1d-901d-4475abcbc88e",
   "metadata": {},
   "source": [
    "ピタゴラスは次の式を満たす $m, n \\geq 0 $ を探して $7$ 音階を定めた:\n",
    "\n",
    "$$ 1 \\leq \\left( \\frac{3}{2} \\right)^m \\times \\left( \\frac{1}{2} \\right)^{n} \\leq 2$$\n",
    "または\n",
    "$$ 1 \\leq \\left( \\frac{2}{3} \\right)^m \\times 2^n \\leq 2$$"
   ]
  },
  {
   "cell_type": "code",
   "execution_count": 7,
   "id": "3b06151e-c571-4810-9bcf-8c39ac9936c9",
   "metadata": {
    "tags": []
   },
   "outputs": [],
   "source": [
    "from fractions import Fraction\n",
    "import itertools"
   ]
  },
  {
   "cell_type": "code",
   "execution_count": 8,
   "id": "503e7ecd-1789-4718-be6f-bd4affec33b2",
   "metadata": {
    "tags": []
   },
   "outputs": [
    {
     "data": {
      "text/plain": [
       "[Fraction(4, 3),\n",
       " Fraction(16, 9),\n",
       " Fraction(32, 27),\n",
       " Fraction(128, 81),\n",
       " Fraction(256, 243),\n",
       " Fraction(1024, 729)]"
      ]
     },
     "execution_count": 8,
     "metadata": {},
     "output_type": "execute_result"
    }
   ],
   "source": [
    "[Fraction(x).limit_denominator(1000)\n",
    " for x in [(2/3)**m * (2)**n for m, n in itertools.product(range(7), repeat=2)]\n",
    " if x > 1.0 and x < 2.0]"
   ]
  },
  {
   "cell_type": "code",
   "execution_count": 9,
   "id": "6dd09c8f-a955-4677-9f9a-233ab68f8e49",
   "metadata": {
    "tags": []
   },
   "outputs": [
    {
     "data": {
      "text/plain": [
       "[Fraction(3, 2),\n",
       " Fraction(9, 8),\n",
       " Fraction(27, 16),\n",
       " Fraction(81, 64),\n",
       " Fraction(243, 128),\n",
       " Fraction(729, 512)]"
      ]
     },
     "execution_count": 9,
     "metadata": {},
     "output_type": "execute_result"
    }
   ],
   "source": [
    "[Fraction(x).limit_denominator(1000) \n",
    " for x in [(3/2)**m * (1/2)**n for m, n in itertools.product(range(7), repeat=2)]\n",
    " if x > 1.0 and x < 2.0]"
   ]
  },
  {
   "cell_type": "code",
   "execution_count": 10,
   "id": "3893908f-09d2-4db7-8a43-41fcb71af0a1",
   "metadata": {
    "tags": []
   },
   "outputs": [
    {
     "data": {
      "text/markdown": [
       "このプログラムは、PythonのFractionモジュールを使用して、2/3の累乗と2の累乗の積を計算し、その結果が1.0より大きく2.0より小さい場合に、分母が1000以下の分数を返します。itertoolsモジュールのproduct関数を使用して、2/3の累乗と2の累乗のすべての組み合わせを生成しています。Fractionオブジェクトのlimit_denominatorメソッドを使用することで、分母を1000以下に制限しています。"
      ],
      "text/plain": [
       "<IPython.core.display.Markdown object>"
      ]
     },
     "metadata": {},
     "output_type": "display_data"
    }
   ],
   "source": [
    "%%ai_ask\n",
    "このプログラムについて詳しく\n",
    "\n",
    "```python\n",
    "[Fraction(x).limit_denominator(1000)\n",
    " for x in [(2/3)**m * (2)**n for m, n in itertools.product(range(7), repeat=2)]\n",
    " if x > 1.0 and x < 2.0]\n",
    "```"
   ]
  },
  {
   "cell_type": "code",
   "execution_count": 11,
   "id": "d13f9a1b-802a-41ae-ae12-ac4297d27602",
   "metadata": {
    "tags": []
   },
   "outputs": [
    {
     "data": {
      "text/markdown": [
       "2/3の累乗と2の累乗のすべての組み合わせを生成するには、Pythonのitertoolsモジュールのproduct関数を使用します。具体的には、以下のように書きます。\n",
       "\n",
       "```python\n",
       "import itertools\n",
       "\n",
       "for m, n in itertools.product(range(7), repeat=2):\n",
       "    result = (2/3)**m * 2**n\n",
       "    print(result)\n",
       "```\n",
       "\n",
       "このコードでは、range(7)で0から6までの整数を生成し、それらをrepeat=2で2回繰り返して、すべての組み合わせを生成しています。それぞれの組み合わせに対して、2/3の累乗と2の累乗の積を計算しています。このようにして、2/3の累乗と2の累乗のすべての組み合わせを生成することができます。"
      ],
      "text/plain": [
       "<IPython.core.display.Markdown object>"
      ]
     },
     "metadata": {},
     "output_type": "display_data"
    }
   ],
   "source": [
    "%%ai_continue\n",
    "2/3の累乗と2の累乗のすべての組み合わせを生成する方法について"
   ]
  },
  {
   "cell_type": "code",
   "execution_count": 12,
   "id": "f1e5fdf0-a83d-4c67-973e-56db3e05ba2b",
   "metadata": {
    "tags": []
   },
   "outputs": [
    {
     "data": {
      "text/plain": [
       "<itertools.product at 0x7f0ad975e4c0>"
      ]
     },
     "execution_count": 12,
     "metadata": {},
     "output_type": "execute_result"
    }
   ],
   "source": [
    "itertools.product(range(7), repeat=2)"
   ]
  },
  {
   "cell_type": "code",
   "execution_count": null,
   "id": "20447747-e4cb-4a09-887a-5d8f214186ad",
   "metadata": {},
   "outputs": [],
   "source": []
  }
 ],
 "metadata": {
  "kernelspec": {
   "display_name": "Python 3 (ipykernel)",
   "language": "python",
   "name": "python3"
  },
  "language_info": {
   "codemirror_mode": {
    "name": "ipython",
    "version": 3
   },
   "file_extension": ".py",
   "mimetype": "text/x-python",
   "name": "python",
   "nbconvert_exporter": "python",
   "pygments_lexer": "ipython3",
   "version": "3.10.10"
  }
 },
 "nbformat": 4,
 "nbformat_minor": 5
}
