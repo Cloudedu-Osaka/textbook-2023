{
 "cells": [
  {
   "cell_type": "markdown",
   "id": "6ba8c97d-9031-480a-93c8-7efedeb17c2a",
   "metadata": {},
   "source": [
    "# 最適化"
   ]
  },
  {
   "cell_type": "code",
   "execution_count": 2,
   "id": "2023baae-c1ef-4ff9-aa60-482b7d7d3c87",
   "metadata": {
    "tags": []
   },
   "outputs": [
    {
     "data": {
      "text/markdown": [
       "プログラムの最適化とは、プログラムの実行速度やメモリ使用量などの性能を改善することを指します。最適化は、アルゴリズムの改善、コードの改善、データ構造の最適化、並列処理の導入など、様々な手法を用いて行われます。最適化によって、プログラムの処理速度が向上し、ユーザーの待ち時間が短縮されたり、システムの負荷が軽減されたりすることが期待されます。ただし、最適化はコストがかかる場合があるため、必ずしもすべての場合において最適化が必要とは限りません。"
      ],
      "text/plain": [
       "<IPython.core.display.Markdown object>"
      ]
     },
     "metadata": {},
     "output_type": "display_data"
    }
   ],
   "source": [
    "%%ai_ask\n",
    "プログラムの最適化とは"
   ]
  },
  {
   "cell_type": "code",
   "execution_count": 3,
   "id": "d0dd960d-bbe6-4dca-8460-901341654534",
   "metadata": {
    "tags": []
   },
   "outputs": [
    {
     "data": {
      "text/markdown": [
       "Pythonは、動的型付け言語であり、インタプリタ型言語であるため、他のコンパイル型言語に比べて実行速度が遅いという特徴があります。しかし、Pythonには多くのライブラリやフレームワークがあり、それらをうまく活用することで、プログラムの最適化が可能です。また、PythonにはJITコンパイラやCythonなどのツールがあり、これらを使うことで、Pythonの実行速度を向上させることができます。\n",
       "\n",
       "ただし、Pythonでのプログラムの最適化は、必ずしも有意であるとは限りません。プログラムの性能改善にはコストがかかる場合があり、最適化によって得られるメリットがコストを上回らない場合は、最適化を行う必要はありません。最適化を行うかどうかは、プログラムの要件や目的に応じて判断する必要があります。"
      ],
      "text/plain": [
       "<IPython.core.display.Markdown object>"
      ]
     },
     "metadata": {},
     "output_type": "display_data"
    }
   ],
   "source": [
    "%%ai_continue\n",
    "pythonでプログラムの最適化は有意ですか？"
   ]
  },
  {
   "cell_type": "code",
   "execution_count": 4,
   "id": "214b13b6-8184-4f91-bddd-252f0e063bb5",
   "metadata": {
    "tags": []
   },
   "outputs": [
    {
     "data": {
      "text/markdown": [
       "プログラムの最適化には、以下のような副作用が考えられます。\n",
       "\n",
       "1. 可読性の低下：最適化のために、コードを複雑化する必要がある場合があります。そのため、可読性が低下する可能性があります。\n",
       "\n",
       "2. メンテナンスの困難さ：最適化によって、コードが複雑化するため、メンテナンスが困難になる場合があります。特に、最適化のために特殊なテクニックやライブラリを使用する場合は、後続の開発者が理解するのが難しい場合があります。\n",
       "\n",
       "3. バグの発生：最適化によって、コードが複雑化するため、バグが発生する可能性があります。特に、最適化のために特殊なテクニックやライブラリを使用する場合は、バグの発生が予想されます。\n",
       "\n",
       "4. ポータビリティの低下：最適化によって、コードがプラットフォーム依存になる場合があります。そのため、ポータビリティが低下する可能性があります。\n",
       "\n",
       "以上のような副作用があるため、最適化を行う場合は、必ずしもすべての場合において最適化が必要とは限りません。最適化を行うかどうかは、プログラムの要件や目的に応じて判断する必要があります。"
      ],
      "text/plain": [
       "<IPython.core.display.Markdown object>"
      ]
     },
     "metadata": {},
     "output_type": "display_data"
    }
   ],
   "source": [
    "%%ai_continue\n",
    "最適化に伴う副作用について"
   ]
  },
  {
   "cell_type": "markdown",
   "id": "c9611d87-fdef-420e-afcb-38ae822d574f",
   "metadata": {},
   "source": [
    "## ピタゴラス音律の生成"
   ]
  },
  {
   "cell_type": "markdown",
   "id": "521199b8-00ab-4d70-9a13-54d4d09fc054",
   "metadata": {},
   "source": [
    "ピタゴラスは次の式を満たす $m, n \\geq 0 $ を探して $7$ 音階を定めた:\n",
    "\n",
    "$$ 1 \\leq \\left( \\frac{3}{2} \\right)^m \\times \\left( \\frac{1}{2} \\right)^{n} \\leq 2$$\n",
    "または\n",
    "$$ 1 \\leq \\left( \\frac{2}{3} \\right)^m \\times 2^n \\leq 2$$"
   ]
  },
  {
   "cell_type": "markdown",
   "id": "bd2c1b4f-5142-46ec-96dc-c5a9849d5f6c",
   "metadata": {},
   "source": [
    "### 3/2倍系列"
   ]
  },
  {
   "cell_type": "code",
   "execution_count": 5,
   "id": "8ddc8b33-a16c-4977-b29e-601315b89ef3",
   "metadata": {
    "tags": []
   },
   "outputs": [],
   "source": [
    "import numpy as np\n",
    "from fractions import Fraction"
   ]
  },
  {
   "cell_type": "code",
   "execution_count": 6,
   "id": "c44ea20d-7a91-48ad-9b93-29db02afc16e",
   "metadata": {
    "tags": []
   },
   "outputs": [
    {
     "name": "stdout",
     "output_type": "stream",
     "text": [
      "0 0 1.0 1\n",
      "1 0 1.5 3/2\n",
      "2 1 1.125 9/8\n",
      "3 1 1.6875 27/16\n",
      "4 2 1.265625 81/64\n"
     ]
    }
   ],
   "source": [
    "# 二重ループで探索する\n",
    "for m in np.arange(5):\n",
    "    for n in np.arange(6):\n",
    "        x = (3/2)**m * (1/2)**n\n",
    "        if x < 2.0:\n",
    "            print(m, n, x, Fraction(x))\n",
    "            break"
   ]
  },
  {
   "cell_type": "markdown",
   "id": "05f51507-1d75-4cce-8654-729b72079057",
   "metadata": {},
   "source": [
    "### 2/3倍系列"
   ]
  },
  {
   "cell_type": "code",
   "execution_count": 7,
   "id": "542d849c-f3b4-4964-b52c-fae354e39dc3",
   "metadata": {
    "tags": []
   },
   "outputs": [
    {
     "name": "stdout",
     "output_type": "stream",
     "text": [
      "0 1 2.0 2\n",
      "1 1 1.3333333333333333 4/3\n",
      "2 2 1.7777777777777777 16/9\n",
      "3 2 1.185185185185185 6/5\n",
      "4 3 1.5802469135802466 11/7\n"
     ]
    }
   ],
   "source": [
    "# 二重ループで探索する\n",
    "for m in np.arange(5):\n",
    "    for n in np.arange(6):\n",
    "        x = (2/3)**m * (2)**n\n",
    "        if x > 1.0:\n",
    "            print(m, n, x, Fraction(x).limit_denominator(10))\n",
    "            break"
   ]
  },
  {
   "cell_type": "markdown",
   "id": "6d73ee2f-3f9f-4a79-b926-78d988dc28ee",
   "metadata": {},
   "source": [
    "### まとめてソートする\n",
    "\n",
    "* [Pythagorean tuning - Wikipedia](https://en.wikipedia.org/wiki/Pythagorean_tuning)"
   ]
  },
  {
   "cell_type": "code",
   "execution_count": 8,
   "id": "f3d81e88-6be7-48cb-b09d-7f0014725170",
   "metadata": {
    "tags": []
   },
   "outputs": [
    {
     "data": {
      "text/plain": [
       "[1.0,\n",
       " 1.053497942386831,\n",
       " 1.125,\n",
       " 1.185185185185185,\n",
       " 1.265625,\n",
       " 1.3333333333333333,\n",
       " 1.4046639231824412,\n",
       " 1.423828125,\n",
       " 1.5,\n",
       " 1.5802469135802466,\n",
       " 1.6875,\n",
       " 1.7777777777777777,\n",
       " 1.8984375,\n",
       " 2.0]"
      ]
     },
     "execution_count": 8,
     "metadata": {},
     "output_type": "execute_result"
    }
   ],
   "source": [
    "temperament_pyt = []\n",
    "for m in np.arange(7):\n",
    "    for n in np.arange(5):\n",
    "        x = (3/2)**m * (1/2)**n\n",
    "        if x < 2.0:\n",
    "            temperament_pyt.append(x)\n",
    "            break\n",
    "for m in np.arange(7):\n",
    "    for n in np.arange(5):\n",
    "        x = (2/3)**m * (2)**n\n",
    "        if x > 1.0:\n",
    "            temperament_pyt.append(x)\n",
    "            break\n",
    "temperament_pyt.sort()\n",
    "temperament_pyt"
   ]
  },
  {
   "cell_type": "markdown",
   "id": "95fa7cce-eabf-4624-8471-2849d8977344",
   "metadata": {},
   "source": [
    "### 最適化"
   ]
  },
  {
   "cell_type": "markdown",
   "id": "183033cb-9ec7-4632-9f06-c4a217cc105b",
   "metadata": {},
   "source": [
    "* [Loop fission and fusion - Wikipedia](https://en.wikipedia.org/wiki/Loop_fission_and_fusion)"
   ]
  },
  {
   "cell_type": "code",
   "execution_count": 14,
   "id": "4cf0f0d7-efb3-4928-9ae4-7e8cfe143b45",
   "metadata": {
    "tags": []
   },
   "outputs": [
    {
     "data": {
      "text/markdown": [
       "以下は、ループを融合し、より効率的なコードに最適化されたプログラムです。\n",
       "\n",
       "```python\n",
       "temperament_pyt = []\n",
       "for m in np.arange(7):\n",
       "    for n in np.arange(5):\n",
       "        x1 = (3/2)**m * (1/2)**n\n",
       "        x2 = (2/3)**m * (2)**n\n",
       "        if x1 < 2.0:\n",
       "            temperament_pyt.append(x1)\n",
       "        if x2 > 1.0:\n",
       "            temperament_pyt.append(x2)\n",
       "        if x1 >= 2.0 and x2 <= 1.0:\n",
       "            break\n",
       "temperament_pyt.sort()\n",
       "temperament_pyt\n",
       "```\n",
       "\n",
       "このプログラムでは、2つのループを1つに統合し、x1とx2の両方を同じループ内で計算しています。また、if文を使用して、x1とx2の両方を同じループ内で処理しています。最後に、temperament_pytリストに要素を追加する前に、x1とx2の両方が計算され、条件に基づいて追加されるかどうかが判断されます。"
      ],
      "text/plain": [
       "<IPython.core.display.Markdown object>"
      ]
     },
     "metadata": {},
     "output_type": "display_data"
    }
   ],
   "source": [
    "%%ai_ask\n",
    "次のプログラムを最適化してください。その際、ループを融合して下さい:\n",
    "```python\n",
    "temperament_pyt = []\n",
    "for m in np.arange(7):\n",
    "    for n in np.arange(5):\n",
    "        x = (3/2)**m * (1/2)**n\n",
    "        if x < 2.0:\n",
    "            temperament_pyt.append(x)\n",
    "            break\n",
    "for m in np.arange(7):\n",
    "    for n in np.arange(5):\n",
    "        x = (2/3)**m * (2)**n\n",
    "        if x > 1.0:\n",
    "            temperament_pyt.append(x)\n",
    "            break\n",
    "temperament_pyt.sort()\n",
    "temperament_pyt\n",
    "```"
   ]
  },
  {
   "cell_type": "code",
   "execution_count": 9,
   "id": "6da6ca12-6c82-4b2d-b601-58844d8a7fbe",
   "metadata": {
    "tags": []
   },
   "outputs": [
    {
     "data": {
      "text/plain": [
       "[0.0625,\n",
       " 0.09375,\n",
       " 0.125,\n",
       " 0.1875,\n",
       " 0.25,\n",
       " 0.375,\n",
       " 0.5,\n",
       " 0.75,\n",
       " 1.0,\n",
       " 1.3333333333333333,\n",
       " 1.5,\n",
       " 2.0,\n",
       " 2.6666666666666665,\n",
       " 4.0,\n",
       " 5.333333333333333,\n",
       " 8.0,\n",
       " 10.666666666666666,\n",
       " 16.0]"
      ]
     },
     "execution_count": 9,
     "metadata": {},
     "output_type": "execute_result"
    }
   ],
   "source": [
    "temperament_pyt = []\n",
    "for m in np.arange(7):\n",
    "    for n in np.arange(5):\n",
    "        x1 = (3/2)**m * (1/2)**n\n",
    "        x2 = (2/3)**m * (2)**n\n",
    "        if x1 < 2.0:\n",
    "            temperament_pyt.append(x1)\n",
    "        if x2 > 1.0:\n",
    "            temperament_pyt.append(x2)\n",
    "        if x1 >= 2.0 and x2 <= 1.0:\n",
    "            break\n",
    "temperament_pyt.sort()\n",
    "temperament_pyt"
   ]
  },
  {
   "cell_type": "markdown",
   "id": "76eb9de3-3f4f-497d-873b-a283fb37faa3",
   "metadata": {},
   "source": [
    "単純なループ融合によって発生したバグを修正する:"
   ]
  },
  {
   "cell_type": "code",
   "execution_count": 10,
   "id": "670e4a9b-e282-4fc9-bd2f-0fffdfe3c201",
   "metadata": {
    "tags": []
   },
   "outputs": [
    {
     "data": {
      "text/plain": [
       "[1.0,\n",
       " 1.053497942386831,\n",
       " 1.125,\n",
       " 1.185185185185185,\n",
       " 1.265625,\n",
       " 1.3333333333333333,\n",
       " 1.4046639231824412,\n",
       " 1.423828125,\n",
       " 1.5,\n",
       " 1.5802469135802466,\n",
       " 1.6875,\n",
       " 1.7777777777777777,\n",
       " 1.8984375,\n",
       " 2.0]"
      ]
     },
     "execution_count": 10,
     "metadata": {},
     "output_type": "execute_result"
    }
   ],
   "source": [
    "temperament_pyt = []\n",
    "for m in np.arange(7):\n",
    "    for n in np.arange(5):\n",
    "        x1 = (3/2)**m * (1/2)**n\n",
    "        x2 = (2/3)**m * (2)**n\n",
    "        if x1 < 2.0 and x1 >= 1.0:\n",
    "            temperament_pyt.append(x1)\n",
    "        if x2 > 1.0 and x2 <= 2.0:\n",
    "            temperament_pyt.append(x2)\n",
    "temperament_pyt.sort()\n",
    "temperament_pyt"
   ]
  },
  {
   "cell_type": "code",
   "execution_count": null,
   "id": "fe6a6994-19d7-4b4f-8f56-e5c658e174bd",
   "metadata": {},
   "outputs": [],
   "source": []
  }
 ],
 "metadata": {
  "kernelspec": {
   "display_name": "Python 3 (ipykernel)",
   "language": "python",
   "name": "python3"
  },
  "language_info": {
   "codemirror_mode": {
    "name": "ipython",
    "version": 3
   },
   "file_extension": ".py",
   "mimetype": "text/x-python",
   "name": "python",
   "nbconvert_exporter": "python",
   "pygments_lexer": "ipython3",
   "version": "3.10.10"
  }
 },
 "nbformat": 4,
 "nbformat_minor": 5
}
