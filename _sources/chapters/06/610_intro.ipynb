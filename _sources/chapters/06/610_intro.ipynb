{
 "cells": [
  {
   "attachments": {},
   "cell_type": "markdown",
   "id": "b571eb2c-44bf-4c3e-a6a0-5df4c843476a",
   "metadata": {},
   "source": [
    "# 今日の授業\n",
    "\n",
    "* 前回の課題について\n",
    "    - ビブラートとトレモロの波形解析\n",
    "    - バイオリンの音を合成する\n",
    "    - 和音の波形解析\n",
    "* 組み合わせ\n",
    "    - ピタゴラス音律\n",
    "    - 課題: ピタゴラスの三数とPlimpton 322"
   ]
  },
  {
   "cell_type": "code",
   "execution_count": null,
   "id": "8fc96a98-d573-47af-a055-e6da2de6e658",
   "metadata": {},
   "outputs": [],
   "source": []
  }
 ],
 "metadata": {
  "kernelspec": {
   "display_name": "Python 3 (ipykernel)",
   "language": "python",
   "name": "python3"
  },
  "language_info": {
   "codemirror_mode": {
    "name": "ipython",
    "version": 3
   },
   "file_extension": ".py",
   "mimetype": "text/x-python",
   "name": "python",
   "nbconvert_exporter": "python",
   "pygments_lexer": "ipython3",
   "version": "3.10.10"
  }
 },
 "nbformat": 4,
 "nbformat_minor": 5
}
