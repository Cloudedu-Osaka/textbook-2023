{
 "cells": [
  {
   "attachments": {},
   "cell_type": "markdown",
   "id": "98ee4a0a-7c84-409b-b13a-4cb704dd8dca",
   "metadata": {},
   "source": [
    "# 次回から\n",
    "\n",
    "* 古代メソポタミアの数学\n",
    "    - 粘土版: Plimpton 322とYBC 7289\n",
    "    - 60進法+位取り記法と割り算\n",
    "    "
   ]
  },
  {
   "attachments": {},
   "cell_type": "markdown",
   "id": "72428384-c751-41d5-9ce4-f882a25c7937",
   "metadata": {},
   "source": [
    "## Mesopotamia\n",
    "\n",
    "* [Babylonian mathematics - Wikipedia](https://en.wikipedia.org/wiki/Babylonian_mathematics)"
   ]
  },
  {
   "cell_type": "code",
   "execution_count": 8,
   "id": "fdae4bc4-f822-4704-b219-a75839ca55fd",
   "metadata": {
    "tags": []
   },
   "outputs": [
    {
     "data": {
      "text/markdown": [
       "Ancient Mesopotamia was a hub of scientific advancements in various fields such as astronomy, mathematics, and medicine. They developed a sophisticated system of mathematics, including the use of a base 60 numbering system and the concept of algebra. They also made significant contributions to astronomy, including the development of the zodiac and the first recorded observations of the planets. In medicine, they developed advanced surgical techniques and created the first written medical code of ethics. Overall, the scientific achievements of ancient Mesopotamia laid the foundation for many modern scientific practices and technologies."
      ],
      "text/plain": [
       "<IPython.core.display.Markdown object>"
      ]
     },
     "metadata": {},
     "output_type": "display_data"
    }
   ],
   "source": [
    "%%ai_ask\n",
    "how about the science in ancient mesopotamia"
   ]
  },
  {
   "cell_type": "code",
   "execution_count": 9,
   "id": "d0c9548e-70dd-4025-9dc5-83be594f7ccb",
   "metadata": {
    "tags": []
   },
   "outputs": [
    {
     "data": {
      "text/markdown": [
       "古代メソポタミアは、天文学、数学、医学などの様々な分野で科学的な進歩の中心地でした。彼らは、60進法の数値システムや代数の概念を含む洗練された数学システムを開発しました。また、黄道帯の開発や惑星の最初の記録観測など、天文学に重要な貢献をしました。医学では、高度な手術技術を開発し、最初の医療倫理規範を作成しました。全体的に、古代メソポタミアの科学的な成果は、多くの現代の科学的な実践や技術の基盤を築きました。"
      ],
      "text/plain": [
       "<IPython.core.display.Markdown object>"
      ]
     },
     "metadata": {},
     "output_type": "display_data"
    }
   ],
   "source": [
    "%%ai_continue\n",
    "日本語で"
   ]
  },
  {
   "cell_type": "code",
   "execution_count": 11,
   "id": "c3a151b0-1f96-4707-b0aa-6c02ca5bac41",
   "metadata": {
    "tags": []
   },
   "outputs": [
    {
     "data": {
      "text/markdown": [
       "Mathematics in ancient Mesopotamia was highly advanced and included a numerical system based on 60, which is still used today for measuring time and angles. They developed algebraic concepts and techniques for solving equations, as well as making contributions to geometry, such as the discovery of the Pythagorean theorem. They also developed techniques for calculation and measurement in commerce and agriculture. The development of mathematics in ancient Mesopotamia played a significant role in laying the foundation for modern mathematics."
      ],
      "text/plain": [
       "<IPython.core.display.Markdown object>"
      ]
     },
     "metadata": {},
     "output_type": "display_data"
    }
   ],
   "source": [
    "%%ai_continue\n",
    "and especially mathematics, in english"
   ]
  },
  {
   "cell_type": "code",
   "execution_count": 12,
   "id": "fec1139b-ed31-4008-98bc-895f14382325",
   "metadata": {
    "tags": []
   },
   "outputs": [
    {
     "data": {
      "text/markdown": [
       "古代メソポタミアの数学は、60進法の数値システムを含む、非常に高度な数学システムを開発しました。彼らは、代数の概念を発展させ、方程式を解くための技術を開発しました。また、ピタゴラスの定理を発見するなど、幾何学にも貢献しました。商業や農業において、計算や測定を行うための技術も開発しました。古代メソポタミアの数学の発展は、現代の数学の基礎を築く上で重要な役割を果たしました。"
      ],
      "text/plain": [
       "<IPython.core.display.Markdown object>"
      ]
     },
     "metadata": {},
     "output_type": "display_data"
    }
   ],
   "source": [
    "%%ai_continue\n",
    "in japanese"
   ]
  },
  {
   "cell_type": "code",
   "execution_count": 13,
   "id": "6f3f7081-cacb-4560-b096-61113a5becd1",
   "metadata": {
    "tags": []
   },
   "outputs": [
    {
     "data": {
      "text/markdown": [
       "Clay tablets were a common medium for writing in ancient Mesopotamia, and many important artifacts have been discovered on these tablets. These tablets were made by pressing wet clay into a flat surface and then inscribing the text using a stylus. They were then dried in the sun or baked in a kiln to harden the clay and preserve the writing.\n",
       "\n",
       "Many of these clay tablets contain important historical, religious, and scientific information, including legal codes, religious texts, and mathematical calculations. For example, the famous Code of Hammurabi, one of the earliest known legal codes, was inscribed on a clay tablet. In addition, many astronomical observations and mathematical calculations were recorded on clay tablets, providing valuable insights into the scientific knowledge of ancient Mesopotamia.\n",
       "\n",
       "The discovery of these clay tablets has been instrumental in our understanding of ancient Mesopotamian culture and history, and they continue to be an important source of information for researchers today."
      ],
      "text/plain": [
       "<IPython.core.display.Markdown object>"
      ]
     },
     "metadata": {},
     "output_type": "display_data"
    }
   ],
   "source": [
    "%%ai_continue\n",
    "about their artifacts like clay tablets, in english"
   ]
  },
  {
   "cell_type": "code",
   "execution_count": 14,
   "id": "ed93339e-7dfe-4d55-b381-d2ab35b6732f",
   "metadata": {
    "tags": []
   },
   "outputs": [
    {
     "data": {
      "text/markdown": [
       "粘土板は、古代メソポタミアで一般的に使用された書き物の媒体であり、多くの重要な遺物がこれらの板に記録されています。これらの板は、湿った粘土を平らな表面に押し、スタイラスで文字を刻んで作られました。その後、太陽で乾燥させるか、窯で焼いて粘土を硬化させ、文字を保存しました。\n",
       "\n",
       "これらの粘土板には、法典、宗教的なテキスト、数学的な計算など、重要な歴史的、宗教的、科学的な情報が記録されています。たとえば、最も古い法典の一つであるハンムラビ法典は、粘土板に刻まれていました。また、多くの天文観測や数学的な計算が粘土板に記録され、古代メソポタミアの科学的な知識について貴重な洞察を提供しています。\n",
       "\n",
       "これらの粘土板の発見は、古代メソポタミアの文化や歴史を理解する上で重要な役割を果たしており、今日でも研究者にとって重要な情報源となっています。"
      ],
      "text/plain": [
       "<IPython.core.display.Markdown object>"
      ]
     },
     "metadata": {},
     "output_type": "display_data"
    }
   ],
   "source": [
    "%%ai_continue\n",
    "in japanese"
   ]
  },
  {
   "cell_type": "code",
   "execution_count": 15,
   "id": "33c3c03e-57a3-4813-97e4-c325f8520413",
   "metadata": {
    "tags": []
   },
   "outputs": [
    {
     "data": {
      "text/markdown": [
       "Cuneiform was the writing system used in ancient Mesopotamia, and it is one of the earliest known writing systems in the world. The term \"cuneiform\" comes from the Latin word \"cuneus,\" meaning \"wedge,\" because the writing was made by pressing a stylus into soft clay tablets, creating wedge-shaped marks.\n",
       "\n",
       "The cuneiform script was used to write a variety of languages, including Sumerian, Akkadian, and Babylonian. It was a complex system that included hundreds of signs, each representing a word or a syllable. The script was used for a wide range of purposes, including recording historical events, religious texts, and commercial transactions.\n",
       "\n",
       "The development of cuneiform was a significant achievement in the history of writing, as it allowed for the recording and preservation of information in a way that was not possible before. The discovery of cuneiform tablets has provided valuable insights into the culture, history, and language of ancient Mesopotamia, and it continues to be an important area of study for researchers today."
      ],
      "text/plain": [
       "<IPython.core.display.Markdown object>"
      ]
     },
     "metadata": {},
     "output_type": "display_data"
    }
   ],
   "source": [
    "%%ai_continue\n",
    "and their writing system cuneiform, in english"
   ]
  },
  {
   "cell_type": "code",
   "execution_count": 16,
   "id": "74ac35be-84ec-4014-a175-a5cfdbf54c28",
   "metadata": {
    "tags": []
   },
   "outputs": [
    {
     "data": {
      "text/markdown": [
       "楔形文字は、古代メソポタミアで使用された文字体系であり、世界で最も古い知られている文字体系の一つです。\"楔形\"という用語は、ラテン語の\"cuneus\"（くさび）から来ており、スタイラスを柔らかい粘土板に押し込んで、くさび形の印を作ることで文字を表現しました。\n",
       "\n",
       "楔形文字は、スメリア語、アッカド語、バビロニア語など、様々な言語を書くために使用されました。数百の記号があり、それぞれが単語や音節を表していました。この文字体系は、歴史的な出来事、宗教的なテキスト、商取引など、様々な目的で使用されました。\n",
       "\n",
       "楔形文字の発展は、書き言葉の歴史において重要な成果であり、以前には不可能だった情報の記録と保存を可能にしました。楔形文字の粘土板の発見は、古代メソポタミアの文化、歴史、言語に関する貴重な洞察を提供し、今日でも研究者にとって重要な研究分野の一つです。"
      ],
      "text/plain": [
       "<IPython.core.display.Markdown object>"
      ]
     },
     "metadata": {},
     "output_type": "display_data"
    }
   ],
   "source": [
    "%%ai_continue\n",
    "in japanese"
   ]
  },
  {
   "cell_type": "code",
   "execution_count": null,
   "id": "86b0f12a-9b3a-46ec-bff3-6e4ff71c360b",
   "metadata": {},
   "outputs": [],
   "source": []
  },
  {
   "cell_type": "code",
   "execution_count": 17,
   "id": "7e52f224-778b-4c4c-882c-77a31f5145b6",
   "metadata": {
    "tags": []
   },
   "outputs": [
    {
     "data": {
      "text/markdown": [
       "The numerical system used in ancient Mesopotamia was based on the sexagesimal system, which means it was based on the number 60. This system was used for counting and measuring, and it was highly advanced for its time. The Mesopotamians used a combination of base 10 and base 60, which allowed them to represent large numbers with relative ease.\n",
       "\n",
       "The Mesopotamians used a symbol for zero, which was a significant development in the history of mathematics. They also developed a positional notation system, which allowed them to represent numbers using a combination of symbols and their positions. This system was a precursor to the modern decimal system.\n",
       "\n",
       "The Mesopotamians also developed advanced mathematical techniques, including algebraic concepts and techniques for solving equations. They also made significant contributions to geometry, including the discovery of the Pythagorean theorem.\n",
       "\n",
       "Overall, the numerical system used in ancient Mesopotamia was highly advanced and laid the foundation for many modern mathematical concepts and techniques."
      ],
      "text/plain": [
       "<IPython.core.display.Markdown object>"
      ]
     },
     "metadata": {},
     "output_type": "display_data"
    }
   ],
   "source": [
    "%%ai_continue\n",
    "how about their numerical system, in english"
   ]
  },
  {
   "cell_type": "code",
   "execution_count": 18,
   "id": "bcd1fbe0-a38a-4636-9162-937546965228",
   "metadata": {
    "tags": []
   },
   "outputs": [
    {
     "data": {
      "text/markdown": [
       "古代メソポタミアで使用された数値システムは、60進法に基づいており、数えることや測定に使用されました。当時としては非常に高度なものであり、10進法と60進法を組み合わせることで、相対的に簡単に大きな数を表現することができました。\n",
       "\n",
       "古代メソポタミア人は、ゼロの記号を使用しており、これは数学の歴史において重要な発展でした。また、位置表記法を開発し、記号と位置の組み合わせで数値を表現することができました。このシステムは、現代の10進法の前身となりました。\n",
       "\n",
       "古代メソポタミア人は、代数の概念や方程式を解くための技術など、高度な数学的な技術を開発しました。また、ピタゴラスの定理を発見するなど、幾何学にも貢献しました。\n",
       "\n",
       "全体的に、古代メソポタミアで使用された数値システムは、非常に高度であり、多くの現代の数学的な概念や技術の基盤を築きました。"
      ],
      "text/plain": [
       "<IPython.core.display.Markdown object>"
      ]
     },
     "metadata": {},
     "output_type": "display_data"
    }
   ],
   "source": [
    "%%ai_continue\n",
    "in japanese"
   ]
  },
  {
   "cell_type": "code",
   "execution_count": 19,
   "id": "11d5ac1f-82f3-4c7a-8039-3aa0c25e0baa",
   "metadata": {
    "tags": []
   },
   "outputs": [
    {
     "data": {
      "text/markdown": [
       "The reason why ancient Greek and Roman people did not use positional notation is not entirely clear, but it is believed to be due to a combination of factors. One possible reason is that the Greeks and Romans did not have a symbol for zero, which made it difficult to develop a positional notation system. Another reason is that the Greeks and Romans did not have a need for complex mathematical calculations in the same way that the Mesopotamians did, as their societies were not as heavily reliant on trade and commerce.\n",
       "\n",
       "It is also worth noting that the development of positional notation was a gradual process that took place over many centuries, and it was not until the 7th century AD that the Indian mathematician Brahmagupta developed a fully functional positional notation system that included a symbol for zero. This system was later adopted by Arab mathematicians and eventually spread to Europe, where it became the basis for the modern decimal system.\n",
       "\n",
       "In summary, the reasons why ancient Greek and Roman people did not use positional notation are not entirely clear, but it is believed to be due to a combination of factors, including the lack of a symbol for zero and the different societal needs of their respective cultures."
      ],
      "text/plain": [
       "<IPython.core.display.Markdown object>"
      ]
     },
     "metadata": {},
     "output_type": "display_data"
    }
   ],
   "source": [
    "%%ai_continue\n",
    "why ancient greek and roman people did not use positional notation enven more older mesopotamian and offcourse recent people use it"
   ]
  },
  {
   "cell_type": "code",
   "execution_count": 20,
   "id": "fe6a7dc3-a84b-4f53-a5c3-c09ad55a9a15",
   "metadata": {
    "tags": []
   },
   "outputs": [
    {
     "data": {
      "text/markdown": [
       "古代ギリシャ人やローマ人が位置表記法を使用しなかった理由は完全には明確ではありませんが、複数の要因が考えられます。一つの可能性は、ギリシャ人やローマ人がゼロの記号を持っていなかったため、位置表記法を開発することが困難だったことです。また、ギリシャ人やローマ人の社会が、メソポタミア人と同じように貿易や商業に重点を置いていなかったため、複雑な数学的計算が必要ではなかったという理由もあります。\n",
       "\n",
       "また、位置表記法の発展は、数世紀にわたって徐々に進んだものであり、完全な位置表記法が開発されたのは、7世紀にインドの数学者ブラフマグプタがゼロの記号を含む完全な位置表記法を開発した後のことでした。このシステムは、アラブの数学者によって採用され、最終的にヨーロッパに広まり、現代の10進法の基礎となりました。\n",
       "\n",
       "要約すると、古代ギリシャ人やローマ人が位置表記法を使用しなかった理由は完全には明確ではありませんが、ゼロの記号の欠如や、それぞれの文化における異なる社会的ニーズなど、複数の要因が考えられます。"
      ],
      "text/plain": [
       "<IPython.core.display.Markdown object>"
      ]
     },
     "metadata": {},
     "output_type": "display_data"
    }
   ],
   "source": [
    "%%ai_continue\n",
    "in japanese"
   ]
  },
  {
   "cell_type": "code",
   "execution_count": 21,
   "id": "6eab9a85-676c-4ba4-8a9e-31247be03c08",
   "metadata": {
    "tags": []
   },
   "outputs": [
    {
     "data": {
      "text/markdown": [
       "Certainly! Here are two Python functions that convert decimal numbers to Greek and Roman numerals:\n",
       "\n",
       "```python\n",
       "# Function to convert decimal numbers to Greek numerals\n",
       "def decimal_to_greek(num):\n",
       "    greek_numerals = {\n",
       "        1: 'α',\n",
       "        2: 'β',\n",
       "        3: 'γ',\n",
       "        4: 'δ',\n",
       "        5: 'ε',\n",
       "        6: 'ϛ',\n",
       "        7: 'ζ',\n",
       "        8: 'η',\n",
       "        9: 'θ',\n",
       "        10: 'ι',\n",
       "        20: 'κ',\n",
       "        30: 'λ',\n",
       "        40: 'μ',\n",
       "        50: 'ν',\n",
       "        60: 'ξ',\n",
       "        70: 'ο',\n",
       "        80: 'π',\n",
       "        90: 'ϙ',\n",
       "        100: 'ρ',\n",
       "        200: 'σ',\n",
       "        300: 'τ',\n",
       "        400: 'υ',\n",
       "        500: 'φ',\n",
       "        600: 'χ',\n",
       "        700: 'ψ',\n",
       "        800: 'ω',\n",
       "        900: 'ϡ'\n",
       "    }\n",
       "    result = ''\n",
       "    for value in sorted(greek_numerals.keys(), reverse=True):\n",
       "        while num >= value:\n",
       "            result += greek_numerals[value]\n",
       "            num -= value\n",
       "    return result\n",
       "\n",
       "# Function to convert decimal numbers to Roman numerals\n",
       "def decimal_to_roman(num):\n",
       "    roman_numerals = {\n",
       "        1: 'I',\n",
       "        4: 'IV',\n",
       "        5: 'V',\n",
       "        9: 'IX',\n",
       "        10: 'X',\n",
       "        40: 'XL',\n",
       "        50: 'L',\n",
       "        90: 'XC',\n",
       "        100: 'C',\n",
       "        400: 'CD',\n",
       "        500: 'D',\n",
       "        900: 'CM',\n",
       "        1000: 'M'\n",
       "    }\n",
       "    result = ''\n",
       "    for value in sorted(roman_numerals.keys(), reverse=True):\n",
       "        while num >= value:\n",
       "            result += roman_numerals[value]\n",
       "            num -= value\n",
       "    return result\n",
       "```\n",
       "\n",
       "You can call these functions with a decimal number as an argument, like this:\n",
       "\n",
       "```python\n",
       "print(decimal_to_greek(1234)) # Output: 'ρκλδ'\n",
       "print(decimal_to_roman(1234)) # Output: 'MCCXXXIV'\n",
       "```\n",
       "\n",
       "Note that these functions only work for decimal numbers up to 1000."
      ],
      "text/plain": [
       "<IPython.core.display.Markdown object>"
      ]
     },
     "metadata": {},
     "output_type": "display_data"
    }
   ],
   "source": [
    "%%ai_continue\n",
    "would you please write down python function converting decimal numbers to greek and roman "
   ]
  },
  {
   "attachments": {},
   "cell_type": "markdown",
   "id": "baca0ed2",
   "metadata": {},
   "source": [
    "## 課題\n",
    "### (1) Wikipediaの解説を元に妥当性を検討せよ\n",
    "\n",
    "* [Greek numerals - Wikipedia](https://en.wikipedia.org/wiki/Greek_numerals)\n",
    "* [Roman numerals - Wikipedia](https://en.wikipedia.org/wiki/Roman_numerals)"
   ]
  },
  {
   "attachments": {},
   "cell_type": "markdown",
   "id": "e6991d6e",
   "metadata": {},
   "source": [
    "### (2) Pythonの組み込み関数で変換可能か調査し状況を考察せよ"
   ]
  },
  {
   "cell_type": "code",
   "execution_count": null,
   "id": "5b8ea388-cc35-4cf2-8c5f-d27e49038bdc",
   "metadata": {},
   "outputs": [],
   "source": []
  }
 ],
 "metadata": {
  "kernelspec": {
   "display_name": "Python 3 (ipykernel)",
   "language": "python",
   "name": "python3"
  },
  "language_info": {
   "codemirror_mode": {
    "name": "ipython",
    "version": 3
   },
   "file_extension": ".py",
   "mimetype": "text/x-python",
   "name": "python",
   "nbconvert_exporter": "python",
   "pygments_lexer": "ipython3",
   "version": "3.10.10"
  }
 },
 "nbformat": 4,
 "nbformat_minor": 5
}
