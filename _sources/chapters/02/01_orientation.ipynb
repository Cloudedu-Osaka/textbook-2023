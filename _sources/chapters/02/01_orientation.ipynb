{
 "cells": [
  {
   "cell_type": "markdown",
   "id": "894ae76f-86f2-4d59-9e12-26a87cb07549",
   "metadata": {
    "tags": []
   },
   "source": [
    "# 第二回\n",
    "\n",
    "1. 同意書の回収\n",
    "1. BYOPCの設定\n",
    "1. CLEのアンケート\n",
    "1. ChatGPT (OpenAI)\n",
    "1. Jupyter BookとJupyterLab\n",
    "1. 自己紹介\n",
    "    - AIについてAIに聞いてみたかったこととその回答の感想\n",
    "1. 先週のassignmentの解説\n",
    "1. 今週の授業\n",
    "1. 来週の授業"
   ]
  },
  {
   "cell_type": "markdown",
   "id": "192fe1cf-ac3e-44d5-a32b-a7077ea417ce",
   "metadata": {
    "jp-MarkdownHeadingCollapsed": true,
    "tags": []
   },
   "source": [
    "## 同意書の回収"
   ]
  },
  {
   "cell_type": "markdown",
   "id": "ed6a3086-72a3-40f3-b01e-ccd010ab4ea1",
   "metadata": {
    "jp-MarkdownHeadingCollapsed": true,
    "tags": []
   },
   "source": [
    "## BYOPCの設定\n",
    "\n",
    "- Wi-Fi (SSID: odins-1x)\n",
    "    - 繋がらない時はキヨスクブースへ (窓側に4台)\n",
    "- セカンダリディスプレイ\n",
    "    - USB-C to HDMI変換アダプタ貸出"
   ]
  },
  {
   "cell_type": "code",
   "execution_count": 8,
   "id": "e120b22a-a26f-45a3-9a16-83ee43391d20",
   "metadata": {
    "tags": []
   },
   "outputs": [
    {
     "data": {
      "text/markdown": [
       "申し訳ありませんが、私はあなたの問題を理解できません。詳細を提供していただけますか？何をしようとしていて、どのようなエラーが発生しているのか、など。可能であれば、英語で提供していただけると幸いです。"
      ],
      "text/plain": [
       "<IPython.core.display.Markdown object>"
      ]
     },
     "metadata": {},
     "output_type": "display_data"
    }
   ],
   "source": [
    "%%ai_ask\n",
    "odins-1xが繋がらない"
   ]
  },
  {
   "cell_type": "code",
   "execution_count": 10,
   "id": "822e36e4-27c2-4946-845b-413ffef99e2c",
   "metadata": {
    "tags": []
   },
   "outputs": [
    {
     "data": {
      "text/markdown": [
       "申し訳ありません。以下は、問題をトラブルシューティングするために試すことができるいくつかの手順です。\n",
       "\n",
       "1. デバイスのWi-Fiがオンになっていることを確認してください。\n",
       "2. Wi-Fiネットワークの範囲内にいることを確認してください。\n",
       "3. 正しいWi-Fiネットワークに接続していることを確認してください。複数のネットワークが利用可能な場合があります。\n",
       "4. ネットワークを忘れて再接続してみてください。ネットワークを忘れるには、Wi-Fi設定に移動し、ネットワークを見つけて、「このネットワークを忘れる」を選択します。その後、再接続してみてください。\n",
       "5. 上記の手順がいずれも機能しない場合は、デバイスを再起動してからネットワークに再接続してみてください。\n",
       "\n",
       "それでも接続できない場合は、大阪大学のIT部門に連絡して、さらなる支援を受けるこ"
      ],
      "text/plain": [
       "<IPython.core.display.Markdown object>"
      ]
     },
     "metadata": {},
     "output_type": "display_data"
    }
   ],
   "source": [
    "%%ai_continue\n",
    "阪大のWi-Fiに繋がらない"
   ]
  },
  {
   "cell_type": "code",
   "execution_count": 11,
   "id": "462a90ef-720c-45b5-bafd-3ef92d5130b3",
   "metadata": {
    "tags": []
   },
   "outputs": [
    {
     "data": {
      "text/markdown": [
       "USB-C to HDMIアダプターを使用することで、SurfaceやMacBookのUSB-CポートをHDMIモニタに接続することができます。アダプターを接続した後、HDMIケーブルをアダプターに接続するだけです。"
      ],
      "text/plain": [
       "<IPython.core.display.Markdown object>"
      ]
     },
     "metadata": {},
     "output_type": "display_data"
    }
   ],
   "source": [
    "%%ai_ask\n",
    "SurfaceやMacBookにUSB-CしかないけどHDMIのモニタに接続したい"
   ]
  },
  {
   "cell_type": "code",
   "execution_count": null,
   "id": "4afc698e-f1eb-40b5-8178-992dc7d5f2d8",
   "metadata": {},
   "outputs": [],
   "source": []
  },
  {
   "cell_type": "code",
   "execution_count": null,
   "id": "7565f729-cc58-42b2-b398-5ffabbdaa2e0",
   "metadata": {},
   "outputs": [],
   "source": []
  },
  {
   "cell_type": "code",
   "execution_count": null,
   "id": "3212f78c-626a-4864-ab3a-44698933fa4b",
   "metadata": {},
   "outputs": [],
   "source": []
  },
  {
   "cell_type": "markdown",
   "id": "b627388b-d245-424b-8bf4-d13298df4504",
   "metadata": {
    "jp-MarkdownHeadingCollapsed": true,
    "tags": []
   },
   "source": [
    "## CLEのアンケート\n",
    "\n",
    "本授業のアンケートを掲載しています。出席の代わりに回答をお願いします。回答期限は、授業後２週間以内です。"
   ]
  },
  {
   "cell_type": "markdown",
   "id": "9c4bbec7-ee58-4b3a-89e3-9dbe3ad7af43",
   "metadata": {
    "jp-MarkdownHeadingCollapsed": true,
    "tags": []
   },
   "source": [
    "## ChatGPT (OpenAI)\n",
    "\n",
    "- ~~有償プランのOpenAI APIキーの使い方~~\n",
    "- GPT-4対応 (これまではGPT-3.5-Turbo) に先立って、APIキーの入力は不要にしました\n",
    "    - ``%%ai_ask``でチャットを始めて ``%%ai_continue``で続ける\n",
    "    - 回答の妥当性については、Wikipedia (English) とStackExchangeで確認すること\n",
    "- 参考) AIとかChatGPTについて\n",
    "    - [自民党AIの進化と実装に関するプロジェクトチーム｜衆議院議員　塩崎彰久（あきひさ）｜note](https://note.com/akihisa_shiozaki/n/n4c126c27fd3d)\n",
    "        - [0230217_AIの進化と日本の戦略_松尾研.pdf](https://note.com/api/v2/attachments/download/a29a2e6b5b35b75baf42a8025d68c175)"
   ]
  },
  {
   "cell_type": "code",
   "execution_count": 13,
   "id": "b4e6311b-cb38-4d04-b00e-e61a5bf292f5",
   "metadata": {
    "tags": []
   },
   "outputs": [
    {
     "data": {
      "text/markdown": [
       "いいえ、私はWikipediaを情報源として使用していません。私はOpenAIのGPT-3と呼ばれる自然言語処理の人工知能エンジンを使用しています。"
      ],
      "text/plain": [
       "<IPython.core.display.Markdown object>"
      ]
     },
     "metadata": {},
     "output_type": "display_data"
    }
   ],
   "source": [
    "%%ai_ask\n",
    "あなたの情報源はWikipediaですか？"
   ]
  },
  {
   "cell_type": "code",
   "execution_count": 14,
   "id": "2b1cd76d-bfba-4a43-8eaa-a74250e33318",
   "metadata": {
    "tags": []
   },
   "outputs": [
    {
     "data": {
      "text/markdown": [
       "私はStackExchangeを情報源として使用することがありますが、それだけが私の情報源ではありません。私は様々なオンラインリソースや書籍、そして私がプログラミングに関する知識を得るために学んだ経験からも情報を得ています。"
      ],
      "text/plain": [
       "<IPython.core.display.Markdown object>"
      ]
     },
     "metadata": {},
     "output_type": "display_data"
    }
   ],
   "source": [
    "%%ai_continue\n",
    "あなたの情報源はStackExchangeですか？"
   ]
  },
  {
   "cell_type": "code",
   "execution_count": null,
   "id": "44aba3e9-015f-4c2e-a830-20eac6569244",
   "metadata": {},
   "outputs": [],
   "source": []
  },
  {
   "cell_type": "code",
   "execution_count": null,
   "id": "58a581d6-f2a1-4541-b58d-2af3a16804e8",
   "metadata": {},
   "outputs": [],
   "source": []
  },
  {
   "cell_type": "code",
   "execution_count": null,
   "id": "19b18957-e317-434c-a5d2-84a97dc44dc6",
   "metadata": {},
   "outputs": [],
   "source": []
  },
  {
   "cell_type": "markdown",
   "id": "9f0a1696-c19a-4d63-96e0-2ff3cd05923b",
   "metadata": {
    "jp-MarkdownHeadingCollapsed": true,
    "tags": []
   },
   "source": [
    "## Jupyter BookとJupyterHub\n",
    "\n",
    "- Jupyter Book\n",
    "  - https://cloudedu-osaka.github.io/textbook-2023/\n",
    "    - 教材の配信のみ、プログラムの実行はできない\n",
    "    - 画面上のロケットのアイコンからJupyterHubをアクセスすると配布した教材が実行可能になる\n",
    "- JupyterHub\n",
    "  - https://ecsosaka-jh2310.japaneast.cloudapp.azure.com/\n",
    "    - Jupyterノートブックによる対話的なプログラミング環境\n",
    "    - Jupyter Bookと連携して配布教材の対話的な実行が可能になる\n",
    "    - 自動保存、自動切断されるのでいつでも切ってよいです"
   ]
  },
  {
   "cell_type": "code",
   "execution_count": 12,
   "id": "1a9795ad-fd36-4a6c-afa9-d6bd5d26125a",
   "metadata": {
    "tags": []
   },
   "outputs": [
    {
     "data": {
      "text/markdown": [
       "Jupyter Bookは、Jupyter Notebookを使用して書かれたドキュメントを出版物として公開するためのオープンソースのツールです。Jupyter Bookを使用すると、複数のNotebookを組み合わせて、HTML、PDF、EPUBなどの形式で出版物を作成することができます。また、Jupyter Bookは、GitHub PagesやNetlifyなどの静的サイトホスティングサービスを使用して、オンラインで公開することもできます。Jupyter Bookは、教育、研究、技術文書など、さまざまな分野で使用されています。"
      ],
      "text/plain": [
       "<IPython.core.display.Markdown object>"
      ]
     },
     "metadata": {},
     "output_type": "display_data"
    }
   ],
   "source": [
    "%%ai_ask\n",
    "Jupyter Bookについて"
   ]
  },
  {
   "cell_type": "code",
   "execution_count": 13,
   "id": "c2edb11f-066b-4e5a-ad2a-d96a0f4e169b",
   "metadata": {
    "tags": []
   },
   "outputs": [
    {
     "data": {
      "text/markdown": [
       "JupyterHubは、複数のユーザーが共有できるJupyter Notebookサーバーを管理するためのオープンソースのツールです。JupyterHubを使用すると、複数のユーザーが同時にJupyter Notebookを使用できます。各ユーザーは、自分専用のホームディレクトリを持ち、自分のNotebookを作成、編集、実行することができます。また、JupyterHubは、ユーザーの認証やアクセス制御を管理するための機能も提供しています。JupyterHubは、教育、研究、データサイエンスなど、さまざまな分野で使用されています。"
      ],
      "text/plain": [
       "<IPython.core.display.Markdown object>"
      ]
     },
     "metadata": {},
     "output_type": "display_data"
    }
   ],
   "source": [
    "%%ai_continue\n",
    "JupyterHubについて"
   ]
  },
  {
   "cell_type": "code",
   "execution_count": null,
   "id": "e317a7e2-0e9e-4e10-bc89-1fbfa4a5b16f",
   "metadata": {},
   "outputs": [],
   "source": []
  },
  {
   "cell_type": "code",
   "execution_count": null,
   "id": "e3e682d6-44a6-4a3c-a7a5-d006bf820971",
   "metadata": {},
   "outputs": [],
   "source": []
  },
  {
   "cell_type": "code",
   "execution_count": null,
   "id": "03eb430c-8c9b-4c9a-9257-f915215946b8",
   "metadata": {},
   "outputs": [],
   "source": []
  },
  {
   "cell_type": "markdown",
   "id": "46c2b353-0dbd-4bc9-9873-7613c00b51bc",
   "metadata": {
    "jp-MarkdownHeadingCollapsed": true,
    "tags": []
   },
   "source": [
    "## JupyterLabの使い方\n",
    "\n",
    "JupyterLabは、JupyterHubに接続したときに表示されるUI (User Interface) です。\n",
    "\n",
    "- セルの状態\n",
    "    - 非選択 (他のセルが選択されている)\n",
    "    - [コマンドモード] 選択 (ダブルクリックで入力可状態へ)\n",
    "    - [編集 (入力) モード] 選択+入力可 (Shift+Enterで実行し非選択状態へ)\n",
    "- セルの追加\n",
    "    - 「+」アイコン\n",
    "- コピペ (選択)\n",
    "    - 文字 (Ctrl-C, Ctrl-V / Cmd-C, Cmd-V)\n",
    "        - キーボードショートカットのみ\n",
    "    - セル (C, V)\n",
    "        - メニューからも実行可\n",
    "- 自動保存とカリング\n",
    "    - 変更は自動的に保存されます\n",
    "    - 小一時間ほど放置すると自動的に切断されます"
   ]
  },
  {
   "cell_type": "code",
   "execution_count": 5,
   "id": "0f8fe282-d492-47e6-b477-8969b86d1aa2",
   "metadata": {
    "tags": []
   },
   "outputs": [
    {
     "data": {
      "text/markdown": [
       "JupyterLabでは、マウスでセルをクリックすることで選択できます。選択されたセルは青色でハイライトされます。また、選択されたセルの状態には、入力モードとコマンドモードがあります。入力モードでは、セル内にテキストを入力できます。コマンドモードでは、セルの操作や編集を行うことができます。コマンドモードに移行するには、Escキーを押します。入力モードに移行するには、Enterキーを押します。"
      ],
      "text/plain": [
       "<IPython.core.display.Markdown object>"
      ]
     },
     "metadata": {},
     "output_type": "display_data"
    }
   ],
   "source": [
    "%%ai_ask\n",
    "JupyterLabのセルの選択と状態について"
   ]
  },
  {
   "cell_type": "code",
   "execution_count": 6,
   "id": "4ac82ea0-87bd-470d-aca9-7c3115208e78",
   "metadata": {
    "tags": []
   },
   "outputs": [
    {
     "data": {
      "text/markdown": [
       "JupyterLabで新しいセルを追加するには、以下の手順を実行します。\n",
       "\n",
       "1. 現在のセルの下に新しいセルを追加する場合は、現在のセルを選択します。新しいセルを現在のセルの下に追加する場合は、現在のセルの下にカーソルを移動します。\n",
       "2. セルの追加ボタンをクリックします。ボタンは、セルの上にある「+」アイコンです。\n",
       "3. 新しいセルが追加されます。新しいセルは、現在のセルの下に追加されます。\n",
       "\n",
       "また、セルのタイプを選択することもできます。新しいセルを追加する前に、ドロップダウンメニューからコードセル、マークダウンセル、またはその他のセルタイプを選択することができます。"
      ],
      "text/plain": [
       "<IPython.core.display.Markdown object>"
      ]
     },
     "metadata": {},
     "output_type": "display_data"
    }
   ],
   "source": [
    "%%ai_continue\n",
    "JupyterLabのセルの追加について"
   ]
  },
  {
   "cell_type": "code",
   "execution_count": 7,
   "id": "73d2e8ac-50a6-438c-81c2-8af3b198f472",
   "metadata": {
    "tags": []
   },
   "outputs": [
    {
     "data": {
      "text/markdown": [
       "JupyterLabでのコピーアンドペーストには、以下の方法があります。\n",
       "\n",
       "1. マウスを使用する方法：コピーしたいテキストを選択し、右クリックしてコンテキストメニューから「コピー」を選択します。ペーストしたい場所で右クリックして、コンテキストメニューから「ペースト」を選択します。\n",
       "\n",
       "2. キーボードを使用する方法：コピーしたいテキストを選択し、Ctrl + C（Windows / Linux）またはCommand + C（Mac）を押します。ペーストしたい場所でCtrl + V（Windows / Linux）またはCommand + V（Mac）を押します。\n",
       "\n",
       "また、複数のセルをコピーする場合は、複数のセルを選択し、右クリックしてコンテキストメニューから「コピー」を選択します。ペーストしたい場所で右クリックして、コンテキストメニューから「ペースト」を選択します。複数のセルを一度に貼り付けることができます。"
      ],
      "text/plain": [
       "<IPython.core.display.Markdown object>"
      ]
     },
     "metadata": {},
     "output_type": "display_data"
    }
   ],
   "source": [
    "%%ai_continue\n",
    "JupyterLabのコピペについて"
   ]
  },
  {
   "cell_type": "code",
   "execution_count": 8,
   "id": "02535409-1949-4af0-b4e7-753bc167f9e7",
   "metadata": {
    "tags": []
   },
   "outputs": [
    {
     "data": {
      "text/markdown": [
       "カリングとは、データセットから不要なデータを取り除くことを指します。不要なデータとは、例えば欠損値が多いデータ、外れ値があるデータ、重複したデータ、または分析に必要のないデータなどです。カリングを行うことで、データの品質を向上させ、分析の精度を高めることができます。ただし、カリングを行いすぎると、データの特徴を見失うことがあるため、適切なバランスを保つ必要があります。"
      ],
      "text/plain": [
       "<IPython.core.display.Markdown object>"
      ]
     },
     "metadata": {},
     "output_type": "display_data"
    }
   ],
   "source": [
    "%%ai_continue\n",
    "カリングとは？"
   ]
  },
  {
   "cell_type": "code",
   "execution_count": 9,
   "id": "af7eaa93-3cc1-4ee3-85a8-5fbd905307e5",
   "metadata": {
    "tags": []
   },
   "outputs": [
    {
     "data": {
      "text/markdown": [
       "JupyterHubにおけるカリングは、ユーザーアカウントやサーバーのリソースなど、システム全体の管理を目的として行われます。例えば、使用されていないユーザーアカウントやサーバーのリソースを削除することで、システムのパフォーマンスを向上させることができます。また、セキュリティ上の理由から、不要なユーザーアカウントを削除することも重要です。JupyterHubのカリングは、システム管理者が定期的に実行することが推奨されます。"
      ],
      "text/plain": [
       "<IPython.core.display.Markdown object>"
      ]
     },
     "metadata": {},
     "output_type": "display_data"
    }
   ],
   "source": [
    "%%ai_continue\n",
    "JupyterHubで言うと？"
   ]
  },
  {
   "cell_type": "code",
   "execution_count": 10,
   "id": "2d19be8e-2d04-42a2-b2a6-2858c3e37a52",
   "metadata": {
    "tags": []
   },
   "outputs": [
    {
     "data": {
      "text/markdown": [
       "JupyterHubにおけるカリングの具体的な設定方法は、以下のようになります。\n",
       "\n",
       "1. ユーザーアカウントのカリング：JupyterHubは、ユーザーアカウントのカリングに対応しています。ユーザーアカウントを自動的に削除するためには、JupyterHubの設定ファイル（jupyterhub_config.py）に以下のような設定を追加します。\n",
       "\n",
       "```\n",
       "c.JupyterHub.cleanup_servers = True\n",
       "c.JupyterHub.cleanup_proxy = True\n",
       "c.JupyterHub.last_activity_interval = 1800\n",
       "```\n",
       "\n",
       "上記の設定では、30分間アクティビティがないユーザーアカウントを自動的に削除するようになっています。\n",
       "\n",
       "2. サーバーのリソースのカリング：JupyterHubは、サーバーのリソースのカリングに対応していませんが、Linuxの場合は、cronジョブを使用して定期的に不要なファイルやプロセスを削除することができます。たとえば、以下のようなcronジョブを設定することができます。\n",
       "\n",
       "```\n",
       "0 0 * * * find /path/to/jupyterhub -type f -name '*.log' -mtime +7 -delete\n",
       "```\n",
       "\n",
       "上記の設定では、7日以上前に更新されたログファイルを削除するようになっています。"
      ],
      "text/plain": [
       "<IPython.core.display.Markdown object>"
      ]
     },
     "metadata": {},
     "output_type": "display_data"
    }
   ],
   "source": [
    "%%ai_continue\n",
    "具体的な設定方法は？"
   ]
  },
  {
   "cell_type": "code",
   "execution_count": 12,
   "id": "b01afdc7-1a7f-4f88-a1af-af07f7966118",
   "metadata": {
    "tags": []
   },
   "outputs": [
    {
     "data": {
      "text/markdown": [
       "JupyterHubには、シングルユーザーサーバーを一定時間で自動的に停止する機能があります。この機能を有効にするには、JupyterHubの設定ファイル（jupyterhub_config.py）に以下のような設定を追加します。\n",
       "\n",
       "```\n",
       "c.Spawner.http_timeout = 3600\n",
       "c.Spawner.shutdown_timeout = 3600\n",
       "```\n",
       "\n",
       "上記の設定では、シングルユーザーサーバーが1時間（3600秒）アイドル状態が続いた場合に、自動的に停止するようになっています。ただし、この設定は、すべてのユーザーに影響を与えるため、注意が必要です。また、シングルユーザーサーバーを自動的に停止する前に、ユーザーに通知する機能を実装することもできます。"
      ],
      "text/plain": [
       "<IPython.core.display.Markdown object>"
      ]
     },
     "metadata": {},
     "output_type": "display_data"
    }
   ],
   "source": [
    "%%ai_continue\n",
    "一時間でシングルユーザサーバを停止する機能があるような？"
   ]
  },
  {
   "cell_type": "code",
   "execution_count": null,
   "id": "b1338c67-342c-4b80-bb96-7cb3af3e2730",
   "metadata": {},
   "outputs": [],
   "source": []
  },
  {
   "cell_type": "code",
   "execution_count": null,
   "id": "5b662ad3-c51c-4d38-8d91-b884424796ed",
   "metadata": {},
   "outputs": [],
   "source": []
  },
  {
   "cell_type": "code",
   "execution_count": null,
   "id": "30a861e9-31fb-4495-b755-ded63c822e42",
   "metadata": {},
   "outputs": [],
   "source": []
  },
  {
   "cell_type": "markdown",
   "id": "e85c9be8-a6be-4189-8c5f-71d36815f3f6",
   "metadata": {
    "tags": []
   },
   "source": [
    "## 自己紹介\n",
    "\n",
    "* 名前と所属学部\n",
    "* AIについてAIに聞いてみたかったこと → 回答をどう思ったか"
   ]
  },
  {
   "cell_type": "code",
   "execution_count": 20,
   "id": "899a62a7-8e04-4e5e-8a7e-c929ca8c8af7",
   "metadata": {
    "tags": []
   },
   "outputs": [
    {
     "data": {
      "text/markdown": [
       "ChatGPTは、自然言語処理技術を使用して、人工知能による対話を可能にするための革新的な技術です。プログラミングの授業でChatGPTを使用することは、学生たちにとって非常に有益であると思われます。ChatGPTを使用することで、学生たちは自然言語処理技術の基礎を学ぶことができ、また、プログラミングにおける人工知能の応用についても学ぶことができます。ChatGPTを使用することで、学生たちは、自分たちでプログラムを作成することなく、人工知能による対話を体験することができます。これは、プログラミングの初心者にとって非常に有益であり、プログラミングの基礎を学ぶための優れた手段となるでしょう。"
      ],
      "text/plain": [
       "<IPython.core.display.Markdown object>"
      ]
     },
     "metadata": {},
     "output_type": "display_data"
    }
   ],
   "source": [
    "%%ai_ask\n",
    "ChatGPTをプログラミングの授業に使うことをどう思うか？"
   ]
  },
  {
   "cell_type": "code",
   "execution_count": 16,
   "id": "35afb00a-e3ef-43fb-97f9-09b6861883db",
   "metadata": {
    "tags": []
   },
   "outputs": [
    {
     "data": {
      "text/markdown": [
       "ChatGPT is a program that enables artificial intelligence-based conversation using natural language processing technology. If used in the classroom, students can use ChatGPT to resolve questions or doubts. This could be an efficient learning method as students do not need to research on their own and teachers can quickly respond to students' questions. However, since ChatGPT is not yet perfect and may not always provide accurate answers, it is important for teachers to provide accurate information to students."
      ],
      "text/plain": [
       "<IPython.core.display.Markdown object>"
      ]
     },
     "metadata": {},
     "output_type": "display_data"
    }
   ],
   "source": [
    "%%ai_continue\n",
    "how do you think about using chatgpt in classroom?"
   ]
  },
  {
   "cell_type": "markdown",
   "id": "65410609-e209-4580-b498-d46629cb6ffa",
   "metadata": {},
   "source": [
    "* 参考情報\n",
    "    * [Educator Considerations for ChatGPT - OpenAI API](https://platform.openai.com/docs/chatgpt-education/educator-considerations-for-chatgpt)\n",
    "    * [ChatGPT Has a Big Privacy Problem | WIRED](https://www.wired.com/story/italy-ban-chatgpt-privacy-gdpr/)"
   ]
  },
  {
   "cell_type": "code",
   "execution_count": null,
   "id": "263ceaff-3875-4390-ba89-22616a1cf120",
   "metadata": {},
   "outputs": [],
   "source": []
  },
  {
   "cell_type": "code",
   "execution_count": null,
   "id": "895539b3-62c7-491d-8e6c-b5a125da0024",
   "metadata": {},
   "outputs": [],
   "source": []
  },
  {
   "cell_type": "code",
   "execution_count": null,
   "id": "7f3a23ba-117f-418d-896f-69c362568445",
   "metadata": {},
   "outputs": [],
   "source": []
  }
 ],
 "metadata": {
  "kernelspec": {
   "display_name": "Python 3 (ipykernel)",
   "language": "python",
   "name": "python3"
  },
  "language_info": {
   "codemirror_mode": {
    "name": "ipython",
    "version": 3
   },
   "file_extension": ".py",
   "mimetype": "text/x-python",
   "name": "python",
   "nbconvert_exporter": "python",
   "pygments_lexer": "ipython3",
   "version": "3.10.10"
  }
 },
 "nbformat": 4,
 "nbformat_minor": 5
}
