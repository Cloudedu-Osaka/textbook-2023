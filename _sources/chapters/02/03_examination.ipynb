{
 "cells": [
  {
   "cell_type": "markdown",
   "id": "3c888fa4-9481-4279-8d44-f1a3357660cf",
   "metadata": {
    "nbgrader": {
     "grade": false,
     "grade_id": "cell-157cce00342f65a3",
     "locked": true,
     "schema_version": 3,
     "solution": false,
     "task": false
    },
    "tags": []
   },
   "source": [
    "# 大学入試とAI\n",
    "\n",
    "* 「[東ロボくん - Wikipedia](https://ja.wikipedia.org/wiki/%E6%9D%B1%E3%83%AD%E3%83%9C%E3%81%8F%E3%82%93)」については別の機会に・・・"
   ]
  },
  {
   "cell_type": "markdown",
   "id": "ca12bad4-e7b7-4796-a9e1-c2198b5b000d",
   "metadata": {
    "nbgrader": {
     "grade": false,
     "grade_id": "cell-759ec9d4096a61bc",
     "locked": true,
     "schema_version": 3,
     "solution": false,
     "task": false
    },
    "tags": []
   },
   "source": [
    "## DNCL\n",
    "\n",
    "* [独立行政法人 大学入試センター](https://www.dnc.ac.jp/)\n",
    "    * [共通テスト手順記述標準言語 (DNCL) の説明](https://www.dnc.ac.jp/albums/abm.php?d=67&f=abm00000819.pdf&n=R4_%E5%85%B1%E9%80%9A%E3%83%86%E3%82%B9%E3%83%88%E6%89%8B%E9%A0%86%E8%A8%98%E8%BF%B0%E6%A8%99%E6%BA%96%E8%A8%80%E8%AA%9E%EF%BC%88DNCL%EF%BC%89%E3%81%AE%E8%AA%AC%E6%98%8E.pdf)\n",
    "    * [令和７年度以降の試験に向けた検討について | 独立行政法人 大学入試センター](https://www.dnc.ac.jp/kyotsu/shiken_jouhou/r7ikou/)\n",
    "        * [平成 30 年告示高等学校学習指導要領に対応した令和７年度大学入学共通テストからの出題教科・科目 情報 サンプル問題](https://www.dnc.ac.jp/albums/abm.php?d=33&f=abm00000307.pdf&n=%E3%82%B5%E3%83%B3%E3%83%97%E3%83%AB%E5%95%8F%E9%A1%8C%E3%80%8E%E6%83%85%E5%A0%B1%E3%80%8F_%E5%95%8F%E9%A1%8C.pdf)"
   ]
  },
  {
   "cell_type": "code",
   "execution_count": 1,
   "id": "8e3bb257-3cb2-4828-abfa-d9661bc58125",
   "metadata": {
    "tags": []
   },
   "outputs": [
    {
     "data": {
      "text/markdown": [
       "DNCLとは、Do Not Call Listの略で、電話勧誘に対する希望しない電話を受け取らないようにするためのリストです。このリストに登録された人々は、法的に電話勧誘業者からの電話を受け取ることができません。DNCLは、個人情報保護の観点から、多くの国で導入されています。"
      ],
      "text/plain": [
       "<IPython.core.display.Markdown object>"
      ]
     },
     "metadata": {},
     "output_type": "display_data"
    }
   ],
   "source": [
    "%%ai_ask\n",
    "DNCLについて"
   ]
  },
  {
   "cell_type": "code",
   "execution_count": 2,
   "id": "b9f17a87-1613-47c3-88ff-725188c7827a",
   "metadata": {
    "tags": []
   },
   "outputs": [
    {
     "data": {
      "text/markdown": [
       "日本の大学入試で使われる標準言語は、一般的には日本語です。ただし、コンピューターサイエンスや工学系の学部では、プログラミング言語としてC言語やJavaが使われることがあります。また、英語の試験もあるため、英語力が求められる場合もあります。しかし、大学入試においては、基本的には日本語での筆記試験が中心となります。"
      ],
      "text/plain": [
       "<IPython.core.display.Markdown object>"
      ]
     },
     "metadata": {},
     "output_type": "display_data"
    }
   ],
   "source": [
    "%%ai_continue\n",
    "日本の大学入試で使われる標準言語の方"
   ]
  },
  {
   "cell_type": "markdown",
   "id": "906be911-0257-4127-afe1-bbf5c95f1d75",
   "metadata": {
    "nbgrader": {
     "grade": false,
     "grade_id": "cell-d11ada1e052bee67",
     "locked": true,
     "schema_version": 3,
     "solution": false,
     "task": false
    },
    "tags": []
   },
   "source": [
    "## R7: 情報 サンプル問題 第２問\n",
    "\n",
    "### 問1"
   ]
  },
  {
   "cell_type": "markdown",
   "id": "8c662d5f-f9ce-40b6-9aee-d83aa6e4b898",
   "metadata": {
    "nbgrader": {
     "grade": false,
     "grade_id": "cell-a9444dae5472b88b",
     "locked": true,
     "schema_version": 3,
     "solution": false,
     "task": false
    },
    "tags": []
   },
   "source": [
    "![fig-2-01.png](images/fig-2-01.png)"
   ]
  },
  {
   "cell_type": "markdown",
   "id": "a673ddff-40d2-4eec-93f7-1e631da1172a",
   "metadata": {
    "nbgrader": {
     "grade": false,
     "grade_id": "cell-1ee2a9c359dfa07a",
     "locked": true,
     "schema_version": 3,
     "solution": false,
     "task": false
    },
    "tags": []
   },
   "source": [
    "![fig-2-02.png](images/fig-2-02.png)"
   ]
  },
  {
   "cell_type": "markdown",
   "id": "01b144f6-b388-4915-8760-56c291d07f34",
   "metadata": {
    "nbgrader": {
     "grade": false,
     "grade_id": "cell-3682265862310b81",
     "locked": true,
     "schema_version": 3,
     "solution": false,
     "task": false
    },
    "tags": []
   },
   "source": [
    "## 次のChatGPTとの応答例を参考に上の問題に解答せよ"
   ]
  },
  {
   "cell_type": "code",
   "execution_count": 1,
   "id": "0e0d0d12-e64b-48b9-bdfd-07a23b66f28a",
   "metadata": {
    "tags": []
   },
   "outputs": [
    {
     "data": {
      "text/markdown": [
       "申し訳ありませんが、私は日本の比例代表選挙の基準得票数についての専門知識を持っていません。他に何かお力になれることがあれば、お知らせください。"
      ],
      "text/plain": [
       "<IPython.core.display.Markdown object>"
      ]
     },
     "metadata": {},
     "output_type": "display_data"
    }
   ],
   "source": [
    "%%ai_ask\n",
    "日本の比例代表選挙の基準得票数について"
   ]
  },
  {
   "cell_type": "code",
   "execution_count": 2,
   "id": "edb4a343-6def-4eaa-b9a7-9c96c1f1efc0",
   "metadata": {
    "tags": []
   },
   "outputs": [
    {
     "data": {
      "text/markdown": [
       "組み込み関数を使用してPythonプログラムを作成することは非常に一般的です。組み込み関数には、数学関数（例：abs、round）、文字列関数（例：len、str）、リスト関数（例：max、min）などがあります。これらの関数は、Pythonの標準ライブラリに含まれており、インストールする必要はありません。組み込み関数を使用することで、プログラムをより簡潔に、効率的に書くことができます。"
      ],
      "text/plain": [
       "<IPython.core.display.Markdown object>"
      ]
     },
     "metadata": {},
     "output_type": "display_data"
    }
   ],
   "source": [
    "%%ai_continue\n",
    "pythonでプログラムします。今回は組み込み関数だけ使います。"
   ]
  },
  {
   "cell_type": "code",
   "execution_count": 3,
   "id": "a7f5ea5f-6ce4-4dae-acae-1362fca11597",
   "metadata": {
    "tags": []
   },
   "outputs": [
    {
     "data": {
      "text/markdown": [
       "以下は、Pythonで配列Tomeiに \"A党\", \"B党\", \"C党\", \"D党\" を格納する方法です。Tomeiはタプル（tuple）として定義され、不変（immutable）です。\n",
       "\n",
       "```python\n",
       "Tomei = (\"A党\", \"B党\", \"C党\", \"D党\")\n",
       "```\n",
       "\n",
       "このように、タプルを使用することで、不変な配列を作成することができます。タプルは、リストと同様に複数の要素を格納することができますが、一度定義された後に変更することはできません。"
      ],
      "text/plain": [
       "<IPython.core.display.Markdown object>"
      ]
     },
     "metadata": {},
     "output_type": "display_data"
    }
   ],
   "source": [
    "%%ai_continue\n",
    "配列Tomeiに \"A党\", \"B党\", \"C党\", \"D党\" を格納します。Tomeiは不変です。"
   ]
  },
  {
   "cell_type": "code",
   "execution_count": 4,
   "id": "662ecae7-8f0d-4280-a4b4-f9b25485ad96",
   "metadata": {
    "tags": []
   },
   "outputs": [
    {
     "data": {
      "text/markdown": [
       "Pythonにおいて、不変な配列は「タプル（tuple）」と呼ばれます。タプルは、リストと同様に複数の要素を格納することができますが、一度定義された後に変更することはできません。タプルは、丸括弧（()）で囲まれた要素のカンマ区切りのリストとして定義されます。\n",
       "\n",
       "以下は、タプルの例です。\n",
       "\n",
       "```python\n",
       "my_tuple = (1, 2, 3, 4, 5)\n",
       "```\n",
       "\n",
       "タプルは、リストと同様にインデックスを使用して要素にアクセスすることができます。また、タプルはリストと同様にスライスを使用して部分的な要素を取得することができます。\n",
       "\n",
       "タプルは、リストと比較してメモリ使用量が少なく、処理速度が速いという利点があります。ただし、一度定義された後に変更することができないため、要素の追加や削除が必要な場合は、リストを使用する必要があります。"
      ],
      "text/plain": [
       "<IPython.core.display.Markdown object>"
      ]
     },
     "metadata": {},
     "output_type": "display_data"
    }
   ],
   "source": [
    "%%ai_continue\n",
    "ちなみにpythonにおける不変な配列について"
   ]
  },
  {
   "cell_type": "code",
   "execution_count": 5,
   "id": "4582da2d-c8dc-45b6-b886-d3d8f0e9728c",
   "metadata": {
    "tags": []
   },
   "outputs": [
    {
     "data": {
      "text/markdown": [
       "In Python, immutable arrays are called \"tuples\". Tuples can store multiple elements like lists, but once defined, they cannot be changed. Tuples are defined as a comma-separated list of elements enclosed in parentheses \"()\".\n",
       "\n",
       "Here is an example of a tuple:\n",
       "\n",
       "```python\n",
       "my_tuple = (1, 2, 3, 4, 5)\n",
       "```\n",
       "\n",
       "Like lists, tuples can be accessed using indexes and can use slices to retrieve partial elements.\n",
       "\n",
       "Tuples have the advantage of using less memory and being faster than lists. However, since they cannot be changed once defined, if you need to add or remove elements, you will need to use a list."
      ],
      "text/plain": [
       "<IPython.core.display.Markdown object>"
      ]
     },
     "metadata": {},
     "output_type": "display_data"
    }
   ],
   "source": [
    "%%ai_continue\n",
    "in english"
   ]
  },
  {
   "cell_type": "code",
   "execution_count": 6,
   "id": "6f38ed65-2880-4577-ba6b-80890e268d99",
   "metadata": {
    "tags": []
   },
   "outputs": [
    {
     "data": {
      "text/markdown": [
       "Tomeiの最初の要素を取得するには、インデックス0を使用します。最後の要素を取得するには、インデックス-1を使用します。任意の場所iの要素を取得するには、インデックスi-1を使用します。\n",
       "\n",
       "以下は、PythonでTomeiの最初の要素、最後の要素、および任意の場所iの要素を取得する方法の例です。\n",
       "\n",
       "```python\n",
       "Tomei = (\"A党\", \"B党\", \"C党\", \"D党\")\n",
       "\n",
       "# 最初の要素を取得する\n",
       "first_party = Tomei[0]\n",
       "print(first_party)  # 出力結果: A党\n",
       "\n",
       "# 最後の要素を取得する\n",
       "last_party = Tomei[-1]\n",
       "print(last_party)  # 出力結果: D党\n",
       "\n",
       "# 任意の場所iの要素を取得する\n",
       "i = 2\n",
       "ith_party = Tomei[i-1]\n",
       "print(ith_party)  # 出力結果: C党\n",
       "```\n",
       "\n",
       "このように、タプルの要素にはインデックスを使用してアクセスすることができます。"
      ],
      "text/plain": [
       "<IPython.core.display.Markdown object>"
      ]
     },
     "metadata": {},
     "output_type": "display_data"
    }
   ],
   "source": [
    "%%ai_continue\n",
    "Tomeiの最初の要素、最後の要素の取り出し方を説明してください。また、任意の場所iの要素の取り出し方も教えてください。"
   ]
  },
  {
   "cell_type": "code",
   "execution_count": 7,
   "id": "d3fd5049-cbf3-426b-9f3b-c596ddc7d700",
   "metadata": {
    "tags": []
   },
   "outputs": [
    {
     "data": {
      "text/markdown": [
       "以下は、Pythonで配列Tokuhyoに 1200, 660, 1440, 180 を格納する方法です。Tokuhyoはタプル（tuple）として定義され、不変（immutable）です。\n",
       "\n",
       "```python\n",
       "Tokuhyo = (1200, 660, 1440, 180)\n",
       "```\n",
       "\n",
       "このように、タプルを使用することで、不変な配列を作成することができます。タプルは、リストと同様に複数の要素を格納することができますが、一度定義された後に変更することはできません。"
      ],
      "text/plain": [
       "<IPython.core.display.Markdown object>"
      ]
     },
     "metadata": {},
     "output_type": "display_data"
    }
   ],
   "source": [
    "%%ai_continue\n",
    "次に、配列Tokuhyoに 1200, 660, 1440, 180 を格納します。Tokuhyoも不変です。"
   ]
  },
  {
   "cell_type": "code",
   "execution_count": 8,
   "id": "1a0cad2c-a1f6-4451-8ac9-cdcc91948d10",
   "metadata": {
    "tags": []
   },
   "outputs": [
    {
     "data": {
      "text/markdown": [
       "以下は、Pythonで変数`sousuu`を0で初期化し、`Tokuhyo`の総計を求めて`sousuu`に格納するプログラムの例です。\n",
       "\n",
       "```python\n",
       "Tokuhyo = (1200, 660, 1440, 180)\n",
       "sousuu = 0\n",
       "\n",
       "for i in Tokuhyo:\n",
       "    sousuu += i\n",
       "\n",
       "print(sousuu)  # 出力結果: 3480\n",
       "```\n",
       "\n",
       "このプログラムでは、`Tokuhyo`の各要素をループで処理し、`sousuu`に加算していきます。最終的に、`sousuu`には`Tokuhyo`の総計が格納されます。"
      ],
      "text/plain": [
       "<IPython.core.display.Markdown object>"
      ]
     },
     "metadata": {},
     "output_type": "display_data"
    }
   ],
   "source": [
    "%%ai_continue\n",
    "変数sousuuを0で初期化し、Tokuhyoの総計を求めてsousuuに格納するプログラムを書いてください。"
   ]
  },
  {
   "cell_type": "code",
   "execution_count": 9,
   "id": "9a782f03-a290-472d-b537-c00b1ec5afd2",
   "metadata": {
    "tags": []
   },
   "outputs": [
    {
     "data": {
      "text/markdown": [
       "以下は、Pythonで変数`sousuu`を0で初期化し、`Tokuhyo`の総計を求めて`sousuu`に格納するプログラムの例です。このプログラムでは、for文を使用してループ変数を添字として`Tokuhyo`の各要素をアクセスしています。\n",
       "\n",
       "```python\n",
       "Tokuhyo = (1200, 660, 1440, 180)\n",
       "sousuu = 0\n",
       "\n",
       "for i in range(len(Tokuhyo)):\n",
       "    sousuu += Tokuhyo[i]\n",
       "\n",
       "print(sousuu)  # 出力結果: 3480\n",
       "```\n",
       "\n",
       "このプログラムでは、`range(len(Tokuhyo))`を使用して、`Tokuhyo`のインデックスをループ変数として取得しています。ループ内で、`Tokuhyo[i]`を使用して、各要素にアクセスし、`sousuu`に加算していきます。最終的に、`sousuu`には`Tokuhyo`の総計が格納されます。"
      ],
      "text/plain": [
       "<IPython.core.display.Markdown object>"
      ]
     },
     "metadata": {},
     "output_type": "display_data"
    }
   ],
   "source": [
    "%%ai_continue\n",
    "変数sousuuを0で初期化し、Tokuhyoの総計を求めてsousuuに格納するプログラムを書いてください。\n",
    "その際、for文を使ってループ変数を添字としてTokuhyoの各要素をアクセスしてください。"
   ]
  },
  {
   "cell_type": "code",
   "execution_count": 10,
   "id": "9a51eb75-d81f-4f36-90b9-80ac2ac8061c",
   "metadata": {
    "tags": []
   },
   "outputs": [
    {
     "data": {
      "text/markdown": [
       "はい、組み込み関数を使用することで、より簡潔にプログラムを書くことができます。例えば、`sum()`関数を使用することで、配列の総計を簡単に計算することができます。\n",
       "\n",
       "以下は、Pythonで`sum()`関数を使用して、`Tokuhyo`の総計を求めるプログラムの例です。\n",
       "\n",
       "```python\n",
       "Tokuhyo = (1200, 660, 1440, 180)\n",
       "sousuu = sum(Tokuhyo)\n",
       "\n",
       "print(sousuu)  # 出力結果: 3480\n",
       "```\n",
       "\n",
       "このように、`sum()`関数を使用することで、ループを使用する必要がなく、より簡潔なプログラムを書くことができます。"
      ],
      "text/plain": [
       "<IPython.core.display.Markdown object>"
      ]
     },
     "metadata": {},
     "output_type": "display_data"
    }
   ],
   "source": [
    "%%ai_continue\n",
    "参考までに、組み込み関数を使うと簡略化できますか？"
   ]
  },
  {
   "cell_type": "code",
   "execution_count": 11,
   "id": "eb50c091-656e-4888-b17a-2d98a87b3108",
   "metadata": {
    "tags": []
   },
   "outputs": [
    {
     "data": {
      "text/markdown": [
       "以下は、Pythonで変数`giseki`を導入し6で初期化し、`kizyunsuu`に`sousuu`を`giseki`で割った値を格納するプログラムの例です。\n",
       "\n",
       "```python\n",
       "Tokuhyo = (1200, 660, 1440, 180)\n",
       "sousuu = sum(Tokuhyo)\n",
       "giseki = 6\n",
       "kizyunsuu = sousuu / giseki\n",
       "\n",
       "print(kizyunsuu)  # 出力結果: 580.0\n",
       "```\n",
       "\n",
       "このプログラムでは、`giseki`を6で初期化し、`sousuu`を`giseki`で割った値を`kizyunsuu`に格納しています。最終的に、`kizyunsuu`には`sousuu`を`giseki`で割った値が格納されます。"
      ],
      "text/plain": [
       "<IPython.core.display.Markdown object>"
      ]
     },
     "metadata": {},
     "output_type": "display_data"
    }
   ],
   "source": [
    "%%ai_continue\n",
    "次に、変数gisekiを導入し6で初期化してください。gisekiは定数です。変数kizyunsuuにsousuuをgisekiで割った値を格納してください。"
   ]
  },
  {
   "cell_type": "code",
   "execution_count": 12,
   "id": "331a1b31-474c-4c07-ba8d-e3d00829e518",
   "metadata": {
    "tags": []
   },
   "outputs": [
    {
     "data": {
      "text/markdown": [
       "以下は、Pythonで`Tokuhyo`の各要素を`kizyunsuu`で割り、`Tomei`の値をラベルにして表示するプログラムの例です。\n",
       "\n",
       "```python\n",
       "Tokuhyo = (1200, 660, 1440, 180)\n",
       "sousuu = sum(Tokuhyo)\n",
       "giseki = 6\n",
       "kizyunsuu = sousuu / giseki\n",
       "Tomei = (\"A党\", \"B党\", \"C党\", \"D党\")\n",
       "\n",
       "for i in range(len(Tokuhyo)):\n",
       "    ratio = Tokuhyo[i] / kizyunsuu\n",
       "    label = Tomei[i]\n",
       "    print(f\"{label}: {ratio:.2f}\")\n",
       "\n",
       "# 出力結果:\n",
       "# A党: 2.07\n",
       "# B党: 1.14\n",
       "# C党: 2.48\n",
       "# D党: 0.31\n",
       "```\n",
       "\n",
       "このプログラムでは、`Tokuhyo`の各要素を`kizyunsuu`で割り、`Tomei`の値をラベルにして表示しています。ループ内で、`Tokuhyo[i] / kizyunsuu`を使用して、各要素を`kizyunsuu`で割った値を計算し、`Tomei[i]`を使用して、各要素に対応するラベルを取得しています。最終的に、`print()`関数を使用して、ラベルと割合を表示しています。"
      ],
      "text/plain": [
       "<IPython.core.display.Markdown object>"
      ]
     },
     "metadata": {},
     "output_type": "display_data"
    }
   ],
   "source": [
    "%%ai_continue\n",
    "最後に、Tokuhyoの各要素をkizyunsuuで割って、Tomeiの値をラベルにして表示してください。"
   ]
  },
  {
   "cell_type": "code",
   "execution_count": 13,
   "id": "00797e78-19cd-4173-8fee-2998bff7273a",
   "metadata": {
    "tags": []
   },
   "outputs": [
    {
     "name": "stdout",
     "output_type": "stream",
     "text": [
      "A党: 2.07\n",
      "B党: 1.14\n",
      "C党: 2.48\n",
      "D党: 0.31\n"
     ]
    }
   ],
   "source": [
    "Tokuhyo = (1200, 660, 1440, 180)\n",
    "sousuu = sum(Tokuhyo)\n",
    "giseki = 6\n",
    "kizyunsuu = sousuu / giseki\n",
    "Tomei = (\"A党\", \"B党\", \"C党\", \"D党\")\n",
    "\n",
    "for i in range(len(Tokuhyo)):\n",
    "    ratio = Tokuhyo[i] / kizyunsuu\n",
    "    label = Tomei[i]\n",
    "    print(f\"{label}: {ratio:.2f}\")"
   ]
  },
  {
   "cell_type": "code",
   "execution_count": null,
   "id": "faba5d3a-9496-4200-858a-7480e8a0d5cf",
   "metadata": {},
   "outputs": [],
   "source": []
  },
  {
   "cell_type": "markdown",
   "id": "62437419-dcfc-4a0b-92d0-5d4089532a8c",
   "metadata": {},
   "source": [
    "---\n",
    "## 回答\n",
    "\n",
    "次のセルの \"ア\", \"イ\", \"ウ\" の値が ```\"_\"``` になっています。 \n",
    "ダブルクオーテーション ```\"``` で囲まれたアンダースコア ```_``` を回答 (半角英数字一文字) に書き換えて、\n",
    "ツールバーの \"Validate\" を押してください。\n",
    "ブルートフォースアタックができないように、応答が出るまで時間が掛かります。\n",
    "すべて正答であれば \"Success! Your notebook passes all the tests.\" と表示されます。"
   ]
  },
  {
   "cell_type": "code",
   "execution_count": 17,
   "id": "d242f7b0-8fc7-44ca-9d75-d4133976684f",
   "metadata": {},
   "outputs": [],
   "source": [
    "your_answer = {\n",
    "  \"ア\": \"_\",\n",
    "  \"イ\": \"_\",\n",
    "  \"ウ\": \"_\",\n",
    "}"
   ]
  },
  {
   "cell_type": "code",
   "execution_count": 16,
   "id": "7f37f98c-cfa7-47fe-9aea-22cbaecb855d",
   "metadata": {
    "tags": []
   },
   "outputs": [
    {
     "data": {
      "text/markdown": [
       "ブルートフォースアタックとは、パスワードや暗号化されたデータを解読するために、すべての可能性のある組み合わせを試行する攻撃手法です。攻撃者は、自動化されたツールを使用して、パスワードや暗号化されたデータを繰り返し試行し、正しいものを見つけることを目的としています。この攻撃手法は、強力なパスワードや暗号化が使用されていない場合に特に有効です。"
      ],
      "text/plain": [
       "<IPython.core.display.Markdown object>"
      ]
     },
     "metadata": {},
     "output_type": "display_data"
    }
   ],
   "source": [
    "%%ai_ask\n",
    "ブルートフォースアタックとは"
   ]
  },
  {
   "cell_type": "markdown",
   "id": "5e14f69a-0328-459b-923b-04ae324f2a01",
   "metadata": {
    "tags": []
   },
   "source": [
    "---\n",
    "以下、採点用のセルにつき編集できない"
   ]
  },
  {
   "cell_type": "code",
   "execution_count": 18,
   "id": "cc393f53-9a36-480a-ac54-42d19d7e096c",
   "metadata": {
    "nbgrader": {
     "grade": false,
     "grade_id": "cell-2e55a9241d0e2e1f",
     "locked": true,
     "schema_version": 3,
     "solution": false,
     "task": false
    },
    "tags": []
   },
   "outputs": [],
   "source": [
    "import hashlib\n",
    "validate = {}\n",
    "validate[\"ア\"] = hashlib.md5(your_answer[\"ア\"].encode('utf-8')).hexdigest()\n",
    "validate[\"イ\"] = hashlib.md5(your_answer[\"イ\"].encode('utf-8')).hexdigest()\n",
    "validate[\"ウ\"] = hashlib.md5(your_answer[\"ウ\"].encode('utf-8')).hexdigest()"
   ]
  },
  {
   "cell_type": "code",
   "execution_count": 19,
   "id": "a5304890-44ba-439f-9951-999ded931735",
   "metadata": {
    "nbgrader": {
     "grade": true,
     "grade_id": "cell-0b6f370a8adb5128",
     "locked": true,
     "points": 0,
     "schema_version": 3,
     "solution": false,
     "task": false
    },
    "tags": []
   },
   "outputs": [
    {
     "name": "stdout",
     "output_type": "stream",
     "text": [
      "eccbc87e4b5ce2fe28308fd9f2a7baf3\n",
      "c9f0f895fb98ab9159f51fd0297e236d\n",
      "92eb5ffee6ae2fec3ad71c777531578f\n"
     ]
    }
   ],
   "source": [
    "### BEGIN HIDDEN TESTS\n",
    "print(hashlib.md5(\"3\".encode('utf-8')).hexdigest())\n",
    "print(hashlib.md5(\"8\".encode('utf-8')).hexdigest())\n",
    "print(hashlib.md5(\"b\".encode('utf-8')).hexdigest())\n",
    "### END HIDDEN TESTS"
   ]
  },
  {
   "cell_type": "code",
   "execution_count": 20,
   "id": "44257a80-84ed-45f5-b311-be52ed5640f7",
   "metadata": {
    "nbgrader": {
     "grade": true,
     "grade_id": "cell-78f3cbf5f3a78f54",
     "locked": true,
     "points": 1,
     "schema_version": 3,
     "solution": false,
     "task": false
    },
    "tags": []
   },
   "outputs": [],
   "source": [
    "assert validate[\"ア\"] == \"eccbc87e4b5ce2fe28308fd9f2a7baf3\"\n",
    "assert validate[\"イ\"] == \"c9f0f895fb98ab9159f51fd0297e236d\"\n",
    "assert validate[\"ウ\"] == \"92eb5ffee6ae2fec3ad71c777531578f\""
   ]
  },
  {
   "cell_type": "code",
   "execution_count": null,
   "id": "de6f2e15-03af-480c-9849-6d67c3d20238",
   "metadata": {},
   "outputs": [],
   "source": []
  }
 ],
 "metadata": {
  "kernelspec": {
   "display_name": "Python 3 (ipykernel)",
   "language": "python",
   "name": "python3"
  },
  "language_info": {
   "codemirror_mode": {
    "name": "ipython",
    "version": 3
   },
   "file_extension": ".py",
   "mimetype": "text/x-python",
   "name": "python",
   "nbconvert_exporter": "python",
   "pygments_lexer": "ipython3",
   "version": "3.10.10"
  }
 },
 "nbformat": 4,
 "nbformat_minor": 5
}
