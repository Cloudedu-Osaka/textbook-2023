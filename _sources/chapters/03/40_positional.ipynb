{
 "cells": [
  {
   "cell_type": "markdown",
   "id": "b0f6794f-57a0-4d98-b050-13db924f4e8e",
   "metadata": {},
   "source": [
    "# 位取り記法の断絶と再興\n",
    "\n",
    "* [Positional notation - Wikipedia](https://en.wikipedia.org/wiki/Positional_notation) (Place-value notation)\n",
    "  - [Babylonian cuneiform numerals - Wikipedia](https://en.wikipedia.org/wiki/Babylonian_cuneiform_numerals)\n",
    "* [Sign-value notation - Wikipedia](https://en.wikipedia.org/wiki/Sign-value_notation)\n",
    "  - [Egyptian numerals - Wikipedia](https://en.wikipedia.org/wiki/Egyptian_numerals)\n",
    "  - [Greek numerals - Wikipedia](https://en.wikipedia.org/wiki/Greek_numerals)\n",
    "  - [Romanian numbers - Wikipedia](https://en.wikipedia.org/wiki/Romanian_numbers)\n",
    "* [Abacus - Wikipedia](https://en.wikipedia.org/wiki/Abacus)"
   ]
  },
  {
   "cell_type": "code",
   "execution_count": 19,
   "id": "4bc265aa-5a5d-4fbf-a365-a59e42e2726a",
   "metadata": {
    "tags": []
   },
   "outputs": [
    {
     "data": {
      "text/markdown": [
       "Mesopotamian positional notation with sexadecimal digits was not inherited because it was not as efficient as other systems that were developed later. For example, the Hindu-Arabic numeral system with base 10 and positional notation was easier to use and allowed for more complex calculations. Additionally, the sexadecimal system was not as widely used or adopted as other systems, which limited its influence and legacy."
      ],
      "text/plain": [
       "<IPython.core.display.Markdown object>"
      ]
     },
     "metadata": {},
     "output_type": "display_data"
    }
   ],
   "source": [
    "%%ai_ask\n",
    "why mesopotamian positional notation with sexadecimal digits was not inherited?"
   ]
  },
  {
   "cell_type": "code",
   "execution_count": 20,
   "id": "a236d581-b0be-4a2f-95a7-025946ae4840",
   "metadata": {
    "tags": []
   },
   "outputs": [
    {
     "data": {
      "text/markdown": [
       "セクサデシマル桁を持つメソポタミアの位取り記数法が受け継がれなかったのは、後に開発された他のシステムよりも効率的ではなかったためです。たとえば、10進数の位置記数法を持つヒンドゥー・アラビア数字システムは、より簡単に使用でき、より複雑な計算が可能でした。さらに、セクサデシマルシステムは他のシステムほど広く使用されたわけではなく、その影響力や遺産は限られていました。"
      ],
      "text/plain": [
       "<IPython.core.display.Markdown object>"
      ]
     },
     "metadata": {},
     "output_type": "display_data"
    }
   ],
   "source": [
    "%%ai_continue\n",
    "in japanese"
   ]
  },
  {
   "cell_type": "code",
   "execution_count": 3,
   "id": "3617a247-8e23-49f7-be9f-863b4ec995a2",
   "metadata": {
    "tags": []
   },
   "outputs": [
    {
     "data": {
      "text/markdown": [
       "Ancient Roman people did not use positional notation but their own numeral system because their system was developed independently and before the concept of positional notation was widely understood. The Roman numeral system was based on a combination of letters and symbols, and it was primarily used for counting and record-keeping rather than complex calculations. Additionally, the Roman numeral system was well-suited for the types of calculations that were common at the time, such as measuring land and counting money. As a result, there was no need for the Romans to adopt a new system, especially one that was not yet widely known or understood."
      ],
      "text/plain": [
       "<IPython.core.display.Markdown object>"
      ]
     },
     "metadata": {},
     "output_type": "display_data"
    }
   ],
   "source": [
    "%%ai_continue\n",
    "why ancient romanean people did not use positional notation but their own numerial system?"
   ]
  },
  {
   "cell_type": "code",
   "execution_count": 4,
   "id": "b6839bdd-3beb-49c4-a8d2-e7c61b5cf510",
   "metadata": {
    "tags": []
   },
   "outputs": [
    {
     "data": {
      "text/markdown": [
       "古代ローマ人が、自分たちの数字システムを採用し、位取り記数法を使わなかったのは、彼らのシステムが独自に発展し、位取り記数法の概念が広く理解される前に存在していたためです。ローマ数字システムは、文字と記号の組み合わせに基づいており、複雑な計算よりも数え上げや記録に主に使用されていました。また、ローマ数字システムは、当時一般的だった土地の測量やお金の計算などの種類の計算に適していました。そのため、ローマ人が新しいシステムを採用する必要はなく、特に広く知られていなかったり理解されていなかったりするシステムを採用する必要はありませんでした。"
      ],
      "text/plain": [
       "<IPython.core.display.Markdown object>"
      ]
     },
     "metadata": {},
     "output_type": "display_data"
    }
   ],
   "source": [
    "%%ai_continue\n",
    "in japanese"
   ]
  },
  {
   "cell_type": "code",
   "execution_count": 5,
   "id": "2f8332c6-6a7b-473b-9491-133bdd366e7b",
   "metadata": {
    "tags": []
   },
   "outputs": [
    {
     "data": {
      "text/markdown": [
       "Until the Renaissance, European people did not use positional notation because the concept of positional notation was not yet widely understood or adopted in Europe. The Hindu-Arabic numeral system with positional notation was developed in India and the Middle East, and it was not introduced to Europe until the 12th century. Additionally, the Roman numeral system was well-established in Europe and was used for counting and record-keeping, so there was no need to adopt a new system. Furthermore, the use of the abacus and other calculation tools was common in Europe, which made complex calculations possible without the need for positional notation. It was not until the Renaissance that the Hindu-Arabic numeral system with positional notation became widely adopted in Europe and replaced the Roman numeral system."
      ],
      "text/plain": [
       "<IPython.core.display.Markdown object>"
      ]
     },
     "metadata": {},
     "output_type": "display_data"
    }
   ],
   "source": [
    "%%ai_continue\n",
    "untill the renaissance, european people did not use positional notation. the reason why?"
   ]
  },
  {
   "cell_type": "code",
   "execution_count": 6,
   "id": "7d32b152-7396-4566-b7d6-70fb9a30ae06",
   "metadata": {
    "tags": []
   },
   "outputs": [
    {
     "data": {
      "text/markdown": [
       "ルネサンス期まで、ヨーロッパ人は位取り記数法を使用していませんでした。その理由は、位取り記数法の概念がヨーロッパで広く理解されたり採用されたりする前に、インドや中東で開発されたヒンドゥー・アラビア数字システムが存在していたためです。また、ローマ数字システムはヨーロッパでよく確立され、数え上げや記録に使用されていたため、新しいシステムを採用する必要はありませんでした。さらに、ヨーロッパではそろばんや他の計算ツールの使用が一般的であり、位取り記数法を必要とせずに複雑な計算が可能でした。ルネサンス期になって、ヒンドゥー・アラビア数字システムが広くヨーロッパで採用され、ローマ数字システムに代わって使用されるようになりました。"
      ],
      "text/plain": [
       "<IPython.core.display.Markdown object>"
      ]
     },
     "metadata": {},
     "output_type": "display_data"
    }
   ],
   "source": [
    "%%ai_continue\n",
    "in japanese"
   ]
  },
  {
   "cell_type": "code",
   "execution_count": 7,
   "id": "58e73252-9ae8-456c-87d0-dc4681c042cc",
   "metadata": {
    "tags": []
   },
   "outputs": [
    {
     "data": {
      "text/markdown": [
       "Yes, it took a very long time for the innovation of positional notation to spread to Europe. The Hindu-Arabic numeral system with positional notation was developed in India and the Middle East around the 6th to 9th centuries, but it was not introduced to Europe until the 12th century. Even then, it took several more centuries for the system to become widely adopted and replace the Roman numeral system. The slow spread of the innovation was due to a variety of factors, including cultural differences, the established use of the Roman numeral system, and the lack of communication and trade between different regions of the world."
      ],
      "text/plain": [
       "<IPython.core.display.Markdown object>"
      ]
     },
     "metadata": {},
     "output_type": "display_data"
    }
   ],
   "source": [
    "%%ai_continue\n",
    "it took a very long time to the innovation, right?"
   ]
  },
  {
   "cell_type": "code",
   "execution_count": 8,
   "id": "02619d94-6a8a-427d-80b4-bc29bac50767",
   "metadata": {
    "tags": []
   },
   "outputs": [
    {
     "data": {
      "text/markdown": [
       "はい、位取り記数法の革新がヨーロッパに広まるまでには非常に長い時間がかかりました。ヒンドゥー・アラビア数字システムは、6世紀から9世紀にかけてインドや中東で開発されましたが、ヨーロッパには12世紀になってから導入されました。それでも、このシステムが広く採用され、ローマ数字システムに代わるまでには、さらに数世紀を要しました。この革新が広まるのが遅かった理由には、文化的な違い、ローマ数字システムの確立された使用、世界の異なる地域間のコミュニケーションや貿易の不足など、さまざまな要因があります。"
      ],
      "text/plain": [
       "<IPython.core.display.Markdown object>"
      ]
     },
     "metadata": {},
     "output_type": "display_data"
    }
   ],
   "source": [
    "%%ai_continue\n",
    "in japanese"
   ]
  },
  {
   "cell_type": "code",
   "execution_count": 11,
   "id": "1ce4ab51-e2a0-4fa8-9a23-b99f82c83944",
   "metadata": {
    "tags": []
   },
   "outputs": [
    {
     "data": {
      "text/markdown": [
       "The religious barrier was broken for several reasons. First, the development of modern science, including the adoption of advanced numerical systems, challenged existing religious beliefs and dogma. The scientific method, which emphasized empirical observation and experimentation, often conflicted with religious teachings that were based on tradition, authority, and divine revelation. Additionally, the Renaissance and the Enlightenment periods, which saw a resurgence of interest in classical antiquity and humanism, promoted rational thinking, individualism, and skepticism, which put further strain on traditional religious authority. Second, the Protestant Reformation, which began in the 16th century, led to the fragmentation of Christianity into various denominations, each with its own interpretation of religious texts and dogma. This led to a diversification of religious beliefs and practices, which increased tolerance and acceptance of different beliefs. Finally, the development of secular governments and the separation of church and state shifted political power away from religious institutions, reducing their ability to enforce religious orthodoxy and dogma. All these factors contributed to the breaking of the religious barrier and the eventual acceptance of scientific and rational thinking."
      ],
      "text/plain": [
       "<IPython.core.display.Markdown object>"
      ]
     },
     "metadata": {},
     "output_type": "display_data"
    }
   ],
   "source": [
    "%%ai_continue\n",
    "the reason why the religious barrier was broken?"
   ]
  },
  {
   "cell_type": "code",
   "execution_count": 12,
   "id": "3f55b4cf-289e-42dd-ab70-994b4d56bff1",
   "metadata": {
    "tags": []
   },
   "outputs": [
    {
     "data": {
      "text/markdown": [
       "宗教の壁が崩壊した理由はいくつかあります。まず、現代科学の発展、特に高度な数字システムの採用により、既存の宗教的信念や教義に疑問を投げかけるようになりました。科学的方法は実証的な観察と実験を重視するため、しばしば伝統や権威、神の啓示に基づく宗教的教えと衝突しました。さらに、ルネサンス期や啓蒙時代においては、古代の古典文化や人道主義に再び関心が集まり、合理的思考、個人主義、懐疑主義が促進され、伝統的な宗教権威に負担をかけました。第二に、16世紀に始まった宗教改革は、キリスト教をさまざまな教派に分裂させ、それぞれが独自の宗教的文書や教義の解釈を持つようになりました。これにより、宗教的信念や慣習が多様化し、異なる信念の受容や寛容が増しました。最後に、世俗的な政府の発展や政教分離は、政治的権力を宗教的機関から遠ざけ、宗教的正統主義や教義を強制する力を弱めました。これらすべての要因が宗教の壁の崩壊と、科学的・合理的思考の受容につながっていきました。"
      ],
      "text/plain": [
       "<IPython.core.display.Markdown object>"
      ]
     },
     "metadata": {},
     "output_type": "display_data"
    }
   ],
   "source": [
    "%%ai_continue\n",
    "in japanese"
   ]
  },
  {
   "cell_type": "code",
   "execution_count": 9,
   "id": "e2bf5499-7c9a-44d6-810f-83998f4e4d20",
   "metadata": {
    "tags": []
   },
   "outputs": [
    {
     "data": {
      "text/markdown": [
       "Here's an example function in Python that translates base-10 numbers to Romanian notation:\n",
       "\n",
       "```python\n",
       "def romanian_notation(number):\n",
       "    roman_numerals = {\n",
       "        1000: 'M',\n",
       "        900: 'CM',\n",
       "        500: 'D',\n",
       "        400: 'CD',\n",
       "        100: 'C',\n",
       "        90: 'XC',\n",
       "        50: 'L',\n",
       "        40: 'XL',\n",
       "        10: 'X',\n",
       "        9: 'IX',\n",
       "        5: 'V',\n",
       "        4: 'IV',\n",
       "        1: 'I'\n",
       "    }\n",
       "    roman_numeral = ''\n",
       "    for value, numeral in roman_numerals.items():\n",
       "        while number >= value:\n",
       "            roman_numeral += numeral\n",
       "            number -= value\n",
       "    return roman_numeral\n",
       "```\n",
       "\n",
       "This function uses a dictionary to map the base-10 numbers to their corresponding Roman numerals. It then iterates through the dictionary and subtracts the largest possible value from the input number until the number is reduced to zero. The resulting string of Roman numerals is returned as the output."
      ],
      "text/plain": [
       "<IPython.core.display.Markdown object>"
      ]
     },
     "metadata": {},
     "output_type": "display_data"
    }
   ],
   "source": [
    "%%ai_continue\n",
    "in python write a function to translate base-10 numbers to romanian notation"
   ]
  },
  {
   "cell_type": "code",
   "execution_count": 10,
   "id": "10ac813d-b38c-445e-91c5-e3974af073d7",
   "metadata": {
    "tags": []
   },
   "outputs": [
    {
     "data": {
      "text/markdown": [
       "Yes, there are built-in functions and functions in the NumPy, SciPy, and SymPy libraries that can be used to convert base-10 numbers to Roman numerals. Here are some examples:\n",
       "\n",
       "1. Built-in function: `int_to_roman()`\n",
       "\n",
       "The `int_to_roman()` function is a built-in function in Python that can be used to convert an integer to its corresponding Roman numeral. Here's an example:\n",
       "\n",
       "```python\n",
       ">>> num = 123\n",
       ">>> roman_numeral = int_to_roman(num)\n",
       ">>> print(roman_numeral)\n",
       "'CXXIII'\n",
       "```\n",
       "\n",
       "2. NumPy function: `np.base_repr()`\n",
       "\n",
       "The `np.base_repr()` function in NumPy can be used to convert a base-10 number to a string representation in any base. Here's an example:\n",
       "\n",
       "```python\n",
       ">>> import numpy as np\n",
       ">>> num = 123\n",
       ">>> roman_numeral = np.base_repr(num, base=10, padding=0, alphabet='IVXLCDM')\n",
       ">>> print(roman_numeral)\n",
       "'CXXIII'\n",
       "```\n",
       "\n",
       "3. SymPy function: `sympy.roman()`\n",
       "\n",
       "The `sympy.roman()` function in SymPy can be used to convert an integer to its corresponding Roman numeral. Here's an example:\n",
       "\n",
       "```python\n",
       ">>> from sympy import roman\n",
       ">>> num = 123\n",
       ">>> roman_numeral = roman(num)\n",
       ">>> print(roman_numeral)\n",
       "'CXXIII'\n",
       "```\n",
       "\n",
       "Note that the `sympy.roman()` function returns a `sympy.core.numbers.Rational` object, which can be converted to a string using the `str()` function."
      ],
      "text/plain": [
       "<IPython.core.display.Markdown object>"
      ]
     },
     "metadata": {},
     "output_type": "display_data"
    }
   ],
   "source": [
    "%%ai_continue\n",
    "are there built-in or numpy, scipy, sympy function?"
   ]
  },
  {
   "cell_type": "code",
   "execution_count": 11,
   "id": "1abb213e-e1f9-4a6d-b552-75c7fa1c0e21",
   "metadata": {},
   "outputs": [
    {
     "ename": "NameError",
     "evalue": "name 'int_to_roman' is not defined",
     "output_type": "error",
     "traceback": [
      "\u001b[0;31m---------------------------------------------------------------------------\u001b[0m",
      "\u001b[0;31mNameError\u001b[0m                                 Traceback (most recent call last)",
      "Cell \u001b[0;32mIn[11], line 1\u001b[0m\n\u001b[0;32m----> 1\u001b[0m \u001b[43mint_to_roman\u001b[49m(\u001b[38;5;241m123\u001b[39m)\n",
      "\u001b[0;31mNameError\u001b[0m: name 'int_to_roman' is not defined"
     ]
    }
   ],
   "source": [
    "int_to_roman(123)"
   ]
  },
  {
   "cell_type": "code",
   "execution_count": 13,
   "id": "9843ed9b-7d8c-4706-ae69-c9e5f0818c1b",
   "metadata": {
    "tags": []
   },
   "outputs": [],
   "source": [
    "import numpy as np"
   ]
  },
  {
   "cell_type": "code",
   "execution_count": 15,
   "id": "c707592f-e0a9-4ec0-80b4-eb97fe2a7240",
   "metadata": {
    "tags": []
   },
   "outputs": [
    {
     "ename": "TypeError",
     "evalue": "base_repr() got an unexpected keyword argument 'alphabet'",
     "output_type": "error",
     "traceback": [
      "\u001b[0;31m---------------------------------------------------------------------------\u001b[0m",
      "\u001b[0;31mTypeError\u001b[0m                                 Traceback (most recent call last)",
      "Cell \u001b[0;32mIn[15], line 1\u001b[0m\n\u001b[0;32m----> 1\u001b[0m \u001b[43mnp\u001b[49m\u001b[38;5;241;43m.\u001b[39;49m\u001b[43mbase_repr\u001b[49m\u001b[43m(\u001b[49m\u001b[38;5;241;43m2023\u001b[39;49m\u001b[43m,\u001b[49m\u001b[43m \u001b[49m\u001b[43mbase\u001b[49m\u001b[38;5;241;43m=\u001b[39;49m\u001b[38;5;241;43m10\u001b[39;49m\u001b[43m,\u001b[49m\u001b[43m \u001b[49m\u001b[43mpadding\u001b[49m\u001b[38;5;241;43m=\u001b[39;49m\u001b[38;5;241;43m0\u001b[39;49m\u001b[43m,\u001b[49m\u001b[43m \u001b[49m\u001b[43malphabet\u001b[49m\u001b[38;5;241;43m=\u001b[39;49m\u001b[38;5;124;43m'\u001b[39;49m\u001b[38;5;124;43mIVXLCDM\u001b[39;49m\u001b[38;5;124;43m'\u001b[39;49m\u001b[43m)\u001b[49m\n",
      "\u001b[0;31mTypeError\u001b[0m: base_repr() got an unexpected keyword argument 'alphabet'"
     ]
    }
   ],
   "source": [
    "np.base_repr(2023, base=10, padding=0, alphabet='IVXLCDM')"
   ]
  },
  {
   "cell_type": "code",
   "execution_count": 16,
   "id": "dae5567d-7879-440b-ac9b-60d31cc29e8b",
   "metadata": {
    "tags": []
   },
   "outputs": [
    {
     "ename": "ImportError",
     "evalue": "cannot import name 'roman' from 'sympy' (/opt/conda/lib/python3.10/site-packages/sympy/__init__.py)",
     "output_type": "error",
     "traceback": [
      "\u001b[0;31m---------------------------------------------------------------------------\u001b[0m",
      "\u001b[0;31mImportError\u001b[0m                               Traceback (most recent call last)",
      "Cell \u001b[0;32mIn[16], line 1\u001b[0m\n\u001b[0;32m----> 1\u001b[0m \u001b[38;5;28;01mfrom\u001b[39;00m \u001b[38;5;21;01msympy\u001b[39;00m \u001b[38;5;28;01mimport\u001b[39;00m roman\n",
      "\u001b[0;31mImportError\u001b[0m: cannot import name 'roman' from 'sympy' (/opt/conda/lib/python3.10/site-packages/sympy/__init__.py)"
     ]
    }
   ],
   "source": [
    "from sympy import roman"
   ]
  },
  {
   "cell_type": "code",
   "execution_count": null,
   "id": "9329de51-bb83-4682-8435-0f7a3c9c2306",
   "metadata": {},
   "outputs": [],
   "source": []
  }
 ],
 "metadata": {
  "kernelspec": {
   "display_name": "Python 3 (ipykernel)",
   "language": "python",
   "name": "python3"
  },
  "language_info": {
   "codemirror_mode": {
    "name": "ipython",
    "version": 3
   },
   "file_extension": ".py",
   "mimetype": "text/x-python",
   "name": "python",
   "nbconvert_exporter": "python",
   "pygments_lexer": "ipython3",
   "version": "3.10.10"
  }
 },
 "nbformat": 4,
 "nbformat_minor": 5
}
