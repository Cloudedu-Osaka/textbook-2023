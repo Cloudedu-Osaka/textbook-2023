{
 "cells": [
  {
   "cell_type": "markdown",
   "id": "f5809d33-6f5b-45fc-8883-3a93c069a617",
   "metadata": {},
   "source": [
    "# 2010年度 情報関係基礎 第３問 問１"
   ]
  },
  {
   "cell_type": "markdown",
   "id": "69cebb87-6fea-4383-b208-25607217c11c",
   "metadata": {},
   "source": [
    "![fig-01](./fig-01.png)"
   ]
  },
  {
   "cell_type": "markdown",
   "id": "2e895116-b943-4cce-a27b-1d3b3c34ec59",
   "metadata": {},
   "source": [
    "![fig-02](./fig-02.png)"
   ]
  },
  {
   "cell_type": "markdown",
   "id": "b7dd23e9-802f-4bb8-90ed-32a8c7052325",
   "metadata": {},
   "source": [
    "---"
   ]
  },
  {
   "cell_type": "markdown",
   "id": "d3b554f9-2a1d-4963-b1c1-dd35c541c19d",
   "metadata": {},
   "source": [
    "次の文章を読み、下の問い（問１〜３）に答えよ。（配点 ３５）"
   ]
  },
  {
   "cell_type": "markdown",
   "id": "e8cf7d32-fab3-49a7-8da9-77da7e98f86c",
   "metadata": {},
   "source": [
    "正の整数値を漢数字で表示する手順を考えよう。\n",
    "例えば、表１の「漢数字表示」欄に示すように値を表示する。"
   ]
  },
  {
   "cell_type": "markdown",
   "id": "171327d7-a21e-47c9-995c-8d5327b77b3d",
   "metadata": {},
   "source": [
    "表1 漢数字表示の例"
   ]
  },
  {
   "cell_type": "markdown",
   "id": "74d6afec-a3f7-4d79-bb3b-8ae713973662",
   "metadata": {},
   "source": [
    "|値 (算用数字で表記)|漢数字表示|\n",
    "|----:|--------:|\n",
    "|123456789|一億二千三百四十五万六千七百八十九|\n",
    "|11023| 一万千二十三|\n",
    "|5023| 五千二十三|\n",
    "|3105| 三千百五|\n",
    "|2345| 二千三百四十五|\n",
    "|2000| 二千|\n",
    "|1211| 千二百十一|\n",
    "|223| 二百二十三|"
   ]
  },
  {
   "cell_type": "markdown",
   "id": "1666dfe4-81e6-491d-8c04-54b3a32385a0",
   "metadata": {
    "tags": []
   },
   "source": [
    "## 問１"
   ]
  },
  {
   "cell_type": "markdown",
   "id": "fd05fb09-0776-456e-aa05-07a509430fc8",
   "metadata": {
    "tags": []
   },
   "source": [
    "次の文章の空欄[ア]〜[エ]に入れるのに最も適当なものを、\n",
    "下の解答群のうちから一つずつ選べ。"
   ]
  },
  {
   "cell_type": "markdown",
   "id": "a3c39e64-ecaf-4114-8b94-bab189ca5be4",
   "metadata": {},
   "source": [
    "まず、一万未満の数を表示することを考えよう。\n",
    "与えられた数の千の位、百の位、十の位、一の位の順に、一桁ずつ処理をする。"
   ]
  },
  {
   "cell_type": "markdown",
   "id": "49ec8717-3daf-4469-9de2-d44bb8e970ee",
   "metadata": {},
   "source": [
    "5023の百の位のように、数字が0の桁では、[ア]。"
   ]
  },
  {
   "cell_type": "markdown",
   "id": "7434fb7c-c8ed-4e57-87b3-354cc13afe86",
   "metadata": {},
   "source": [
    "1211のように1が含まれる場合、数字が1の桁では、\n",
    "一の位ならば、「一」を表示する。それ以外の位ならば、[イ]。"
   ]
  },
  {
   "cell_type": "markdown",
   "id": "b1b22781-2238-4799-a926-fa69766df9df",
   "metadata": {},
   "source": [
    "2345の各桁のように、数字が2以上の場合、一の位ならば、[ウ]。\n",
    "それ以外の位ならば、[エ]。"
   ]
  },
  {
   "cell_type": "markdown",
   "id": "039ca821-14a3-4b2d-a5e8-cb8761c271f6",
   "metadata": {},
   "source": [
    "[ア]〜[エ]の解答群:"
   ]
  },
  {
   "cell_type": "markdown",
   "id": "a4b09316-f34c-4296-a69e-d885539ce0c3",
   "metadata": {},
   "source": [
    "0. 何も表示しない\n",
    "1. 「一」を表示する\n",
    "2. 「千」を表示する\n",
    "3. その桁の数字のみを漢字で表示する\n",
    "4. その桁の数字と位を表す文字を漢字で表示する\n",
    "5. その桁の位を表す文字のみを漢字で表示する\n",
    "6. 前の桁と同じ数字を漢字で表示する"
   ]
  },
  {
   "cell_type": "markdown",
   "id": "36582d9d-0a17-439e-a429-e542b67e451a",
   "metadata": {},
   "source": [
    "|問題番号 (配点)|設問|解答記号|正解|配点|備考|\n",
    "|:-:          |:-:|:-:    |:-:|:-:|----|\n",
    "|第３問 (35)   |1  |ア|0 | 2|何も表示しない|\n",
    "|             |   |イ|5 | 3|その桁の位を表す文字のみを漢字で表示する|\n",
    "|             |   |ウ|3 | 3|その桁の数字のみを漢字で表示する|\n",
    "|             |   |エ|4 | 2|その桁の数字と位を表す文字を漢字で表示する|\n"
   ]
  },
  {
   "cell_type": "markdown",
   "id": "a6665b1a-4be6-45ee-a03a-704534804f6b",
   "metadata": {},
   "source": [
    "## 情報処理学会の問題作成部会の見解"
   ]
  },
  {
   "cell_type": "markdown",
   "id": "ee39a337-d789-4beb-811f-11a06873d8b3",
   "metadata": {},
   "source": [
    "問１ 漢数字表示の規則の理解を問う導入問題である。漢数字表示という問題を整理し、特に表記上例外的な０と１に注意を向けさせることで、問２以降の題意の理解を助ける意図がある。いずれも漢数字表記ができれば簡単に答えられる問題で、９割以上の正答率を予想した。実際にはいずれの設問も正答率が高く、全体としては８割台強の正答率となった。"
   ]
  },
  {
   "cell_type": "markdown",
   "id": "df47c7fc-09ed-4498-9431-7e75beb7cc67",
   "metadata": {},
   "source": [
    "## 一万未満の数（正の整数値）を漢数字で表示する手続きの仕様"
   ]
  },
  {
   "cell_type": "markdown",
   "id": "f339f236-ffad-4cc4-a9c7-27b0a4767be9",
   "metadata": {},
   "source": [
    "* 正の整数値を漢数字で表示する手順を考えよう。\n",
    "* まず、一万未満の数を表示することを考えよう。\n",
    "  与えられた数の千の位、百の位、十の位、一の位の順に、一桁ずつ処理をする。\n",
    "* 5023の百の位のように、数字が0の桁では、何も表示しない。\n",
    "* 1211のように1が含まれる場合、数字が1の桁では、一の位ならば、「一」を表示する。\n",
    "  それ以外の位ならば、その桁の位を表す文字のみを漢字で表示する。\n",
    "* 2345の各桁のように、数字が2以上の場合、一の位ならば、その桁の数字のみを漢字で表示する。 \n",
    "  それ以外の位ならば、その桁の数字と位を表す文字を漢字で表示する。"
   ]
  }
 ],
 "metadata": {
  "kernelspec": {
   "display_name": "Python 3 (ipykernel)",
   "language": "python",
   "name": "python3"
  },
  "language_info": {
   "codemirror_mode": {
    "name": "ipython",
    "version": 3
   },
   "file_extension": ".py",
   "mimetype": "text/x-python",
   "name": "python",
   "nbconvert_exporter": "python",
   "pygments_lexer": "ipython3",
   "version": "3.10.11"
  }
 },
 "nbformat": 4,
 "nbformat_minor": 5
}
