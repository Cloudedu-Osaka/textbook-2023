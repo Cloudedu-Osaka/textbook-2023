{
 "cells": [
  {
   "cell_type": "markdown",
   "id": "9daf0f8c-3e03-4dcc-8be9-799aa2be9968",
   "metadata": {},
   "source": [
    "# Arche"
   ]
  },
  {
   "cell_type": "markdown",
   "id": "9f8caf19-92f9-47c3-995a-6e441c0050f6",
   "metadata": {},
   "source": [
    "* [Dropping In on Gottfried Leibniz—Stephen Wolfram Writings](https://writings.stephenwolfram.com/2013/05/dropping-in-on-gottfried-leibniz/)\n",
    "    - omnibus ex nihilo ducendis; sufficit unum\n",
    "        - “everything can be derived from nothing; all that is needed is 1”"
   ]
  },
  {
   "cell_type": "code",
   "execution_count": 2,
   "id": "a39cd5f5-f4e5-4e2a-b52e-d2e9a95e7f2e",
   "metadata": {
    "tags": []
   },
   "outputs": [
    {
     "data": {
      "text/markdown": [
       "Leibnizのメダルには、\"Calculemus\"というラテン語の言葉が刻まれています。これは、\"私たちは計算しよう\"という意味であり、Leibnizが数学と論理学の発展に貢献したことを表しています。また、この言葉は彼の哲学的信念を表しており、人間の理性が自然界を理解するために必要なものであるという考えを示しています。"
      ],
      "text/plain": [
       "<IPython.core.display.Markdown object>"
      ]
     },
     "metadata": {},
     "output_type": "display_data"
    }
   ],
   "source": [
    "%%ai_ask\n",
    "Leibnizのメダルに書かれたラテン語について"
   ]
  },
  {
   "cell_type": "code",
   "execution_count": 3,
   "id": "21fd1ad7-a46e-4cfd-8246-1fbdb5752253",
   "metadata": {
    "tags": []
   },
   "outputs": [
    {
     "data": {
      "text/markdown": [
       "\"Omnibus ex nihilo ducendis\"は、Leibnizの別の有名な言葉で、\"すべてを無から導くことができる\"という意味があります。これは、Leibnizが数学や哲学において、あらゆる真理や知識を最も基本的な原理から導き出すことができるという信念を表しています。また、この言葉は彼の理論の中心的な概念である「モナド」という哲学的概念にも関連しています。"
      ],
      "text/plain": [
       "<IPython.core.display.Markdown object>"
      ]
     },
     "metadata": {},
     "output_type": "display_data"
    }
   ],
   "source": [
    "%%ai_continue\n",
    "\"omnibus ex nihilo ducendis\" のほう"
   ]
  },
  {
   "cell_type": "code",
   "execution_count": 4,
   "id": "058c288e-235c-45bb-89bf-7c1599020124",
   "metadata": {
    "tags": []
   },
   "outputs": [
    {
     "data": {
      "text/markdown": [
       "\"sufficit unum\"は、ラテン語で「一つだけで十分である」という意味があります。この言葉は、Leibnizが数学や哲学において、最も単純な原理や概念が複雑な問題を解決するために必要であるという信念を表しています。具体的には、彼は「最小限の仮定の原理」という考え方を持っており、問題を解決するために必要な最小限の前提条件を見つけ出すことが重要であると考えていました。したがって、「sufficit unum」という言葉は、最も基本的な原理や概念が問題を解決するために十分であることを表しています。"
      ],
      "text/plain": [
       "<IPython.core.display.Markdown object>"
      ]
     },
     "metadata": {},
     "output_type": "display_data"
    }
   ],
   "source": [
    "%%ai_continue\n",
    "\"sufficit unum\" と続くのですが"
   ]
  },
  {
   "cell_type": "code",
   "execution_count": 5,
   "id": "d589123f-f619-4722-9a4d-de7be7f93b8c",
   "metadata": {
    "tags": []
   },
   "outputs": [
    {
     "data": {
      "text/markdown": [
       "はい、そうです。ピタゴラスは、「万物は数である」という有名な言葉を残しています。これは、自然界に存在するすべてのものは数学的な関係性によって表現できるという考え方を表しています。また、ピタゴラスは、最も単純な数学的な関係性が自然界の複雑な現象を説明するために必要であると信じていました。この考え方は、Leibnizの「sufficit unum」という言葉と非常に似ており、最も基本的な原理や概念が複雑な問題を解決するために必要であるという共通の信念を持っています。"
      ],
      "text/plain": [
       "<IPython.core.display.Markdown object>"
      ]
     },
     "metadata": {},
     "output_type": "display_data"
    }
   ],
   "source": [
    "%%ai_continue\n",
    "Pythagorasも似たようなことを言っていたはず"
   ]
  },
  {
   "cell_type": "code",
   "execution_count": 7,
   "id": "1292d1fe-e460-466d-b817-490bf448243b",
   "metadata": {
    "tags": []
   },
   "outputs": [
    {
     "data": {
      "text/markdown": [
       "「万物は数である」を英語で表現すると、「All things are numbers」となります。\n",
       "\n",
       "古代ギリシャ語で表現すると、「πάντα ῥεῖ, πάντα ἀριθμεῖ」（panta rhei, panta arithmei）となります。これは、ヘラクレイトスが残した言葉で、「すべては流れている、すべては数である」という意味があります。ピタゴラスが言った「万物は数である」という言葉は、このヘラクレイトスの言葉を発展させたものとされています。"
      ],
      "text/plain": [
       "<IPython.core.display.Markdown object>"
      ]
     },
     "metadata": {},
     "output_type": "display_data"
    }
   ],
   "source": [
    "%%ai_continue\n",
    "「万物は数である」を英語と古代ギリシア語で"
   ]
  },
  {
   "cell_type": "markdown",
   "id": "d7b10e9d-17e1-46c6-8f92-69db5d7e73d1",
   "metadata": {},
   "source": [
    "* [Arche - Wikipedia](https://en.wikipedia.org/wiki/Arche)\n",
    "    * [Heraclitus - Wikipedia](https://en.wikipedia.org/wiki/Heraclitus#Flux_and_unity_of_opposites) (c. 6th&ndash;c.5th)\n",
    "        - [Heraclitus - Wikipedia](https://en.wikipedia.org/wiki/Heraclitus#Flux_and_unity_of_opposites)#Flux_and_unity_of_opposites\n",
    "    * [Pythagoras - Wikipedia](https://en.wikipedia.org/wiki/Pythagoras) (c.570 BC&ndash;c.495 BC)\n",
    "        - [Pythagoras - Wikipedia](https://en.wikipedia.org/wiki/Pythagoras#Numerology)#Numerology\n",
    "        - [Pythagoras - Wikipedia](https://en.wikipedia.org/wiki/Pythagoras#Metempsychosis)#Metempsychosis\n",
    "            - “Reason is immortal, all else mortal.”??"
   ]
  },
  {
   "cell_type": "markdown",
   "id": "d1144715-08ae-460e-b852-5796ec6a2dbf",
   "metadata": {},
   "source": [
    "## 音を出す\n",
    "\n",
    "* [Wolf interval - Wikipedia](https://en.wikipedia.org/wiki/Wolf_interval)\n",
    "* [Python Notebooks for Fundamentals of Music Processing](https://www.audiolabs-erlangen.de/resources/MIR/FMP/C0/C0.html)\n",
    "    - [C1S3_Timbre](https://www.audiolabs-erlangen.de/resources/MIR/FMP/C1/C1S3_Timbre.html)\n",
    "* [Timbre - Wikipedia](https://en.wikipedia.org/wiki/Timbre)\n",
    "    - [Chord (music) - Wikipedia](https://en.wikipedia.org/wiki/Chord_(music)) (和音)\n",
    "    - [Vibrato - Wikipedia](https://en.wikipedia.org/wiki/Vibrato)\n",
    "    - [Tremolo - Wikipedia](https://en.wikipedia.org/wiki/Tremolo)\n",
    "* [Beat (acoustics) - Wikipedia](https://en.wikipedia.org/wiki/Beat_(acoustics))\n",
    "* [Resonance - Wikipedia](https://en.wikipedia.org/wiki/Resonance)"
   ]
  },
  {
   "cell_type": "markdown",
   "id": "781b3b31-e6cd-484a-bd39-e9da1ccbd5d9",
   "metadata": {},
   "source": [
    "## 補足\n",
    "\n",
    "* 生成AI\n",
    "    - [生成AI（Generative AI）の利用について — マイ ハンダイ](https://my.osaka-u.ac.jp/info/information/20230426-1)\n",
    "    - [漫画家イエナガの複雑社会を超定義　超話題！ジェネレーティブＡＩがマジやばい！ - NHKプラス](https://plus.nhk.jp/watch/st/g1_2023051219493)"
   ]
  },
  {
   "cell_type": "code",
   "execution_count": null,
   "id": "0c4dca1e-3b9e-49e7-888f-90b0f07b0464",
   "metadata": {},
   "outputs": [],
   "source": []
  }
 ],
 "metadata": {
  "kernelspec": {
   "display_name": "Python 3 (ipykernel)",
   "language": "python",
   "name": "python3"
  },
  "language_info": {
   "codemirror_mode": {
    "name": "ipython",
    "version": 3
   },
   "file_extension": ".py",
   "mimetype": "text/x-python",
   "name": "python",
   "nbconvert_exporter": "python",
   "pygments_lexer": "ipython3",
   "version": "3.10.10"
  }
 },
 "nbformat": 4,
 "nbformat_minor": 5
}
