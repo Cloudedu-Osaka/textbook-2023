{
 "cells": [
  {
   "cell_type": "markdown",
   "id": "0023d463-1e35-4463-9b6c-eecd1f6dce20",
   "metadata": {},
   "source": [
    "# Harmonic and Octave"
   ]
  },
  {
   "cell_type": "markdown",
   "id": "3aecf34d-e44c-4f08-bc86-bddbe6246280",
   "metadata": {},
   "source": [
    "* [C1S3: Waves and Waveforms](https://www.audiolabs-erlangen.de/resources/MIR/FMP/C1/C1S3_Waveform.html)"
   ]
  },
  {
   "cell_type": "markdown",
   "id": "85cf907c-63c6-47db-8f31-228f18fb71ed",
   "metadata": {},
   "source": [
    "* [Octave - Wikipedia](https://en.wikipedia.org/wiki/Octave)\n",
    "* [Overtone - Wikipedia](https://en.wikipedia.org/wiki/Overtone)\n",
    "* [Harmonic - Wikipedia](https://en.wikipedia.org/wiki/Harmonic)"
   ]
  },
  {
   "cell_type": "code",
   "execution_count": 1,
   "id": "5506181b-5cf1-400a-be1f-ab2e52ba7ead",
   "metadata": {
    "tags": []
   },
   "outputs": [
    {
     "data": {
      "text/html": [
       "<div>\n",
       "<style scoped>\n",
       "    .dataframe tbody tr th:only-of-type {\n",
       "        vertical-align: middle;\n",
       "    }\n",
       "\n",
       "    .dataframe tbody tr th {\n",
       "        vertical-align: top;\n",
       "    }\n",
       "\n",
       "    .dataframe thead th {\n",
       "        text-align: right;\n",
       "    }\n",
       "</style>\n",
       "<table border=\"1\" class=\"dataframe\">\n",
       "  <thead>\n",
       "    <tr style=\"text-align: right;\">\n",
       "      <th></th>\n",
       "      <th>Harmonic</th>\n",
       "      <th>Stop note</th>\n",
       "      <th>Sounded note relative to open string</th>\n",
       "      <th>Audio frequency (Hz)</th>\n",
       "      <th>Cents above fundamental (offset by octave)</th>\n",
       "      <th>Audio octave shifted</th>\n",
       "    </tr>\n",
       "  </thead>\n",
       "  <tbody>\n",
       "    <tr>\n",
       "      <th>0</th>\n",
       "      <td>1</td>\n",
       "      <td>fundamental perfect unison</td>\n",
       "      <td>P1</td>\n",
       "      <td>600</td>\n",
       "      <td>0.0</td>\n",
       "      <td>Play (help·info)</td>\n",
       "    </tr>\n",
       "    <tr>\n",
       "      <th>1</th>\n",
       "      <td>2</td>\n",
       "      <td>first perfect octave</td>\n",
       "      <td>P8</td>\n",
       "      <td>1200</td>\n",
       "      <td>0.0</td>\n",
       "      <td>Play (help·info)</td>\n",
       "    </tr>\n",
       "    <tr>\n",
       "      <th>2</th>\n",
       "      <td>3</td>\n",
       "      <td>perfect fifth</td>\n",
       "      <td>P8 + P5</td>\n",
       "      <td>1800</td>\n",
       "      <td>702.0</td>\n",
       "      <td>Play (help·info)</td>\n",
       "    </tr>\n",
       "    <tr>\n",
       "      <th>3</th>\n",
       "      <td>4</td>\n",
       "      <td>doubled perfect octave</td>\n",
       "      <td>2·P8</td>\n",
       "      <td>2400</td>\n",
       "      <td>0.0</td>\n",
       "      <td>Play (help·info)</td>\n",
       "    </tr>\n",
       "    <tr>\n",
       "      <th>4</th>\n",
       "      <td>5</td>\n",
       "      <td>just major third major third</td>\n",
       "      <td>2·P8 + M3</td>\n",
       "      <td>3000</td>\n",
       "      <td>386.3</td>\n",
       "      <td>Play (help·info)</td>\n",
       "    </tr>\n",
       "    <tr>\n",
       "      <th>5</th>\n",
       "      <td>6</td>\n",
       "      <td>perfect fifth</td>\n",
       "      <td>2·P8 + P5</td>\n",
       "      <td>3600</td>\n",
       "      <td>702.0</td>\n",
       "      <td>Play (help·info)</td>\n",
       "    </tr>\n",
       "    <tr>\n",
       "      <th>6</th>\n",
       "      <td>7</td>\n",
       "      <td>harmonic seventh septimal minor seventh (‘the ...</td>\n",
       "      <td>2·P8 + m7↓</td>\n",
       "      <td>4200</td>\n",
       "      <td>968.8</td>\n",
       "      <td>Play (help·info)</td>\n",
       "    </tr>\n",
       "    <tr>\n",
       "      <th>7</th>\n",
       "      <td>8</td>\n",
       "      <td>third perfect octave</td>\n",
       "      <td>3·P8</td>\n",
       "      <td>4800</td>\n",
       "      <td>0.0</td>\n",
       "      <td>Play (help·info)</td>\n",
       "    </tr>\n",
       "    <tr>\n",
       "      <th>8</th>\n",
       "      <td>9</td>\n",
       "      <td>Pythagorean major second</td>\n",
       "      <td>3·P8 + M2</td>\n",
       "      <td>5400</td>\n",
       "      <td>203.9</td>\n",
       "      <td>Play (help·info)</td>\n",
       "    </tr>\n",
       "    <tr>\n",
       "      <th>9</th>\n",
       "      <td>10</td>\n",
       "      <td>just major third</td>\n",
       "      <td>3·P8 + M3</td>\n",
       "      <td>6000</td>\n",
       "      <td>386.3</td>\n",
       "      <td>Play (help·info)</td>\n",
       "    </tr>\n",
       "    <tr>\n",
       "      <th>10</th>\n",
       "      <td>11</td>\n",
       "      <td>lesser undecimal tritone undecimal semi-augmen...</td>\n",
       "      <td>3·P8 + a4</td>\n",
       "      <td>4950</td>\n",
       "      <td>551.3</td>\n",
       "      <td>Play (help·info)</td>\n",
       "    </tr>\n",
       "    <tr>\n",
       "      <th>11</th>\n",
       "      <td>12</td>\n",
       "      <td>perfect fifth</td>\n",
       "      <td>3·P8 + P5</td>\n",
       "      <td>5400</td>\n",
       "      <td>702.0</td>\n",
       "      <td>Play (help·info)</td>\n",
       "    </tr>\n",
       "    <tr>\n",
       "      <th>12</th>\n",
       "      <td>13</td>\n",
       "      <td>tridecimal neutral sixth</td>\n",
       "      <td>3·P8 + n6↓</td>\n",
       "      <td>7800</td>\n",
       "      <td>840.5</td>\n",
       "      <td>Play (help·info)</td>\n",
       "    </tr>\n",
       "    <tr>\n",
       "      <th>13</th>\n",
       "      <td>14</td>\n",
       "      <td>harmonic seventh septimal minor seventh (‘the ...</td>\n",
       "      <td>3·P8 + m7⤈</td>\n",
       "      <td>8400</td>\n",
       "      <td>968.8</td>\n",
       "      <td>Play (help·info)</td>\n",
       "    </tr>\n",
       "    <tr>\n",
       "      <th>14</th>\n",
       "      <td>15</td>\n",
       "      <td>just major seventh</td>\n",
       "      <td>3·P8 + M7</td>\n",
       "      <td>6750</td>\n",
       "      <td>1088.3</td>\n",
       "      <td>Play (help·info)</td>\n",
       "    </tr>\n",
       "    <tr>\n",
       "      <th>15</th>\n",
       "      <td>16</td>\n",
       "      <td>fourth perfect octave</td>\n",
       "      <td>4·P8</td>\n",
       "      <td>4800</td>\n",
       "      <td>0.0</td>\n",
       "      <td>Play (help·info)</td>\n",
       "    </tr>\n",
       "    <tr>\n",
       "      <th>16</th>\n",
       "      <td>17</td>\n",
       "      <td>septidecimal semitone</td>\n",
       "      <td>4·P8 + m2⇟</td>\n",
       "      <td>10200</td>\n",
       "      <td>105.0</td>\n",
       "      <td>Play (help·info)</td>\n",
       "    </tr>\n",
       "    <tr>\n",
       "      <th>17</th>\n",
       "      <td>18</td>\n",
       "      <td>Pythagorean major second</td>\n",
       "      <td>4·P8 + M2</td>\n",
       "      <td>10800</td>\n",
       "      <td>203.9</td>\n",
       "      <td>Play (help·info)</td>\n",
       "    </tr>\n",
       "    <tr>\n",
       "      <th>18</th>\n",
       "      <td>19</td>\n",
       "      <td>nanodecimal minor third</td>\n",
       "      <td>4·P8 + m3</td>\n",
       "      <td>11400</td>\n",
       "      <td>297.5</td>\n",
       "      <td>Play (help·info)</td>\n",
       "    </tr>\n",
       "    <tr>\n",
       "      <th>19</th>\n",
       "      <td>20</td>\n",
       "      <td>just major third</td>\n",
       "      <td>4·P8 + M3</td>\n",
       "      <td>12000</td>\n",
       "      <td>386.3</td>\n",
       "      <td>Play (help·info)</td>\n",
       "    </tr>\n",
       "  </tbody>\n",
       "</table>\n",
       "</div>"
      ],
      "text/plain": [
       "    Harmonic                                          Stop note  \\\n",
       "0          1                         fundamental perfect unison   \n",
       "1          2                               first perfect octave   \n",
       "2          3                                      perfect fifth   \n",
       "3          4                             doubled perfect octave   \n",
       "4          5                       just major third major third   \n",
       "5          6                                      perfect fifth   \n",
       "6          7  harmonic seventh septimal minor seventh (‘the ...   \n",
       "7          8                               third perfect octave   \n",
       "8          9                           Pythagorean major second   \n",
       "9         10                                   just major third   \n",
       "10        11  lesser undecimal tritone undecimal semi-augmen...   \n",
       "11        12                                      perfect fifth   \n",
       "12        13                           tridecimal neutral sixth   \n",
       "13        14  harmonic seventh septimal minor seventh (‘the ...   \n",
       "14        15                                 just major seventh   \n",
       "15        16                              fourth perfect octave   \n",
       "16        17                              septidecimal semitone   \n",
       "17        18                           Pythagorean major second   \n",
       "18        19                            nanodecimal minor third   \n",
       "19        20                                   just major third   \n",
       "\n",
       "   Sounded note relative to open string  Audio frequency (Hz)  \\\n",
       "0                                    P1                   600   \n",
       "1                                    P8                  1200   \n",
       "2                               P8 + P5                  1800   \n",
       "3                                  2·P8                  2400   \n",
       "4                             2·P8 + M3                  3000   \n",
       "5                             2·P8 + P5                  3600   \n",
       "6                            2·P8 + m7↓                  4200   \n",
       "7                                  3·P8                  4800   \n",
       "8                             3·P8 + M2                  5400   \n",
       "9                             3·P8 + M3                  6000   \n",
       "10                            3·P8 + a4                  4950   \n",
       "11                            3·P8 + P5                  5400   \n",
       "12                           3·P8 + n6↓                  7800   \n",
       "13                           3·P8 + m7⤈                  8400   \n",
       "14                            3·P8 + M7                  6750   \n",
       "15                                 4·P8                  4800   \n",
       "16                           4·P8 + m2⇟                 10200   \n",
       "17                            4·P8 + M2                 10800   \n",
       "18                            4·P8 + m3                 11400   \n",
       "19                            4·P8 + M3                 12000   \n",
       "\n",
       "    Cents above fundamental (offset by octave) Audio octave shifted  \n",
       "0                                          0.0     Play (help·info)  \n",
       "1                                          0.0     Play (help·info)  \n",
       "2                                        702.0     Play (help·info)  \n",
       "3                                          0.0     Play (help·info)  \n",
       "4                                        386.3     Play (help·info)  \n",
       "5                                        702.0     Play (help·info)  \n",
       "6                                        968.8     Play (help·info)  \n",
       "7                                          0.0     Play (help·info)  \n",
       "8                                        203.9     Play (help·info)  \n",
       "9                                        386.3     Play (help·info)  \n",
       "10                                       551.3     Play (help·info)  \n",
       "11                                       702.0     Play (help·info)  \n",
       "12                                       840.5     Play (help·info)  \n",
       "13                                       968.8     Play (help·info)  \n",
       "14                                      1088.3     Play (help·info)  \n",
       "15                                         0.0     Play (help·info)  \n",
       "16                                       105.0     Play (help·info)  \n",
       "17                                       203.9     Play (help·info)  \n",
       "18                                       297.5     Play (help·info)  \n",
       "19                                       386.3     Play (help·info)  "
      ]
     },
     "execution_count": 1,
     "metadata": {},
     "output_type": "execute_result"
    }
   ],
   "source": [
    "import pandas as pd\n",
    "dfs = pd.read_html('https://en.wikipedia.org/wiki/Harmonic')\n",
    "dfs[2]"
   ]
  },
  {
   "cell_type": "code",
   "execution_count": 4,
   "id": "9c9a500b-39eb-4a23-88ad-dcd4a7a251d2",
   "metadata": {
    "tags": []
   },
   "outputs": [
    {
     "data": {
      "text/markdown": [
       "オクターブにおいて、周波数が2倍になると、音の高さは1オクターブ上がります。つまり、同じ音階の音でも、周波数が2倍になると、音の高さが上がりますが、その音の特徴や質は変わりません。そのため、周波数が2倍になっても、同じ音として聞こえるのです。"
      ],
      "text/plain": [
       "<IPython.core.display.Markdown object>"
      ]
     },
     "metadata": {},
     "output_type": "display_data"
    }
   ],
   "source": [
    "%%ai_ask\n",
    "オクターブは何故同じ音として聞こえるのですか？"
   ]
  },
  {
   "cell_type": "code",
   "execution_count": 5,
   "id": "6c2a7fea-6ded-4596-aa82-830ced23c783",
   "metadata": {
    "tags": []
   },
   "outputs": [
    {
     "data": {
      "text/markdown": [
       "オクターブが上がっても、同じ音階の音は基本周波数が2倍になるため、音の高さは上がりますが、音の特徴や質は変わりません。具体的には、以下のような量が変わらないです。\n",
       "\n",
       "1. 波形の形状：同じ音階の音は、基本周波数が2倍になっても、波形の形状は変わりません。\n",
       "2. 音色：同じ楽器で演奏された同じ音階の音は、基本周波数が2倍になっても、音色は変わりません。\n",
       "3. 音量：同じ音階の音は、基本周波数が2倍になっても、音量は変わりません。\n",
       "4. 音の長さ：同じ音階の音は、基本周波数が2倍になっても、音の長さは変わりません。\n",
       "\n",
       "これらの量が変わらないため、同じ音として聞こえるのです。"
      ],
      "text/plain": [
       "<IPython.core.display.Markdown object>"
      ]
     },
     "metadata": {},
     "output_type": "display_data"
    }
   ],
   "source": [
    "%%ai_continue\n",
    "オクターブで変わらない音の特徴や質とは、具体的にはどのような量ですか？"
   ]
  },
  {
   "cell_type": "code",
   "execution_count": 6,
   "id": "d9723431-e62a-497d-8da1-980a578af70a",
   "metadata": {
    "tags": []
   },
   "outputs": [
    {
     "data": {
      "text/markdown": [
       "はい、人間の聴覚は波形の形状まで認識することができます。人間の耳は、音波の振動によって内部の鼓膜が振動し、その振動が内耳に伝わります。内耳には、カタツムリの中にある毛細胞があり、その毛細胞が音波の振動に応じて刺激されます。この刺激が脳に伝わり、音として認識されます。\n",
       "\n",
       "この毛細胞は、音波の振動によって刺激される位置によって、どの周波数の音であるかを判断することができます。また、波形の形状によっても、音の特徴や質を認識することができます。例えば、同じ音階の音でも、ピアノとギターで演奏された場合、波形の形状が異なるため、音の特徴や質が異なります。人間の聴覚は、このような微妙な違いも認識することができます。"
      ],
      "text/plain": [
       "<IPython.core.display.Markdown object>"
      ]
     },
     "metadata": {},
     "output_type": "display_data"
    }
   ],
   "source": [
    "%%ai_continue\n",
    "人間の聴覚は、波形の形状まで認識できるのですか？"
   ]
  },
  {
   "cell_type": "code",
   "execution_count": 7,
   "id": "c474ff64-10df-4746-9cca-54b2f7277328",
   "metadata": {
    "tags": []
   },
   "outputs": [
    {
     "data": {
      "text/markdown": [
       "音色とは、同じ音高であっても、楽器や声質によって異なる音の特徴や質のことを指します。音色は、以下のような量で特徴付けられます。\n",
       "\n",
       "1. 波形の形状：楽器や声質によって、音波の振動の形状が異なります。そのため、波形の形状が音色に大きく影響します。\n",
       "\n",
       "2. 振動数スペクトル：楽器や声質によって、音波の振動数スペクトルが異なります。振動数スペクトルとは、音波を構成する周波数成分の強さを表したグラフです。振動数スペクトルが異なると、音色も異なります。\n",
       "\n",
       "3. 音量：同じ楽器や声質でも、音量が異なると、音色も異なります。音量が大きいほど、音色は明るくなります。\n",
       "\n",
       "4. 音の長さ：同じ楽器や声質でも、音の長さが異なると、音色も異なります。音の長さが長いほど、音色は豊かになります。\n",
       "\n",
       "5. 音の強弱の変化：同じ楽器や声質でも、音の強弱の変化が異なると、音色も異なります。音の強弱の変化が大きいほど、音色は表情豊かになります。\n",
       "\n",
       "これらの量が音色に影響を与えます。楽器や声質によって、これらの量が異なるため、音色も異なると言えます。"
      ],
      "text/plain": [
       "<IPython.core.display.Markdown object>"
      ]
     },
     "metadata": {},
     "output_type": "display_data"
    }
   ],
   "source": [
    "%%ai_continue\n",
    "音色とはどのような量で特徴付けられますか？"
   ]
  },
  {
   "cell_type": "code",
   "execution_count": null,
   "id": "b977d8a4-16bc-404b-90d8-5efef4122123",
   "metadata": {},
   "outputs": [],
   "source": []
  }
 ],
 "metadata": {
  "kernelspec": {
   "display_name": "Python 3 (ipykernel)",
   "language": "python",
   "name": "python3"
  },
  "language_info": {
   "codemirror_mode": {
    "name": "ipython",
    "version": 3
   },
   "file_extension": ".py",
   "mimetype": "text/x-python",
   "name": "python",
   "nbconvert_exporter": "python",
   "pygments_lexer": "ipython3",
   "version": "3.10.10"
  }
 },
 "nbformat": 4,
 "nbformat_minor": 5
}
