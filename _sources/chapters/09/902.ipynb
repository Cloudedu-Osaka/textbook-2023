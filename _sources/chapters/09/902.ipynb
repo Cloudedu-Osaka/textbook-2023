{
 "cells": [
  {
   "cell_type": "markdown",
   "id": "611e0498-1815-4afb-8944-318c2bda92a7",
   "metadata": {},
   "source": [
    "# 「二等辺三角形の2つの底角が等しいことを示せ」"
   ]
  },
  {
   "cell_type": "markdown",
   "id": "4f5c52ab-5281-4623-b5d2-2855bc747b26",
   "metadata": {},
   "source": [
    "* [Thales of Miletus - Wikipedia](https://en.wikipedia.org/wiki/Thales_of_Miletus) (c.624&ndash;c.546 BC)"
   ]
  },
  {
   "cell_type": "markdown",
   "id": "d174c6fa-6461-4e3d-b5bb-e970c33b6e14",
   "metadata": {},
   "source": [
    "* [THALES 5 THEOREMS](https://easymathwizard.weebly.com/thales-5-theorems.html)\n",
    "    1. A circle is bisected by its diameter.\n",
    "    1. Angles at the base of any isosceles triangle are equal.\n",
    "        - [Euclid's Elements, Book I, Proposition 5](http://aleph0.clarku.edu/~djoyce/java/elements/bookI/propI5.html)\n",
    "            - \"In isosceles triangles the angles at the base equal one another,...\"\n",
    "    1. If two straight lines intersect, the opposite angles formed are equal.\n",
    "        - [Euclid's Elements, Book I, Proposition 15](http://aleph0.clarku.edu/~djoyce/java/elements/bookI/propI15.html)\n",
    "    1. If one triangle has two angles and one side equal to another triangle, the two triangles are equal in all respects. \n",
    "        - [Euclid's Elements, Book I, Proposition 26](http://aleph0.clarku.edu/~djoyce/java/elements/bookI/propI26.html)\n",
    "    1. Any angle inscribed in a semicircle is a right angle. This is known as Thales' Theorem.\n",
    "        - [Thales's theorem - Wikipedia](https://en.wikipedia.org/wiki/Thales%27s_theorem)"
   ]
  },
  {
   "cell_type": "code",
   "execution_count": 14,
   "id": "ef90d9a1-4c81-45a8-beb9-192f58339fc5",
   "metadata": {
    "tags": []
   },
   "outputs": [
    {
     "data": {
      "text/markdown": [
       "「二等辺三角形の2つの底角が等しいことを示す」という命題は、ユークリッドの原論で証明されています。具体的には、原論の第1巻命題5で、この命題が証明されています。ユークリッドは、二等辺三角形の性質から、底辺に対する角度が等しいことを示し、2つの底角が等しいことを導き出しています。この証明は、初等幾何の基本的な命題の一つであり、現代の数学でも広く用いられています。"
      ],
      "text/plain": [
       "<IPython.core.display.Markdown object>"
      ]
     },
     "metadata": {},
     "output_type": "display_data"
    }
   ],
   "source": [
    "%%ai_continue\n",
    "この問題はユークリッドの原論で証明されていますか？"
   ]
  },
  {
   "cell_type": "code",
   "execution_count": null,
   "id": "172b2240-ec28-46e7-bc26-6f7da5511846",
   "metadata": {
    "tags": []
   },
   "outputs": [
    {
     "data": {
      "text/markdown": [
       "確かに、ユークリッドの原論の証明は、現代の数学の表現方法とは異なるため、初学者にとっては理解が難しい場合があります。以下に、ユークリッドの原論の証明を現代的な表現方法で説明します。\n",
       "\n",
       "まず、二等辺三角形ABCにおいて、AB=ACとします。このとき、三角形ABCの底辺BCに対する角度をαとします。また、BCの中点をDとします。\n",
       "\n",
       "次に、三角形ABDとACDを考えます。これらの三角形は、共通の辺ADを持ち、AB=ACであるため、二等辺三角形です。したがって、ABDとACDの底辺BDとCDに対する角度は等しく、すなわち、角BADと角CADは等しいことがわかります。\n",
       "\n",
       "また、三角形ABDとACDは、共通の辺ADを持ち、角BADと角CADが等しいため、角ABDと角ACDは等しいことがわかります。\n",
       "\n",
       "さらに、三角形ABCと三角形ABDについて、角ABCと角ABDは等しい（共通の辺ABを持ち、AB=ABであるため）、角ACBと角ADBは等しい（共通の辺ACを持ち、AC=ADであるため）ことがわかります。\n",
       "\n",
       "以上のことから、三角形ABCの底辺BCに対する角度αは、角ABDと角ACDの和である角BADと角CADの半分に等しいことがわかります。すなわち、α=(角BAD+角CAD)/2です。\n",
       "\n",
       "しかし、角BADと角CADは等しいため、α=(角BAD+角BAD)/2=角BADです。つまり、三角形ABCの底辺BCに対する角度αは、角BACに等しいことがわかります。したがって、二等辺三角形の2つの底角は等しいことが証明されます。\n",
       "\n",
       "このように、現代的な表現方法を用いることで、ユークリッドの原論の証明をよりわかりやすく説明することができます。"
      ],
      "text/plain": [
       "<IPython.core.display.Markdown object>"
      ]
     },
     "metadata": {},
     "output_type": "display_data"
    }
   ],
   "source": [
    "%%ai_continue\n",
    "その証明は結構わかりにくいんですが"
   ]
  },
  {
   "cell_type": "markdown",
   "id": "74cdd0c7-c4c1-45be-ad88-af6909820b0d",
   "metadata": {},
   "source": [
    "* [第１巻命題４　三角形の合同条件（二辺夾角相等） - ΣΤΟΙΧΕΙΑ -ストイケイア-](https://stoixeia.hatenablog.com/entry/2017/10/26/071948)\n",
    "* [第１巻命題５　二等辺三角形の底角は等しい - ΣΤΟΙΧΕΙΑ -ストイケイア-](https://stoixeia.hatenablog.com/entry/2017/10/28/183044)"
   ]
  },
  {
   "cell_type": "code",
   "execution_count": null,
   "id": "b1476b70-18ff-4865-93cb-feb1114840ee",
   "metadata": {},
   "outputs": [],
   "source": []
  }
 ],
 "metadata": {
  "kernelspec": {
   "display_name": "Python 3 (ipykernel)",
   "language": "python",
   "name": "python3"
  },
  "language_info": {
   "codemirror_mode": {
    "name": "ipython",
    "version": 3
   },
   "file_extension": ".py",
   "mimetype": "text/x-python",
   "name": "python",
   "nbconvert_exporter": "python",
   "pygments_lexer": "ipython3",
   "version": "3.10.11"
  }
 },
 "nbformat": 4,
 "nbformat_minor": 5
}
