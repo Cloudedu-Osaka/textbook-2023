{
 "cells": [
  {
   "cell_type": "code",
   "execution_count": 1,
   "id": "afe28504",
   "metadata": {},
   "outputs": [],
   "source": [
    "# initialization for my classroom\n",
    "import os\n",
    "from datetime import datetime as dt\n",
    "\n",
    "def logfile(user=os.environ.get('JUPYTERHUB_USER') or 'jovyan'):\n",
    "    prefix='/srv'\n",
    "    if os.path.isdir(prefix) and os.access(prefix, os.W_OK):\n",
    "        prefix+=('/'+user)\n",
    "        if not os.path.isdir(prefix):\n",
    "            os.makedirs(prefix)\n",
    "    else:\n",
    "        prefix='.'\n",
    "    return prefix+'/'+dt.now().strftime('%Y%m%d')+'-nbg.log'\n",
    "    #return prefix+'/'+'20220516'+'-nbg.log'"
   ]
  },
  {
   "cell_type": "code",
   "execution_count": 2,
   "id": "99964b31",
   "metadata": {},
   "outputs": [],
   "source": [
    "import pandas as pd\n",
    "import numpy as np\n",
    "from datetime import datetime as dt\n",
    "import datetime"
   ]
  },
  {
   "cell_type": "code",
   "execution_count": 3,
   "id": "9af2ec98",
   "metadata": {},
   "outputs": [],
   "source": [
    "import re\n",
    "\n",
    "pat = re.compile(r'(\\d{4})-(\\d{2})-(\\d{2}) (\\d{2}):(\\d{2}):(\\d{2}).*:summary: \\((\\d+), (\\d+), (\\d+)\\)')\n",
    "\n",
    "def activity(user=os.environ.get('JUPYTERHUB_USER') or 'jovyan'):\n",
    "    df = pd.DataFrame()\n",
    "    try:\n",
    "        with open(logfile(user), 'r') as f:\n",
    "            for l in f:\n",
    "                r = pat.search(l)\n",
    "                if r:\n",
    "                    dy, dm, dd, th, tm, ts, c, p, f = (int(s) for s in r.groups())\n",
    "                    d = dt.combine(datetime.date(dy, dm, dd),\n",
    "                                   datetime.time(th, tm, ts))\n",
    "                    #print(pd.Timestamp(d), c, p, f)\n",
    "                    if (int(p)+int(f))> 0:\n",
    "                        df_new = pd.DataFrame([[1.,(3*p+f)/(p+f)]], \n",
    "                                              columns=[\"y\", \"pass\"],\n",
    "                                              index=[pd.Timestamp(d)])\n",
    "                        df = pd.concat([df,pd.DataFrame(df_new)])\n",
    "    except:\n",
    "        pass\n",
    "    return df"
   ]
  },
  {
   "cell_type": "code",
   "execution_count": 4,
   "id": "65e120e8",
   "metadata": {},
   "outputs": [
    {
     "data": {
      "text/html": [
       "<div>\n",
       "<style scoped>\n",
       "    .dataframe tbody tr th:only-of-type {\n",
       "        vertical-align: middle;\n",
       "    }\n",
       "\n",
       "    .dataframe tbody tr th {\n",
       "        vertical-align: top;\n",
       "    }\n",
       "\n",
       "    .dataframe thead th {\n",
       "        text-align: right;\n",
       "    }\n",
       "</style>\n",
       "<table border=\"1\" class=\"dataframe\">\n",
       "  <thead>\n",
       "    <tr style=\"text-align: right;\">\n",
       "      <th></th>\n",
       "    </tr>\n",
       "  </thead>\n",
       "  <tbody>\n",
       "  </tbody>\n",
       "</table>\n",
       "</div>"
      ],
      "text/plain": [
       "Empty DataFrame\n",
       "Columns: []\n",
       "Index: []"
      ]
     },
     "execution_count": 4,
     "metadata": {},
     "output_type": "execute_result"
    }
   ],
   "source": [
    "df = activity()\n",
    "df"
   ]
  },
  {
   "cell_type": "code",
   "execution_count": 5,
   "id": "13f95b13",
   "metadata": {},
   "outputs": [],
   "source": [
    "import matplotlib.pyplot as plt\n",
    "import seaborn as sns\n",
    "\n",
    "sns.set()\n",
    "\n",
    "def plot_ax(ax, user=os.environ.get('JUPYTERHUB_USER') or 'jovyan'):\n",
    "    data = activity(user).sort_index()\n",
    "    if len(data)>0:\n",
    "        cmap = plt.cm.Spectral\n",
    "        ax.scatter(\n",
    "            x=data.index, y=data['y'].values, \n",
    "            c=data['pass'].values, s=data['pass'].values*500,\n",
    "            cmap='Spectral',\n",
    "            alpha=0.4, edgecolor='none'\n",
    "        )\n",
    "    ax.set_ylabel(user, rotation=0, ha=\"right\", va=\"center\")\n",
    "    #ax.set_ylabel('jovyan', rotation=0, ha=\"right\", va=\"center\")"
   ]
  },
  {
   "cell_type": "code",
   "execution_count": 12,
   "id": "e4046a31",
   "metadata": {
    "scrolled": true
   },
   "outputs": [
    {
     "data": {
      "image/png": "[encoded data removed]",
      "text/plain": [
       "<Figure size 720x72 with 1 Axes>"
      ]
     },
     "metadata": {},
     "output_type": "display_data"
    }
   ],
   "source": [
    "from datetime import date\n",
    "from datetime import time\n",
    "\n",
    "fig = plt.figure(figsize=(10,1))\n",
    "ax = fig.add_subplot(1,1,1)\n",
    "\n",
    "plt.setp(ax, xlim=(pd.Timestamp(dt.combine(date.today(),time(dt.now().hour-3,))), \n",
    "                   pd.Timestamp(dt.combine(date.today(),time(dt.now().hour,59,59)))))\n",
    "plt.setp(ax, ylim=(0,2))\n",
    "plt.setp(ax, xticklabels=[])\n",
    "plt.setp(ax, yticklabels=[])\n",
    "plot_ax(ax)"
   ]
  },
  {
   "cell_type": "code",
   "execution_count": 11,
   "id": "3779e47a",
   "metadata": {
    "scrolled": false
   },
   "outputs": [
    {
     "data": {
      "image/png": "[encoded data removed]",
      "text/plain": [
       "<Figure size 720x1296 with 18 Axes>"
      ]
     },
     "metadata": {},
     "output_type": "display_data"
    }
   ],
   "source": [
    "ids='''\n",
    "u416528d\n",
    "u187337i\n",
    "u267723d\n",
    "u998138i\n",
    "u938910d\n",
    "u516373c\n",
    "u934432e\n",
    "u280226g\n",
    "u753942g\n",
    "u173931e\n",
    "u538415j\n",
    "u793727e\n",
    "u838422k\n",
    "u231298c\n",
    "u494246k\n",
    "u029695j\n",
    "u954207e\n",
    "u511882g\n",
    "'''\n",
    "users=ids.strip().splitlines()\n",
    "\n",
    "fig, axes = plt.subplots(len(users),1,figsize=(10,len(users)))\n",
    "\n",
    "plt.setp(axes, xlim=(pd.Timestamp(dt.combine(date.today(),time(dt.now().hour-1,0))), \n",
    "                     pd.Timestamp(dt.combine(date.today(),time(dt.now().hour-0,59,59)))))\n",
    "plt.setp(axes, ylim=(0,2))\n",
    "plt.setp(axes, xticklabels=[])\n",
    "plt.setp(axes, yticklabels=[])\n",
    "\n",
    "for i in range(len(users)):\n",
    "    #print(users[i])\n",
    "    plot_ax(axes[i], users[i])\n",
    "    #display.display(plt.gcf())"
   ]
  },
  {
   "cell_type": "code",
   "execution_count": null,
   "id": "8eda782d",
   "metadata": {},
   "outputs": [],
   "source": []
  },
  {
   "cell_type": "code",
   "execution_count": null,
   "id": "78488b27",
   "metadata": {},
   "outputs": [],
   "source": []
  },
  {
   "cell_type": "code",
   "execution_count": null,
   "id": "721b0242",
   "metadata": {},
   "outputs": [],
   "source": []
  }
 ],
 "metadata": {
  "kernelspec": {
   "display_name": "Python 3 (ipykernel)",
   "language": "python",
   "name": "python3"
  },
  "language_info": {
   "codemirror_mode": {
    "name": "ipython",
    "version": 3
   },
   "file_extension": ".py",
   "mimetype": "text/x-python",
   "name": "python",
   "nbconvert_exporter": "python",
   "pygments_lexer": "ipython3",
   "version": "3.9.13"
  },
  "toc": {
   "base_numbering": 1,
   "nav_menu": {},
   "number_sections": true,
   "sideBar": true,
   "skip_h1_title": false,
   "title_cell": "Table of Contents",
   "title_sidebar": "Contents",
   "toc_cell": false,
   "toc_position": {},
   "toc_section_display": true,
   "toc_window_display": false
  }
 },
 "nbformat": 4,
 "nbformat_minor": 5
}
